{
 "cells": [
  {
   "cell_type": "markdown",
   "id": "1315e2c7",
   "metadata": {},
   "source": [
    "\n",
    "\n",
    "Olá estudante!\n",
    "\n",
    "Me chamo Rafael Meirelles e irei revisar o seu projeto hoje e em eventuais futuras submissões até que ele cumpra todos os requisitos para o aceite.\n",
    "Conte comigo nessa jornada e não se preocupe se precisar ajustar alguns detalhes, é parte do processo e fundamental para que você exercite os conceitos que vem aprendendo e assim melhore a qualidade dos seus códigos e análises.\n",
    "\n",
    "**Peço que mantenha e não altereos comentários que eu fizer por aqui para que possamos nos localizar posteriormente, ok?**\n",
    "\n",
    "Mais uma coisa, vamos utilizar um código de cores para você entender os meus feedbacks no seu notebook. Funciona assim:\n",
    "\n",
    "\n",
    "<div class=\"alert alert-danger\">\n",
    "<strong>Vermelho</strong>\n",
    "\n",
    "Erro que precisa ser consertado, caso contrário, seu projeto não pode ser aceito\n",
    "\n",
    "</div>\n",
    "\n",
    "<div class=\"alert alert-warning\">\n",
    "<strong>Amarelo</strong>\n",
    "\n",
    "Alerta de um erro não crítco, mas que pode ser corrigido para melhoria geral no seu código/análise\n",
    "\n",
    "</div>\n",
    "\n",
    "<div class=\"alert alert-success\">\n",
    "<strong>Verde</strong>\n",
    "\n",
    "Elogios\n",
    "</div>\n",
    "\n",
    "<div class=\"alert alert-info\">\n",
    "<strong>Comentário do estudante</strong>\n",
    "\n",
    "Use uma caixa azul como essa para eventuais comentários que você gostaria de fazer para mim.\n",
    "</div>\n",
    "\n",
    "\n",
    "\n"
   ]
  },
  {
   "cell_type": "code",
   "execution_count": null,
   "id": "8a44b6ba",
   "metadata": {},
   "outputs": [],
   "source": []
  },
  {
   "cell_type": "markdown",
   "id": "b8e4dfe2",
   "metadata": {},
   "source": [
    "\n",
    "\n",
    "<div class=\"alert alert-success\">\n",
    "<strong>Comentário do revisor v1</strong>\n",
    "\n",
    "Trabalho muito sólido com o projeto! Gostei muito.\n",
    "    \n",
    "    \n",
    "Parabéns pela aprovação e até breve!\n",
    "</div>"
   ]
  },
  {
   "cell_type": "markdown",
   "id": "3Xg_RQfnafXz",
   "metadata": {
    "id": "3Xg_RQfnafXz"
   },
   "source": [
    "\n",
    "\n",
    "\n",
    "# Vamos encher o carrinho!"
   ]
  },
  {
   "cell_type": "markdown",
   "id": "mhIvmmkW414q",
   "metadata": {
    "id": "mhIvmmkW414q"
   },
   "source": [
    "# Introdução\n",
    "\n",
    "A Instacart é uma plataforma de entrega de supermercado onde os clientes podem fazer um pedido de supermercado e receber a compra em casa, semelhante ao funcionamento do Uber Eats e do iFood. O conjunto de dados que fornecemos a você foi modificado do original. Reduzimos o tamanho do conjunto de dados para que seus cálculos sejam executados mais rapidamente e introduzimos valores ausentes e duplicados. Também tivemos o cuidado de preservar as distribuições dos dados originais quando fizemos as alterações.\n",
    "\n",
    "Você precisa completar três etapas. Para cada uma delas, escreva uma breve introdução descrevendo como você pretende concluir a etapa e justifique suas decisões em parágrafos explicativos intermédios a medida que você avança na solução. Escreva também uma conclusão para resumir suas conclusões e escolhas.\n",
    "\n"
   ]
  },
  {
   "cell_type": "markdown",
   "id": "3MbyzpOQZ5Or",
   "metadata": {
    "id": "3MbyzpOQZ5Or"
   },
   "source": [
    "## Dicionário de dados\n",
    "\n",
    "Há cinco tabelas no conjunto de dados, e você vai precisar usar todas elas para pré-processar os dados e fazer a AED. Abaixo está um dicionário que lista as colunas de cada tabela e descreve os dados contidos nelas.\n",
    "\n",
    "- `instacart_orders.csv`: cada linha corresponde a um pedido no aplicativo da Instacart\n",
    "    - `'order_id'`: é o número de identificação unívoco de cada pedido\n",
    "    - `'user_id'`: é o número de identificação unívoco da conta de cada cliente\n",
    "    - `'order_number'`: é o número de vezes que o cliente fez um pedido\n",
    "    - `'order_dow'`: é o dia da semana em que o pedido foi feito (0 é domingo)\n",
    "    - `'order_hour_of_day'`: é a hora do dia em que o pedido foi feito\n",
    "    - `'days_since_prior_order'`: é o número de dias desde que o cliente fez seu pedido anterior\n",
    "\n",
    "\n",
    "\n",
    "\n",
    "- `products.csv`: cada linha corresponde a um produto unívoco que os clientes podem comprar\n",
    "    - `'product_id'`: é o número de identificação unívoco de cada produto\n",
    "    - `'product_name'`: é o nome do produto\n",
    "    - `'aisle_id'`: é o número de identificação unívoco de cada categoria de seção do supermercado\n",
    "    - `'department_id'`: é o número de identificação unívoco de cada categoria de departamento do supermercado\n",
    "\n",
    "\n",
    "\n",
    "\n",
    "-\t`order_products.csv`: cada linha corresponde a um item incluído em um pedido\n",
    "    -\t`'order_id'`: é o número de identificação unívoco de cada pedido\n",
    "    -\t`'product_id'`: é o número de identificação unívoco de cada produto\n",
    "    -\t`'add_to_cart_order'`: é a ordem sequencial em que cada item foi colocado no carrinho\n",
    "    -\t`'reordered'`: 0 se o cliente nunca comprou o produto antes, 1 se já o comprou\n",
    "\n",
    "\n",
    "\n",
    "\n",
    "-\t`aisles.csv`\n",
    "    -\t`'aisle_id'`: é o número de identificação unívoco de cada categoria de seção do supermercado\n",
    "    -\t`'aisle'`: é o nome da seção\n",
    "\n",
    "\n",
    "\n",
    "-\t`departments.csv`\n",
    "    -\t`'department_id'`: é o número de identificação unívoco de cada categoria de departamento do supermercado\n",
    "    -\t`'department'`: é o nome do departamento\n"
   ]
  },
  {
   "cell_type": "markdown",
   "id": "n3Ha_cNSZ8lK",
   "metadata": {
    "id": "n3Ha_cNSZ8lK"
   },
   "source": [
    "# Etapa 1. Visão geral dos dados\n",
    "\n",
    "Leia os arquivos de dados (/datasets/instacart_orders.csv, /datasets/products.csv, /datasets/aisles.csv, /datasets/departments.csv e /datasets/order_products.csv) com `pd.read_csv()` usando os parâmetros apropriados para fazer isso corretamente. Verifique as informações para cada DataFrame criado.\n"
   ]
  },
  {
   "cell_type": "markdown",
   "id": "OmlQPLlyaAfR",
   "metadata": {
    "id": "OmlQPLlyaAfR"
   },
   "source": [
    "## Plano de solução\n",
    "\n",
    "Escreva aqui seu plano para a Etapa 2. Visão geral dos dados\n",
    "\n",
    "Plano inicial:\n",
    "Leia os 5 arquivos recebidos pertencentes à empresa Instacart, como já vimos, eles possuem extensão .CSV, portanto devemos determinar os seguintes parâmetros para a correta leitura de cada arquivo: \n",
    "\n",
    "1)\tO delimitador (caractere de exibição ou separação de colunas, usarei uma impressão das 5 primeiras linhas do DataFrame para observar qual é o delimitador)\n",
    "\n",
    "2)\tNa mesma visualização, verificarei se devemos passar um parâmetro que configure os decimais em colunas de números de ponto flutuante.\n",
    "\n",
    "3)\tE por fim verificarei se os nomes das colunas estão corretos em sua descrição (se possui os formatos corretos para uma coluna)\n",
    "\n",
    "Com este plano acredito que conseguiremos visualizar e corrigir qualquer anomalia na leitura dos arquivos"
   ]
  },
  {
   "cell_type": "code",
   "execution_count": 1,
   "id": "fbf1adab",
   "metadata": {
    "id": "fbf1adab"
   },
   "outputs": [],
   "source": [
    "import pandas as pd # Importe as bibliotecas\n",
    "import numpy as np\n",
    "from matplotlib import pyplot as plt"
   ]
  },
  {
   "cell_type": "code",
   "execution_count": 2,
   "id": "ad36396d",
   "metadata": {
    "id": "ad36396d"
   },
   "outputs": [],
   "source": [
    "# ///////////////////////////////////// LENDO OS ARQUIVOS ///////////////////////////////////////////////////\n",
    "\n",
    "df_instacart_orders = pd.read_csv('/datasets/instacart_orders.csv', sep =';') # leia os conjuntos de dados em DataFrames\n",
    "df_products = pd.read_csv ('/datasets/products.csv', sep = ';')\n",
    "df_order_products = pd.read_csv ('/datasets/order_products.csv', sep = ';')\n",
    "df_aisles = pd.read_csv ('/datasets/aisles.csv', sep = ';')\n",
    "df_departments = pd.read_csv ('/datasets/departments.csv', sep =';')\n",
    "\n",
    "\n",
    "\n",
    "# ////////// DESCRIÇÃO DA FUNÇÃO DUPLICADOS DE DATAFRAME EXPLÍCITOS ////////////////////////////////////////\n",
    "# Definimos uma função que permita recebir um DataFrame e retorne todas as linhas duplicadas assim como a quantidade total de linhas\n",
    "# Aplicamos o método duplicated() para atribuir a um DataFrame auxiliar com variavel local:aux_df_duplicado os valores duplicados explicitos\n",
    "# Aplicamos ao DataFrame recebido os metodos duplicated() e sum() para obter as quantidades de linhas duplicadas e atribuímos esse valor à variavel tam_df_duplicado\n",
    "# Comparamos as quantidades com a condição se são maior do que 0 (zero) é porque tem linhas duplicadas se não, quer dizer que não temos duplicados explicitos nesse DataFrame\n",
    "# A função vai retornar o DataFrame com linhas duplicadas e as quantiidades de linhas\n",
    "\n",
    "def df_duplicado (df):                                                         \n",
    "    aux_df_duplicado = df[df.duplicated()]\n",
    "    tam_df_duplicado = df.duplicated().sum()\n",
    "    if tam_df_duplicado > 0:\n",
    "        return print(f\"{aux_df_duplicado}, Quantidade de duplicados explicitos na tabela é = {tam_df_duplicado}\")\n",
    "       \n",
    "    else:\n",
    "        return print(f\"Quantidade de duplicados explicitos na tabela é = {tam_df_duplicado}\")\n",
    "    \n",
    "    \n",
    "    \n",
    "# ////////// DESCRIÇÃO DA FUNÇÃO DUPLICADOS DE SERIES EXPLÍCITOS ////////////////////////////////////////\n",
    "# Definimos uma função que permita recebir uma Serie (parametro: DataFrame e nome da coluna) e retorne todas as linhas duplicadas assim como a quantidade total de linhas\n",
    "# Aplicamos o método value_count() á coluna para obter os valores unívocos e sua quantidade e atribuimos para uma variavel aux_serie_duplicado\n",
    "# Atribuimos todos os valores resultante de filtrar a coluna com seus valores booleanos a uma vaivel mascara onde estejam os valores maior que 1 garantindo que os valores estejam mais de uma vez na coluna\n",
    "# Aplicamos o metodo index passando os valores da mascara com os valores duplicado na coluna e atribuimos na variavel, para criar a serie com os valores duplicados na coluna\n",
    "# A função vai retornar uma serie com os valores duplicados explicitos e as quantiidades de valores pode ser zero ou uma lista se tiver\n",
    " \n",
    "def serie_duplicado (serie,column):\n",
    "    aux_serie_duplicado = serie[column].value_counts()\n",
    "    mascara = aux_serie_duplicado > 1\n",
    "    duplicado = aux_serie_duplicado.index[mascara]\n",
    "    if len(duplicado) > 1:\n",
    "        return print(f\"{duplicado}, Quantidade de valores duplicados implicitos na culuna {coluna} é = {len(duplicado)}\")\n",
    "    else:\n",
    "        return print(f\"Quantidade de valores duplicados implicitos na culuna {coluna} é = {len(duplicado)}\")\n",
    "\n",
    "    \n",
    "\n",
    "# ////////// DESCRIÇÃO DA FUNÇÃO DUPLICADOS DE SERIES LISTA EXPLÍCITOS ////////////////////////////////////////\n",
    "# Definimos uma função que permita recebir uma Serie (parametro: DataFrame e nome da coluna) e retorne todas as linhas duplicadas assim como a quantidade total de linhas\n",
    "# Aplicamos o método value_count() á coluna para obter os valores unívocos e sua quantidade e atribuimos para uma variavel aux_serie_duplicado\n",
    "# Atribuimos todos os valores resultante de filtrar a coluna com seus valores booleanos a uma vaivel mascara onde estejam os valores maior que 1 garantindo que os valores estejam mais de uma vez na coluna\n",
    "# Aplicamos o metodo index passando os valores da mascara com os valores duplicado na coluna e atribuimos na variavel, para criar a serie com os valores duplicados na coluna\n",
    "# A função vai retornar uma LISTA com os valores duplicados explicitos ou uma menssagem se não tiver duplicados \n",
    "   \n",
    "def serie_duplicado_lista (serie,column):\n",
    "    aux_serie_duplicado = serie[column].value_counts()\n",
    "    mascara = aux_serie_duplicado > 1\n",
    "    duplicado = aux_serie_duplicado.index[mascara]\n",
    "    if len(duplicado) > 1:\n",
    "        duplicado = list(duplicado)\n",
    "        return duplicado\n",
    "    else:\n",
    "        return print(f\"Quantidade de valores duplicados implicitos na culna {coluna} é = {len(duplicado)}\")\n",
    "\n",
    "    \n",
    "#/////////// DESCRIÇÃO DA FUNÇÃO SUBSTITUIR VALORES AUSENTES EM UMA COLUMA /////////////////////  \n",
    "# A função recibe como parametros um DataFrame, nome de uma coluna e o valor para preencher os valores ause\n",
    "# Criamos uma lista com os nomes das colunas onde temos valores ausentes para serem repetidos nos ciclos de iteração com a coluna recebida (serie) como parametro\n",
    "# Criamos um ciclo 'for' para percorrer a tabela naa coluna especificada\n",
    "# Aplicamos o metodo fillna() e utilizamos o valor recebido para preencher os valores ausentes\n",
    "# A função retorna DataFrama recebido com os valores ausente preenchidos na coluna especificada\n",
    "    \n",
    "def substituir_nan_coluna (df,column,valor):\n",
    "    for coluna in column:\n",
    "        df[coluna].fillna(valor, inplace=True)\n",
    "    return df\n",
    "\n",
    "\n",
    "\n",
    "#////// DESCRIÇÃO DA FUNÇÃO UNIR COLUMA: CRIADA PARA UNIR VALORES DE DUAS COLUNAS ('product_name' e 'product_id')  ////////////////  \n",
    "# A função vai ser utilizada com outra função apply() para indicar as modificaões para ser aplicada na coluna criada\n",
    "# Neste caso queremos unir os valores de duas colunas de um DataFrame\n",
    "# Retorna o valor juntado\n",
    "\n",
    "def uniao_coluna(row):\n",
    "    sku = row['product_id']\n",
    "    nome = row['product_name']\n",
    "    espaço = ' '\n",
    "    mistura = nome + espaço + sku\n",
    "    return mistura\n",
    "\n"
   ]
  },
  {
   "cell_type": "code",
   "execution_count": 3,
   "id": "ad6a1efa",
   "metadata": {
    "id": "ad6a1efa"
   },
   "outputs": [
    {
     "name": "stdout",
     "output_type": "stream",
     "text": [
      "<class 'pandas.core.frame.DataFrame'>\n",
      "RangeIndex: 478967 entries, 0 to 478966\n",
      "Data columns (total 6 columns):\n",
      " #   Column                  Non-Null Count   Dtype  \n",
      "---  ------                  --------------   -----  \n",
      " 0   order_id                478967 non-null  int64  \n",
      " 1   user_id                 478967 non-null  int64  \n",
      " 2   order_number            478967 non-null  int64  \n",
      " 3   order_dow               478967 non-null  int64  \n",
      " 4   order_hour_of_day       478967 non-null  int64  \n",
      " 5   days_since_prior_order  450148 non-null  float64\n",
      "dtypes: float64(1), int64(5)\n",
      "memory usage: 21.9 MB\n",
      "///////////////////////////////////////////////////////////////////////////////\n",
      "           order_id        user_id   order_number      order_dow  \\\n",
      "count  4.789670e+05  478967.000000  478967.000000  478967.000000   \n",
      "mean   1.709947e+06  102966.537475      17.157808       2.775058   \n",
      "std    9.869480e+05   59525.328991      17.704688       2.045869   \n",
      "min    4.000000e+00       2.000000       1.000000       0.000000   \n",
      "25%    8.564685e+05   51414.000000       5.000000       1.000000   \n",
      "50%    1.709522e+06  102633.000000      11.000000       3.000000   \n",
      "75%    2.562990e+06  154419.000000      23.000000       5.000000   \n",
      "max    3.421079e+06  206209.000000     100.000000       6.000000   \n",
      "\n",
      "       order_hour_of_day  days_since_prior_order  \n",
      "count      478967.000000           450148.000000  \n",
      "mean           13.446676               11.101751  \n",
      "std             4.224986                9.189975  \n",
      "min             0.000000                0.000000  \n",
      "25%            10.000000                4.000000  \n",
      "50%            13.000000                7.000000  \n",
      "75%            16.000000               15.000000  \n",
      "max            23.000000               30.000000  \n"
     ]
    }
   ],
   "source": [
    "# imprima as informações sobre o DataFrame\n",
    "\n",
    "df_instacart_orders.info() \n",
    "print('///////////////////////////////////////////////////////////////////////////////')\n",
    "print(df_instacart_orders.describe(include='all'))"
   ]
  },
  {
   "cell_type": "code",
   "execution_count": 4,
   "id": "5130e05e",
   "metadata": {
    "id": "5130e05e"
   },
   "outputs": [
    {
     "name": "stdout",
     "output_type": "stream",
     "text": [
      "<class 'pandas.core.frame.DataFrame'>\n",
      "RangeIndex: 49694 entries, 0 to 49693\n",
      "Data columns (total 4 columns):\n",
      " #   Column         Non-Null Count  Dtype \n",
      "---  ------         --------------  ----- \n",
      " 0   product_id     49694 non-null  int64 \n",
      " 1   product_name   48436 non-null  object\n",
      " 2   aisle_id       49694 non-null  int64 \n",
      " 3   department_id  49694 non-null  int64 \n",
      "dtypes: int64(3), object(1)\n",
      "memory usage: 1.5+ MB\n",
      "///////////////////////////////////////////////////////////////////////////////\n",
      "          product_id            product_name      aisle_id  department_id\n",
      "count   49694.000000                   48436  49694.000000   49694.000000\n",
      "unique           NaN                   48436           NaN            NaN\n",
      "top              NaN  Diet Vanilla Root Beer           NaN            NaN\n",
      "freq             NaN                       1           NaN            NaN\n",
      "mean    24847.500000                     NaN     67.773192      11.728478\n",
      "std     14345.566475                     NaN     38.317265       5.850314\n",
      "min         1.000000                     NaN      1.000000       1.000000\n",
      "25%     12424.250000                     NaN     35.000000       7.000000\n",
      "50%     24847.500000                     NaN     69.000000      13.000000\n",
      "75%     37270.750000                     NaN    100.000000      17.000000\n",
      "max     49694.000000                     NaN    134.000000      21.000000\n"
     ]
    }
   ],
   "source": [
    "# imprima as informações sobre o DataFrame\n",
    "\n",
    "df_products.info() \n",
    "print('///////////////////////////////////////////////////////////////////////////////')\n",
    "print(df_products.describe(include='all'))"
   ]
  },
  {
   "cell_type": "code",
   "execution_count": 5,
   "id": "d8370c05",
   "metadata": {
    "id": "d8370c05",
    "scrolled": true
   },
   "outputs": [
    {
     "name": "stdout",
     "output_type": "stream",
     "text": [
      "<class 'pandas.core.frame.DataFrame'>\n",
      "RangeIndex: 4545007 entries, 0 to 4545006\n",
      "Data columns (total 4 columns):\n",
      " #   Column             Non-Null Count    Dtype  \n",
      "---  ------             --------------    -----  \n",
      " 0   order_id           4545007 non-null  int64  \n",
      " 1   product_id         4545007 non-null  int64  \n",
      " 2   add_to_cart_order  4544171 non-null  float64\n",
      " 3   reordered          4545007 non-null  int64  \n",
      "dtypes: float64(1), int64(3)\n",
      "memory usage: 138.7 MB\n",
      "///////////////////////////////////////////////////////////////////////////////\n",
      "           order_id    product_id  add_to_cart_order     reordered\n",
      "count  4.545007e+06  4.545007e+06       4.544171e+06  4.545007e+06\n",
      "mean   1.711166e+06  2.558084e+04       8.351669e+00  5.905025e-01\n",
      "std    9.850955e+05  1.409552e+04       7.080368e+00  4.917411e-01\n",
      "min    4.000000e+00  1.000000e+00       1.000000e+00  0.000000e+00\n",
      "25%    8.608170e+05  1.353500e+04       3.000000e+00  0.000000e+00\n",
      "50%    1.711530e+06  2.527200e+04       6.000000e+00  1.000000e+00\n",
      "75%    2.561311e+06  3.793500e+04       1.100000e+01  1.000000e+00\n",
      "max    3.421079e+06  4.969400e+04       6.400000e+01  1.000000e+00\n"
     ]
    }
   ],
   "source": [
    "# imprima as informações sobre o DataFrame\n",
    "\n",
    "df_order_products.info(show_counts = True) \n",
    "print('///////////////////////////////////////////////////////////////////////////////')\n",
    "print(df_order_products.describe(include='all'))"
   ]
  },
  {
   "cell_type": "code",
   "execution_count": 6,
   "id": "59e2090f",
   "metadata": {
    "id": "59e2090f"
   },
   "outputs": [
    {
     "name": "stdout",
     "output_type": "stream",
     "text": [
      "<class 'pandas.core.frame.DataFrame'>\n",
      "RangeIndex: 134 entries, 0 to 133\n",
      "Data columns (total 2 columns):\n",
      " #   Column    Non-Null Count  Dtype \n",
      "---  ------    --------------  ----- \n",
      " 0   aisle_id  134 non-null    int64 \n",
      " 1   aisle     134 non-null    object\n",
      "dtypes: int64(1), object(1)\n",
      "memory usage: 2.2+ KB\n",
      "///////////////////////////////////////////////////////////////////////////////\n",
      "          aisle_id         aisle\n",
      "count   134.000000           134\n",
      "unique         NaN           134\n",
      "top            NaN  refrigerated\n",
      "freq           NaN             1\n",
      "mean     67.500000           NaN\n",
      "std      38.826537           NaN\n",
      "min       1.000000           NaN\n",
      "25%      34.250000           NaN\n",
      "50%      67.500000           NaN\n",
      "75%     100.750000           NaN\n",
      "max     134.000000           NaN\n"
     ]
    }
   ],
   "source": [
    "# imprima as informações sobre o DataFrame\n",
    "\n",
    "df_aisles.info() \n",
    "print('///////////////////////////////////////////////////////////////////////////////')\n",
    "print(df_aisles.describe(include='all'))"
   ]
  },
  {
   "cell_type": "code",
   "execution_count": 7,
   "id": "6fc81694",
   "metadata": {
    "id": "6fc81694"
   },
   "outputs": [
    {
     "name": "stdout",
     "output_type": "stream",
     "text": [
      "<class 'pandas.core.frame.DataFrame'>\n",
      "RangeIndex: 21 entries, 0 to 20\n",
      "Data columns (total 2 columns):\n",
      " #   Column         Non-Null Count  Dtype \n",
      "---  ------         --------------  ----- \n",
      " 0   department_id  21 non-null     int64 \n",
      " 1   department     21 non-null     object\n",
      "dtypes: int64(1), object(1)\n",
      "memory usage: 464.0+ bytes\n",
      "///////////////////////////////////////////////////////////////////////////////\n",
      "        department_id department\n",
      "count       21.000000         21\n",
      "unique            NaN         21\n",
      "top               NaN       pets\n",
      "freq              NaN          1\n",
      "mean        11.000000        NaN\n",
      "std          6.204837        NaN\n",
      "min          1.000000        NaN\n",
      "25%          6.000000        NaN\n",
      "50%         11.000000        NaN\n",
      "75%         16.000000        NaN\n",
      "max         21.000000        NaN\n"
     ]
    }
   ],
   "source": [
    "df_departments.info() # imprima as informações sobre o DataFrame\n",
    "print('///////////////////////////////////////////////////////////////////////////////')\n",
    "print(df_departments.describe(include='all'))  # Verificar que as colunas id realmente são numeros inteiros"
   ]
  },
  {
   "cell_type": "markdown",
   "id": "t75BD19oaR5f",
   "metadata": {
    "id": "t75BD19oaR5f"
   },
   "source": [
    "## Conclusões\n",
    "\n",
    "Escreva aqui suas conclusões intermediárias da Etapa 1. Visão geral dos dados\n",
    "\n",
    "Embora qualquer nome de id não precise necessariamente ser correlativo, ver os valores mínimo e máximo nos permite verificar se temos um valor atípico na coluna.\n",
    "\n",
    "Para o caso específico das 5 tabelas obtidas, o mais interessante do meu ponto de vista é que com a primeira visualização posso concluir rapidamente que se aplicássemos uma normalização das 5 tabelas vemos que poderíamos unir as 5 numa só, vendo assim a rastreabilidade das informações.\n",
    "\n",
    "Podemos perceber que temos uma inter-relação entre as tabelas através de suas identificações de ID, por exemplo as tabelas (aisle e departments) estão vinculadas à tabela de produtos (poderíamos dizer que aisle e departments são atributos do produto assim como nome e seu identificação ID) Da mesma forma, podemos observar que a tabela de produtos (products) está relacionada à tabela de pedidos de produtos (order_products) através do 'product_id' e por fim as tabelas (instacart_orders e order_products) está relacionada ao atributo 'order_id'.\n",
    "\n",
    "Após esta breve descrição, o importante é observar que as tabelas estão relacionadas e cada uma armazena informações importantes para cada atributo requerido para cada tabela.\n",
    "\n",
    "Também temos dados faltantes sobre:\n",
    "1) Tabela Instacart_orders (pedidos no aplicativo) na coluna 'days_since_prior_order' (quantidade de dias desde que o cliente fez o pedido), é importante saber se a empresa possui política de dias de espera, determinar as consequências do não cumprimento dela bem como revisar as causas da falha na ausência de informações.\n",
    "\n",
    "2) Tabela de products (tabela onde estão os produtos que os clientes podem comprar) na coluna 'product_name', é importante determinar as causas da ausência de valores faltantes nesta tabela para determinar se o produto realmente existe.\n",
    "\n",
    "3) Tabela order_products (um item incluído em um pedido) possui valores faltantes na coluna ‘add_to_cart_order’ (ordem sequencial que cada item foi colocado no carrinho)\n",
    "\n",
    "Referente a la Tabela que registra os pedidos realizados no aplicativa da instacart podemos observar que nossa amostra contém 478952 numeros de pedidos para ser analisados."
   ]
  },
  {
   "cell_type": "markdown",
   "id": "c4d651d2",
   "metadata": {},
   "source": [
    "<div class=\"alert alert-success\">\n",
    "<strong>Comentário do revisor v1</strong>\n",
    "\n",
    "Excelente trabalho checando a consistência dos dados.\n",
    "\n",
    "Sempre importante para garantir uma análise robusta!\n",
    "</div>\n"
   ]
  },
  {
   "cell_type": "markdown",
   "id": "8RJHqxVmaVsF",
   "metadata": {
    "id": "8RJHqxVmaVsF"
   },
   "source": [
    "# Etapa 2. Preparação de dados\n",
    "\n",
    "Faça o pré-processamento dos dados da seguinte maneira:\n",
    "\n",
    "-\tVerifique e corrija os tipos de dados (por exemplo, certifique-se de que as colunas de ID sejam números inteiros)\n",
    "-\tIdentifique e preencha valores ausentes\n",
    "-\tIdentifique e remova valores duplicados\n",
    "\n",
    "Certifique-se de explicar que tipos de valores ausentes e duplicados você encontrou, como você os preencheu ou removeu, por que escolheu esses métodos e por que você acha que esses valores ausentes e duplicados estavam presentes no conjunto de dados."
   ]
  },
  {
   "cell_type": "markdown",
   "id": "p6poABZQaZYb",
   "metadata": {
    "id": "p6poABZQaZYb"
   },
   "source": [
    "## Plano de solução\n",
    "\n",
    "Escreva aqui seu plano para a Etapa 2. Preparação de dados\n",
    "\n",
    "\n",
    "Para limpar os dados, avaliarei primeiro os dados duplicados e depois os valores faltantes para visualizar o grau de importância dos dados que pretendemos eliminar ou substituir e se precisarmos preencher valores, determinar qual o melhor as opções dependeriam do tipo de dado variável e das consequências que isso gerará no conjunto total de dados."
   ]
  },
  {
   "cell_type": "markdown",
   "id": "07357848-dc64-4156-9cc3-01ff4365226d",
   "metadata": {
    "id": "07357848-dc64-4156-9cc3-01ff4365226d"
   },
   "source": [
    "## Encontre e remova valores duplicados (e descreva por que você está fazendo suas escolhas)"
   ]
  },
  {
   "cell_type": "markdown",
   "id": "f179f0a9",
   "metadata": {
    "id": "f179f0a9"
   },
   "source": [
    "### DataFrame `instacart_orders`"
   ]
  },
  {
   "cell_type": "code",
   "execution_count": 8,
   "id": "b99297a5-405a-463d-8535-9adc3da4ad74",
   "metadata": {
    "id": "b99297a5-405a-463d-8535-9adc3da4ad74"
   },
   "outputs": [
    {
     "name": "stdout",
     "output_type": "stream",
     "text": [
      "        order_id  user_id  order_number  order_dow  order_hour_of_day  \\\n",
      "145574    794638    50898            24          3                  2   \n",
      "223105   2160484   107525            16          3                  2   \n",
      "230807   1918001   188546            14          3                  2   \n",
      "266232   1782114   106752             1          3                  2   \n",
      "273805   1112182   202304            84          3                  2   \n",
      "284038   2845099    31189            11          3                  2   \n",
      "311713   1021560    53767             3          3                  2   \n",
      "321100    408114    68324             4          3                  2   \n",
      "323900   1919531   191501            32          3                  2   \n",
      "345917   2232988    82565             1          3                  2   \n",
      "371905    391768    57671            19          3                  2   \n",
      "394347    467134    63189            21          3                  2   \n",
      "411408   1286742   183220            48          3                  2   \n",
      "415163   2282673    86751            49          3                  2   \n",
      "441599   2125197    14050            48          3                  2   \n",
      "\n",
      "        days_since_prior_order  \n",
      "145574                     2.0  \n",
      "223105                    30.0  \n",
      "230807                    16.0  \n",
      "266232                     NaN  \n",
      "273805                     6.0  \n",
      "284038                     7.0  \n",
      "311713                     9.0  \n",
      "321100                    18.0  \n",
      "323900                     7.0  \n",
      "345917                     NaN  \n",
      "371905                    10.0  \n",
      "394347                     2.0  \n",
      "411408                     4.0  \n",
      "415163                     2.0  \n",
      "441599                     3.0  , Quantidade de duplicados explicitos na tabela é = 15\n"
     ]
    }
   ],
   "source": [
    "# Verificar se há pedidos duplicados\n",
    "\n",
    "df_duplicado(df_instacart_orders)    # Aplicamos a função desenvolvida para duplicados explicitos \n"
   ]
  },
  {
   "cell_type": "markdown",
   "id": "PEkwUX_gvt5A",
   "metadata": {
    "id": "PEkwUX_gvt5A"
   },
   "source": [
    "Há linhas duplicadas? Se sim, o que elas têm em comum?\n",
    "\n",
    "Sim temos 15 linhas duplicadas, todos os valores das colunas têm em comum: 'order_dow' e 'order_hour_of_day' valores de 3 e 2 respectivamente"
   ]
  },
  {
   "cell_type": "code",
   "execution_count": 9,
   "id": "0d44de5d",
   "metadata": {
    "id": "0d44de5d"
   },
   "outputs": [
    {
     "name": "stdout",
     "output_type": "stream",
     "text": [
      "<class 'pandas.core.frame.DataFrame'>\n",
      "Int64Index: 121 entries, 4838 to 477526\n",
      "Data columns (total 6 columns):\n",
      " #   Column                  Non-Null Count  Dtype  \n",
      "---  ------                  --------------  -----  \n",
      " 0   order_id                121 non-null    int64  \n",
      " 1   user_id                 121 non-null    int64  \n",
      " 2   order_number            121 non-null    int64  \n",
      " 3   order_dow               121 non-null    int64  \n",
      " 4   order_hour_of_day       121 non-null    int64  \n",
      " 5   days_since_prior_order  114 non-null    float64\n",
      "dtypes: float64(1), int64(5)\n",
      "memory usage: 6.6 KB\n",
      "\n",
      "        order_id  user_id  order_number  order_dow  order_hour_of_day  \\\n",
      "4838     2766110   162084            41          3                  2   \n",
      "5156     2190225   138285            18          3                  2   \n",
      "15506     553049    58599            13          3                  2   \n",
      "18420     382357   120200            19          3                  2   \n",
      "24691     690242    77357             2          3                  2   \n",
      "...          ...      ...           ...        ...                ...   \n",
      "457013   3384021    14881             6          3                  2   \n",
      "458816    910166   164782            18          3                  2   \n",
      "459635   1680532   106435             6          3                  2   \n",
      "468324    222962    54979            59          3                  2   \n",
      "477526   2592344    46860            38          3                  2   \n",
      "\n",
      "        days_since_prior_order  \n",
      "4838                      16.0  \n",
      "5156                      11.0  \n",
      "15506                      7.0  \n",
      "18420                     11.0  \n",
      "24691                      9.0  \n",
      "...                        ...  \n",
      "457013                    30.0  \n",
      "458816                     4.0  \n",
      "459635                    21.0  \n",
      "468324                     3.0  \n",
      "477526                     3.0  \n",
      "\n",
      "[121 rows x 6 columns]\n"
     ]
    }
   ],
   "source": [
    "# Com base nas suas conclusões,\n",
    "\n",
    "ordenes_2hrs = df_instacart_orders[(df_instacart_orders['order_hour_of_day'] == 2) & (df_instacart_orders['order_dow'] == 3) ] # Filtrando todos os feitos às 2h da manhã nas quartas-feiras\n",
    "ordenes_2hrs.info()                                                                                                            # Para conseguir visualizar as propiedades da tabela filtrada\n",
    "print()\n",
    "print(ordenes_2hrs)\n"
   ]
  },
  {
   "cell_type": "markdown",
   "id": "vu2OWyoqwOx5",
   "metadata": {
    "id": "vu2OWyoqwOx5"
   },
   "source": [
    "O que esse resultado quer dizer?\n",
    "\n",
    "Diz que naquele dia e naquela hora tivemos 121 pedidos feitos no aplicativo"
   ]
  },
  {
   "cell_type": "code",
   "execution_count": 10,
   "id": "480563c7",
   "metadata": {
    "id": "480563c7"
   },
   "outputs": [],
   "source": [
    "# Remova pedidos duplicados\n",
    "\n",
    "df_instacart_orders = df_instacart_orders.drop_duplicates().reset_index(drop=True) "
   ]
  },
  {
   "cell_type": "code",
   "execution_count": 11,
   "id": "0b2396a2",
   "metadata": {
    "id": "0b2396a2"
   },
   "outputs": [
    {
     "name": "stdout",
     "output_type": "stream",
     "text": [
      "Quantidade de duplicados explicitos na tabela é = 0\n"
     ]
    }
   ],
   "source": [
    "# Verifique as linhas duplicadas mais uma vez\n",
    "\n",
    "df_duplicado(df_instacart_orders)    # Aplicamos a função desenvolvida para duplicados explicitos \n"
   ]
  },
  {
   "cell_type": "code",
   "execution_count": 12,
   "id": "f6113ef1",
   "metadata": {
    "id": "f6113ef1"
   },
   "outputs": [
    {
     "name": "stdout",
     "output_type": "stream",
     "text": [
      "Quantidade de valores duplicados implicitos na culuna order_id é = 0\n"
     ]
    }
   ],
   "source": [
    "# Verifique novamente apenas os IDs de pedidos duplicados\n",
    "\n",
    "coluna = 'order_id'\n",
    "serie_duplicado(df_instacart_orders,coluna)"
   ]
  },
  {
   "cell_type": "markdown",
   "id": "5e8905ae",
   "metadata": {
    "id": "5e8905ae"
   },
   "source": [
    "Descreva brevemente suas conclusões e o que você fez com elas.\n",
    "\n",
    "Com a aplicação dos procedimentos anteriores podemos definir que temos uma tabela sem duplicados explícitos no DataFrame: df_instacart_orders e sem duplicados implícitos na coluna chave 'order_id' para relacionar com a informação associada à tabela df_order_products"
   ]
  },
  {
   "cell_type": "markdown",
   "id": "45e6bc46",
   "metadata": {
    "id": "45e6bc46"
   },
   "source": [
    "### DataFrame `products`"
   ]
  },
  {
   "cell_type": "code",
   "execution_count": 13,
   "id": "5f526b5b-8175-46fa-a0fd-441767d50e64",
   "metadata": {
    "id": "5f526b5b-8175-46fa-a0fd-441767d50e64"
   },
   "outputs": [
    {
     "name": "stdout",
     "output_type": "stream",
     "text": [
      "Quantidade de duplicados explicitos na tabela é = 0\n"
     ]
    }
   ],
   "source": [
    "# Verifique se há linhas completamente duplicadas\n",
    "df_duplicado(df_products)"
   ]
  },
  {
   "cell_type": "code",
   "execution_count": 14,
   "id": "88daa4f4",
   "metadata": {
    "id": "88daa4f4"
   },
   "outputs": [
    {
     "name": "stdout",
     "output_type": "stream",
     "text": [
      "Int64Index([11, 19, 13, 7, 1, 16, 17, 15, 9, 4, 3, 20, 21, 6, 14, 18, 5, 8, 12,\n",
      "            2, 10],\n",
      "           dtype='int64'), Quantidade de valores duplicados implicitos na culuna department_id é = 21\n"
     ]
    }
   ],
   "source": [
    "# Verifique apenas se há IDs de departamentos duplicados\n",
    "coluna = 'department_id'\n",
    "serie_duplicado(df_products, coluna)"
   ]
  },
  {
   "cell_type": "code",
   "execution_count": 15,
   "id": "c773f0bf",
   "metadata": {
    "id": "c773f0bf",
    "scrolled": true
   },
   "outputs": [
    {
     "name": "stdout",
     "output_type": "stream",
     "text": [
      "Index(['green tea with ginseng and honey', 'matzo ball mix',\n",
      "       'cosmic brownies with chocolate chip candy', 'edamame soybeans in pods',\n",
      "       'mozzarella sticks with marinara sauce', 'leave-in conditioner',\n",
      "       'bag of oranges', 'hearts of palm', 'original potato chips',\n",
      "       'balsamic vinegar of modena',\n",
      "       ...\n",
      "       'maraschino cherries with stems', 'crushed tomatoes with basil',\n",
      "       'rigatoni with chicken & pesto', 'vitamin d3 5000 iu',\n",
      "       'dulce de leche caramel ice cream', 'beef chili with beans',\n",
      "       'vitamin d3 1000 iu', 'ibuprofen tablets 200 mg',\n",
      "       'mandarin oranges in light syrup', 'chunk light tuna in vegetable oil'],\n",
      "      dtype='object', length=103), Quantidade de valores duplicados implicitos na culuna product_name é = 103\n"
     ]
    }
   ],
   "source": [
    "# Verifique apenas se há nomes de produtos duplicados (converta os nomes para minúsculas para uma comparação melhor)\n",
    "\n",
    "df_products['product_name'] = df_products['product_name'].str.lower()\n",
    "\n",
    "coluna= 'product_name'\n",
    "serie_duplicado(df_products, coluna)\n",
    "\n"
   ]
  },
  {
   "cell_type": "code",
   "execution_count": 16,
   "id": "01efd02e",
   "metadata": {
    "id": "01efd02e"
   },
   "outputs": [
    {
     "name": "stdout",
     "output_type": "stream",
     "text": [
      "['green tea with ginseng and honey', 'matzo ball mix', 'cosmic brownies with chocolate chip candy', 'edamame soybeans in pods', 'mozzarella sticks with marinara sauce', 'leave-in conditioner', 'bag of oranges', 'hearts of palm', 'original potato chips', 'balsamic vinegar of modena', '18-in-1 hemp peppermint pure-castile soap', 'skinless & boneless sardines in olive oil', 'solid white albacore tuna in spring water', 'lasagna with meat sauce', 'mountain berry blast sports drink', 'biotin 1000 mcg', \"tender white meat chicken- vegetables & rice in a cheddar cheese sauce grandma's chicken & vegetable rice bake\", 'lavender & chamomile baby powder', 'wild sardines in spring water', 'carrot and celery sticks', 'protein plus vanilla bean protein shake', 'solid white albacore tuna in water', 'apricot energy bar', 'anchovy fillets in olive oil', 'high performance energy drink', 'chicken in a biskit baked snack crackers', 'spreadable butter with canola oil', 'yams cut sweet potatoes in syrup', 'macaroni and cheese', 'american cheese slices', 'gluten free spaghetti', \"cookies 'n cream ice cream\", 'fluffly vanilla marshmallow frosting', 'chopped garlic in water', 'spring water body wash', 'megaflora probiotic', 'mediterranean sea salt', 'bbq sauce', 'fruit cocktail in heavy syrup', 'pineapple slices in 100% pineapple juice', 'coconut juice with pulp', 'original chili con carne with beans', 'cream of tartar', 'flat fillets of anchovies in pure olive oil', 'top the tater chive & onion sour cream', 'half and half', 'dark chocolate with almonds', 'burrito- steak & cheese', \"potatoes o'brien with onions and peppers\", 'fire roasted diced tomatoes with garlic', 'gentle and predictable overnight relief laxative tablets', 'diced peeled tomatoes in tomato juice', 'bag of organic lemons', 'blanc de noirs', 'concentrace trace mineral drops', 'sea salt caramel ice cream', 'oil of oregano dietary supplement', 'cauliflower head', 'tomato and basil pasta sauce', 'herring in wine sauce', 'fresh scent dishwasher detergent with dawn', 'chili with beans', 'powerball max in 1 shine & protect', 'cinnamon rolls with icing', 'pineapple slices in heavy syrup', 'premium lubricant condoms enz', 'nutrition protein mix blueberry nut', 'chunk light tuna in water', 'aged balsamic vinegar of modena', 'hydro body sponge with hand strap', 'original bbq sauce', 'original pancake & waffle mix', 'glass cleaner with ammonia', 'drinking water', 'sour cream and onion potato chips', 'beef ravioli in tomato & meat sauce', 'cream of mushroom soup', 'ultragel personal lubricant', 'vitamin d3 2000 iu', 'pumpkin spice', 'organic instant oatmeal light maple brown sugar', 'cream of celery condensed soup', 'family size lasagna with meat & sauce', 'candy bar', 'organic balsamic vinegar of modena', 'tomato juice from concentrate', 'chicken with rice soup', 'proactive health indoor weight & hairball care with chicken cat food', 'albacore solid white tuna in water', 'muenster cheese slices', 'bleu cheese salad dressing and dip', 'chipotle peppers in adobo sauce', 'salsa medium', 'maraschino cherries with stems', 'crushed tomatoes with basil', 'rigatoni with chicken & pesto', 'vitamin d3 5000 iu', 'dulce de leche caramel ice cream', 'beef chili with beans', 'vitamin d3 1000 iu', 'ibuprofen tablets 200 mg', 'mandarin oranges in light syrup', 'chunk light tuna in vegetable oil']\n",
      "\n",
      "41                                       biotin 1000 mcg\n",
      "185           fresh scent dishwasher detergent with dawn\n",
      "515                               american cheese slices\n",
      "1538                                    cauliflower head\n",
      "1783                 nutrition protein mix blueberry nut\n",
      "                              ...                       \n",
      "49689                      high performance energy drink\n",
      "49690                      original pancake & waffle mix\n",
      "49691    organic instant oatmeal light maple brown sugar\n",
      "49692                             spring water body wash\n",
      "49693                            burrito- steak & cheese\n",
      "Name: product_name, Length: 207, dtype: object\n"
     ]
    }
   ],
   "source": [
    "# Verifique os nomes de produtos duplicados que não estão faltando\n",
    "\n",
    "coluna= 'product_name'\n",
    "serie_duplicados =serie_duplicado_lista(df_products, coluna)\n",
    "print(serie_duplicados)\n",
    "print()\n",
    "filtro_nome = df_products[df_products['product_name'].isin(serie_duplicados)]['product_name']\n",
    "print(filtro_nome)\n"
   ]
  },
  {
   "cell_type": "markdown",
   "id": "9da8d293",
   "metadata": {
    "id": "9da8d293"
   },
   "source": [
    "Descreva brevemente suas conclusões e o que você fez com elas.\n",
    "\n",
    "A tabela df_products possui os IDs chave de outras tabelas, talvez seja a que tem mais relacionamentos, mas é importante ressaltar que se a classificação e estrutura dos códigos dos produtos por localização estiver correta, teremos vários produtos de categorias semelhantes com classificações em departamentos e corredores iguais de acordo com os critérios de classificação da empresa é por isso que podemos ver vários produtos com códigos de identificação de chave diferentes com valores duplicados em departamentos e corredores.\n",
    "\n",
    "por exemplo: Rufles ID1, Doritos ID2, apenas estes dois produtos são encontrados nos departamentos de snacks e na mesma seção com a certeza de que estes, assim como outros produtos, atendem a um critério de classificação imputado pela empresa, é por isso que observamos muitos produtos com os mesmos departamentos e seções, pois a empresa tem que ter uma organização física e fluxo de informações (estrutura de código, localização de produtos, entre outros).\n",
    "\n",
    "É interessante analisar as duas últimas indicações, principalmente a última (Verifique os nomes de produtos duplicados que não estão faltando), Se observarmos a quantidade de produtos duplicados temos uma quantidade de 103 itens duplicados ou com pelo menos mais de dois na coluna.\n",
    "\n",
    "mas quando vamos para o outro ponto dos produtos duplicados não faltantes, podemos entender que os produtos duplicados não faltantes são os mesmos produtos duplicados, só que transformando as duplicatas daquela coluna em uma lista e filtrando a coluna apenas aquela desta vez vamos aplicar o método isin() para obter todos os valores da coluna que corresponde à lista filtrada obtemos 207 elementos na coluna.\n",
    "\n",
    "Esses resultados nos dizem que pode não apenas haver nomes duplicado, mas até mesmo um item pode estar triplicado.\n",
    "\n",
    "É importante entender que a tabela de cadastro dos códigos referentes aos produtos que estão entrando no estoque ou que já estão lá refletem a movimentação de cada código e seu fluxo por todas as operações associadas aos processos de marketing da loja. evitar duplicação de produtos.\n",
    "\n",
    "O facto dos nomes estarem duplicados não significa que o seu ID também esteja duplicado, e aqui está a importância, pois se tivermos um produto com nome duplicado, a informação armazenada no seu ID não pode corresponder 100% aos movimentos de cada produto (vendas, compras, reposição, entre outros) assim tendo, por exemplo:\n",
    "\n",
    "    product_id\t   product_name\n",
    "   \n",
    "       1                A\n",
    "   \n",
    "       2                A\n",
    "\n",
    "Todo o fluxo de informação referente a cada ID é incerto, no melhor dos casos a solução seria reunir toda a informação num dos 2 IDs e eliminar ou reatribuir o outro para garantir que 100% dos valores reflectidos por cada um ID e portanto de cada PRODUTO é realmente o indicado"
   ]
  },
  {
   "cell_type": "markdown",
   "id": "60f30db1",
   "metadata": {
    "id": "60f30db1"
   },
   "source": [
    "### DataFrame `departments`"
   ]
  },
  {
   "cell_type": "code",
   "execution_count": 17,
   "id": "fb410ad4-0fbf-4b80-bb09-23fdea79afe3",
   "metadata": {
    "id": "fb410ad4-0fbf-4b80-bb09-23fdea79afe3"
   },
   "outputs": [
    {
     "name": "stdout",
     "output_type": "stream",
     "text": [
      "Quantidade de duplicados explicitos na tabela é = 0\n"
     ]
    }
   ],
   "source": [
    "# Verifique se há linhas completamente duplicadas\n",
    "\n",
    "df_duplicado(df_departments)"
   ]
  },
  {
   "cell_type": "code",
   "execution_count": 18,
   "id": "332b12bb",
   "metadata": {
    "id": "332b12bb"
   },
   "outputs": [
    {
     "name": "stdout",
     "output_type": "stream",
     "text": [
      "Quantidade de valores duplicados implicitos na culuna department_id é = 0\n"
     ]
    }
   ],
   "source": [
    "# Verifique apenas se há IDs dos produtos duplicados\n",
    "\n",
    "coluna= 'department_id'\n",
    "serie_duplicado(df_departments, coluna)"
   ]
  },
  {
   "cell_type": "markdown",
   "id": "bd30d78e",
   "metadata": {
    "id": "bd30d78e"
   },
   "source": [
    "Descreva brevemente suas conclusões e o que você fez com elas.\n",
    "\n",
    "Na tabela de departments não temos valores duplicados, apliquei a funções já criada para duplicados explicitos em DataFrame e series para cumprir os requisitos solicitados"
   ]
  },
  {
   "cell_type": "markdown",
   "id": "889349c1",
   "metadata": {
    "id": "889349c1"
   },
   "source": [
    "### DataFrame `aisles`"
   ]
  },
  {
   "cell_type": "code",
   "execution_count": 19,
   "id": "9da89fb9-4679-40f5-ad0d-c34df753a3f8",
   "metadata": {
    "id": "9da89fb9-4679-40f5-ad0d-c34df753a3f8"
   },
   "outputs": [
    {
     "name": "stdout",
     "output_type": "stream",
     "text": [
      "Quantidade de duplicados explicitos na tabela é = 0\n"
     ]
    }
   ],
   "source": [
    "# Verifique se há linhas completamente duplicadas\n",
    "\n",
    "df_duplicado(df_aisles)"
   ]
  },
  {
   "cell_type": "code",
   "execution_count": 20,
   "id": "da7c2822",
   "metadata": {
    "id": "da7c2822"
   },
   "outputs": [
    {
     "name": "stdout",
     "output_type": "stream",
     "text": [
      "Quantidade de valores duplicados implicitos na culuna aisle_id é = 0\n"
     ]
    }
   ],
   "source": [
    "# Verifique apenas se há IDs dos produtos duplicados\n",
    "\n",
    "coluna= 'aisle_id'\n",
    "serie_duplicado(df_aisles, coluna)"
   ]
  },
  {
   "cell_type": "markdown",
   "id": "ac63826f",
   "metadata": {
    "id": "ac63826f"
   },
   "source": [
    "Descreva brevemente suas conclusões e o que você fez com elas.\n",
    "\n",
    "Na tabela de aisles não temos valores duplicados, apliquei a funções já criada para duplicados explicitos em DataFrame e series para cumprir os requisitos solicitados"
   ]
  },
  {
   "cell_type": "markdown",
   "id": "274cd06a",
   "metadata": {
    "id": "274cd06a"
   },
   "source": [
    "### DataFrame `order_products`"
   ]
  },
  {
   "cell_type": "code",
   "execution_count": 21,
   "id": "52326689-84a8-4b8f-a881-7c68780f62c9",
   "metadata": {
    "id": "52326689-84a8-4b8f-a881-7c68780f62c9"
   },
   "outputs": [
    {
     "name": "stdout",
     "output_type": "stream",
     "text": [
      "Quantidade de duplicados explicitos na tabela é = 0\n"
     ]
    }
   ],
   "source": [
    "# Verifique se há linhas completamente duplicadas\n",
    "\n",
    "df_duplicado(df_order_products)"
   ]
  },
  {
   "cell_type": "code",
   "execution_count": 22,
   "id": "7b861391",
   "metadata": {
    "id": "7b861391"
   },
   "outputs": [
    {
     "name": "stdout",
     "output_type": "stream",
     "text": [
      "Int64Index([  61355, 3308010, 2136777,  171934, 1959075,  102236, 1730767,\n",
      "            1800005, 2926893, 1386261,\n",
      "            ...\n",
      "            3185938, 3227821, 2245503, 2887354, 2556919, 1969639,  146246,\n",
      "             747496, 2024875, 1738023],\n",
      "           dtype='int64', length=428199), Quantidade de valores duplicados implicitos na culuna order_id é = 428199\n",
      "\n",
      "         order_id  product_id  add_to_cart_order  reordered\n",
      "57981       61355        5322                NaN          0\n",
      "149404      61355       39475               45.0          0\n",
      "247893      61355        8594                NaN          0\n",
      "269840      61355       14233                5.0          0\n",
      "345399      61355       24010               51.0          0\n",
      "...           ...         ...                ...        ...\n",
      "4426514     61355       29270               15.0          0\n",
      "4482168     61355       24964               33.0          0\n",
      "4515077     61355        6760               27.0          0\n",
      "4521208     61355       16262               62.0          0\n",
      "4525165     61355       24561               54.0          0\n",
      "\n",
      "[127 rows x 4 columns]\n"
     ]
    }
   ],
   "source": [
    "# Verifique mais uma vez se há outros casos complicados de duplicados\n",
    "\n",
    "coluna= 'order_id'\n",
    "serie_duplicado(df_order_products, coluna)\n",
    "print()\n",
    "print(df_order_products[df_order_products['order_id'] == 61355])"
   ]
  },
  {
   "cell_type": "markdown",
   "id": "0b890492",
   "metadata": {
    "id": "0b890492"
   },
   "source": [
    "Descreva brevemente suas conclusões e o que você fez com elas.\n",
    "\n",
    "Aplicamos a função para verificar duplicados explícitas em um DataFrame e podemos observar que não obtivemos, ou seja, a tabela não possui linhas duplicados explícitas.\n",
    "\n",
    "Se observarmos os resultados da aplicação da função para duplicados em uma coluna podemos ver que 'order_id' possui 428199 duplicados, um fato lógico porque a tabela registra todos os produtos por pedidos, por isso cada número de pedido terá um mínimo um produto desde que não seja um valor faltante ou nulo e um máximo de quantidades que o cliente deseja adicionar no momento da compra por número de pedido.\n",
    "\n",
    "Só para ilustrar podemos ver que filtrando qualquer um dos valores duplicados obteremos o pedido com todos os produtos nele contidos"
   ]
  },
  {
   "cell_type": "markdown",
   "id": "d5354c3b",
   "metadata": {},
   "source": [
    "<div class=\"alert alert-success\">\n",
    "<strong>Comentário do revisor v1</strong>\n",
    "\n",
    "Muito bom ptrabalho, Angel. Os duplicados foram identificados atendendo ao direcionamento da questão e endereçados quando aplicável.\n",
    "</div>\n"
   ]
  },
  {
   "cell_type": "markdown",
   "id": "1e46de76",
   "metadata": {
    "id": "1e46de76"
   },
   "source": [
    "## Encontre e remova valores ausentes\n",
    "\n",
    "\n",
    "Ao processarmos valores duplicados, observamos que também temos valores ausentes que precisamos investigar nas seguintes colunas:\n",
    "\n",
    "*\tA coluna `'product_name'` da tabela products.\n",
    "*\tA coluna `'days_since_prior_order'` da tabela orders.\n",
    "*\tA coluna `'add_to_cart_order'` da tabela order_products.\n"
   ]
  },
  {
   "cell_type": "markdown",
   "id": "c0aebd78",
   "metadata": {
    "id": "c0aebd78"
   },
   "source": [
    "### DataFrame `products`"
   ]
  },
  {
   "cell_type": "code",
   "execution_count": 23,
   "id": "fe4a8b0f",
   "metadata": {
    "id": "fe4a8b0f"
   },
   "outputs": [
    {
     "data": {
      "text/plain": [
       "NaN                                         1258\n",
       "green tea with ginseng and honey               3\n",
       "drinking water                                 2\n",
       "chicken in a biskit baked snack crackers       2\n",
       "apricot energy bar                             2\n",
       "                                            ... \n",
       "organic coconut palm sugar                     1\n",
       "udderly chocolate ice cream                    1\n",
       "cheesy mexican rice                            1\n",
       "fresh frozen wild blueberries                  1\n",
       "100% grated parmesan & romano cheese           1\n",
       "Name: product_name, Length: 48333, dtype: int64"
      ]
     },
     "execution_count": 23,
     "metadata": {},
     "output_type": "execute_result"
    }
   ],
   "source": [
    "# Encontre valores ausentes na coluna 'product_name'\n",
    "\n",
    "df_products['product_name'].value_counts(dropna=False)\n"
   ]
  },
  {
   "cell_type": "markdown",
   "id": "-A6x1AbJhjkp",
   "metadata": {
    "id": "-A6x1AbJhjkp"
   },
   "source": [
    "Descreva brevemente suas conclusões.\n",
    "\n",
    "Podemos ver que faltam 1258 valores na coluna: products_name do DataFrame: produtos, Assim como no raciocínio anterior, são IDs que possivelmente registram informações sem descrição do produto.\n",
    "\n",
    "O mais importante é que a empresa consiga determinar as causas desses valores faltantes porque pode haver várias causas ou uma cadeia de causas que levam a esses valores, por exemplo pode ser um salto na sequência de registro do produto (se o sistema não controla a sequência) e a empresa não tem uma estrutura bem definida, pode ser que eles quisessem eliminar o produto e apenas eliminaram a descrição, também poderia ser que ele fosse substituído por outro produto ou não conserva o histórico cadastral, são tantas as possibilidades, mas o objetivo seria determinar as causas operacionais, gerenciais e raiz que causaram esses valores faltantes."
   ]
  },
  {
   "cell_type": "code",
   "execution_count": 24,
   "id": "e96167bc",
   "metadata": {
    "id": "e96167bc"
   },
   "outputs": [
    {
     "name": "stdout",
     "output_type": "stream",
     "text": [
      "       product_id product_name  aisle_id  department_id\n",
      "37             38          NaN       100             21\n",
      "71             72          NaN       100             21\n",
      "109           110          NaN       100             21\n",
      "296           297          NaN       100             21\n",
      "416           417          NaN       100             21\n",
      "...           ...          ...       ...            ...\n",
      "49552       49553          NaN       100             21\n",
      "49574       49575          NaN       100             21\n",
      "49640       49641          NaN       100             21\n",
      "49663       49664          NaN       100             21\n",
      "49668       49669          NaN       100             21\n",
      "\n",
      "[1258 rows x 4 columns]\n",
      "\n",
      "////////////////////////////////VALORES AUSENTES EM CADA COLUNA/////////////////////////////////\n",
      "\n",
      "product_id          0\n",
      "product_name     1258\n",
      "aisle_id            0\n",
      "department_id       0\n",
      "dtype: int64\n"
     ]
    }
   ],
   "source": [
    "# Todos os nomes de produtos ausentes estão associados com a seção de ID 100?\n",
    "\n",
    "produto_aisle_100 = df_products[(df_products['product_name'].isna())&(df_products['aisle_id'] == 100)]\n",
    "print(produto_aisle_100)\n",
    "print()\n",
    "print('////////////////////////////////VALORES AUSENTES EM CADA COLUNA/////////////////////////////////')\n",
    "print()\n",
    "print(produto_aisle_100.isna().sum())"
   ]
  },
  {
   "cell_type": "markdown",
   "id": "WRpIfXRphpSL",
   "metadata": {
    "id": "WRpIfXRphpSL"
   },
   "source": [
    "Descreva brevemente suas conclusões.\n",
    "\n",
    "Podemos observar o mesmo número de valores faltantes para a coluna do nome dos produtos com 1258"
   ]
  },
  {
   "cell_type": "code",
   "execution_count": 25,
   "id": "8fd0a541",
   "metadata": {
    "id": "8fd0a541"
   },
   "outputs": [
    {
     "name": "stdout",
     "output_type": "stream",
     "text": [
      "       product_id product_name  aisle_id  department_id\n",
      "37             38          NaN       100             21\n",
      "71             72          NaN       100             21\n",
      "109           110          NaN       100             21\n",
      "296           297          NaN       100             21\n",
      "416           417          NaN       100             21\n",
      "...           ...          ...       ...            ...\n",
      "49552       49553          NaN       100             21\n",
      "49574       49575          NaN       100             21\n",
      "49640       49641          NaN       100             21\n",
      "49663       49664          NaN       100             21\n",
      "49668       49669          NaN       100             21\n",
      "\n",
      "[1258 rows x 4 columns]\n",
      "product_id          0\n",
      "product_name     1258\n",
      "aisle_id            0\n",
      "department_id       0\n",
      "dtype: int64\n"
     ]
    }
   ],
   "source": [
    "# Todos os nomes de produtos ausentes estão associados com o departamento de ID 21?\n",
    "\n",
    "produto_dep_21 = df_products[(df_products['product_name'].isna())&(df_products['department_id'] == 21)]\n",
    "print(produto_dep_21)\n",
    "print(produto_dep_21.isna().sum())\n"
   ]
  },
  {
   "cell_type": "markdown",
   "id": "qDpdYn1Fht_I",
   "metadata": {
    "id": "qDpdYn1Fht_I"
   },
   "source": [
    "Descreva brevemente suas conclusões.\n",
    "\n",
    "Podemos observar o mesmo número de valores faltantes para a coluna do nome dos produtos para a classificação 21 na tabela de departamentos"
   ]
  },
  {
   "cell_type": "code",
   "execution_count": 26,
   "id": "325c3464",
   "metadata": {
    "id": "325c3464"
   },
   "outputs": [
    {
     "name": "stdout",
     "output_type": "stream",
     "text": [
      "       product_id product_name  aisle_id  department_id\n",
      "37             38          NaN       100             21\n",
      "71             72          NaN       100             21\n",
      "109           110          NaN       100             21\n",
      "296           297          NaN       100             21\n",
      "416           417          NaN       100             21\n",
      "...           ...          ...       ...            ...\n",
      "49552       49553          NaN       100             21\n",
      "49574       49575          NaN       100             21\n",
      "49640       49641          NaN       100             21\n",
      "49663       49664          NaN       100             21\n",
      "49668       49669          NaN       100             21\n",
      "\n",
      "[1258 rows x 4 columns]\n"
     ]
    }
   ],
   "source": [
    "# Use as tabelas de departamentos e seções para verificar os dados da seção ID 100 e do departamento ID 21.\n",
    "\n",
    "print(df_products[(df_products['aisle_id']==100)&(df_products['department_id']==21)])\n",
    "\n"
   ]
  },
  {
   "cell_type": "markdown",
   "id": "nqhSTUPhhvEJ",
   "metadata": {
    "id": "nqhSTUPhhvEJ"
   },
   "source": [
    "Descreva brevemente suas conclusões.\n",
    "\n",
    "Se verificarmos a classificação tanto da seção como do departamento esses produtos são atribuídos a produtos desaparecidos, embora não tenhamos informações que suportem esta classificação, podemos inferir que um produto faltante pode referir-se a um produto que já foi descontinuado de fabricação, ou pelo fato de todos os produtos pertencerem à mesma área e seção, nós também poderia estimar que a loja decidiu fechar aquela área para substituí-la por outro tipo de produto"
   ]
  },
  {
   "cell_type": "code",
   "execution_count": 27,
   "id": "6b295120",
   "metadata": {
    "id": "6b295120"
   },
   "outputs": [
    {
     "name": "stdout",
     "output_type": "stream",
     "text": [
      "<class 'pandas.core.frame.DataFrame'>\n",
      "RangeIndex: 49694 entries, 0 to 49693\n",
      "Data columns (total 4 columns):\n",
      " #   Column         Non-Null Count  Dtype \n",
      "---  ------         --------------  ----- \n",
      " 0   product_id     49694 non-null  int64 \n",
      " 1   product_name   49694 non-null  object\n",
      " 2   aisle_id       49694 non-null  int64 \n",
      " 3   department_id  49694 non-null  int64 \n",
      "dtypes: int64(3), object(1)\n",
      "memory usage: 1.5+ MB\n",
      "None\n"
     ]
    }
   ],
   "source": [
    "# Preencha nomes de produtos ausentes com 'Unknown'\n",
    "\n",
    "filtro_prod_name = ['product_name']\n",
    "valor_aux = 'unknown'\n",
    "substituir_nan_coluna ( df_products,filtro_prod_name,valor_aux)\n",
    "  \n",
    "print(df_products.info())"
   ]
  },
  {
   "cell_type": "markdown",
   "id": "fc70e5ad",
   "metadata": {
    "id": "fc70e5ad"
   },
   "source": [
    "Descreva brevemente suas conclusões e o que você fez com elas.\n",
    "\n",
    "Aplicamos a função para preencher os valores ausentes e deixamos a tabela pronta para poder analisar a informação registrada"
   ]
  },
  {
   "cell_type": "markdown",
   "id": "7eb45c86",
   "metadata": {
    "id": "7eb45c86"
   },
   "source": [
    "### DataFrame `orders`"
   ]
  },
  {
   "cell_type": "code",
   "execution_count": 28,
   "id": "8386cf7b",
   "metadata": {
    "id": "93e41d96"
   },
   "outputs": [
    {
     "name": "stdout",
     "output_type": "stream",
     "text": [
      "order_id                      0\n",
      "user_id                       0\n",
      "order_number                  0\n",
      "order_dow                     0\n",
      "order_hour_of_day             0\n",
      "days_since_prior_order    28817\n",
      "dtype: int64\n"
     ]
    }
   ],
   "source": [
    "# Encontre os valores ausentes\n",
    "\n",
    "print(df_instacart_orders.isna().sum())"
   ]
  },
  {
   "cell_type": "code",
   "execution_count": 29,
   "id": "166e5a86",
   "metadata": {
    "id": "166e5a86",
    "scrolled": true
   },
   "outputs": [
    {
     "name": "stdout",
     "output_type": "stream",
     "text": [
      "order_id                  0.0\n",
      "user_id                   0.0\n",
      "order_number              0.0\n",
      "order_dow                 0.0\n",
      "order_hour_of_day         0.0\n",
      "days_since_prior_order    0.0\n",
      "dtype: float64\n",
      "\n",
      "order_id                  0\n",
      "user_id                   0\n",
      "order_number              0\n",
      "order_dow                 0\n",
      "order_hour_of_day         0\n",
      "days_since_prior_order    0\n",
      "dtype: int64\n"
     ]
    }
   ],
   "source": [
    "# Há valores ausentes para os clientes que não estão fazendo o primeiro pedido?\n",
    "\n",
    "\n",
    "pedidos_consecutivos = df_instacart_orders[~df_instacart_orders['order_number']==1]\n",
    "print(pedidos_consecutivos.isnull().sum())\n",
    "\n",
    "df_instacart_orders[(df_instacart_orders['days_since_prior_order'].isna())&(df_instacart_orders['order_number']==1)] #verificamos que todos os valores ausentes da coluna 'days_since_prior_order' corresponde ao primeiro pedido do cliente por isso faz sentido dar o valor de 0 (zero) para preencher todos os valores ausentes nesta condição\n",
    "serie_filtro = ['days_since_prior_order']\n",
    "valor_auxi = 0\n",
    "substituir_nan_coluna ( df_instacart_orders,serie_filtro,valor_auxi)\n",
    "\n",
    "df_instacart_orders[df_instacart_orders['order_number']==1]\n",
    "print()\n",
    "print(df_instacart_orders.isna().sum())"
   ]
  },
  {
   "cell_type": "markdown",
   "id": "4e23d089",
   "metadata": {
    "id": "4e23d089"
   },
   "source": [
    "Descreva brevemente suas conclusões e o que você fez com elas.\n",
    "\n",
    "Filtramos a coluna para obter os valores inversos dos clientes que estavam fazendo pedido pela primeira vez, depois preenchemos os valores faltantes com zero, minha conclusão observando a tabela de como ficaram os valores faltantes no Coluna  'days_since_prior_order' onde estão registrados a quantidade de dias desde que o cliente fez seu último pedido e porque estamos filtrando primeiro todos os clientes que não estão fazendo seu primeiro pedido, mas conseguimos verificar na tabela informações que esta coluna possui valores faltantes para os primeiros pedidos do cliente e é lógico porque é seu primeiro pedido e não tem pedidos anteriores. é por isso que todos os valores faltante corresponde a los pedidos feitos pela primeira vez.\n",
    "\n",
    "Pelo contrário, podemos filtrar as primeiras ordens e verificar se todos os valores faltantes  a coluna 'days_since_prior_order' corresponde a todos os primeiros pedidos"
   ]
  },
  {
   "cell_type": "markdown",
   "id": "69dc9ca4",
   "metadata": {
    "id": "69dc9ca4"
   },
   "source": [
    "### DataFrame `order_products`"
   ]
  },
  {
   "cell_type": "code",
   "execution_count": 30,
   "id": "b8240253",
   "metadata": {
    "id": "b8240253"
   },
   "outputs": [
    {
     "name": "stdout",
     "output_type": "stream",
     "text": [
      "order_id               0\n",
      "product_id             0\n",
      "add_to_cart_order    836\n",
      "reordered              0\n",
      "dtype: int64\n",
      "/////////////////////////////////////////////////////////////////////\n",
      "[17.  1. 35.  5.  4. 10. 14.  2. 28.  3. 16.  8.  7.  6.  9. 15. 22. 49.\n",
      " 19. 13. 11. 12. 18. 24. 23. 45. 30. 31. 29. 21. 38. 20. 57. 58. 26. 25.\n",
      " 39. 34. 40. 27. nan 43. 33. 42. 50. 32. 36. 37. 61. 46. 56. 41. 44. 55.\n",
      " 54. 47. 63. 48. 60. 62. 53. 59. 52. 51. 64.]\n"
     ]
    },
    {
     "data": {
      "text/html": [
       "<div>\n",
       "<style scoped>\n",
       "    .dataframe tbody tr th:only-of-type {\n",
       "        vertical-align: middle;\n",
       "    }\n",
       "\n",
       "    .dataframe tbody tr th {\n",
       "        vertical-align: top;\n",
       "    }\n",
       "\n",
       "    .dataframe thead th {\n",
       "        text-align: right;\n",
       "    }\n",
       "</style>\n",
       "<table border=\"1\" class=\"dataframe\">\n",
       "  <thead>\n",
       "    <tr style=\"text-align: right;\">\n",
       "      <th></th>\n",
       "      <th>order_id</th>\n",
       "      <th>product_id</th>\n",
       "      <th>add_to_cart_order</th>\n",
       "      <th>reordered</th>\n",
       "    </tr>\n",
       "  </thead>\n",
       "  <tbody>\n",
       "    <tr>\n",
       "      <th>737</th>\n",
       "      <td>2449164</td>\n",
       "      <td>5068</td>\n",
       "      <td>NaN</td>\n",
       "      <td>0</td>\n",
       "    </tr>\n",
       "    <tr>\n",
       "      <th>9926</th>\n",
       "      <td>1968313</td>\n",
       "      <td>43867</td>\n",
       "      <td>NaN</td>\n",
       "      <td>0</td>\n",
       "    </tr>\n",
       "    <tr>\n",
       "      <th>14394</th>\n",
       "      <td>2926893</td>\n",
       "      <td>11688</td>\n",
       "      <td>NaN</td>\n",
       "      <td>0</td>\n",
       "    </tr>\n",
       "    <tr>\n",
       "      <th>16418</th>\n",
       "      <td>1717990</td>\n",
       "      <td>4142</td>\n",
       "      <td>NaN</td>\n",
       "      <td>0</td>\n",
       "    </tr>\n",
       "    <tr>\n",
       "      <th>30114</th>\n",
       "      <td>1959075</td>\n",
       "      <td>42828</td>\n",
       "      <td>NaN</td>\n",
       "      <td>1</td>\n",
       "    </tr>\n",
       "    <tr>\n",
       "      <th>...</th>\n",
       "      <td>...</td>\n",
       "      <td>...</td>\n",
       "      <td>...</td>\n",
       "      <td>...</td>\n",
       "    </tr>\n",
       "    <tr>\n",
       "      <th>4505662</th>\n",
       "      <td>1800005</td>\n",
       "      <td>7411</td>\n",
       "      <td>NaN</td>\n",
       "      <td>0</td>\n",
       "    </tr>\n",
       "    <tr>\n",
       "      <th>4511400</th>\n",
       "      <td>1633337</td>\n",
       "      <td>260</td>\n",
       "      <td>NaN</td>\n",
       "      <td>0</td>\n",
       "    </tr>\n",
       "    <tr>\n",
       "      <th>4517562</th>\n",
       "      <td>404157</td>\n",
       "      <td>9517</td>\n",
       "      <td>NaN</td>\n",
       "      <td>0</td>\n",
       "    </tr>\n",
       "    <tr>\n",
       "      <th>4534112</th>\n",
       "      <td>1673227</td>\n",
       "      <td>17835</td>\n",
       "      <td>NaN</td>\n",
       "      <td>0</td>\n",
       "    </tr>\n",
       "    <tr>\n",
       "      <th>4535739</th>\n",
       "      <td>1832957</td>\n",
       "      <td>17949</td>\n",
       "      <td>NaN</td>\n",
       "      <td>1</td>\n",
       "    </tr>\n",
       "  </tbody>\n",
       "</table>\n",
       "<p>836 rows × 4 columns</p>\n",
       "</div>"
      ],
      "text/plain": [
       "         order_id  product_id  add_to_cart_order  reordered\n",
       "737       2449164        5068                NaN          0\n",
       "9926      1968313       43867                NaN          0\n",
       "14394     2926893       11688                NaN          0\n",
       "16418     1717990        4142                NaN          0\n",
       "30114     1959075       42828                NaN          1\n",
       "...           ...         ...                ...        ...\n",
       "4505662   1800005        7411                NaN          0\n",
       "4511400   1633337         260                NaN          0\n",
       "4517562    404157        9517                NaN          0\n",
       "4534112   1673227       17835                NaN          0\n",
       "4535739   1832957       17949                NaN          1\n",
       "\n",
       "[836 rows x 4 columns]"
      ]
     },
     "execution_count": 30,
     "metadata": {},
     "output_type": "execute_result"
    }
   ],
   "source": [
    "# Encontre os valores ausentes\n",
    "\n",
    "print(df_order_products.isna().sum())\n",
    "print('/////////////////////////////////////////////////////////////////////')\n",
    "print(df_order_products['add_to_cart_order'].unique())\n",
    "\n",
    "df_order_products[df_order_products['add_to_cart_order'].isnull()]\n",
    "\n"
   ]
  },
  {
   "cell_type": "code",
   "execution_count": 31,
   "id": "9a78e5ee",
   "metadata": {
    "id": "9a78e5ee"
   },
   "outputs": [
    {
     "data": {
      "text/plain": [
       "count    4.544171e+06\n",
       "mean     8.351669e+00\n",
       "std      7.080368e+00\n",
       "min      1.000000e+00\n",
       "25%      3.000000e+00\n",
       "50%      6.000000e+00\n",
       "75%      1.100000e+01\n",
       "max      6.400000e+01\n",
       "Name: add_to_cart_order, dtype: float64"
      ]
     },
     "execution_count": 31,
     "metadata": {},
     "output_type": "execute_result"
    }
   ],
   "source": [
    "# Quais são os valores mínimo e máximo dessa coluna?\n",
    "\n",
    "df_order_products['add_to_cart_order'].describe()"
   ]
  },
  {
   "cell_type": "markdown",
   "id": "-Z2Ja215jW78",
   "metadata": {
    "id": "-Z2Ja215jW78"
   },
   "source": [
    "Descreva brevemente suas conclusões.\n",
    "\n",
    "Podemos observar que a coluna 'add_to_cart_order' possui 836 valores ausentes, mas podemos observar em uma lista de valores unívocos que o valor 'nan' está presente "
   ]
  },
  {
   "cell_type": "code",
   "execution_count": 32,
   "id": "ab9d0c2b",
   "metadata": {
    "id": "ab9d0c2b"
   },
   "outputs": [
    {
     "name": "stdout",
     "output_type": "stream",
     "text": [
      "         order_id  product_id  add_to_cart_order  reordered\n",
      "737       2449164        5068                NaN          0\n",
      "9926      1968313       43867                NaN          0\n",
      "14394     2926893       11688                NaN          0\n",
      "16418     1717990        4142                NaN          0\n",
      "30114     1959075       42828                NaN          1\n",
      "...           ...         ...                ...        ...\n",
      "4505662   1800005        7411                NaN          0\n",
      "4511400   1633337         260                NaN          0\n",
      "4517562    404157        9517                NaN          0\n",
      "4534112   1673227       17835                NaN          0\n",
      "4535739   1832957       17949                NaN          1\n",
      "\n",
      "[836 rows x 4 columns]\n",
      "[61355, 3308010, 2136777, 171934, 1959075, 1730767, 102236, 2926893, 1800005, 264710, 1386261, 936852, 3125735, 2721963, 1717990, 813364, 1968313, 1832957, 1673227, 293169, 844733, 2449164, 404157, 1183255, 2849370, 1888628, 871281, 903110, 1961723, 2479011, 2094761, 1021563, 1220886, 2256933, 2470674, 3347453, 1648217, 2999801, 678116, 388234, 1038146, 165801, 733526, 2409109, 1564093, 1169835, 3383594, 129627, 1477139, 2997021, 1916118, 854647, 1633337, 2625444, 1713430, 1302315, 1529171, 2979697, 180546, 1308785, 1625713, 9310, 2170451, 747668, 1598369, 2652650, 2729254, 2621907, 888470, 1677118]\n",
      "\n",
      "total de pedidos com pelo menos um valor ausente na coluna 'add_to_cart_order': 70\n"
     ]
    }
   ],
   "source": [
    "# Salve todos os IDs dos pedidos com pelo menos um valor ausente em 'add_to_cart_order'\n",
    "\n",
    "Valores_ausente_serie = df_order_products[df_order_products['add_to_cart_order'].isna()]\n",
    "print(Valores_ausente_serie)\n",
    "univocos_serie = Valores_ausente_serie['order_id'].value_counts()\n",
    "lista = univocos_serie.index\n",
    "lista = list(lista)\n",
    "print(lista)\n",
    "print()\n",
    "print(f\"total de pedidos com pelo menos um valor ausente na coluna 'add_to_cart_order': {len(lista)}\")\n"
   ]
  },
  {
   "cell_type": "code",
   "execution_count": 33,
   "id": "54c31695",
   "metadata": {
    "id": "54c31695"
   },
   "outputs": [
    {
     "name": "stdout",
     "output_type": "stream",
     "text": [
      "          product_id  add_to_cart_order  reordered\n",
      "order_id                                          \n",
      "9310               1                  0          1\n",
      "61355             63                  0         63\n",
      "102236            31                  0         31\n",
      "129627             5                  0          5\n",
      "165801             6                  0          6\n",
      "...              ...                ...        ...\n",
      "2999801            6                  0          6\n",
      "3125735           22                  0         22\n",
      "3308010           51                  0         51\n",
      "3347453            7                  0          7\n",
      "3383594            5                  0          5\n",
      "\n",
      "[70 rows x 3 columns]\n",
      "/////////////////////////////////////////////////////////////////////\n",
      "product_id           0\n",
      "add_to_cart_order    0\n",
      "reordered            0\n",
      "dtype: int64\n"
     ]
    },
    {
     "data": {
      "text/html": [
       "<div>\n",
       "<style scoped>\n",
       "    .dataframe tbody tr th:only-of-type {\n",
       "        vertical-align: middle;\n",
       "    }\n",
       "\n",
       "    .dataframe tbody tr th {\n",
       "        vertical-align: top;\n",
       "    }\n",
       "\n",
       "    .dataframe thead th {\n",
       "        text-align: right;\n",
       "    }\n",
       "</style>\n",
       "<table border=\"1\" class=\"dataframe\">\n",
       "  <thead>\n",
       "    <tr style=\"text-align: right;\">\n",
       "      <th></th>\n",
       "      <th>order_id</th>\n",
       "      <th>product_id</th>\n",
       "      <th>add_to_cart_order</th>\n",
       "      <th>reordered</th>\n",
       "    </tr>\n",
       "  </thead>\n",
       "  <tbody>\n",
       "    <tr>\n",
       "      <th>57981</th>\n",
       "      <td>61355</td>\n",
       "      <td>5322</td>\n",
       "      <td>NaN</td>\n",
       "      <td>0</td>\n",
       "    </tr>\n",
       "    <tr>\n",
       "      <th>149404</th>\n",
       "      <td>61355</td>\n",
       "      <td>39475</td>\n",
       "      <td>45.0</td>\n",
       "      <td>0</td>\n",
       "    </tr>\n",
       "    <tr>\n",
       "      <th>247893</th>\n",
       "      <td>61355</td>\n",
       "      <td>8594</td>\n",
       "      <td>NaN</td>\n",
       "      <td>0</td>\n",
       "    </tr>\n",
       "    <tr>\n",
       "      <th>269840</th>\n",
       "      <td>61355</td>\n",
       "      <td>14233</td>\n",
       "      <td>5.0</td>\n",
       "      <td>0</td>\n",
       "    </tr>\n",
       "    <tr>\n",
       "      <th>345399</th>\n",
       "      <td>61355</td>\n",
       "      <td>24010</td>\n",
       "      <td>51.0</td>\n",
       "      <td>0</td>\n",
       "    </tr>\n",
       "    <tr>\n",
       "      <th>...</th>\n",
       "      <td>...</td>\n",
       "      <td>...</td>\n",
       "      <td>...</td>\n",
       "      <td>...</td>\n",
       "    </tr>\n",
       "    <tr>\n",
       "      <th>4426514</th>\n",
       "      <td>61355</td>\n",
       "      <td>29270</td>\n",
       "      <td>15.0</td>\n",
       "      <td>0</td>\n",
       "    </tr>\n",
       "    <tr>\n",
       "      <th>4482168</th>\n",
       "      <td>61355</td>\n",
       "      <td>24964</td>\n",
       "      <td>33.0</td>\n",
       "      <td>0</td>\n",
       "    </tr>\n",
       "    <tr>\n",
       "      <th>4515077</th>\n",
       "      <td>61355</td>\n",
       "      <td>6760</td>\n",
       "      <td>27.0</td>\n",
       "      <td>0</td>\n",
       "    </tr>\n",
       "    <tr>\n",
       "      <th>4521208</th>\n",
       "      <td>61355</td>\n",
       "      <td>16262</td>\n",
       "      <td>62.0</td>\n",
       "      <td>0</td>\n",
       "    </tr>\n",
       "    <tr>\n",
       "      <th>4525165</th>\n",
       "      <td>61355</td>\n",
       "      <td>24561</td>\n",
       "      <td>54.0</td>\n",
       "      <td>0</td>\n",
       "    </tr>\n",
       "  </tbody>\n",
       "</table>\n",
       "<p>127 rows × 4 columns</p>\n",
       "</div>"
      ],
      "text/plain": [
       "         order_id  product_id  add_to_cart_order  reordered\n",
       "57981       61355        5322                NaN          0\n",
       "149404      61355       39475               45.0          0\n",
       "247893      61355        8594                NaN          0\n",
       "269840      61355       14233                5.0          0\n",
       "345399      61355       24010               51.0          0\n",
       "...           ...         ...                ...        ...\n",
       "4426514     61355       29270               15.0          0\n",
       "4482168     61355       24964               33.0          0\n",
       "4515077     61355        6760               27.0          0\n",
       "4521208     61355       16262               62.0          0\n",
       "4525165     61355       24561               54.0          0\n",
       "\n",
       "[127 rows x 4 columns]"
      ]
     },
     "execution_count": 33,
     "metadata": {},
     "output_type": "execute_result"
    }
   ],
   "source": [
    "# Todos os pedidos com valores ausentes contêm mais de 64 produtos?\n",
    "# Agrupe os pedidos com dados ausentes por ID de pedido\n",
    "# Conte o número de 'product_id' em cada pedido e verifique o valor mínimo da contagem\n",
    "\n",
    "agrup_val_aus = Valores_ausente_serie.groupby('order_id').count()\n",
    "print(agrup_val_aus)\n",
    "print('/////////////////////////////////////////////////////////////////////')\n",
    "valores_maior = agrup_val_aus[agrup_val_aus['product_id']>64].count()\n",
    "print(valores_maior)\n",
    "\n",
    "df_order_products[df_order_products['order_id']==61355]"
   ]
  },
  {
   "cell_type": "markdown",
   "id": "p9V6pddtjglj",
   "metadata": {
    "id": "p9V6pddtjglj"
   },
   "source": [
    "Descreva brevemente suas conclusões.\n",
    "\n",
    "Temos 70 pedidos com valores ausentes na coluna: 'add_to_cart_order', Se verificarmos aleatoriamente um pedido, por exemplo o número 61355, podemos ver que ele possui pelo menos 2 valores faltantes para 2 produtos diferentes. Teríamos que explorar com mais profundidade se o aparecimento dos valores faltantes neste. coluna corresponde a um padrão específico (uma hora ou dia específico ou um cliente específico, entre outros)"
   ]
  },
  {
   "cell_type": "code",
   "execution_count": 34,
   "id": "7a987d08",
   "metadata": {
    "id": "7a987d08"
   },
   "outputs": [
    {
     "name": "stdout",
     "output_type": "stream",
     "text": [
      "<class 'pandas.core.frame.DataFrame'>\n",
      "RangeIndex: 4545007 entries, 0 to 4545006\n",
      "Data columns (total 4 columns):\n",
      " #   Column             Non-Null Count    Dtype\n",
      "---  ------             --------------    -----\n",
      " 0   order_id           4545007 non-null  int64\n",
      " 1   product_id         4545007 non-null  int64\n",
      " 2   add_to_cart_order  4545007 non-null  int64\n",
      " 3   reordered          4545007 non-null  int64\n",
      "dtypes: int64(4)\n",
      "memory usage: 138.7 MB\n",
      "None\n",
      "\n",
      "Foi verificado e é seguro fazer a conversão nesta coluna ('add_to_cart_order') de float64 para int64\n"
     ]
    }
   ],
   "source": [
    "# Substitua valores ausentes na coluna 'add_to_cart_order' por 999 e converta a coluna para o tipo integer\n",
    "\n",
    "coluna_serie = ['add_to_cart_order']\n",
    "val = 999\n",
    "substituir_nan_coluna (df_order_products,coluna_serie,val)\n",
    "\n",
    "verifica_conver = np.array_equal(df_order_products['add_to_cart_order'], df_order_products['add_to_cart_order'].astype('int'))\n",
    "\n",
    "if verifica_conver == True:\n",
    "    df_order_products['add_to_cart_order'] = df_order_products['add_to_cart_order'].astype('int')\n",
    "    print(df_order_products.info(show_counts=True))\n",
    "    print()\n",
    "    print(\"Foi verificado e é seguro fazer a conversão nesta coluna ('add_to_cart_order') de float64 para int64\")\n",
    "else:\n",
    "    print('Não é seguro fazer a conversão de tipos de dados de float64 para int64')\n"
   ]
  },
  {
   "cell_type": "markdown",
   "id": "fea4bcc7",
   "metadata": {
    "id": "fea4bcc7"
   },
   "source": [
    "Descreva brevemente suas conclusões e o que você fez com elas.\n",
    "\n",
    "Os valores faltantes foram substituídos e transformamos a coluna do tipo de dados para integral, verificando primeiro se era seguro executar aquela operação.\n",
    "\n",
    "\n",
    "Esta é uma coluna que nos serve principalmente o detalhe dos produtos associados àos pedidos de cada cliente."
   ]
  },
  {
   "cell_type": "markdown",
   "id": "eb7ccf78",
   "metadata": {},
   "source": [
    "<div class=\"alert alert-success\">\n",
    "<strong>Comentário do revisor v1</strong>\n",
    "\n",
    "As tratativas com os valores ausentes também se deram conforme o esperado!\n",
    "</div>\n"
   ]
  },
  {
   "cell_type": "markdown",
   "id": "RnplPFY1gSrb",
   "metadata": {
    "id": "RnplPFY1gSrb"
   },
   "source": [
    "## Conclusões\n",
    "\n",
    "Escreva aqui suas conclusões intermediárias da Etapa 2. Preparação de dados\n",
    "\n",
    "É importante limpar os dados além de descrever e corrigir as inconsistências resultantes da coleta de dados. Os detalhes descritos acima permitem obter algumas conclusões de cada tabela que foi descrita em cada seção.\n",
    "\n",
    "Ao depurar os dados podemos estabelecer relações de informação mais fiáveis entre pedidos, ordenes de produtos e a ligação de cadastros bem como a sua localização física dentro da loja pelo criterios de classificação establecidos pela empresa.\n",
    "\n",
    "Ao limpar os dados, estamos prontos para processar as informações e isso implica no resultados na elaboração de relatórios explicativos de informações de interesse da empresa.\n",
    "\n"
   ]
  },
  {
   "cell_type": "markdown",
   "id": "UjrOIwTcz3ri",
   "metadata": {
    "id": "UjrOIwTcz3ri"
   },
   "source": [
    "# Etapa 3. Análise de dados\n",
    "\n",
    "Quando os dados estiverem processados ​​e prontos, execute a seguinte análise:"
   ]
  },
  {
   "cell_type": "markdown",
   "id": "turkish-kidney",
   "metadata": {
    "id": "turkish-kidney"
   },
   "source": [
    "# [A] Fácil (é necessário concluir tudo para passar)\n",
    "\n",
    "1.\tVerifique se os valores nas colunas `'order_hour_of_day'` e `'order_dow'` na tabela `orders` fazem sentido (ou seja, os valores da coluna  `'order_hour_of_day'` variam de 0 a 23 e os da `'order_dow'` variam de 0 a 6).\n",
    "2.\tCrie um gráfico que mostre quantas pessoas fazem pedidos por cada hora do dia.\n",
    "3.\tCrie um gráfico que mostre em que dia da semana as pessoas fazem compras.\n",
    "4.\tCrie um gráfico que mostre quanto tempo as pessoas esperam até fazer seu próximo pedido e comente sobre os valores mínimo e máximo.\n"
   ]
  },
  {
   "cell_type": "markdown",
   "id": "short-capability",
   "metadata": {
    "id": "short-capability"
   },
   "source": [
    "### [A1] Verifique se os valores fazem sentido"
   ]
  },
  {
   "cell_type": "code",
   "execution_count": 35,
   "id": "growing-fruit",
   "metadata": {
    "id": "growing-fruit"
   },
   "outputs": [
    {
     "name": "stdout",
     "output_type": "stream",
     "text": [
      "                   order_id  user_id  order_number  order_dow  \\\n",
      "order_hour_of_day                                               \n",
      "0                      3180     3180          3180       3180   \n",
      "1                      1763     1763          1763       1763   \n",
      "2                       989      989           989        989   \n",
      "3                       770      770           770        770   \n",
      "4                       765      765           765        765   \n",
      "5                      1371     1371          1371       1371   \n",
      "6                      4215     4215          4215       4215   \n",
      "7                     13043    13043         13043      13043   \n",
      "8                     25024    25024         25024      25024   \n",
      "9                     35896    35896         35896      35896   \n",
      "10                    40578    40578         40578      40578   \n",
      "11                    40032    40032         40032      40032   \n",
      "12                    38034    38034         38034      38034   \n",
      "13                    39007    39007         39007      39007   \n",
      "14                    39631    39631         39631      39631   \n",
      "15                    39789    39789         39789      39789   \n",
      "16                    38112    38112         38112      38112   \n",
      "17                    31930    31930         31930      31930   \n",
      "18                    25510    25510         25510      25510   \n",
      "19                    19547    19547         19547      19547   \n",
      "20                    14624    14624         14624      14624   \n",
      "21                    11019    11019         11019      11019   \n",
      "22                     8512     8512          8512       8512   \n",
      "23                     5611     5611          5611       5611   \n",
      "\n",
      "                   days_since_prior_order  \n",
      "order_hour_of_day                          \n",
      "0                                    3180  \n",
      "1                                    1763  \n",
      "2                                     989  \n",
      "3                                     770  \n",
      "4                                     765  \n",
      "5                                    1371  \n",
      "6                                    4215  \n",
      "7                                   13043  \n",
      "8                                   25024  \n",
      "9                                   35896  \n",
      "10                                  40578  \n",
      "11                                  40032  \n",
      "12                                  38034  \n",
      "13                                  39007  \n",
      "14                                  39631  \n",
      "15                                  39789  \n",
      "16                                  38112  \n",
      "17                                  31930  \n",
      "18                                  25510  \n",
      "19                                  19547  \n",
      "20                                  14624  \n",
      "21                                  11019  \n",
      "22                                   8512  \n",
      "23                                   5611  \n",
      "           order_id  user_id  order_number  order_hour_of_day  \\\n",
      "order_dow                                                       \n",
      "0             84090    84090         84090              84090   \n",
      "1             82185    82185         82185              82185   \n",
      "2             65833    65833         65833              65833   \n",
      "3             60897    60897         60897              60897   \n",
      "4             59810    59810         59810              59810   \n",
      "5             63488    63488         63488              63488   \n",
      "6             62649    62649         62649              62649   \n",
      "\n",
      "           days_since_prior_order  \n",
      "order_dow                          \n",
      "0                           84090  \n",
      "1                           82185  \n",
      "2                           65833  \n",
      "3                           60897  \n",
      "4                           59810  \n",
      "5                           63488  \n",
      "6                           62649  \n"
     ]
    }
   ],
   "source": [
    "print(df_instacart_orders.groupby('order_hour_of_day').count())\n",
    "print(df_instacart_orders.groupby('order_dow').count())"
   ]
  },
  {
   "cell_type": "markdown",
   "id": "hmR2GNQ6lCsX",
   "metadata": {
    "id": "hmR2GNQ6lCsX"
   },
   "source": [
    "Escreva suas conclusões aqui\n",
    "\n",
    "Após filtrar as horas e dias podemos certificar que os valores fazem sentido com as referências que representam, ou seja, não possuem valores atípicos que distorcem os padrões de horário e dia."
   ]
  },
  {
   "cell_type": "markdown",
   "id": "f5c43102",
   "metadata": {},
   "source": [
    "<div class=\"alert alert-success\">\n",
    "<strong>Comentário do revisor v1</strong>\n",
    "\n",
    "Perfeito! A forma escolhida para a validação está adequada!\n",
    "</div>\n"
   ]
  },
  {
   "cell_type": "markdown",
   "id": "a6743a70",
   "metadata": {
    "id": "a6743a70"
   },
   "source": [
    "### [A2] Quantas pessoas fazem pedidos a cada hora do dia?"
   ]
  },
  {
   "cell_type": "code",
   "execution_count": 36,
   "id": "a36cca27",
   "metadata": {
    "id": "a36cca27"
   },
   "outputs": [
    {
     "data": {
      "image/png": "[encoded data removed]",
      "text/plain": [
       "<Figure size 640x480 with 1 Axes>"
      ]
     },
     "metadata": {},
     "output_type": "display_data"
    }
   ],
   "source": [
    "df_instacart_orders\n",
    "pedido_hora = df_instacart_orders.groupby('order_hour_of_day')['order_id'].count()\n",
    "pedido_hora.plot(kind = 'bar', xlabel = 'Horas do dia (0 - 23 hrs)', \n",
    "                 ylabel='Quantidade de pedidos recebidos', \n",
    "                 title = 'Número de pedidos por hora')\n",
    "plt.show()"
   ]
  },
  {
   "cell_type": "markdown",
   "id": "11270eed",
   "metadata": {
    "id": "11270eed"
   },
   "source": [
    "Escreva suas conclusões aqui\n",
    "\n",
    "Como podemos perceber, o número de fluxos de pedidos é maior no intervalo das 9h às 17h."
   ]
  },
  {
   "cell_type": "markdown",
   "id": "96593eee",
   "metadata": {},
   "source": [
    "<div class=\"alert alert-success\">\n",
    "<strong>Comentário do revisor v1</strong>\n",
    "\n",
    "Excelente, plot e conclusão estão ok.\n",
    "</div>\n"
   ]
  },
  {
   "cell_type": "markdown",
   "id": "documented-command",
   "metadata": {
    "id": "documented-command"
   },
   "source": [
    "### [A3] Em que dia da semana as pessoas fazem compras?"
   ]
  },
  {
   "cell_type": "code",
   "execution_count": 37,
   "id": "chief-digit",
   "metadata": {
    "id": "chief-digit"
   },
   "outputs": [
    {
     "data": {
      "image/png": "[encoded data removed]",
      "text/plain": [
       "<Figure size 640x480 with 1 Axes>"
      ]
     },
     "metadata": {},
     "output_type": "display_data"
    }
   ],
   "source": [
    "df_instacart_orders\n",
    "pedido_hora = df_instacart_orders.groupby('order_dow')['order_id'].count()\n",
    "pedido_hora.plot(kind = 'bar', xlabel = 'Dias da Semana (0 - 6 : 0 = Domingo)', \n",
    "                 ylabel='Quantidade de pedidos recebidos', \n",
    "                 title = 'Número de pedidos por dia')\n",
    "plt.xticks(rotation = 0)\n",
    "plt.show()"
   ]
  },
  {
   "cell_type": "markdown",
   "id": "dominant-lightning",
   "metadata": {
    "id": "dominant-lightning"
   },
   "source": [
    "Escreva suas conclusões aqui\n",
    "\n",
    "O número de pedidos por dia aparentemente tem uma distribuição contínua desde que a variação seja aceitável, o número de pedidos permanece entre 60 a 70 mil por dia."
   ]
  },
  {
   "cell_type": "markdown",
   "id": "df7e3e21",
   "metadata": {},
   "source": [
    "<div class=\"alert alert-success\">\n",
    "<strong>Comentário do revisor v1</strong>\n",
    "\n",
    "Excelente, plot e conclusão estão ok.\n",
    "</div>\n"
   ]
  },
  {
   "cell_type": "markdown",
   "id": "cutting-concert",
   "metadata": {
    "id": "cutting-concert"
   },
   "source": [
    "### [A4] Quanto tempo as pessoas esperam até fazer outro pedido?"
   ]
  },
  {
   "cell_type": "markdown",
   "id": "discrete-vertex",
   "metadata": {
    "id": "discrete-vertex"
   },
   "source": [
    "Escreva suas conclusões aqui\n",
    "\n",
    "A maioria dos utilizadores espera para fazer outra encomenda num intervalo cumulativo de 0 a 8 dias, com a particularidade de que o maior número por dia individual, que é de 51.337 utilizadores, espera 30 dias e em contrapartida, o menor número de utilizadores, o que representa 2.640 usuários, esperar 29 dias é um comportamento incomum, mas os resultados são interpretados a partir do gráfico resultante\n"
   ]
  },
  {
   "cell_type": "code",
   "execution_count": 38,
   "id": "gMOIimGd5VNb",
   "metadata": {
    "id": "gMOIimGd5VNb"
   },
   "outputs": [
    {
     "data": {
      "image/png": "[encoded data removed]",
      "text/plain": [
       "<Figure size 640x480 with 1 Axes>"
      ]
     },
     "metadata": {},
     "output_type": "display_data"
    },
    {
     "name": "stdout",
     "output_type": "stream",
     "text": [
      "count       31.000000\n",
      "mean     15450.064516\n",
      "std      13927.174760\n",
      "min       2640.000000\n",
      "25%       4726.500000\n",
      "50%      10658.000000\n",
      "75%      26249.500000\n",
      "max      51337.000000\n",
      "Name: user_id, dtype: float64\n"
     ]
    }
   ],
   "source": [
    "df_instacart_orders\n",
    "\n",
    "tempos_espera_pedido = df_instacart_orders.groupby('days_since_prior_order')['user_id'].count()\n",
    "tempos_espera_pedido.plot(kind = 'bar', xlabel = 'Tempo de espera (n° dias)', \n",
    "                 ylabel='Número de pessoas', \n",
    "                 title = 'Tempo de espera vs Numero de pessoas')\n",
    "plt.show()\n",
    "\n",
    "print(tempos_espera_pedido.describe())\n",
    "\n"
   ]
  },
  {
   "cell_type": "markdown",
   "id": "2ba39b65",
   "metadata": {},
   "source": [
    "<div class=\"alert alert-success\">\n",
    "<strong>Comentário do revisor v1</strong>\n",
    "\n",
    "Muito bom, a visualização e conslusão sobre o resultado estão de acordo.\n",
    "</div>\n"
   ]
  },
  {
   "cell_type": "markdown",
   "id": "tight-staff",
   "metadata": {
    "id": "tight-staff"
   },
   "source": [
    "# [B] Médio (é necessário concluir tudo para passar)\n",
    "\n",
    "1.\tHá alguma diferença nas distribuições de `'order_hour_of_day'` nas quartas e sábados? Construa gráficos de barras para ambos os dias no mesmo gráfico e descreva as diferenças que você notou.\n",
    "2.\tConstrua um gráfico de distribuição para o número de pedidos que os clientes fazem (ou seja, quantos clientes fizeram apenas 1 pedido, quantos fizeram apenas 2, quantos apenas 3, etc.)\n",
    "3.\tQuais são os 20 produtos comprados com mais frequência? Exiba os IDs e nomes.\n"
   ]
  },
  {
   "cell_type": "markdown",
   "id": "packed-classic",
   "metadata": {
    "id": "packed-classic"
   },
   "source": [
    "### [B1] Diferenças nas quartas e sábados em `'order_hour_of_day'`. Crie gráficos de barras para ambos os dias e descreva as diferenças."
   ]
  },
  {
   "cell_type": "code",
   "execution_count": 39,
   "id": "d89b8403",
   "metadata": {
    "id": "d89b8403"
   },
   "outputs": [
    {
     "data": {
      "image/png": "[encoded data removed]",
      "text/plain": [
       "<Figure size 640x480 with 1 Axes>"
      ]
     },
     "metadata": {},
     "output_type": "display_data"
    },
    {
     "data": {
      "text/html": [
       "<div>\n",
       "<style scoped>\n",
       "    .dataframe tbody tr th:only-of-type {\n",
       "        vertical-align: middle;\n",
       "    }\n",
       "\n",
       "    .dataframe tbody tr th {\n",
       "        vertical-align: top;\n",
       "    }\n",
       "\n",
       "    .dataframe thead th {\n",
       "        text-align: right;\n",
       "    }\n",
       "</style>\n",
       "<table border=\"1\" class=\"dataframe\">\n",
       "  <thead>\n",
       "    <tr style=\"text-align: right;\">\n",
       "      <th></th>\n",
       "      <th>order_id</th>\n",
       "      <th>user_id</th>\n",
       "      <th>order_number</th>\n",
       "      <th>order_dow</th>\n",
       "      <th>order_hour_of_day</th>\n",
       "      <th>days_since_prior_order</th>\n",
       "    </tr>\n",
       "  </thead>\n",
       "  <tbody>\n",
       "    <tr>\n",
       "      <th>6</th>\n",
       "      <td>2511640</td>\n",
       "      <td>148233</td>\n",
       "      <td>40</td>\n",
       "      <td>3</td>\n",
       "      <td>8</td>\n",
       "      <td>2.0</td>\n",
       "    </tr>\n",
       "    <tr>\n",
       "      <th>16</th>\n",
       "      <td>3109465</td>\n",
       "      <td>55090</td>\n",
       "      <td>19</td>\n",
       "      <td>3</td>\n",
       "      <td>15</td>\n",
       "      <td>9.0</td>\n",
       "    </tr>\n",
       "    <tr>\n",
       "      <th>28</th>\n",
       "      <td>133707</td>\n",
       "      <td>182261</td>\n",
       "      <td>1</td>\n",
       "      <td>3</td>\n",
       "      <td>10</td>\n",
       "      <td>0.0</td>\n",
       "    </tr>\n",
       "    <tr>\n",
       "      <th>30</th>\n",
       "      <td>1890318</td>\n",
       "      <td>193501</td>\n",
       "      <td>3</td>\n",
       "      <td>3</td>\n",
       "      <td>15</td>\n",
       "      <td>30.0</td>\n",
       "    </tr>\n",
       "    <tr>\n",
       "      <th>35</th>\n",
       "      <td>125325</td>\n",
       "      <td>106853</td>\n",
       "      <td>6</td>\n",
       "      <td>3</td>\n",
       "      <td>19</td>\n",
       "      <td>30.0</td>\n",
       "    </tr>\n",
       "    <tr>\n",
       "      <th>...</th>\n",
       "      <td>...</td>\n",
       "      <td>...</td>\n",
       "      <td>...</td>\n",
       "      <td>...</td>\n",
       "      <td>...</td>\n",
       "      <td>...</td>\n",
       "    </tr>\n",
       "    <tr>\n",
       "      <th>478902</th>\n",
       "      <td>972799</td>\n",
       "      <td>89702</td>\n",
       "      <td>4</td>\n",
       "      <td>3</td>\n",
       "      <td>7</td>\n",
       "      <td>10.0</td>\n",
       "    </tr>\n",
       "    <tr>\n",
       "      <th>478931</th>\n",
       "      <td>2406747</td>\n",
       "      <td>63101</td>\n",
       "      <td>11</td>\n",
       "      <td>3</td>\n",
       "      <td>8</td>\n",
       "      <td>5.0</td>\n",
       "    </tr>\n",
       "    <tr>\n",
       "      <th>478941</th>\n",
       "      <td>640934</td>\n",
       "      <td>27104</td>\n",
       "      <td>9</td>\n",
       "      <td>3</td>\n",
       "      <td>10</td>\n",
       "      <td>6.0</td>\n",
       "    </tr>\n",
       "    <tr>\n",
       "      <th>478948</th>\n",
       "      <td>3270802</td>\n",
       "      <td>112087</td>\n",
       "      <td>2</td>\n",
       "      <td>3</td>\n",
       "      <td>13</td>\n",
       "      <td>6.0</td>\n",
       "    </tr>\n",
       "    <tr>\n",
       "      <th>478950</th>\n",
       "      <td>216274</td>\n",
       "      <td>4391</td>\n",
       "      <td>3</td>\n",
       "      <td>3</td>\n",
       "      <td>8</td>\n",
       "      <td>8.0</td>\n",
       "    </tr>\n",
       "  </tbody>\n",
       "</table>\n",
       "<p>60897 rows × 6 columns</p>\n",
       "</div>"
      ],
      "text/plain": [
       "        order_id  user_id  order_number  order_dow  order_hour_of_day  \\\n",
       "6        2511640   148233            40          3                  8   \n",
       "16       3109465    55090            19          3                 15   \n",
       "28        133707   182261             1          3                 10   \n",
       "30       1890318   193501             3          3                 15   \n",
       "35        125325   106853             6          3                 19   \n",
       "...          ...      ...           ...        ...                ...   \n",
       "478902    972799    89702             4          3                  7   \n",
       "478931   2406747    63101            11          3                  8   \n",
       "478941    640934    27104             9          3                 10   \n",
       "478948   3270802   112087             2          3                 13   \n",
       "478950    216274     4391             3          3                  8   \n",
       "\n",
       "        days_since_prior_order  \n",
       "6                          2.0  \n",
       "16                         9.0  \n",
       "28                         0.0  \n",
       "30                        30.0  \n",
       "35                        30.0  \n",
       "...                        ...  \n",
       "478902                    10.0  \n",
       "478931                     5.0  \n",
       "478941                     6.0  \n",
       "478948                     6.0  \n",
       "478950                     8.0  \n",
       "\n",
       "[60897 rows x 6 columns]"
      ]
     },
     "execution_count": 39,
     "metadata": {},
     "output_type": "execute_result"
    }
   ],
   "source": [
    "quartas = df_instacart_orders[df_instacart_orders['order_dow']==3]\n",
    "quartas['order_hour_of_day'].plot(kind='hist', bins=50, color='red', xlabel='Horas do dia (0 - 23 hrs)')\n",
    "plt.xlabel('Hora do dia que foi feito o pedido')\n",
    "plt.ylabel('Frequência do pedidos')\n",
    "plt.title('Número de pedidos por horas do dia (quarta-feira)')\n",
    "plt.show()\n",
    "\n",
    "quartas"
   ]
  },
  {
   "cell_type": "code",
   "execution_count": 40,
   "id": "94e54e8a",
   "metadata": {
    "id": "94e54e8a"
   },
   "outputs": [
    {
     "data": {
      "image/png": "[encoded data removed]",
      "text/plain": [
       "<Figure size 640x480 with 1 Axes>"
      ]
     },
     "metadata": {},
     "output_type": "display_data"
    }
   ],
   "source": [
    "sabado = df_instacart_orders[df_instacart_orders['order_dow']==6]\n",
    "sabado['order_hour_of_day'].plot(kind='hist', bins=50)\n",
    "plt.xlabel('Hora do dia que foi feito o pedido')\n",
    "plt.ylabel('Frequência do pedidos')\n",
    "plt.title('Número de pedidos por horas do dia (Sabados)')\n",
    "\n",
    "plt.show()"
   ]
  },
  {
   "cell_type": "code",
   "execution_count": 41,
   "id": "797c90a8",
   "metadata": {
    "id": "797c90a8"
   },
   "outputs": [
    {
     "data": {
      "image/png": "[encoded data removed]",
      "text/plain": [
       "<Figure size 640x480 with 1 Axes>"
      ]
     },
     "metadata": {},
     "output_type": "display_data"
    }
   ],
   "source": [
    "df_instacart_orders[df_instacart_orders['order_dow']==3]['order_hour_of_day'].plot(kind='hist', bins=50, color='red')\n",
    "df_instacart_orders[df_instacart_orders['order_dow']==6]['order_hour_of_day'].plot(kind='hist', bins=50, alpha=0.2)\n",
    "plt.xlabel('Hora dos dias que foi feito o pedido')\n",
    "plt.ylabel('Frequências dos pedidos')\n",
    "plt.title('Número de pedidos por horas do dia')\n",
    "plt.legend((['Quarta-feira','Sabado']))\n",
    "plt.show()\n"
   ]
  },
  {
   "cell_type": "markdown",
   "id": "charitable-congo",
   "metadata": {
    "id": "charitable-congo"
   },
   "source": [
    "Escreva suas conclusões aqui\n",
    "\n",
    "A diferença é pouca, os dois dias têm uma pequena diferença, mas o comportamento é semelhante a uma distribuição probabilística normal, onde a maior parte dos dados do conjunto se refere a uma variável específica (neste caso 2 variáveis/ 1-Número de pedidos por horas dias quarta-feira/ 2- Número de pedidos por hora aos sábados) estão próximos dos valores médios.\n",
    "\n",
    "Neste caso, a maioria dos pedidos para estes dois dias são feitos entre as 9h e as 17h."
   ]
  },
  {
   "cell_type": "markdown",
   "id": "c4a6477b",
   "metadata": {},
   "source": [
    "<div class=\"alert alert-warning\">\n",
    "<strong>Comentário do revisor v1</strong>\n",
    "\n",
    "Muito bom, as visões e conclusões estão em linha com o esperado.\n",
    "    \n",
    "Acho muito boa essa visão de ambos os dias no mesmo plot, mas entendo que ficaria melhor se utilizasse transparência nessa geração (parâmetro alpha).\n",
    "</div>\n"
   ]
  },
  {
   "cell_type": "markdown",
   "id": "e3891143",
   "metadata": {
    "id": "e3891143"
   },
   "source": [
    "### [B2] Qual é a distribuição do número de pedidos por cliente?"
   ]
  },
  {
   "cell_type": "code",
   "execution_count": 42,
   "id": "d8c26c23",
   "metadata": {
    "id": "d8c26c23"
   },
   "outputs": [
    {
     "data": {
      "image/png": "[encoded data removed]",
      "text/plain": [
       "<Figure size 640x480 with 1 Axes>"
      ]
     },
     "metadata": {},
     "output_type": "display_data"
    }
   ],
   "source": [
    "num_ped=df_instacart_orders.groupby('user_id')['order_id'].count()\n",
    "num_ped.plot(kind='hist', bins=50)\n",
    "plt.xlabel('Número de pedidos')\n",
    "plt.ylabel('Quantidade de usuarios')\n",
    "plt.title('Número de pedidos por usuarios')\n",
    "\n",
    "plt.show()\n"
   ]
  },
  {
   "cell_type": "markdown",
   "id": "d2eff7d5",
   "metadata": {
    "id": "d2eff7d5"
   },
   "source": [
    "Escreva suas conclusões aqui\n",
    "\n",
    "Podemos observar que o gráfico reflete um comportamento de uma distribuição probabilística exponencial da variável (Número de pedidos por usuários), nesse caso para inferir dados de comportamento futuro (simulações) em relação a esta variável é prático utilizar um comportamento exponencial, neste caso Especificamente, podemos perceber que a maior parte dos dados está concentrada de 0 a 5 pedidos que são feitos pela maioria dos usuários =, ou seja, temos uma grande probabilidade de que as compras de novos usuários estejam neste intervalo"
   ]
  },
  {
   "cell_type": "markdown",
   "id": "791edf9a",
   "metadata": {},
   "source": [
    "<div class=\"alert alert-success\">\n",
    "<strong>Comentário do revisor v1</strong>\n",
    "\n",
    "Tudo certo com plot e conclusão.\n",
    "</div>\n"
   ]
  },
  {
   "cell_type": "markdown",
   "id": "54a0319c",
   "metadata": {
    "id": "54a0319c"
   },
   "source": [
    "### [B3] Quais são os 20 produtos mais populares? Exiba os IDs e nomes."
   ]
  },
  {
   "cell_type": "code",
   "execution_count": 43,
   "id": "exterior-arizona",
   "metadata": {
    "id": "exterior-arizona",
    "scrolled": true
   },
   "outputs": [],
   "source": [
    "agrup_prod = df_order_products.groupby('product_id').count()\n",
    "agrup_prod_ord =agrup_prod.sort_values(by='order_id', ascending = False).head(20)\n",
    "agrup_prod_ord = agrup_prod_ord.sort_index()\n",
    "indice = list(agrup_prod_ord.index)\n",
    "\n",
    "filtrado_nome = df_products[df_products['product_id'].isin(indice)]\n",
    "lista_val=list(filtrado_nome['product_id'])\n",
    "filtrado_nome.index = lista_val\n",
    "df_concat = pd.concat([agrup_prod_ord,filtrado_nome], axis='columns')\n"
   ]
  },
  {
   "cell_type": "code",
   "execution_count": 44,
   "id": "universal-facial",
   "metadata": {
    "id": "universal-facial"
   },
   "outputs": [
    {
     "data": {
      "image/png": "[encoded data removed]",
      "text/plain": [
       "<Figure size 640x480 with 1 Axes>"
      ]
     },
     "metadata": {},
     "output_type": "display_data"
    }
   ],
   "source": [
    "\n",
    "df_concat['product_id'] = df_concat['product_id'].astype('str')\n",
    "\n",
    "df_concat['produtos'] = df_concat.apply(uniao_coluna, axis=1)\n",
    "indices_novos = list(df_concat['produtos'])\n",
    "df_concat = df_concat.set_index('produtos')\n",
    "df_concat = df_concat.sort_values(by='order_id')\n",
    "\n",
    "df_concat['order_id'].plot(kind='barh', xlabel='20 produtos comprados com mais frequência')\n",
    "plt.show()"
   ]
  },
  {
   "cell_type": "code",
   "execution_count": 45,
   "id": "bbcdd20b",
   "metadata": {
    "id": "bbcdd20b"
   },
   "outputs": [
    {
     "data": {
      "text/html": [
       "<div>\n",
       "<style scoped>\n",
       "    .dataframe tbody tr th:only-of-type {\n",
       "        vertical-align: middle;\n",
       "    }\n",
       "\n",
       "    .dataframe tbody tr th {\n",
       "        vertical-align: top;\n",
       "    }\n",
       "\n",
       "    .dataframe thead th {\n",
       "        text-align: right;\n",
       "    }\n",
       "</style>\n",
       "<table border=\"1\" class=\"dataframe\">\n",
       "  <thead>\n",
       "    <tr style=\"text-align: right;\">\n",
       "      <th></th>\n",
       "      <th>order_id</th>\n",
       "      <th>add_to_cart_order</th>\n",
       "      <th>reordered</th>\n",
       "      <th>product_id</th>\n",
       "      <th>product_name</th>\n",
       "      <th>aisle_id</th>\n",
       "      <th>department_id</th>\n",
       "    </tr>\n",
       "    <tr>\n",
       "      <th>produtos</th>\n",
       "      <th></th>\n",
       "      <th></th>\n",
       "      <th></th>\n",
       "      <th></th>\n",
       "      <th></th>\n",
       "      <th></th>\n",
       "      <th></th>\n",
       "    </tr>\n",
       "  </thead>\n",
       "  <tbody>\n",
       "    <tr>\n",
       "      <th>organic grape tomatoes 40706</th>\n",
       "      <td>11781</td>\n",
       "      <td>11781</td>\n",
       "      <td>11781</td>\n",
       "      <td>40706</td>\n",
       "      <td>organic grape tomatoes</td>\n",
       "      <td>123</td>\n",
       "      <td>4</td>\n",
       "    </tr>\n",
       "    <tr>\n",
       "      <th>apple honeycrisp organic 8277</th>\n",
       "      <td>11993</td>\n",
       "      <td>11993</td>\n",
       "      <td>11993</td>\n",
       "      <td>8277</td>\n",
       "      <td>apple honeycrisp organic</td>\n",
       "      <td>24</td>\n",
       "      <td>4</td>\n",
       "    </tr>\n",
       "    <tr>\n",
       "      <th>organic lemon 5876</th>\n",
       "      <td>12232</td>\n",
       "      <td>12232</td>\n",
       "      <td>12232</td>\n",
       "      <td>5876</td>\n",
       "      <td>organic lemon</td>\n",
       "      <td>24</td>\n",
       "      <td>4</td>\n",
       "    </tr>\n",
       "    <tr>\n",
       "      <th>organic fuji apple 28204</th>\n",
       "      <td>12544</td>\n",
       "      <td>12544</td>\n",
       "      <td>12544</td>\n",
       "      <td>28204</td>\n",
       "      <td>organic fuji apple</td>\n",
       "      <td>24</td>\n",
       "      <td>4</td>\n",
       "    </tr>\n",
       "    <tr>\n",
       "      <th>cucumber kirby 49683</th>\n",
       "      <td>13675</td>\n",
       "      <td>13675</td>\n",
       "      <td>13675</td>\n",
       "      <td>49683</td>\n",
       "      <td>cucumber kirby</td>\n",
       "      <td>83</td>\n",
       "      <td>4</td>\n",
       "    </tr>\n",
       "    <tr>\n",
       "      <th>organic blueberries 39275</th>\n",
       "      <td>13879</td>\n",
       "      <td>13879</td>\n",
       "      <td>13879</td>\n",
       "      <td>39275</td>\n",
       "      <td>organic blueberries</td>\n",
       "      <td>123</td>\n",
       "      <td>4</td>\n",
       "    </tr>\n",
       "    <tr>\n",
       "      <th>organic zucchini 45007</th>\n",
       "      <td>14584</td>\n",
       "      <td>14584</td>\n",
       "      <td>14584</td>\n",
       "      <td>45007</td>\n",
       "      <td>organic zucchini</td>\n",
       "      <td>83</td>\n",
       "      <td>4</td>\n",
       "    </tr>\n",
       "    <tr>\n",
       "      <th>organic garlic 24964</th>\n",
       "      <td>15292</td>\n",
       "      <td>15292</td>\n",
       "      <td>15292</td>\n",
       "      <td>24964</td>\n",
       "      <td>organic garlic</td>\n",
       "      <td>83</td>\n",
       "      <td>4</td>\n",
       "    </tr>\n",
       "    <tr>\n",
       "      <th>organic yellow onion 22935</th>\n",
       "      <td>15898</td>\n",
       "      <td>15898</td>\n",
       "      <td>15898</td>\n",
       "      <td>22935</td>\n",
       "      <td>organic yellow onion</td>\n",
       "      <td>83</td>\n",
       "      <td>4</td>\n",
       "    </tr>\n",
       "    <tr>\n",
       "      <th>organic raspberries 27966</th>\n",
       "      <td>19197</td>\n",
       "      <td>19197</td>\n",
       "      <td>19197</td>\n",
       "      <td>27966</td>\n",
       "      <td>organic raspberries</td>\n",
       "      <td>123</td>\n",
       "      <td>4</td>\n",
       "    </tr>\n",
       "    <tr>\n",
       "      <th>organic whole milk 27845</th>\n",
       "      <td>19600</td>\n",
       "      <td>19600</td>\n",
       "      <td>19600</td>\n",
       "      <td>27845</td>\n",
       "      <td>organic whole milk</td>\n",
       "      <td>84</td>\n",
       "      <td>16</td>\n",
       "    </tr>\n",
       "    <tr>\n",
       "      <th>limes 26209</th>\n",
       "      <td>19690</td>\n",
       "      <td>19690</td>\n",
       "      <td>19690</td>\n",
       "      <td>26209</td>\n",
       "      <td>limes</td>\n",
       "      <td>24</td>\n",
       "      <td>4</td>\n",
       "    </tr>\n",
       "    <tr>\n",
       "      <th>strawberries 16797</th>\n",
       "      <td>20018</td>\n",
       "      <td>20018</td>\n",
       "      <td>20018</td>\n",
       "      <td>16797</td>\n",
       "      <td>strawberries</td>\n",
       "      <td>24</td>\n",
       "      <td>4</td>\n",
       "    </tr>\n",
       "    <tr>\n",
       "      <th>large lemon 47626</th>\n",
       "      <td>21495</td>\n",
       "      <td>21495</td>\n",
       "      <td>21495</td>\n",
       "      <td>47626</td>\n",
       "      <td>large lemon</td>\n",
       "      <td>24</td>\n",
       "      <td>4</td>\n",
       "    </tr>\n",
       "    <tr>\n",
       "      <th>organic avocado 47766</th>\n",
       "      <td>24689</td>\n",
       "      <td>24689</td>\n",
       "      <td>24689</td>\n",
       "      <td>47766</td>\n",
       "      <td>organic avocado</td>\n",
       "      <td>24</td>\n",
       "      <td>4</td>\n",
       "    </tr>\n",
       "    <tr>\n",
       "      <th>organic hass avocado 47209</th>\n",
       "      <td>29773</td>\n",
       "      <td>29773</td>\n",
       "      <td>29773</td>\n",
       "      <td>47209</td>\n",
       "      <td>organic hass avocado</td>\n",
       "      <td>24</td>\n",
       "      <td>4</td>\n",
       "    </tr>\n",
       "    <tr>\n",
       "      <th>organic baby spinach 21903</th>\n",
       "      <td>33971</td>\n",
       "      <td>33971</td>\n",
       "      <td>33971</td>\n",
       "      <td>21903</td>\n",
       "      <td>organic baby spinach</td>\n",
       "      <td>123</td>\n",
       "      <td>4</td>\n",
       "    </tr>\n",
       "    <tr>\n",
       "      <th>organic strawberries 21137</th>\n",
       "      <td>37039</td>\n",
       "      <td>37039</td>\n",
       "      <td>37039</td>\n",
       "      <td>21137</td>\n",
       "      <td>organic strawberries</td>\n",
       "      <td>24</td>\n",
       "      <td>4</td>\n",
       "    </tr>\n",
       "    <tr>\n",
       "      <th>bag of organic bananas 13176</th>\n",
       "      <td>53297</td>\n",
       "      <td>53297</td>\n",
       "      <td>53297</td>\n",
       "      <td>13176</td>\n",
       "      <td>bag of organic bananas</td>\n",
       "      <td>24</td>\n",
       "      <td>4</td>\n",
       "    </tr>\n",
       "    <tr>\n",
       "      <th>banana 24852</th>\n",
       "      <td>66050</td>\n",
       "      <td>66050</td>\n",
       "      <td>66050</td>\n",
       "      <td>24852</td>\n",
       "      <td>banana</td>\n",
       "      <td>24</td>\n",
       "      <td>4</td>\n",
       "    </tr>\n",
       "  </tbody>\n",
       "</table>\n",
       "</div>"
      ],
      "text/plain": [
       "                               order_id  add_to_cart_order  reordered  \\\n",
       "produtos                                                                \n",
       "organic grape tomatoes 40706      11781              11781      11781   \n",
       "apple honeycrisp organic 8277     11993              11993      11993   \n",
       "organic lemon 5876                12232              12232      12232   \n",
       "organic fuji apple 28204          12544              12544      12544   \n",
       "cucumber kirby 49683              13675              13675      13675   \n",
       "organic blueberries 39275         13879              13879      13879   \n",
       "organic zucchini 45007            14584              14584      14584   \n",
       "organic garlic 24964              15292              15292      15292   \n",
       "organic yellow onion 22935        15898              15898      15898   \n",
       "organic raspberries 27966         19197              19197      19197   \n",
       "organic whole milk 27845          19600              19600      19600   \n",
       "limes 26209                       19690              19690      19690   \n",
       "strawberries 16797                20018              20018      20018   \n",
       "large lemon 47626                 21495              21495      21495   \n",
       "organic avocado 47766             24689              24689      24689   \n",
       "organic hass avocado 47209        29773              29773      29773   \n",
       "organic baby spinach 21903        33971              33971      33971   \n",
       "organic strawberries 21137        37039              37039      37039   \n",
       "bag of organic bananas 13176      53297              53297      53297   \n",
       "banana 24852                      66050              66050      66050   \n",
       "\n",
       "                              product_id              product_name  aisle_id  \\\n",
       "produtos                                                                       \n",
       "organic grape tomatoes 40706       40706    organic grape tomatoes       123   \n",
       "apple honeycrisp organic 8277       8277  apple honeycrisp organic        24   \n",
       "organic lemon 5876                  5876             organic lemon        24   \n",
       "organic fuji apple 28204           28204        organic fuji apple        24   \n",
       "cucumber kirby 49683               49683            cucumber kirby        83   \n",
       "organic blueberries 39275          39275       organic blueberries       123   \n",
       "organic zucchini 45007             45007          organic zucchini        83   \n",
       "organic garlic 24964               24964            organic garlic        83   \n",
       "organic yellow onion 22935         22935      organic yellow onion        83   \n",
       "organic raspberries 27966          27966       organic raspberries       123   \n",
       "organic whole milk 27845           27845        organic whole milk        84   \n",
       "limes 26209                        26209                     limes        24   \n",
       "strawberries 16797                 16797              strawberries        24   \n",
       "large lemon 47626                  47626               large lemon        24   \n",
       "organic avocado 47766              47766           organic avocado        24   \n",
       "organic hass avocado 47209         47209      organic hass avocado        24   \n",
       "organic baby spinach 21903         21903      organic baby spinach       123   \n",
       "organic strawberries 21137         21137      organic strawberries        24   \n",
       "bag of organic bananas 13176       13176    bag of organic bananas        24   \n",
       "banana 24852                       24852                    banana        24   \n",
       "\n",
       "                               department_id  \n",
       "produtos                                      \n",
       "organic grape tomatoes 40706               4  \n",
       "apple honeycrisp organic 8277              4  \n",
       "organic lemon 5876                         4  \n",
       "organic fuji apple 28204                   4  \n",
       "cucumber kirby 49683                       4  \n",
       "organic blueberries 39275                  4  \n",
       "organic zucchini 45007                     4  \n",
       "organic garlic 24964                       4  \n",
       "organic yellow onion 22935                 4  \n",
       "organic raspberries 27966                  4  \n",
       "organic whole milk 27845                  16  \n",
       "limes 26209                                4  \n",
       "strawberries 16797                         4  \n",
       "large lemon 47626                          4  \n",
       "organic avocado 47766                      4  \n",
       "organic hass avocado 47209                 4  \n",
       "organic baby spinach 21903                 4  \n",
       "organic strawberries 21137                 4  \n",
       "bag of organic bananas 13176               4  \n",
       "banana 24852                               4  "
      ]
     },
     "execution_count": 45,
     "metadata": {},
     "output_type": "execute_result"
    }
   ],
   "source": [
    "df_concat"
   ]
  },
  {
   "cell_type": "markdown",
   "id": "7df00f47",
   "metadata": {
    "id": "7df00f47"
   },
   "source": [
    "Escreva suas conclusões aqui\n",
    "\n",
    "Podemos observar que o produto com maior colocação em pedidos é o código 24852: banana, para interpretar a curva refletida pelos tempos que foram adquiridos os 20 produtos mais comprados, é importante determinar qual variável representa a curva traçada, então nós podemos definir que a curva representa a preferência dos usuários por determinados produtos, nesse sentido podemos ver que o gráfico é semelhante a uma função com distribuição exponencial onde os primeiros 2-3 códigos têm o maior percentual a ser selecionado nas compras.\n",
    "\n",
    "    1- banana 24852\t\n",
    "    2- bag of organic bananas 13176\t\n",
    "    3- organic strawberries 21137\t"
   ]
  },
  {
   "cell_type": "markdown",
   "id": "5ae374d4",
   "metadata": {},
   "source": [
    "<div class=\"alert alert-success\">\n",
    "<strong>Comentário do revisor v1</strong>\n",
    "\n",
    "Perfeito, todos os pontos da questao foram atendidos.\n",
    "</div>\n"
   ]
  },
  {
   "cell_type": "markdown",
   "id": "gross-theme",
   "metadata": {
    "id": "gross-theme"
   },
   "source": [
    "# [C] Difícil (é necessário concluir pelo menos duas perguntas para passar)\n",
    "\n",
    "1.\tQuantos itens as pessoas normalmente compram em um pedido? Como fica a distribuição?\n",
    "2.\tQuais são os 20 principais itens incluídos mais frequentemente em pedidos repetidos? Exiba os IDs e nomes.\n",
    "3.\tPara cada produto, qual parcela de seus pedidos são repetidos? Crie uma tabela com colunas de ID e nome do produto e a proporção de pedidos repetidos.\n",
    "4.\tPara cada cliente, qual proporção de todos os seus pedidos são repetidos?\n",
    "5.\tQuais são os 20 principais itens que as pessoas colocam nos carrinhos antes de todos os outros? Exiba o ID do produto, nome e o número de vezes que ele foi o primeiro a ser adicionado a um carrinho.\n"
   ]
  },
  {
   "cell_type": "markdown",
   "id": "romantic-deposit",
   "metadata": {
    "id": "romantic-deposit"
   },
   "source": [
    "### [C1] Quantos itens as pessoas normalmente compram em um pedido? Como fica a distribuição?"
   ]
  },
  {
   "cell_type": "code",
   "execution_count": 46,
   "id": "virtual-punch",
   "metadata": {
    "id": "virtual-punch"
   },
   "outputs": [
    {
     "ename": "NameError",
     "evalue": "name 'a' is not defined",
     "output_type": "error",
     "traceback": [
      "\u001b[0;31m---------------------------------------------------------------------------\u001b[0m",
      "\u001b[0;31mNameError\u001b[0m                                 Traceback (most recent call last)",
      "Cell \u001b[0;32mIn[46], line 17\u001b[0m\n\u001b[1;32m     14\u001b[0m substituir_nan_coluna (df_cont,coluna_reord,valor_aux)\n\u001b[1;32m     16\u001b[0m agrup_concat \u001b[38;5;241m=\u001b[39m df_cont\u001b[38;5;241m.\u001b[39mgroupby(\u001b[38;5;124m'\u001b[39m\u001b[38;5;124mproduct_id\u001b[39m\u001b[38;5;124m'\u001b[39m)\u001b[38;5;241m.\u001b[39mcount()\n\u001b[0;32m---> 17\u001b[0m \u001b[43ma\u001b[49m[\u001b[38;5;124m'\u001b[39m\u001b[38;5;124muser_id\u001b[39m\u001b[38;5;124m'\u001b[39m]\u001b[38;5;241m.\u001b[39mplot(kind\u001b[38;5;241m=\u001b[39m\u001b[38;5;124m'\u001b[39m\u001b[38;5;124mbar\u001b[39m\u001b[38;5;124m'\u001b[39m, figsize\u001b[38;5;241m=\u001b[39m(\u001b[38;5;241m15\u001b[39m, \u001b[38;5;241m8\u001b[39m))\n\u001b[1;32m     18\u001b[0m plt\u001b[38;5;241m.\u001b[39mxlabel(\u001b[38;5;124m'\u001b[39m\u001b[38;5;124mNúmero itens comprados\u001b[39m\u001b[38;5;124m'\u001b[39m)\n\u001b[1;32m     19\u001b[0m plt\u001b[38;5;241m.\u001b[39mylabel(\u001b[38;5;124m'\u001b[39m\u001b[38;5;124mQuantidade de usuarios\u001b[39m\u001b[38;5;124m'\u001b[39m)\n",
      "\u001b[0;31mNameError\u001b[0m: name 'a' is not defined"
     ]
    }
   ],
   "source": [
    "agrup_prod_ord = df_order_products.groupby('order_id').count()\n",
    "agrup_pediso_ord = df_instacart_orders.groupby('order_id').count()\n",
    "df_cont = pd.concat([agrup_pediso_ord,agrup_prod_ord],axis='columns')\n",
    "df_cont[(df_cont['product_id'].isna())&(df_cont['product_id'] >1)]\n",
    "\n",
    "coluna_prod = ['product_id']\n",
    "valor_aux = 'unknown'\n",
    "substituir_nan_coluna (df_cont,coluna_prod,valor_aux)\n",
    "\n",
    "coluna_add = ['add_to_cart_order']\n",
    "substituir_nan_coluna (df_cont,coluna_add,valor_aux)\n",
    "\n",
    "coluna_reord = ['reordered']\n",
    "substituir_nan_coluna (df_cont,coluna_reord,valor_aux)\n",
    "\n",
    "agrup_concat = df_cont.groupby('product_id').count()\n",
    "a['user_id'].plot(kind='bar', figsize=(15, 8))\n",
    "plt.xlabel('Número itens comprados')\n",
    "plt.ylabel('Quantidade de usuarios')\n",
    "plt.title('Número itens comprados vs Quantidades de pessoas que os compram')\n",
    "\n",
    "plt.show()\n",
    "\n",
    "\n"
   ]
  },
  {
   "cell_type": "markdown",
   "id": "designed-mortality",
   "metadata": {
    "id": "designed-mortality"
   },
   "source": [
    "Escreva suas conclusões aqui\n",
    "\n",
    "Claramente podemos ver uma distribuição assimétrica, com um valor atípico referente à concatenação das tabelas que precisávamos processar. Podemos ver que é um valor muito alto. Podemos ver que a quantidade de produtos adquiridos tem relação com o gráfico referente à seção de pedidos  [B2] referente ao número de pedidos por cliente, o que representa uma lógica aceitável porque representa a tendência dos pedidos feitos pelos clientes e consequentemente o comportamento dos produtos deve ser semelhante.\n",
    "\n",
    "Podemos observar que normalmente a maioria das pessoas coloca entre 2 e 9 produtos em seus pedidos para serem adquiridos."
   ]
  },
  {
   "cell_type": "markdown",
   "id": "59f0f8bb",
   "metadata": {},
   "source": [
    "<div class=\"alert alert-success\">\n",
    "<strong>Comentário do revisor v1</strong>\n",
    "\n",
    "Excelente trabalho com o gráfico e conclusão.\n",
    "</div>\n"
   ]
  },
  {
   "cell_type": "markdown",
   "id": "5e6b5537",
   "metadata": {
    "id": "5e6b5537"
   },
   "source": [
    "### [C2] Quais são os 20 principais itens incluídos mais frequentemente em pedidos repetidos? Exiba os IDs e nomes."
   ]
  },
  {
   "cell_type": "code",
   "execution_count": null,
   "id": "ff0b7b56",
   "metadata": {},
   "outputs": [],
   "source": []
  },
  {
   "cell_type": "code",
   "execution_count": null,
   "id": "9374e55a",
   "metadata": {
    "id": "9374e55a"
   },
   "outputs": [],
   "source": []
  },
  {
   "cell_type": "code",
   "execution_count": null,
   "id": "possible-change",
   "metadata": {
    "id": "possible-change",
    "scrolled": true
   },
   "outputs": [],
   "source": []
  },
  {
   "cell_type": "code",
   "execution_count": null,
   "id": "professional-surfing",
   "metadata": {
    "id": "professional-surfing",
    "scrolled": true
   },
   "outputs": [],
   "source": []
  },
  {
   "cell_type": "code",
   "execution_count": null,
   "id": "48dd3658",
   "metadata": {
    "id": "48dd3658"
   },
   "outputs": [],
   "source": []
  },
  {
   "cell_type": "markdown",
   "id": "80e70c74",
   "metadata": {
    "id": "80e70c74"
   },
   "source": [
    "Escreva suas conclusões aqui"
   ]
  },
  {
   "cell_type": "markdown",
   "id": "9d312b14",
   "metadata": {
    "id": "9d312b14"
   },
   "source": [
    "### [C3] Para cada produto, qual parcela de todos os pedidos dele são repetidos?"
   ]
  },
  {
   "cell_type": "code",
   "execution_count": null,
   "id": "8ae9f4b1",
   "metadata": {
    "id": "8ae9f4b1"
   },
   "outputs": [],
   "source": []
  },
  {
   "cell_type": "code",
   "execution_count": null,
   "id": "103e7fe1",
   "metadata": {
    "id": "103e7fe1"
   },
   "outputs": [],
   "source": []
  },
  {
   "cell_type": "code",
   "execution_count": null,
   "id": "social-individual",
   "metadata": {
    "id": "social-individual"
   },
   "outputs": [],
   "source": []
  },
  {
   "cell_type": "markdown",
   "id": "I10dEIAyldcO",
   "metadata": {
    "id": "I10dEIAyldcO"
   },
   "source": [
    "Escreva suas conclusões aqui"
   ]
  },
  {
   "cell_type": "markdown",
   "id": "subject-boxing",
   "metadata": {
    "id": "subject-boxing"
   },
   "source": [
    "### [C4] Para cada cliente, qual proporção de todos os seus pedidos são repetidos?"
   ]
  },
  {
   "cell_type": "raw",
   "id": "f0b7199e",
   "metadata": {
    "id": "medical-couple",
    "scrolled": true
   },
   "source": []
  },
  {
   "cell_type": "code",
   "execution_count": null,
   "id": "8892e4b4",
   "metadata": {
    "id": "8892e4b4"
   },
   "outputs": [],
   "source": []
  },
  {
   "cell_type": "markdown",
   "id": "BgJSvXDsleXz",
   "metadata": {
    "id": "BgJSvXDsleXz"
   },
   "source": [
    "Escreva suas conclusões aqui"
   ]
  },
  {
   "cell_type": "markdown",
   "id": "92d35137",
   "metadata": {
    "id": "92d35137"
   },
   "source": [
    "### [C5] Quais são os 20 principais itens que as pessoas colocam nos carrinhos antes de todos os outros?"
   ]
  },
  {
   "cell_type": "code",
   "execution_count": 47,
   "id": "0ae57274",
   "metadata": {
    "id": "0ae57274"
   },
   "outputs": [
    {
     "data": {
      "image/png": "[encoded data removed]",
      "text/plain": [
       "<Figure size 640x480 with 1 Axes>"
      ]
     },
     "metadata": {},
     "output_type": "display_data"
    },
    {
     "data": {
      "text/html": [
       "<div>\n",
       "<style scoped>\n",
       "    .dataframe tbody tr th:only-of-type {\n",
       "        vertical-align: middle;\n",
       "    }\n",
       "\n",
       "    .dataframe tbody tr th {\n",
       "        vertical-align: top;\n",
       "    }\n",
       "\n",
       "    .dataframe thead th {\n",
       "        text-align: right;\n",
       "    }\n",
       "</style>\n",
       "<table border=\"1\" class=\"dataframe\">\n",
       "  <thead>\n",
       "    <tr style=\"text-align: right;\">\n",
       "      <th></th>\n",
       "      <th>order_id</th>\n",
       "      <th>add_to_cart_order</th>\n",
       "      <th>reordered</th>\n",
       "      <th>product_id</th>\n",
       "      <th>product_name</th>\n",
       "      <th>aisle_id</th>\n",
       "      <th>department_id</th>\n",
       "    </tr>\n",
       "    <tr>\n",
       "      <th>produtos</th>\n",
       "      <th></th>\n",
       "      <th></th>\n",
       "      <th></th>\n",
       "      <th></th>\n",
       "      <th></th>\n",
       "      <th></th>\n",
       "      <th></th>\n",
       "    </tr>\n",
       "  </thead>\n",
       "  <tbody>\n",
       "    <tr>\n",
       "      <th>raspberries 43352</th>\n",
       "      <td>1246</td>\n",
       "      <td>1246</td>\n",
       "      <td>1246</td>\n",
       "      <td>43352</td>\n",
       "      <td>raspberries</td>\n",
       "      <td>32</td>\n",
       "      <td>4</td>\n",
       "    </tr>\n",
       "    <tr>\n",
       "      <th>half &amp; half 27086</th>\n",
       "      <td>1309</td>\n",
       "      <td>1309</td>\n",
       "      <td>1309</td>\n",
       "      <td>27086</td>\n",
       "      <td>half &amp; half</td>\n",
       "      <td>53</td>\n",
       "      <td>16</td>\n",
       "    </tr>\n",
       "    <tr>\n",
       "      <th>organic reduced fat 2% milk 5785</th>\n",
       "      <td>1310</td>\n",
       "      <td>1310</td>\n",
       "      <td>1310</td>\n",
       "      <td>5785</td>\n",
       "      <td>organic reduced fat 2% milk</td>\n",
       "      <td>84</td>\n",
       "      <td>16</td>\n",
       "    </tr>\n",
       "    <tr>\n",
       "      <th>hass avocados 12341</th>\n",
       "      <td>1340</td>\n",
       "      <td>1340</td>\n",
       "      <td>1340</td>\n",
       "      <td>12341</td>\n",
       "      <td>hass avocados</td>\n",
       "      <td>32</td>\n",
       "      <td>4</td>\n",
       "    </tr>\n",
       "    <tr>\n",
       "      <th>limes 26209</th>\n",
       "      <td>1370</td>\n",
       "      <td>1370</td>\n",
       "      <td>1370</td>\n",
       "      <td>26209</td>\n",
       "      <td>limes</td>\n",
       "      <td>24</td>\n",
       "      <td>4</td>\n",
       "    </tr>\n",
       "    <tr>\n",
       "      <th>organic reduced fat milk 38689</th>\n",
       "      <td>1397</td>\n",
       "      <td>1397</td>\n",
       "      <td>1397</td>\n",
       "      <td>38689</td>\n",
       "      <td>organic reduced fat milk</td>\n",
       "      <td>84</td>\n",
       "      <td>16</td>\n",
       "    </tr>\n",
       "    <tr>\n",
       "      <th>soda 196</th>\n",
       "      <td>1733</td>\n",
       "      <td>1733</td>\n",
       "      <td>1733</td>\n",
       "      <td>196</td>\n",
       "      <td>soda</td>\n",
       "      <td>77</td>\n",
       "      <td>7</td>\n",
       "    </tr>\n",
       "    <tr>\n",
       "      <th>large lemon 47626</th>\n",
       "      <td>1737</td>\n",
       "      <td>1737</td>\n",
       "      <td>1737</td>\n",
       "      <td>47626</td>\n",
       "      <td>large lemon</td>\n",
       "      <td>24</td>\n",
       "      <td>4</td>\n",
       "    </tr>\n",
       "    <tr>\n",
       "      <th>organic half &amp; half 49235</th>\n",
       "      <td>1797</td>\n",
       "      <td>1797</td>\n",
       "      <td>1797</td>\n",
       "      <td>49235</td>\n",
       "      <td>organic half &amp; half</td>\n",
       "      <td>53</td>\n",
       "      <td>16</td>\n",
       "    </tr>\n",
       "    <tr>\n",
       "      <th>sparkling water grapefruit 44632</th>\n",
       "      <td>1914</td>\n",
       "      <td>1914</td>\n",
       "      <td>1914</td>\n",
       "      <td>44632</td>\n",
       "      <td>sparkling water grapefruit</td>\n",
       "      <td>115</td>\n",
       "      <td>7</td>\n",
       "    </tr>\n",
       "    <tr>\n",
       "      <th>organic raspberries 27966</th>\n",
       "      <td>2024</td>\n",
       "      <td>2024</td>\n",
       "      <td>2024</td>\n",
       "      <td>27966</td>\n",
       "      <td>organic raspberries</td>\n",
       "      <td>123</td>\n",
       "      <td>4</td>\n",
       "    </tr>\n",
       "    <tr>\n",
       "      <th>strawberries 16797</th>\n",
       "      <td>2308</td>\n",
       "      <td>2308</td>\n",
       "      <td>2308</td>\n",
       "      <td>16797</td>\n",
       "      <td>strawberries</td>\n",
       "      <td>24</td>\n",
       "      <td>4</td>\n",
       "    </tr>\n",
       "    <tr>\n",
       "      <th>spring water 19660</th>\n",
       "      <td>2336</td>\n",
       "      <td>2336</td>\n",
       "      <td>2336</td>\n",
       "      <td>19660</td>\n",
       "      <td>spring water</td>\n",
       "      <td>115</td>\n",
       "      <td>7</td>\n",
       "    </tr>\n",
       "    <tr>\n",
       "      <th>organic avocado 47766</th>\n",
       "      <td>3044</td>\n",
       "      <td>3044</td>\n",
       "      <td>3044</td>\n",
       "      <td>47766</td>\n",
       "      <td>organic avocado</td>\n",
       "      <td>24</td>\n",
       "      <td>4</td>\n",
       "    </tr>\n",
       "    <tr>\n",
       "      <th>organic baby spinach 21903</th>\n",
       "      <td>3336</td>\n",
       "      <td>3336</td>\n",
       "      <td>3336</td>\n",
       "      <td>21903</td>\n",
       "      <td>organic baby spinach</td>\n",
       "      <td>123</td>\n",
       "      <td>4</td>\n",
       "    </tr>\n",
       "    <tr>\n",
       "      <th>organic hass avocado 47209</th>\n",
       "      <td>3390</td>\n",
       "      <td>3390</td>\n",
       "      <td>3390</td>\n",
       "      <td>47209</td>\n",
       "      <td>organic hass avocado</td>\n",
       "      <td>24</td>\n",
       "      <td>4</td>\n",
       "    </tr>\n",
       "    <tr>\n",
       "      <th>organic strawberries 21137</th>\n",
       "      <td>3946</td>\n",
       "      <td>3946</td>\n",
       "      <td>3946</td>\n",
       "      <td>21137</td>\n",
       "      <td>organic strawberries</td>\n",
       "      <td>24</td>\n",
       "      <td>4</td>\n",
       "    </tr>\n",
       "    <tr>\n",
       "      <th>organic whole milk 27845</th>\n",
       "      <td>4363</td>\n",
       "      <td>4363</td>\n",
       "      <td>4363</td>\n",
       "      <td>27845</td>\n",
       "      <td>organic whole milk</td>\n",
       "      <td>84</td>\n",
       "      <td>16</td>\n",
       "    </tr>\n",
       "    <tr>\n",
       "      <th>bag of organic bananas 13176</th>\n",
       "      <td>11026</td>\n",
       "      <td>11026</td>\n",
       "      <td>11026</td>\n",
       "      <td>13176</td>\n",
       "      <td>bag of organic bananas</td>\n",
       "      <td>24</td>\n",
       "      <td>4</td>\n",
       "    </tr>\n",
       "    <tr>\n",
       "      <th>banana 24852</th>\n",
       "      <td>15562</td>\n",
       "      <td>15562</td>\n",
       "      <td>15562</td>\n",
       "      <td>24852</td>\n",
       "      <td>banana</td>\n",
       "      <td>24</td>\n",
       "      <td>4</td>\n",
       "    </tr>\n",
       "  </tbody>\n",
       "</table>\n",
       "</div>"
      ],
      "text/plain": [
       "                                  order_id  add_to_cart_order  reordered  \\\n",
       "produtos                                                                   \n",
       "raspberries 43352                     1246               1246       1246   \n",
       "half & half 27086                     1309               1309       1309   \n",
       "organic reduced fat 2% milk 5785      1310               1310       1310   \n",
       "hass avocados 12341                   1340               1340       1340   \n",
       "limes 26209                           1370               1370       1370   \n",
       "organic reduced fat milk 38689        1397               1397       1397   \n",
       "soda 196                              1733               1733       1733   \n",
       "large lemon 47626                     1737               1737       1737   \n",
       "organic half & half 49235             1797               1797       1797   \n",
       "sparkling water grapefruit 44632      1914               1914       1914   \n",
       "organic raspberries 27966             2024               2024       2024   \n",
       "strawberries 16797                    2308               2308       2308   \n",
       "spring water 19660                    2336               2336       2336   \n",
       "organic avocado 47766                 3044               3044       3044   \n",
       "organic baby spinach 21903            3336               3336       3336   \n",
       "organic hass avocado 47209            3390               3390       3390   \n",
       "organic strawberries 21137            3946               3946       3946   \n",
       "organic whole milk 27845              4363               4363       4363   \n",
       "bag of organic bananas 13176         11026              11026      11026   \n",
       "banana 24852                         15562              15562      15562   \n",
       "\n",
       "                                 product_id                 product_name  \\\n",
       "produtos                                                                   \n",
       "raspberries 43352                     43352                  raspberries   \n",
       "half & half 27086                     27086                  half & half   \n",
       "organic reduced fat 2% milk 5785       5785  organic reduced fat 2% milk   \n",
       "hass avocados 12341                   12341                hass avocados   \n",
       "limes 26209                           26209                        limes   \n",
       "organic reduced fat milk 38689        38689     organic reduced fat milk   \n",
       "soda 196                                196                         soda   \n",
       "large lemon 47626                     47626                  large lemon   \n",
       "organic half & half 49235             49235          organic half & half   \n",
       "sparkling water grapefruit 44632      44632   sparkling water grapefruit   \n",
       "organic raspberries 27966             27966          organic raspberries   \n",
       "strawberries 16797                    16797                 strawberries   \n",
       "spring water 19660                    19660                 spring water   \n",
       "organic avocado 47766                 47766              organic avocado   \n",
       "organic baby spinach 21903            21903         organic baby spinach   \n",
       "organic hass avocado 47209            47209         organic hass avocado   \n",
       "organic strawberries 21137            21137         organic strawberries   \n",
       "organic whole milk 27845              27845           organic whole milk   \n",
       "bag of organic bananas 13176          13176       bag of organic bananas   \n",
       "banana 24852                          24852                       banana   \n",
       "\n",
       "                                  aisle_id  department_id  \n",
       "produtos                                                   \n",
       "raspberries 43352                       32              4  \n",
       "half & half 27086                       53             16  \n",
       "organic reduced fat 2% milk 5785        84             16  \n",
       "hass avocados 12341                     32              4  \n",
       "limes 26209                             24              4  \n",
       "organic reduced fat milk 38689          84             16  \n",
       "soda 196                                77              7  \n",
       "large lemon 47626                       24              4  \n",
       "organic half & half 49235               53             16  \n",
       "sparkling water grapefruit 44632       115              7  \n",
       "organic raspberries 27966              123              4  \n",
       "strawberries 16797                      24              4  \n",
       "spring water 19660                     115              7  \n",
       "organic avocado 47766                   24              4  \n",
       "organic baby spinach 21903             123              4  \n",
       "organic hass avocado 47209              24              4  \n",
       "organic strawberries 21137              24              4  \n",
       "organic whole milk 27845                84             16  \n",
       "bag of organic bananas 13176            24              4  \n",
       "banana 24852                            24              4  "
      ]
     },
     "execution_count": 47,
     "metadata": {},
     "output_type": "execute_result"
    }
   ],
   "source": [
    "filtro = df_order_products[df_order_products['add_to_cart_order']==1]\n",
    "filtro = filtro.groupby('product_id').count()\n",
    "filtro = filtro.sort_values(by='add_to_cart_order', ascending=False).head(20)\n",
    "filtro = filtro.sort_index()\n",
    "indice = list(filtro.index)\n",
    "filtrado_nome = df_products[df_products['product_id'].isin(indice)]\n",
    "w = list(filtrado_nome['product_id'])\n",
    "filtrado_nome.index = w\n",
    "\n",
    "df_concaten = pd.concat([filtro,filtrado_nome], axis='columns')\n",
    "df_concaten\n",
    "df_concaten['product_id'] = df_concaten['product_id'].astype('str')\n",
    "\n",
    "\n",
    "df_concaten['produtos'] = df_concaten.apply(uniao_coluna, axis=1)\n",
    "indices_novos = list(df_concaten['produtos'])\n",
    "df_concaten = df_concaten.set_index('produtos')\n",
    "df_concaten = df_concaten.sort_values(by='add_to_cart_order')\n",
    "\n",
    "df_concaten['add_to_cart_order'].plot(kind='barh', xlabel='20 produtos colocados de primeiros nos carrinhos')\n",
    "plt.show()\n",
    "df_concaten\n"
   ]
  },
  {
   "cell_type": "markdown",
   "id": "28ce9872",
   "metadata": {
    "id": "28ce9872"
   },
   "source": [
    "Escreva suas conclusões aqui\n",
    "\n",
    "É importante ressaltar que os dados são semelhantes aos da seção [B3] ou dos 20 produtos mais populares, e é lógico que nos preferidos nas compras, a tendência é semelhante nos itens que são colocados primeiro nos carrinhos, se observamos em os detalhes: A maior parte dos produtos mais comprados estão nos produtos colocados primeiro nos carrinhos de compras.\n",
    "\n",
    "\n",
    "É importante ver que os primeiros produtos são semelhantes ao gráfico da seção [B3] e tendo um gráfico com uma variável que representa a preferência dos usuários na hora de fazer suas compras e podemos ver que a curva tem uma tendência exponencial significa que o primeiros itens têm alta probabilidade nas compras feitas pelos usuários\n",
    "\n",
    "    1- banana 24852\t\n",
    "    2- bag of organic bananas 13176\n",
    "    3- organic whole milk 27845\n",
    "    4- organic strawberries 21137"
   ]
  },
  {
   "cell_type": "markdown",
   "id": "26d988bf",
   "metadata": {},
   "source": [
    "<div class=\"alert alert-success\">\n",
    "<strong>Comentário do revisor v1</strong>\n",
    "\n",
    "Perfeito! O gráfico endereça com clareza os pontos da questão!\n",
    "</div>\n"
   ]
  },
  {
   "cell_type": "markdown",
   "id": "TisH_5Cp3wAi",
   "metadata": {
    "id": "TisH_5Cp3wAi"
   },
   "source": [
    "# Conclusão geral do projeto:"
   ]
  },
  {
   "cell_type": "markdown",
   "id": "5d504a2b",
   "metadata": {},
   "source": [
    "O objetivo principal era limpar os dados e preparar um relatório que forneça informações sobre os hábitos de compra dos clientes\n",
    "da Instacart, Podemos descrever que foi realizado a partir de uma amostra de registros em um período determinado e fornecido pela empresa.\n",
    "\n",
    "Uma das coisas mais interessantes do projeto do meu ponto de vista é a inter-relação das informações, como tivemos que estabelecer entidades:\n",
    "\n",
    "    * Tabela de ordens\n",
    "    * Tabela Ordens_products\n",
    "    * Tabela products\n",
    "    * Tabela departments\n",
    "    * Tabela aisles\n",
    "    \n",
    "e determinar as ligações entre os elementos internos de cada entidade (diagrama entidade-relacionamento) e identificar os elementos-chave (ID) que permitiram o relacionamento entre elas e como essas relações foram necessárias para estabelecer os vínculos que nos permitiram criar os filtros necessários para cada questão.\n",
    "\n",
    "Podemos agora verificar que a etapa de limpeza é muito importante para entrar em outra de igual interesse como a representação gráfica da informação que é apresentada à empresa, trabalho que nos permite analisar melhor a informação contida em tabelas de centenas, milhares e milhões de linhas de informação.\n",
    "\n",
    "Embora nosso objetivo tenha sido determinar a preferência dos usuários, implicitamente este estudo permitiu observar o comportamento da demanda de todos os códigos de produtos cadastrados pela empresa para venda através do APP, fato muito importante a título de exemplo para citar apenas três: \n",
    "\n",
    "    1- para as previsões de demanda por produto.\n",
    "    2- o estabelecimento de modelos de estoque que otimizem as quantidades de cada produto em estoque para minimizar os custos de armazenamento.\n",
    "    3- estabelecer planos de vendas projetados que forneçam as informações necessárias ao planejamento financeiro da empresa por meio da formulação de seus orçamentos de receitas e despesas.\n",
    "\n",
    "É importante entender que cada variável, por exemplo cada produto adquirido (código = 500) pelos usuários, é uma variável e se encontra dentro de um conjunto de dados “não tabulados” que para analisar seu comportamento precisa ser tratado por estatística descritiva métodos que vão descrever precisamente seu comportamento e se quisermos projeções de seu comportamento, os dados da variável (nesta descrição: comportamento do código 500) devem ser estabelecidas hipóteses que nos permitam determinar se o comportamento do código os dados obedecem a uma determinada distribuição probabilística com esta conclusão para este código podemos inferir resultados, é importante observar que cada código do 49694 analisado possui comportamentos de demanda ou preferência diferentes para os clientes."
   ]
  },
  {
   "cell_type": "markdown",
   "id": "54aa77e1",
   "metadata": {},
   "source": [
    "<div class=\"alert alert-success\">\n",
    "<strong>Comentário do revisor v1</strong>\n",
    "\n",
    "Bom trabalho com a conclusão!\n",
    "</div>\n"
   ]
  },
  {
   "cell_type": "code",
   "execution_count": null,
   "id": "3f085514",
   "metadata": {},
   "outputs": [],
   "source": []
  }
 ],
 "metadata": {
  "ExecuteTimeLog": [
   {
    "duration": 318,
    "start_time": "2024-06-02T12:14:10.196Z"
   },
   {
    "duration": 8,
    "start_time": "2024-06-02T12:14:48.126Z"
   },
   {
    "duration": 5,
    "start_time": "2024-06-02T12:14:59.494Z"
   },
   {
    "duration": 5,
    "start_time": "2024-06-02T12:15:20.301Z"
   },
   {
    "duration": 22,
    "start_time": "2024-06-02T12:15:28.641Z"
   },
   {
    "duration": 432,
    "start_time": "2024-06-02T12:15:46.380Z"
   },
   {
    "duration": 446,
    "start_time": "2024-06-02T12:15:49.247Z"
   },
   {
    "duration": 32,
    "start_time": "2024-06-02T12:15:52.082Z"
   },
   {
    "duration": 7,
    "start_time": "2024-06-02T12:18:56.837Z"
   },
   {
    "duration": 407,
    "start_time": "2024-06-02T12:20:06.138Z"
   },
   {
    "duration": 10,
    "start_time": "2024-06-02T12:20:07.963Z"
   },
   {
    "duration": 3,
    "start_time": "2024-06-02T12:21:12.975Z"
   },
   {
    "duration": 196,
    "start_time": "2024-06-02T12:21:13.512Z"
   },
   {
    "duration": 10,
    "start_time": "2024-06-02T12:21:14.078Z"
   },
   {
    "duration": 200,
    "start_time": "2024-06-02T12:24:53.743Z"
   },
   {
    "duration": 185,
    "start_time": "2024-06-02T12:25:05.268Z"
   },
   {
    "duration": 7,
    "start_time": "2024-06-02T12:25:08.784Z"
   },
   {
    "duration": 3,
    "start_time": "2024-06-02T12:28:50.542Z"
   },
   {
    "duration": 254,
    "start_time": "2024-06-02T12:28:52.599Z"
   },
   {
    "duration": 8,
    "start_time": "2024-06-02T12:28:58.979Z"
   },
   {
    "duration": 6,
    "start_time": "2024-06-02T12:29:03.306Z"
   },
   {
    "duration": 229,
    "start_time": "2024-06-02T12:29:43.192Z"
   },
   {
    "duration": 8,
    "start_time": "2024-06-02T12:29:47.894Z"
   },
   {
    "duration": 7,
    "start_time": "2024-06-02T12:29:50.836Z"
   },
   {
    "duration": 3599,
    "start_time": "2024-06-02T12:33:05.795Z"
   },
   {
    "duration": 3397,
    "start_time": "2024-06-02T12:34:13.696Z"
   },
   {
    "duration": 3500,
    "start_time": "2024-06-02T12:34:51.916Z"
   },
   {
    "duration": 3520,
    "start_time": "2024-06-02T12:35:41.490Z"
   },
   {
    "duration": 1565,
    "start_time": "2024-06-02T12:36:25.173Z"
   },
   {
    "duration": 1511,
    "start_time": "2024-06-02T12:37:11.034Z"
   },
   {
    "duration": 1469,
    "start_time": "2024-06-02T12:37:36.728Z"
   },
   {
    "duration": 1477,
    "start_time": "2024-06-02T12:38:07.557Z"
   },
   {
    "duration": 1477,
    "start_time": "2024-06-02T12:38:26.660Z"
   },
   {
    "duration": 1432,
    "start_time": "2024-06-02T12:38:58.890Z"
   },
   {
    "duration": 15,
    "start_time": "2024-06-02T12:39:36.425Z"
   },
   {
    "duration": 16,
    "start_time": "2024-06-02T12:40:07.234Z"
   },
   {
    "duration": 12,
    "start_time": "2024-06-02T12:41:17.967Z"
   },
   {
    "duration": 14,
    "start_time": "2024-06-02T12:41:52.886Z"
   },
   {
    "duration": 13,
    "start_time": "2024-06-02T12:42:05.934Z"
   },
   {
    "duration": 3,
    "start_time": "2024-06-02T13:07:30.996Z"
   },
   {
    "duration": 1462,
    "start_time": "2024-06-02T13:07:33.102Z"
   },
   {
    "duration": 16,
    "start_time": "2024-06-02T13:07:35.526Z"
   },
   {
    "duration": 17,
    "start_time": "2024-06-02T13:07:38.242Z"
   },
   {
    "duration": 11,
    "start_time": "2024-06-02T13:07:40.610Z"
   },
   {
    "duration": 12,
    "start_time": "2024-06-02T13:07:43.412Z"
   },
   {
    "duration": 14,
    "start_time": "2024-06-02T13:07:46.372Z"
   },
   {
    "duration": 34,
    "start_time": "2024-06-02T13:17:26.758Z"
   },
   {
    "duration": 21,
    "start_time": "2024-06-02T13:32:37.488Z"
   },
   {
    "duration": 24,
    "start_time": "2024-06-02T13:39:03.996Z"
   },
   {
    "duration": 8,
    "start_time": "2024-06-02T13:41:56.435Z"
   },
   {
    "duration": 6,
    "start_time": "2024-06-02T13:42:45.742Z"
   },
   {
    "duration": 24,
    "start_time": "2024-06-02T13:44:41.865Z"
   },
   {
    "duration": 23,
    "start_time": "2024-06-02T13:45:34.787Z"
   },
   {
    "duration": 20,
    "start_time": "2024-06-02T13:46:04.310Z"
   },
   {
    "duration": 74,
    "start_time": "2024-06-02T13:52:05.070Z"
   },
   {
    "duration": 23,
    "start_time": "2024-06-02T13:52:24.683Z"
   },
   {
    "duration": 48,
    "start_time": "2024-06-02T13:57:29.953Z"
   },
   {
    "duration": 59,
    "start_time": "2024-06-02T13:58:49.048Z"
   },
   {
    "duration": 836,
    "start_time": "2024-06-02T14:01:05.169Z"
   },
   {
    "duration": 5,
    "start_time": "2024-06-02T14:01:19.112Z"
   },
   {
    "duration": 16,
    "start_time": "2024-06-02T14:01:40.002Z"
   },
   {
    "duration": 33,
    "start_time": "2024-06-02T14:03:04.967Z"
   },
   {
    "duration": 15,
    "start_time": "2024-06-02T14:04:47.507Z"
   },
   {
    "duration": 137,
    "start_time": "2024-06-02T15:17:23.230Z"
   },
   {
    "duration": 126,
    "start_time": "2024-06-02T15:18:32.408Z"
   },
   {
    "duration": 37,
    "start_time": "2024-06-02T15:21:09.156Z"
   },
   {
    "duration": 41,
    "start_time": "2024-06-02T15:21:31.510Z"
   },
   {
    "duration": 50,
    "start_time": "2024-06-02T15:21:52.997Z"
   },
   {
    "duration": 54,
    "start_time": "2024-06-02T15:22:01.530Z"
   },
   {
    "duration": 165,
    "start_time": "2024-06-02T15:22:28.037Z"
   },
   {
    "duration": 127,
    "start_time": "2024-06-02T15:22:59.580Z"
   },
   {
    "duration": 5,
    "start_time": "2024-06-02T15:35:54.276Z"
   },
   {
    "duration": 17,
    "start_time": "2024-06-02T15:36:41.237Z"
   },
   {
    "duration": 20,
    "start_time": "2024-06-02T15:37:29.320Z"
   },
   {
    "duration": 20,
    "start_time": "2024-06-02T15:41:46.903Z"
   },
   {
    "duration": 274,
    "start_time": "2024-06-02T15:44:01.752Z"
   },
   {
    "duration": 366,
    "start_time": "2024-06-02T15:44:11.591Z"
   },
   {
    "duration": 249,
    "start_time": "2024-06-02T15:44:54.088Z"
   },
   {
    "duration": 17,
    "start_time": "2024-06-02T15:52:12.489Z"
   },
   {
    "duration": 16,
    "start_time": "2024-06-02T15:55:05.672Z"
   },
   {
    "duration": 151,
    "start_time": "2024-06-02T16:00:20.467Z"
   },
   {
    "duration": 160,
    "start_time": "2024-06-02T16:00:41.124Z"
   },
   {
    "duration": 151,
    "start_time": "2024-06-02T16:01:28.630Z"
   },
   {
    "duration": 191,
    "start_time": "2024-06-02T16:02:04.179Z"
   },
   {
    "duration": 167,
    "start_time": "2024-06-02T16:02:51.104Z"
   },
   {
    "duration": 265,
    "start_time": "2024-06-02T16:04:22.049Z"
   },
   {
    "duration": 154,
    "start_time": "2024-06-02T16:05:01.769Z"
   },
   {
    "duration": 5,
    "start_time": "2024-06-02T16:07:53.674Z"
   },
   {
    "duration": 36,
    "start_time": "2024-06-02T16:08:00.167Z"
   },
   {
    "duration": 35,
    "start_time": "2024-06-02T16:08:20.149Z"
   },
   {
    "duration": 6,
    "start_time": "2024-06-02T16:09:15.647Z"
   },
   {
    "duration": 5,
    "start_time": "2024-06-02T16:22:52.436Z"
   },
   {
    "duration": 126,
    "start_time": "2024-06-02T16:23:21.056Z"
   },
   {
    "duration": 466,
    "start_time": "2024-06-02T16:24:25.669Z"
   },
   {
    "duration": 1704,
    "start_time": "2024-06-02T16:24:28.934Z"
   },
   {
    "duration": 32,
    "start_time": "2024-06-02T16:24:32.223Z"
   },
   {
    "duration": 18,
    "start_time": "2024-06-02T16:24:36.454Z"
   },
   {
    "duration": 67,
    "start_time": "2024-06-02T16:24:39.331Z"
   },
   {
    "duration": 14,
    "start_time": "2024-06-02T16:24:42.142Z"
   },
   {
    "duration": 15,
    "start_time": "2024-06-02T16:24:44.443Z"
   },
   {
    "duration": 179,
    "start_time": "2024-06-02T16:24:51.221Z"
   },
   {
    "duration": 27,
    "start_time": "2024-06-02T16:25:28.275Z"
   },
   {
    "duration": 190,
    "start_time": "2024-06-02T16:26:02.982Z"
   },
   {
    "duration": 6,
    "start_time": "2024-06-02T16:28:53.865Z"
   },
   {
    "duration": 156,
    "start_time": "2024-06-02T16:29:11.973Z"
   },
   {
    "duration": 225,
    "start_time": "2024-06-02T16:29:27.103Z"
   },
   {
    "duration": 182,
    "start_time": "2024-06-02T16:30:26.026Z"
   },
   {
    "duration": 176,
    "start_time": "2024-06-02T16:30:38.728Z"
   },
   {
    "duration": 45,
    "start_time": "2024-06-02T16:31:25.443Z"
   },
   {
    "duration": 40,
    "start_time": "2024-06-02T16:32:00.917Z"
   },
   {
    "duration": 6,
    "start_time": "2024-06-02T16:32:27.771Z"
   },
   {
    "duration": 77,
    "start_time": "2024-06-02T16:34:21.279Z"
   },
   {
    "duration": 302,
    "start_time": "2024-06-02T16:36:29.345Z"
   },
   {
    "duration": 88,
    "start_time": "2024-06-02T16:39:32.457Z"
   },
   {
    "duration": 1204,
    "start_time": "2024-06-02T16:41:29.375Z"
   },
   {
    "duration": 427,
    "start_time": "2024-06-02T17:57:28.487Z"
   },
   {
    "duration": 1707,
    "start_time": "2024-06-02T17:57:34.295Z"
   },
   {
    "duration": 22,
    "start_time": "2024-06-02T17:57:37.117Z"
   },
   {
    "duration": 20,
    "start_time": "2024-06-02T17:57:50.654Z"
   },
   {
    "duration": 67,
    "start_time": "2024-06-02T17:57:53.104Z"
   },
   {
    "duration": 15,
    "start_time": "2024-06-02T17:57:54.403Z"
   },
   {
    "duration": 16,
    "start_time": "2024-06-02T17:57:57.582Z"
   },
   {
    "duration": 385,
    "start_time": "2024-06-02T17:58:03.798Z"
   },
   {
    "duration": 25,
    "start_time": "2024-06-02T17:58:24.798Z"
   },
   {
    "duration": 192,
    "start_time": "2024-06-02T17:58:43.675Z"
   },
   {
    "duration": 160,
    "start_time": "2024-06-02T17:58:45.157Z"
   },
   {
    "duration": 1143,
    "start_time": "2024-06-02T17:59:18.510Z"
   },
   {
    "duration": 105,
    "start_time": "2024-06-02T18:02:15.767Z"
   },
   {
    "duration": 376,
    "start_time": "2024-06-02T18:04:18.677Z"
   },
   {
    "duration": 305,
    "start_time": "2024-06-02T18:04:43.560Z"
   },
   {
    "duration": 93,
    "start_time": "2024-06-02T18:05:11.507Z"
   },
   {
    "duration": 9,
    "start_time": "2024-06-02T18:05:55.026Z"
   },
   {
    "duration": 75,
    "start_time": "2024-06-02T18:06:01.687Z"
   },
   {
    "duration": 26,
    "start_time": "2024-06-02T18:08:02.527Z"
   },
   {
    "duration": 457,
    "start_time": "2024-06-02T18:08:40.030Z"
   },
   {
    "duration": 186,
    "start_time": "2024-06-02T18:12:47.509Z"
   },
   {
    "duration": 7,
    "start_time": "2024-06-02T18:17:39.262Z"
   },
   {
    "duration": 6,
    "start_time": "2024-06-02T18:17:55.616Z"
   },
   {
    "duration": 7,
    "start_time": "2024-06-02T18:18:03.887Z"
   },
   {
    "duration": 6,
    "start_time": "2024-06-02T18:18:10.492Z"
   },
   {
    "duration": 359,
    "start_time": "2024-06-02T18:18:32.338Z"
   },
   {
    "duration": 486,
    "start_time": "2024-06-02T18:18:34.651Z"
   },
   {
    "duration": 1553,
    "start_time": "2024-06-02T18:18:36.258Z"
   },
   {
    "duration": 25,
    "start_time": "2024-06-02T18:18:39.406Z"
   },
   {
    "duration": 20,
    "start_time": "2024-06-02T18:18:40.375Z"
   },
   {
    "duration": 67,
    "start_time": "2024-06-02T18:18:41.515Z"
   },
   {
    "duration": 17,
    "start_time": "2024-06-02T18:18:42.425Z"
   },
   {
    "duration": 17,
    "start_time": "2024-06-02T18:18:43.299Z"
   },
   {
    "duration": 357,
    "start_time": "2024-06-02T18:18:48.066Z"
   },
   {
    "duration": 25,
    "start_time": "2024-06-02T18:18:52.291Z"
   },
   {
    "duration": 209,
    "start_time": "2024-06-02T18:18:55.861Z"
   },
   {
    "duration": 207,
    "start_time": "2024-06-02T18:19:01.816Z"
   },
   {
    "duration": 6,
    "start_time": "2024-06-02T18:19:07.521Z"
   },
   {
    "duration": 6,
    "start_time": "2024-06-02T18:19:25.575Z"
   },
   {
    "duration": 6,
    "start_time": "2024-06-02T18:19:34.070Z"
   },
   {
    "duration": 895,
    "start_time": "2024-06-02T18:19:53.696Z"
   },
   {
    "duration": 5,
    "start_time": "2024-06-02T18:20:09.093Z"
   },
   {
    "duration": 100,
    "start_time": "2024-06-02T18:20:28.951Z"
   },
   {
    "duration": 77,
    "start_time": "2024-06-02T18:20:42.821Z"
   },
   {
    "duration": 95,
    "start_time": "2024-06-02T18:20:54.397Z"
   },
   {
    "duration": 98,
    "start_time": "2024-06-02T18:21:24.017Z"
   },
   {
    "duration": 84,
    "start_time": "2024-06-02T18:22:24.207Z"
   },
   {
    "duration": 444,
    "start_time": "2024-06-02T18:23:42.897Z"
   },
   {
    "duration": 222,
    "start_time": "2024-06-02T18:24:09.068Z"
   },
   {
    "duration": 233,
    "start_time": "2024-06-02T18:24:34.912Z"
   },
   {
    "duration": 7,
    "start_time": "2024-06-02T18:32:56.755Z"
   },
   {
    "duration": 91,
    "start_time": "2024-06-02T18:33:12.086Z"
   },
   {
    "duration": 95,
    "start_time": "2024-06-02T18:33:30.217Z"
   },
   {
    "duration": 94,
    "start_time": "2024-06-02T18:37:38.519Z"
   },
   {
    "duration": 107,
    "start_time": "2024-06-02T18:37:49.342Z"
   },
   {
    "duration": 99,
    "start_time": "2024-06-02T18:38:04.413Z"
   },
   {
    "duration": 82,
    "start_time": "2024-06-02T18:38:49.403Z"
   },
   {
    "duration": 95,
    "start_time": "2024-06-02T18:39:01.262Z"
   },
   {
    "duration": 104,
    "start_time": "2024-06-02T18:39:07.410Z"
   },
   {
    "duration": 87,
    "start_time": "2024-06-02T18:39:17.917Z"
   },
   {
    "duration": 85,
    "start_time": "2024-06-02T18:41:11.819Z"
   },
   {
    "duration": 83,
    "start_time": "2024-06-02T18:48:40.746Z"
   },
   {
    "duration": 101,
    "start_time": "2024-06-02T18:51:04.092Z"
   },
   {
    "duration": 79,
    "start_time": "2024-06-02T18:51:10.623Z"
   },
   {
    "duration": 80,
    "start_time": "2024-06-02T18:53:37.764Z"
   },
   {
    "duration": 71,
    "start_time": "2024-06-02T18:56:38.501Z"
   },
   {
    "duration": 84,
    "start_time": "2024-06-02T19:23:47.642Z"
   },
   {
    "duration": 78,
    "start_time": "2024-06-02T19:23:56.068Z"
   },
   {
    "duration": 77,
    "start_time": "2024-06-02T19:25:08.753Z"
   },
   {
    "duration": 107,
    "start_time": "2024-06-02T19:25:13.852Z"
   },
   {
    "duration": 78,
    "start_time": "2024-06-02T19:25:20.172Z"
   },
   {
    "duration": 72,
    "start_time": "2024-06-02T19:25:58.522Z"
   },
   {
    "duration": 76,
    "start_time": "2024-06-02T19:26:10.889Z"
   },
   {
    "duration": 83,
    "start_time": "2024-06-02T19:27:20.602Z"
   },
   {
    "duration": 74,
    "start_time": "2024-06-02T19:33:20.103Z"
   },
   {
    "duration": 83,
    "start_time": "2024-06-02T19:37:34.053Z"
   },
   {
    "duration": 38,
    "start_time": "2024-06-02T19:50:55.840Z"
   },
   {
    "duration": 51,
    "start_time": "2024-06-02T19:51:58.342Z"
   },
   {
    "duration": 6,
    "start_time": "2024-06-02T19:53:24.112Z"
   },
   {
    "duration": 7,
    "start_time": "2024-06-02T19:53:31.517Z"
   },
   {
    "duration": 61,
    "start_time": "2024-06-02T19:53:52.141Z"
   },
   {
    "duration": 8,
    "start_time": "2024-06-02T19:54:07.639Z"
   },
   {
    "duration": 78,
    "start_time": "2024-06-02T19:55:32.832Z"
   },
   {
    "duration": 62,
    "start_time": "2024-06-02T19:56:17.554Z"
   },
   {
    "duration": 71,
    "start_time": "2024-06-02T19:57:19.402Z"
   },
   {
    "duration": 54,
    "start_time": "2024-06-02T19:58:03.858Z"
   },
   {
    "duration": 6,
    "start_time": "2024-06-02T19:58:56.677Z"
   },
   {
    "duration": 53,
    "start_time": "2024-06-02T19:59:22.036Z"
   },
   {
    "duration": 73,
    "start_time": "2024-06-02T19:59:41.569Z"
   },
   {
    "duration": 88,
    "start_time": "2024-06-02T20:06:59.000Z"
   },
   {
    "duration": 75,
    "start_time": "2024-06-02T20:07:56.912Z"
   },
   {
    "duration": 12,
    "start_time": "2024-06-02T20:08:23.958Z"
   },
   {
    "duration": 8,
    "start_time": "2024-06-02T20:10:39.598Z"
   },
   {
    "duration": 68,
    "start_time": "2024-06-02T20:15:40.076Z"
   },
   {
    "duration": 65,
    "start_time": "2024-06-02T20:15:57.302Z"
   },
   {
    "duration": 334,
    "start_time": "2024-06-02T20:20:19.235Z"
   },
   {
    "duration": 409,
    "start_time": "2024-06-02T20:21:46.639Z"
   },
   {
    "duration": 482,
    "start_time": "2024-06-02T20:22:11.219Z"
   },
   {
    "duration": 1546,
    "start_time": "2024-06-02T20:22:11.705Z"
   },
   {
    "duration": 24,
    "start_time": "2024-06-02T20:22:13.254Z"
   },
   {
    "duration": 43,
    "start_time": "2024-06-02T20:22:13.283Z"
   },
   {
    "duration": 68,
    "start_time": "2024-06-02T20:22:13.329Z"
   },
   {
    "duration": 17,
    "start_time": "2024-06-02T20:22:13.424Z"
   },
   {
    "duration": 16,
    "start_time": "2024-06-02T20:22:13.445Z"
   },
   {
    "duration": 441,
    "start_time": "2024-06-02T20:22:13.464Z"
   },
   {
    "duration": 28,
    "start_time": "2024-06-02T20:22:13.908Z"
   },
   {
    "duration": 232,
    "start_time": "2024-06-02T20:22:13.943Z"
   },
   {
    "duration": 224,
    "start_time": "2024-06-02T20:22:14.178Z"
   },
   {
    "duration": 116,
    "start_time": "2024-06-02T20:22:14.407Z"
   },
   {
    "duration": 64,
    "start_time": "2024-06-02T20:22:14.527Z"
   },
   {
    "duration": 29,
    "start_time": "2024-06-02T20:22:14.595Z"
   },
   {
    "duration": 9,
    "start_time": "2024-06-02T20:22:14.628Z"
   },
   {
    "duration": 4,
    "start_time": "2024-06-02T20:22:14.641Z"
   },
   {
    "duration": 4,
    "start_time": "2024-06-02T20:22:14.650Z"
   },
   {
    "duration": 5,
    "start_time": "2024-06-02T20:22:14.657Z"
   },
   {
    "duration": 55,
    "start_time": "2024-06-02T20:22:14.667Z"
   },
   {
    "duration": 4,
    "start_time": "2024-06-02T20:22:14.726Z"
   },
   {
    "duration": 4,
    "start_time": "2024-06-02T20:22:14.733Z"
   },
   {
    "duration": 3,
    "start_time": "2024-06-02T20:22:14.741Z"
   },
   {
    "duration": 4,
    "start_time": "2024-06-02T20:22:14.748Z"
   },
   {
    "duration": 3,
    "start_time": "2024-06-02T20:22:14.756Z"
   },
   {
    "duration": 60,
    "start_time": "2024-06-02T20:22:14.763Z"
   },
   {
    "duration": 4,
    "start_time": "2024-06-02T20:22:14.827Z"
   },
   {
    "duration": 4,
    "start_time": "2024-06-02T20:22:14.835Z"
   },
   {
    "duration": 4,
    "start_time": "2024-06-02T20:22:14.848Z"
   },
   {
    "duration": 4,
    "start_time": "2024-06-02T20:22:14.855Z"
   },
   {
    "duration": 59,
    "start_time": "2024-06-02T20:22:14.863Z"
   },
   {
    "duration": 4,
    "start_time": "2024-06-02T20:22:14.926Z"
   },
   {
    "duration": 4,
    "start_time": "2024-06-02T20:22:14.932Z"
   },
   {
    "duration": 4,
    "start_time": "2024-06-02T20:22:14.939Z"
   },
   {
    "duration": 4,
    "start_time": "2024-06-02T20:22:14.947Z"
   },
   {
    "duration": 4,
    "start_time": "2024-06-02T20:22:21.543Z"
   },
   {
    "duration": 1513,
    "start_time": "2024-06-02T20:22:22.341Z"
   },
   {
    "duration": 21,
    "start_time": "2024-06-02T20:22:25.861Z"
   },
   {
    "duration": 23,
    "start_time": "2024-06-02T20:22:27.699Z"
   },
   {
    "duration": 62,
    "start_time": "2024-06-02T20:22:29.489Z"
   },
   {
    "duration": 17,
    "start_time": "2024-06-02T20:22:32.242Z"
   },
   {
    "duration": 15,
    "start_time": "2024-06-02T20:22:34.316Z"
   },
   {
    "duration": 324,
    "start_time": "2024-06-02T20:23:12.058Z"
   },
   {
    "duration": 341,
    "start_time": "2024-06-02T20:24:47.716Z"
   },
   {
    "duration": 177,
    "start_time": "2024-06-02T20:25:53.184Z"
   },
   {
    "duration": 186,
    "start_time": "2024-06-02T20:26:13.043Z"
   },
   {
    "duration": 155,
    "start_time": "2024-06-02T20:26:45.750Z"
   },
   {
    "duration": 163,
    "start_time": "2024-06-02T20:28:15.684Z"
   },
   {
    "duration": 187,
    "start_time": "2024-06-02T20:28:57.343Z"
   },
   {
    "duration": 324,
    "start_time": "2024-06-02T20:29:13.740Z"
   },
   {
    "duration": 517,
    "start_time": "2024-06-02T20:29:51.212Z"
   },
   {
    "duration": 1549,
    "start_time": "2024-06-02T20:29:51.733Z"
   },
   {
    "duration": 36,
    "start_time": "2024-06-02T20:29:53.286Z"
   },
   {
    "duration": 19,
    "start_time": "2024-06-02T20:29:53.325Z"
   },
   {
    "duration": 96,
    "start_time": "2024-06-02T20:29:53.349Z"
   },
   {
    "duration": 14,
    "start_time": "2024-06-02T20:29:53.449Z"
   },
   {
    "duration": 18,
    "start_time": "2024-06-02T20:29:53.466Z"
   },
   {
    "duration": 415,
    "start_time": "2024-06-02T20:29:53.487Z"
   },
   {
    "duration": 32,
    "start_time": "2024-06-02T20:29:53.905Z"
   },
   {
    "duration": 224,
    "start_time": "2024-06-02T20:29:53.940Z"
   },
   {
    "duration": 208,
    "start_time": "2024-06-02T20:29:54.167Z"
   },
   {
    "duration": 112,
    "start_time": "2024-06-02T20:29:54.378Z"
   },
   {
    "duration": 80,
    "start_time": "2024-06-02T20:29:54.493Z"
   },
   {
    "duration": 8,
    "start_time": "2024-06-02T20:29:54.580Z"
   },
   {
    "duration": 33,
    "start_time": "2024-06-02T20:29:54.594Z"
   },
   {
    "duration": 4,
    "start_time": "2024-06-02T20:29:54.630Z"
   },
   {
    "duration": 3,
    "start_time": "2024-06-02T20:29:54.638Z"
   },
   {
    "duration": 4,
    "start_time": "2024-06-02T20:29:54.645Z"
   },
   {
    "duration": 4,
    "start_time": "2024-06-02T20:29:54.652Z"
   },
   {
    "duration": 3,
    "start_time": "2024-06-02T20:29:54.660Z"
   },
   {
    "duration": 58,
    "start_time": "2024-06-02T20:29:54.666Z"
   },
   {
    "duration": 4,
    "start_time": "2024-06-02T20:29:54.728Z"
   },
   {
    "duration": 4,
    "start_time": "2024-06-02T20:29:54.736Z"
   },
   {
    "duration": 4,
    "start_time": "2024-06-02T20:29:54.743Z"
   },
   {
    "duration": 4,
    "start_time": "2024-06-02T20:29:54.751Z"
   },
   {
    "duration": 4,
    "start_time": "2024-06-02T20:29:54.758Z"
   },
   {
    "duration": 58,
    "start_time": "2024-06-02T20:29:54.766Z"
   },
   {
    "duration": 4,
    "start_time": "2024-06-02T20:29:54.828Z"
   },
   {
    "duration": 5,
    "start_time": "2024-06-02T20:29:54.836Z"
   },
   {
    "duration": 4,
    "start_time": "2024-06-02T20:29:54.844Z"
   },
   {
    "duration": 6,
    "start_time": "2024-06-02T20:29:54.852Z"
   },
   {
    "duration": 4,
    "start_time": "2024-06-02T20:29:54.864Z"
   },
   {
    "duration": 5,
    "start_time": "2024-06-02T20:29:54.923Z"
   },
   {
    "duration": 4,
    "start_time": "2024-06-02T20:29:54.932Z"
   },
   {
    "duration": 4,
    "start_time": "2024-06-02T20:30:08.139Z"
   },
   {
    "duration": 1632,
    "start_time": "2024-06-02T20:30:09.189Z"
   },
   {
    "duration": 22,
    "start_time": "2024-06-02T20:30:13.147Z"
   },
   {
    "duration": 20,
    "start_time": "2024-06-02T20:30:14.530Z"
   },
   {
    "duration": 62,
    "start_time": "2024-06-02T20:30:19.102Z"
   },
   {
    "duration": 16,
    "start_time": "2024-06-02T20:30:20.446Z"
   },
   {
    "duration": 426,
    "start_time": "2024-06-02T20:30:36.089Z"
   },
   {
    "duration": 1533,
    "start_time": "2024-06-02T20:30:37.320Z"
   },
   {
    "duration": 24,
    "start_time": "2024-06-02T20:30:39.550Z"
   },
   {
    "duration": 23,
    "start_time": "2024-06-02T20:30:40.865Z"
   },
   {
    "duration": 64,
    "start_time": "2024-06-02T20:30:41.888Z"
   },
   {
    "duration": 15,
    "start_time": "2024-06-02T20:30:42.963Z"
   },
   {
    "duration": 15,
    "start_time": "2024-06-02T20:30:43.929Z"
   },
   {
    "duration": 387,
    "start_time": "2024-06-02T20:30:50.451Z"
   },
   {
    "duration": 28,
    "start_time": "2024-06-02T20:31:00.980Z"
   },
   {
    "duration": 198,
    "start_time": "2024-06-02T20:31:12.786Z"
   },
   {
    "duration": 192,
    "start_time": "2024-06-02T20:31:19.058Z"
   },
   {
    "duration": 85,
    "start_time": "2024-06-02T20:31:35.906Z"
   },
   {
    "duration": 90,
    "start_time": "2024-06-02T20:33:32.067Z"
   },
   {
    "duration": 76,
    "start_time": "2024-06-02T20:33:58.744Z"
   },
   {
    "duration": 80,
    "start_time": "2024-06-02T20:34:35.449Z"
   },
   {
    "duration": 78,
    "start_time": "2024-06-02T20:34:39.639Z"
   },
   {
    "duration": 56,
    "start_time": "2024-06-02T20:35:08.332Z"
   },
   {
    "duration": 8,
    "start_time": "2024-06-02T20:36:07.006Z"
   },
   {
    "duration": 17,
    "start_time": "2024-06-02T20:38:09.438Z"
   },
   {
    "duration": 12,
    "start_time": "2024-06-02T20:38:17.443Z"
   },
   {
    "duration": 9,
    "start_time": "2024-06-02T20:38:33.816Z"
   },
   {
    "duration": 85,
    "start_time": "2024-06-02T20:38:43.741Z"
   },
   {
    "duration": 81,
    "start_time": "2024-06-02T20:38:59.424Z"
   },
   {
    "duration": 170,
    "start_time": "2024-06-02T20:39:09.240Z"
   },
   {
    "duration": 341,
    "start_time": "2024-06-02T20:39:19.114Z"
   },
   {
    "duration": 464,
    "start_time": "2024-06-02T20:39:41.032Z"
   },
   {
    "duration": 1532,
    "start_time": "2024-06-02T20:39:41.983Z"
   },
   {
    "duration": 24,
    "start_time": "2024-06-02T20:39:43.522Z"
   },
   {
    "duration": 20,
    "start_time": "2024-06-02T20:39:45.900Z"
   },
   {
    "duration": 67,
    "start_time": "2024-06-02T20:39:47.104Z"
   },
   {
    "duration": 14,
    "start_time": "2024-06-02T20:39:48.032Z"
   },
   {
    "duration": 16,
    "start_time": "2024-06-02T20:39:48.818Z"
   },
   {
    "duration": 318,
    "start_time": "2024-06-02T20:39:53.572Z"
   },
   {
    "duration": 24,
    "start_time": "2024-06-02T20:40:02.198Z"
   },
   {
    "duration": 179,
    "start_time": "2024-06-02T20:40:16.412Z"
   },
   {
    "duration": 188,
    "start_time": "2024-06-02T20:40:17.540Z"
   },
   {
    "duration": 80,
    "start_time": "2024-06-02T20:40:23.616Z"
   },
   {
    "duration": 58,
    "start_time": "2024-06-02T20:40:31.913Z"
   },
   {
    "duration": 9,
    "start_time": "2024-06-02T20:40:40.574Z"
   },
   {
    "duration": 9,
    "start_time": "2024-06-02T20:40:47.474Z"
   },
   {
    "duration": 37,
    "start_time": "2024-06-02T20:47:05.210Z"
   },
   {
    "duration": 37,
    "start_time": "2024-06-02T20:47:31.878Z"
   },
   {
    "duration": 490,
    "start_time": "2024-06-02T20:47:52.735Z"
   },
   {
    "duration": 1522,
    "start_time": "2024-06-02T20:47:53.334Z"
   },
   {
    "duration": 24,
    "start_time": "2024-06-02T20:47:54.860Z"
   },
   {
    "duration": 20,
    "start_time": "2024-06-02T20:47:55.666Z"
   },
   {
    "duration": 67,
    "start_time": "2024-06-02T20:47:56.601Z"
   },
   {
    "duration": 16,
    "start_time": "2024-06-02T20:47:57.536Z"
   },
   {
    "duration": 14,
    "start_time": "2024-06-02T20:48:00.391Z"
   },
   {
    "duration": 324,
    "start_time": "2024-06-02T20:48:11.292Z"
   },
   {
    "duration": 22,
    "start_time": "2024-06-02T20:48:21.995Z"
   },
   {
    "duration": 263,
    "start_time": "2024-06-02T20:48:25.618Z"
   },
   {
    "duration": 214,
    "start_time": "2024-06-02T20:48:26.916Z"
   },
   {
    "duration": 88,
    "start_time": "2024-06-02T20:48:37.088Z"
   },
   {
    "duration": 57,
    "start_time": "2024-06-02T20:48:45.597Z"
   },
   {
    "duration": 51,
    "start_time": "2024-06-02T20:49:08.362Z"
   },
   {
    "duration": 9,
    "start_time": "2024-06-02T20:49:14.191Z"
   },
   {
    "duration": 33,
    "start_time": "2024-06-02T20:49:58.937Z"
   },
   {
    "duration": 1973,
    "start_time": "2024-06-02T21:12:38.501Z"
   },
   {
    "duration": 1797,
    "start_time": "2024-06-02T21:13:48.117Z"
   },
   {
    "duration": 1822,
    "start_time": "2024-06-02T21:14:17.529Z"
   },
   {
    "duration": 1761,
    "start_time": "2024-06-02T21:14:34.854Z"
   },
   {
    "duration": 8,
    "start_time": "2024-06-02T21:15:07.968Z"
   },
   {
    "duration": 1971,
    "start_time": "2024-06-02T21:16:23.135Z"
   },
   {
    "duration": 1839,
    "start_time": "2024-06-02T21:16:45.119Z"
   },
   {
    "duration": 9,
    "start_time": "2024-06-02T21:18:01.734Z"
   },
   {
    "duration": 1586,
    "start_time": "2024-06-02T21:18:16.122Z"
   },
   {
    "duration": 4649,
    "start_time": "2024-06-02T21:18:32.459Z"
   },
   {
    "duration": 1568,
    "start_time": "2024-06-02T21:18:48.743Z"
   },
   {
    "duration": 1530,
    "start_time": "2024-06-02T21:19:00.874Z"
   },
   {
    "duration": 1834,
    "start_time": "2024-06-02T21:30:37.893Z"
   },
   {
    "duration": 1477,
    "start_time": "2024-06-02T21:30:55.411Z"
   },
   {
    "duration": 1486,
    "start_time": "2024-06-02T21:31:14.665Z"
   },
   {
    "duration": 2311,
    "start_time": "2024-06-02T21:31:47.127Z"
   },
   {
    "duration": 1487,
    "start_time": "2024-06-02T21:32:09.769Z"
   },
   {
    "duration": 1496,
    "start_time": "2024-06-02T21:44:41.621Z"
   },
   {
    "duration": 1666,
    "start_time": "2024-06-02T21:45:28.444Z"
   },
   {
    "duration": 396,
    "start_time": "2024-06-02T21:46:53.241Z"
   },
   {
    "duration": 22,
    "start_time": "2024-06-02T21:49:34.518Z"
   },
   {
    "duration": 404,
    "start_time": "2024-06-02T21:51:19.692Z"
   },
   {
    "duration": 513,
    "start_time": "2024-06-02T21:52:01.327Z"
   },
   {
    "duration": 361,
    "start_time": "2024-06-02T21:52:02.054Z"
   },
   {
    "duration": 475,
    "start_time": "2024-06-02T21:52:42.700Z"
   },
   {
    "duration": 1555,
    "start_time": "2024-06-02T21:52:43.505Z"
   },
   {
    "duration": 25,
    "start_time": "2024-06-02T21:52:46.119Z"
   },
   {
    "duration": 19,
    "start_time": "2024-06-02T21:52:47.054Z"
   },
   {
    "duration": 64,
    "start_time": "2024-06-02T21:52:48.012Z"
   },
   {
    "duration": 15,
    "start_time": "2024-06-02T21:52:48.934Z"
   },
   {
    "duration": 22,
    "start_time": "2024-06-02T21:52:49.824Z"
   },
   {
    "duration": 346,
    "start_time": "2024-06-02T21:52:58.644Z"
   },
   {
    "duration": 27,
    "start_time": "2024-06-02T21:53:06.586Z"
   },
   {
    "duration": 194,
    "start_time": "2024-06-02T21:53:13.922Z"
   },
   {
    "duration": 349,
    "start_time": "2024-06-02T21:53:15.483Z"
   },
   {
    "duration": 90,
    "start_time": "2024-06-02T21:57:53.241Z"
   },
   {
    "duration": 437,
    "start_time": "2024-06-02T21:59:23.249Z"
   },
   {
    "duration": 1522,
    "start_time": "2024-06-02T21:59:25.079Z"
   },
   {
    "duration": 34,
    "start_time": "2024-06-02T21:59:26.604Z"
   },
   {
    "duration": 18,
    "start_time": "2024-06-02T21:59:27.486Z"
   },
   {
    "duration": 68,
    "start_time": "2024-06-02T21:59:28.230Z"
   },
   {
    "duration": 14,
    "start_time": "2024-06-02T21:59:28.782Z"
   },
   {
    "duration": 18,
    "start_time": "2024-06-02T21:59:29.678Z"
   },
   {
    "duration": 352,
    "start_time": "2024-06-02T21:59:38.407Z"
   },
   {
    "duration": 316,
    "start_time": "2024-06-02T22:00:48.764Z"
   },
   {
    "duration": 457,
    "start_time": "2024-06-02T22:01:06.400Z"
   },
   {
    "duration": 1584,
    "start_time": "2024-06-02T22:01:09.081Z"
   },
   {
    "duration": 23,
    "start_time": "2024-06-02T22:01:10.669Z"
   },
   {
    "duration": 37,
    "start_time": "2024-06-02T22:01:10.695Z"
   },
   {
    "duration": 66,
    "start_time": "2024-06-02T22:01:10.736Z"
   },
   {
    "duration": 18,
    "start_time": "2024-06-02T22:01:10.824Z"
   },
   {
    "duration": 17,
    "start_time": "2024-06-02T22:01:10.845Z"
   },
   {
    "duration": 330,
    "start_time": "2024-06-02T22:01:15.129Z"
   },
   {
    "duration": 24,
    "start_time": "2024-06-02T22:01:21.869Z"
   },
   {
    "duration": 204,
    "start_time": "2024-06-02T22:01:28.952Z"
   },
   {
    "duration": 392,
    "start_time": "2024-06-02T22:01:30.920Z"
   },
   {
    "duration": 89,
    "start_time": "2024-06-02T22:01:41.997Z"
   },
   {
    "duration": 40,
    "start_time": "2024-06-02T22:03:00.439Z"
   },
   {
    "duration": 350,
    "start_time": "2024-06-02T22:04:50.349Z"
   },
   {
    "duration": 7,
    "start_time": "2024-06-02T22:05:07.715Z"
   },
   {
    "duration": 34,
    "start_time": "2024-06-02T22:08:36.554Z"
   },
   {
    "duration": 59,
    "start_time": "2024-06-02T22:11:32.971Z"
   },
   {
    "duration": 6,
    "start_time": "2024-06-02T22:14:42.850Z"
   },
   {
    "duration": 79,
    "start_time": "2024-06-02T22:24:04.998Z"
   },
   {
    "duration": 56,
    "start_time": "2024-06-02T22:26:38.315Z"
   },
   {
    "duration": 64,
    "start_time": "2024-06-02T22:27:26.865Z"
   },
   {
    "duration": 48,
    "start_time": "2024-06-02T22:31:49.225Z"
   },
   {
    "duration": 44,
    "start_time": "2024-06-02T22:31:58.281Z"
   },
   {
    "duration": 859,
    "start_time": "2024-06-02T22:35:52.171Z"
   },
   {
    "duration": 91,
    "start_time": "2024-06-02T22:37:03.007Z"
   },
   {
    "duration": 7,
    "start_time": "2024-06-02T22:37:19.660Z"
   },
   {
    "duration": 4,
    "start_time": "2024-06-02T22:56:49.681Z"
   },
   {
    "duration": 363,
    "start_time": "2024-06-03T17:35:33.960Z"
   },
   {
    "duration": 455,
    "start_time": "2024-06-03T17:35:42.774Z"
   },
   {
    "duration": 1777,
    "start_time": "2024-06-03T17:35:48.972Z"
   },
   {
    "duration": 1578,
    "start_time": "2024-06-03T17:36:37.668Z"
   },
   {
    "duration": 324,
    "start_time": "2024-06-04T00:15:27.466Z"
   },
   {
    "duration": 499,
    "start_time": "2024-06-04T00:15:41.487Z"
   },
   {
    "duration": 1890,
    "start_time": "2024-06-04T00:15:45.046Z"
   },
   {
    "duration": 28,
    "start_time": "2024-06-04T00:15:52.464Z"
   },
   {
    "duration": 22,
    "start_time": "2024-06-04T00:15:53.550Z"
   },
   {
    "duration": 68,
    "start_time": "2024-06-04T00:15:54.352Z"
   },
   {
    "duration": 16,
    "start_time": "2024-06-04T00:15:55.027Z"
   },
   {
    "duration": 19,
    "start_time": "2024-06-04T00:15:55.786Z"
   },
   {
    "duration": 416,
    "start_time": "2024-06-04T00:16:00.102Z"
   },
   {
    "duration": 29,
    "start_time": "2024-06-04T00:16:07.409Z"
   },
   {
    "duration": 228,
    "start_time": "2024-06-04T00:16:09.338Z"
   },
   {
    "duration": 440,
    "start_time": "2024-06-04T00:16:12.035Z"
   },
   {
    "duration": 105,
    "start_time": "2024-06-04T00:16:13.691Z"
   },
   {
    "duration": 52,
    "start_time": "2024-06-04T00:16:18.991Z"
   },
   {
    "duration": 9,
    "start_time": "2024-06-04T00:16:19.857Z"
   },
   {
    "duration": 70,
    "start_time": "2024-06-04T00:16:20.834Z"
   },
   {
    "duration": 455,
    "start_time": "2024-06-04T00:17:46.482Z"
   },
   {
    "duration": 165,
    "start_time": "2024-06-04T00:20:49.270Z"
   },
   {
    "duration": 33,
    "start_time": "2024-06-04T00:22:11.725Z"
   },
   {
    "duration": 27,
    "start_time": "2024-06-04T00:22:40.567Z"
   },
   {
    "duration": 34,
    "start_time": "2024-06-04T00:22:47.807Z"
   },
   {
    "duration": 7,
    "start_time": "2024-06-04T00:23:09.083Z"
   },
   {
    "duration": 192,
    "start_time": "2024-06-04T00:26:00.018Z"
   },
   {
    "duration": 9,
    "start_time": "2024-06-04T00:26:12.712Z"
   },
   {
    "duration": 162,
    "start_time": "2024-06-04T00:26:31.968Z"
   },
   {
    "duration": 185,
    "start_time": "2024-06-04T00:26:39.829Z"
   },
   {
    "duration": 38,
    "start_time": "2024-06-04T00:27:40.590Z"
   },
   {
    "duration": 36,
    "start_time": "2024-06-04T00:27:55.887Z"
   },
   {
    "duration": 7,
    "start_time": "2024-06-04T00:28:37.821Z"
   },
   {
    "duration": 850,
    "start_time": "2024-06-04T00:28:51.198Z"
   },
   {
    "duration": 825,
    "start_time": "2024-06-04T00:29:02.535Z"
   },
   {
    "duration": 31,
    "start_time": "2024-06-04T00:30:39.690Z"
   },
   {
    "duration": 24,
    "start_time": "2024-06-04T00:31:20.714Z"
   },
   {
    "duration": 21,
    "start_time": "2024-06-04T00:35:05.186Z"
   },
   {
    "duration": 22,
    "start_time": "2024-06-04T00:36:32.873Z"
   },
   {
    "duration": 145,
    "start_time": "2024-06-04T00:37:45.422Z"
   },
   {
    "duration": 71,
    "start_time": "2024-06-04T00:38:13.883Z"
   },
   {
    "duration": 80,
    "start_time": "2024-06-04T00:38:24.360Z"
   },
   {
    "duration": 152,
    "start_time": "2024-06-04T00:38:40.484Z"
   },
   {
    "duration": 57,
    "start_time": "2024-06-04T00:39:06.390Z"
   },
   {
    "duration": 781,
    "start_time": "2024-06-04T00:39:18.342Z"
   },
   {
    "duration": 25,
    "start_time": "2024-06-04T00:39:42.109Z"
   },
   {
    "duration": 21,
    "start_time": "2024-06-04T00:43:33.127Z"
   },
   {
    "duration": 21,
    "start_time": "2024-06-04T00:43:52.543Z"
   },
   {
    "duration": 50,
    "start_time": "2024-06-04T00:59:37.923Z"
   },
   {
    "duration": 52,
    "start_time": "2024-06-04T01:00:43.010Z"
   },
   {
    "duration": 33,
    "start_time": "2024-06-04T01:01:41.953Z"
   },
   {
    "duration": 47,
    "start_time": "2024-06-04T01:02:31.012Z"
   },
   {
    "duration": 31,
    "start_time": "2024-06-04T01:04:56.831Z"
   },
   {
    "duration": 15,
    "start_time": "2024-06-04T01:05:11.641Z"
   },
   {
    "duration": 11,
    "start_time": "2024-06-04T01:05:32.889Z"
   },
   {
    "duration": 10,
    "start_time": "2024-06-04T01:06:11.664Z"
   },
   {
    "duration": 36,
    "start_time": "2024-06-04T01:08:15.770Z"
   },
   {
    "duration": 63,
    "start_time": "2024-06-04T01:08:38.454Z"
   },
   {
    "duration": 63,
    "start_time": "2024-06-04T01:09:11.498Z"
   },
   {
    "duration": 56,
    "start_time": "2024-06-04T01:10:39.080Z"
   },
   {
    "duration": 17,
    "start_time": "2024-06-04T01:22:24.170Z"
   },
   {
    "duration": 12,
    "start_time": "2024-06-04T01:24:43.475Z"
   },
   {
    "duration": 7,
    "start_time": "2024-06-04T01:24:51.362Z"
   },
   {
    "duration": 5,
    "start_time": "2024-06-04T01:24:59.396Z"
   },
   {
    "duration": 14,
    "start_time": "2024-06-04T01:25:22.712Z"
   },
   {
    "duration": 10,
    "start_time": "2024-06-04T01:25:55.750Z"
   },
   {
    "duration": 15,
    "start_time": "2024-06-04T01:26:26.156Z"
   },
   {
    "duration": 12,
    "start_time": "2024-06-04T01:27:14.984Z"
   },
   {
    "duration": 29,
    "start_time": "2024-06-04T01:27:31.852Z"
   },
   {
    "duration": 10,
    "start_time": "2024-06-04T01:27:39.750Z"
   },
   {
    "duration": 9,
    "start_time": "2024-06-04T01:35:27.954Z"
   },
   {
    "duration": 7,
    "start_time": "2024-06-04T01:36:48.495Z"
   },
   {
    "duration": 42,
    "start_time": "2024-06-04T01:38:12.650Z"
   },
   {
    "duration": 12,
    "start_time": "2024-06-04T01:49:22.311Z"
   },
   {
    "duration": 10,
    "start_time": "2024-06-04T01:52:28.000Z"
   },
   {
    "duration": 8,
    "start_time": "2024-06-04T01:52:39.332Z"
   },
   {
    "duration": 15,
    "start_time": "2024-06-04T01:54:31.178Z"
   },
   {
    "duration": 15,
    "start_time": "2024-06-04T01:54:46.552Z"
   },
   {
    "duration": 14,
    "start_time": "2024-06-04T02:11:57.897Z"
   },
   {
    "duration": 27,
    "start_time": "2024-06-04T02:12:18.060Z"
   },
   {
    "duration": 7,
    "start_time": "2024-06-04T02:13:17.192Z"
   },
   {
    "duration": 34,
    "start_time": "2024-06-04T02:13:26.231Z"
   },
   {
    "duration": 1220,
    "start_time": "2024-06-04T02:13:38.934Z"
   },
   {
    "duration": 73,
    "start_time": "2024-06-04T02:14:11.528Z"
   },
   {
    "duration": 89,
    "start_time": "2024-06-04T02:14:39.883Z"
   },
   {
    "duration": 474,
    "start_time": "2024-06-04T02:14:49.927Z"
   },
   {
    "duration": 75,
    "start_time": "2024-06-04T02:15:10.288Z"
   },
   {
    "duration": 36,
    "start_time": "2024-06-04T02:16:03.941Z"
   },
   {
    "duration": 83,
    "start_time": "2024-06-04T02:16:10.462Z"
   },
   {
    "duration": 75,
    "start_time": "2024-06-04T02:16:24.597Z"
   },
   {
    "duration": 78,
    "start_time": "2024-06-04T02:16:39.825Z"
   },
   {
    "duration": 81,
    "start_time": "2024-06-04T02:16:54.951Z"
   },
   {
    "duration": 72,
    "start_time": "2024-06-04T02:17:11.192Z"
   },
   {
    "duration": 15,
    "start_time": "2024-06-04T02:46:21.555Z"
   },
   {
    "duration": 19,
    "start_time": "2024-06-04T02:46:43.150Z"
   },
   {
    "duration": 29,
    "start_time": "2024-06-04T02:47:24.157Z"
   },
   {
    "duration": 62,
    "start_time": "2024-06-04T02:48:57.386Z"
   },
   {
    "duration": 7,
    "start_time": "2024-06-04T02:53:25.001Z"
   },
   {
    "duration": 7,
    "start_time": "2024-06-04T02:54:38.870Z"
   },
   {
    "duration": 7,
    "start_time": "2024-06-04T02:54:44.063Z"
   },
   {
    "duration": 21,
    "start_time": "2024-06-04T02:56:06.931Z"
   },
   {
    "duration": 28,
    "start_time": "2024-06-04T02:56:17.015Z"
   },
   {
    "duration": 8,
    "start_time": "2024-06-04T02:56:23.832Z"
   },
   {
    "duration": 6,
    "start_time": "2024-06-04T02:57:06.832Z"
   },
   {
    "duration": 6,
    "start_time": "2024-06-04T02:57:24.888Z"
   },
   {
    "duration": 184,
    "start_time": "2024-06-04T02:57:32.329Z"
   },
   {
    "duration": 6,
    "start_time": "2024-06-04T02:57:37.833Z"
   },
   {
    "duration": 7,
    "start_time": "2024-06-04T02:57:51.168Z"
   },
   {
    "duration": 2717,
    "start_time": "2024-06-04T02:58:30.329Z"
   },
   {
    "duration": 2692,
    "start_time": "2024-06-04T02:58:45.486Z"
   },
   {
    "duration": 453,
    "start_time": "2024-06-04T03:00:19.053Z"
   },
   {
    "duration": 4,
    "start_time": "2024-06-04T16:26:58.762Z"
   },
   {
    "duration": 485,
    "start_time": "2024-06-04T16:28:10.022Z"
   },
   {
    "duration": 1697,
    "start_time": "2024-06-04T16:28:11.435Z"
   },
   {
    "duration": 156,
    "start_time": "2024-06-04T16:28:13.135Z"
   },
   {
    "duration": 71,
    "start_time": "2024-06-04T16:28:14.331Z"
   },
   {
    "duration": 750,
    "start_time": "2024-06-04T16:28:16.342Z"
   },
   {
    "duration": 23,
    "start_time": "2024-06-04T16:28:18.585Z"
   },
   {
    "duration": 23,
    "start_time": "2024-06-04T16:28:25.359Z"
   },
   {
    "duration": 341,
    "start_time": "2024-06-04T16:28:37.466Z"
   },
   {
    "duration": 320,
    "start_time": "2024-06-04T16:28:52.346Z"
   },
   {
    "duration": 21,
    "start_time": "2024-06-04T16:29:01.247Z"
   },
   {
    "duration": 176,
    "start_time": "2024-06-04T16:29:28.497Z"
   },
   {
    "duration": 329,
    "start_time": "2024-06-04T16:29:36.096Z"
   },
   {
    "duration": 77,
    "start_time": "2024-06-04T16:29:38.345Z"
   },
   {
    "duration": 32,
    "start_time": "2024-06-04T16:29:45.269Z"
   },
   {
    "duration": 6,
    "start_time": "2024-06-04T16:29:46.570Z"
   },
   {
    "duration": 58,
    "start_time": "2024-06-04T16:29:51.775Z"
   },
   {
    "duration": 52,
    "start_time": "2024-06-04T16:29:59.807Z"
   },
   {
    "duration": 7,
    "start_time": "2024-06-04T16:30:13.689Z"
   },
   {
    "duration": 6,
    "start_time": "2024-06-04T16:30:16.881Z"
   },
   {
    "duration": 7,
    "start_time": "2024-06-04T16:30:24.760Z"
   },
   {
    "duration": 6,
    "start_time": "2024-06-04T16:30:26.119Z"
   },
   {
    "duration": 2748,
    "start_time": "2024-06-04T16:30:35.678Z"
   },
   {
    "duration": 436,
    "start_time": "2024-06-04T16:30:40.840Z"
   },
   {
    "duration": 47,
    "start_time": "2024-06-04T16:36:35.472Z"
   },
   {
    "duration": 487,
    "start_time": "2024-06-04T16:37:31.216Z"
   },
   {
    "duration": 1566,
    "start_time": "2024-06-04T16:37:32.161Z"
   },
   {
    "duration": 148,
    "start_time": "2024-06-04T16:37:33.731Z"
   },
   {
    "duration": 64,
    "start_time": "2024-06-04T16:37:34.852Z"
   },
   {
    "duration": 766,
    "start_time": "2024-06-04T16:46:31.497Z"
   },
   {
    "duration": 23,
    "start_time": "2024-06-04T16:46:32.740Z"
   },
   {
    "duration": 22,
    "start_time": "2024-06-04T16:46:35.816Z"
   },
   {
    "duration": 356,
    "start_time": "2024-06-04T16:46:44.538Z"
   },
   {
    "duration": 20,
    "start_time": "2024-06-04T16:46:55.919Z"
   },
   {
    "duration": 186,
    "start_time": "2024-06-04T16:47:12.849Z"
   },
   {
    "duration": 332,
    "start_time": "2024-06-04T16:47:17.866Z"
   },
   {
    "duration": 87,
    "start_time": "2024-06-04T16:47:21.762Z"
   },
   {
    "duration": 35,
    "start_time": "2024-06-04T16:47:27.160Z"
   },
   {
    "duration": 180,
    "start_time": "2024-06-04T17:04:24.906Z"
   },
   {
    "duration": 186,
    "start_time": "2024-06-04T17:04:52.362Z"
   },
   {
    "duration": 271,
    "start_time": "2024-06-04T17:04:54.924Z"
   },
   {
    "duration": 69,
    "start_time": "2024-06-04T17:04:57.504Z"
   },
   {
    "duration": 33,
    "start_time": "2024-06-04T17:05:04.555Z"
   },
   {
    "duration": 6,
    "start_time": "2024-06-04T17:05:07.292Z"
   },
   {
    "duration": 64,
    "start_time": "2024-06-04T17:05:14.251Z"
   },
   {
    "duration": 4,
    "start_time": "2024-06-04T17:05:20.313Z"
   },
   {
    "duration": 7,
    "start_time": "2024-06-04T17:06:03.809Z"
   },
   {
    "duration": 5,
    "start_time": "2024-06-04T17:06:05.261Z"
   },
   {
    "duration": 7,
    "start_time": "2024-06-04T17:06:10.245Z"
   },
   {
    "duration": 5,
    "start_time": "2024-06-04T17:06:11.236Z"
   },
   {
    "duration": 2577,
    "start_time": "2024-06-04T17:06:15.833Z"
   },
   {
    "duration": 2630,
    "start_time": "2024-06-04T18:01:35.745Z"
   },
   {
    "duration": 465,
    "start_time": "2024-06-04T18:01:42.547Z"
   },
   {
    "duration": 7,
    "start_time": "2024-06-04T18:01:56.543Z"
   },
   {
    "duration": 8,
    "start_time": "2024-06-04T18:02:34.336Z"
   },
   {
    "duration": 7,
    "start_time": "2024-06-04T18:03:02.742Z"
   },
   {
    "duration": 135,
    "start_time": "2024-06-04T18:03:29.629Z"
   },
   {
    "duration": 34,
    "start_time": "2024-06-04T18:03:45.013Z"
   },
   {
    "duration": 49,
    "start_time": "2024-06-04T18:05:57.131Z"
   },
   {
    "duration": 19,
    "start_time": "2024-06-04T18:07:07.327Z"
   },
   {
    "duration": 894,
    "start_time": "2024-06-04T18:09:05.946Z"
   },
   {
    "duration": 6,
    "start_time": "2024-06-04T18:09:30.058Z"
   },
   {
    "duration": 12,
    "start_time": "2024-06-04T18:10:05.671Z"
   },
   {
    "duration": 6,
    "start_time": "2024-06-04T18:10:55.295Z"
   },
   {
    "duration": 10,
    "start_time": "2024-06-04T18:18:07.440Z"
   },
   {
    "duration": 23,
    "start_time": "2024-06-04T18:18:58.359Z"
   },
   {
    "duration": 8,
    "start_time": "2024-06-04T18:19:07.537Z"
   },
   {
    "duration": 10,
    "start_time": "2024-06-04T18:19:40.620Z"
   },
   {
    "duration": 10,
    "start_time": "2024-06-04T18:23:39.159Z"
   },
   {
    "duration": 5,
    "start_time": "2024-06-04T18:24:29.369Z"
   },
   {
    "duration": 10,
    "start_time": "2024-06-04T18:24:40.639Z"
   },
   {
    "duration": 8,
    "start_time": "2024-06-04T18:25:38.745Z"
   },
   {
    "duration": 6,
    "start_time": "2024-06-04T18:26:37.190Z"
   },
   {
    "duration": 5,
    "start_time": "2024-06-04T18:27:02.685Z"
   },
   {
    "duration": 11,
    "start_time": "2024-06-04T18:32:58.351Z"
   },
   {
    "duration": 10,
    "start_time": "2024-06-04T18:33:41.090Z"
   },
   {
    "duration": 12,
    "start_time": "2024-06-04T18:34:08.861Z"
   },
   {
    "duration": 13,
    "start_time": "2024-06-04T18:34:33.847Z"
   },
   {
    "duration": 9,
    "start_time": "2024-06-04T18:35:51.611Z"
   },
   {
    "duration": 362,
    "start_time": "2024-06-04T18:44:42.524Z"
   },
   {
    "duration": 19,
    "start_time": "2024-06-04T18:45:27.584Z"
   },
   {
    "duration": 16,
    "start_time": "2024-06-04T19:18:00.822Z"
   },
   {
    "duration": 27,
    "start_time": "2024-06-04T19:58:46.456Z"
   },
   {
    "duration": 30,
    "start_time": "2024-06-04T19:58:57.558Z"
   },
   {
    "duration": 570,
    "start_time": "2024-06-04T20:00:04.827Z"
   },
   {
    "duration": 68,
    "start_time": "2024-06-04T20:00:26.532Z"
   },
   {
    "duration": 56,
    "start_time": "2024-06-04T20:00:33.391Z"
   },
   {
    "duration": 7,
    "start_time": "2024-06-04T20:01:48.834Z"
   },
   {
    "duration": 6,
    "start_time": "2024-06-04T20:02:11.717Z"
   },
   {
    "duration": 16,
    "start_time": "2024-06-04T20:02:31.232Z"
   },
   {
    "duration": 51,
    "start_time": "2024-06-04T20:04:02.669Z"
   },
   {
    "duration": 15,
    "start_time": "2024-06-04T20:18:29.654Z"
   },
   {
    "duration": 444,
    "start_time": "2024-06-04T22:24:19.616Z"
   },
   {
    "duration": 1859,
    "start_time": "2024-06-04T22:24:20.234Z"
   },
   {
    "duration": 149,
    "start_time": "2024-06-04T22:24:22.096Z"
   },
   {
    "duration": 84,
    "start_time": "2024-06-04T22:24:22.248Z"
   },
   {
    "duration": 761,
    "start_time": "2024-06-04T22:24:23.102Z"
   },
   {
    "duration": 22,
    "start_time": "2024-06-04T22:24:24.391Z"
   },
   {
    "duration": 22,
    "start_time": "2024-06-04T22:24:26.099Z"
   },
   {
    "duration": 321,
    "start_time": "2024-06-04T22:24:41.414Z"
   },
   {
    "duration": 23,
    "start_time": "2024-06-04T22:24:43.293Z"
   },
   {
    "duration": 170,
    "start_time": "2024-06-04T22:24:46.385Z"
   },
   {
    "duration": 351,
    "start_time": "2024-06-04T22:24:47.290Z"
   },
   {
    "duration": 75,
    "start_time": "2024-06-04T22:24:49.062Z"
   },
   {
    "duration": 32,
    "start_time": "2024-06-04T22:25:07.975Z"
   },
   {
    "duration": 6,
    "start_time": "2024-06-04T22:25:13.008Z"
   },
   {
    "duration": 90,
    "start_time": "2024-06-04T22:25:14.016Z"
   },
   {
    "duration": 23,
    "start_time": "2024-06-04T22:29:11.695Z"
   },
   {
    "duration": 24,
    "start_time": "2024-06-04T22:37:15.180Z"
   },
   {
    "duration": 33,
    "start_time": "2024-06-04T22:37:40.520Z"
   },
   {
    "duration": 33,
    "start_time": "2024-06-04T22:41:32.124Z"
   },
   {
    "duration": 24,
    "start_time": "2024-06-04T22:42:01.459Z"
   },
   {
    "duration": 464,
    "start_time": "2024-06-04T22:47:35.368Z"
   },
   {
    "duration": 454,
    "start_time": "2024-06-04T22:47:58.259Z"
   },
   {
    "duration": 1775,
    "start_time": "2024-06-04T22:47:59.461Z"
   },
   {
    "duration": 148,
    "start_time": "2024-06-04T22:48:02.006Z"
   },
   {
    "duration": 64,
    "start_time": "2024-06-04T22:48:04.909Z"
   },
   {
    "duration": 764,
    "start_time": "2024-06-04T22:48:05.992Z"
   },
   {
    "duration": 24,
    "start_time": "2024-06-04T22:48:07.055Z"
   },
   {
    "duration": 23,
    "start_time": "2024-06-04T22:48:08.220Z"
   },
   {
    "duration": 360,
    "start_time": "2024-06-04T22:48:14.999Z"
   },
   {
    "duration": 26,
    "start_time": "2024-06-04T22:48:17.304Z"
   },
   {
    "duration": 179,
    "start_time": "2024-06-04T22:48:19.699Z"
   },
   {
    "duration": 374,
    "start_time": "2024-06-04T22:48:20.811Z"
   },
   {
    "duration": 88,
    "start_time": "2024-06-04T22:48:22.225Z"
   },
   {
    "duration": 41,
    "start_time": "2024-06-04T22:48:27.361Z"
   },
   {
    "duration": 8,
    "start_time": "2024-06-04T22:48:28.224Z"
   },
   {
    "duration": 64,
    "start_time": "2024-06-04T22:48:29.075Z"
   },
   {
    "duration": 354,
    "start_time": "2024-06-04T22:49:31.481Z"
   },
   {
    "duration": 29,
    "start_time": "2024-06-04T22:49:37.905Z"
   },
   {
    "duration": 520,
    "start_time": "2024-06-04T22:50:22.617Z"
   },
   {
    "duration": 1709,
    "start_time": "2024-06-04T22:50:23.944Z"
   },
   {
    "duration": 155,
    "start_time": "2024-06-04T22:50:25.657Z"
   },
   {
    "duration": 65,
    "start_time": "2024-06-04T22:50:26.533Z"
   },
   {
    "duration": 776,
    "start_time": "2024-06-04T22:50:27.955Z"
   },
   {
    "duration": 27,
    "start_time": "2024-06-04T22:50:29.056Z"
   },
   {
    "duration": 21,
    "start_time": "2024-06-04T22:50:29.949Z"
   },
   {
    "duration": 306,
    "start_time": "2024-06-04T22:51:19.716Z"
   },
   {
    "duration": 30,
    "start_time": "2024-06-04T22:51:22.424Z"
   },
   {
    "duration": 173,
    "start_time": "2024-06-04T22:51:24.138Z"
   },
   {
    "duration": 304,
    "start_time": "2024-06-04T22:51:25.106Z"
   },
   {
    "duration": 74,
    "start_time": "2024-06-04T22:51:26.186Z"
   },
   {
    "duration": 35,
    "start_time": "2024-06-04T22:51:28.399Z"
   },
   {
    "duration": 7,
    "start_time": "2024-06-04T22:51:29.147Z"
   },
   {
    "duration": 65,
    "start_time": "2024-06-04T22:51:30.098Z"
   },
   {
    "duration": 7,
    "start_time": "2024-06-04T22:51:33.139Z"
   },
   {
    "duration": 346,
    "start_time": "2024-06-04T22:52:03.227Z"
   },
   {
    "duration": 409,
    "start_time": "2024-06-04T22:52:13.090Z"
   },
   {
    "duration": 1693,
    "start_time": "2024-06-04T22:52:14.734Z"
   },
   {
    "duration": 161,
    "start_time": "2024-06-04T22:52:16.430Z"
   },
   {
    "duration": 89,
    "start_time": "2024-06-04T22:52:18.132Z"
   },
   {
    "duration": 862,
    "start_time": "2024-06-04T22:52:19.057Z"
   },
   {
    "duration": 29,
    "start_time": "2024-06-04T22:52:19.923Z"
   },
   {
    "duration": 21,
    "start_time": "2024-06-04T22:52:20.803Z"
   },
   {
    "duration": 309,
    "start_time": "2024-06-04T22:52:25.114Z"
   },
   {
    "duration": 24,
    "start_time": "2024-06-04T22:52:26.433Z"
   },
   {
    "duration": 176,
    "start_time": "2024-06-04T22:52:27.766Z"
   },
   {
    "duration": 313,
    "start_time": "2024-06-04T22:52:28.396Z"
   },
   {
    "duration": 86,
    "start_time": "2024-06-04T22:52:29.092Z"
   },
   {
    "duration": 36,
    "start_time": "2024-06-04T22:52:31.698Z"
   },
   {
    "duration": 71,
    "start_time": "2024-06-04T22:52:37.407Z"
   },
   {
    "duration": 19,
    "start_time": "2024-06-04T22:53:26.272Z"
   },
   {
    "duration": 9,
    "start_time": "2024-06-04T22:53:51.134Z"
   },
   {
    "duration": 27,
    "start_time": "2024-06-04T22:54:15.207Z"
   },
   {
    "duration": 41,
    "start_time": "2024-06-04T22:54:34.275Z"
   },
   {
    "duration": 41,
    "start_time": "2024-06-04T23:09:34.464Z"
   },
   {
    "duration": 26,
    "start_time": "2024-06-04T23:09:56.888Z"
   },
   {
    "duration": 52,
    "start_time": "2024-06-04T23:10:29.040Z"
   },
   {
    "duration": 62,
    "start_time": "2024-06-04T23:14:05.750Z"
   },
   {
    "duration": 25,
    "start_time": "2024-06-04T23:14:17.087Z"
   },
   {
    "duration": 29,
    "start_time": "2024-06-04T23:17:06.560Z"
   },
   {
    "duration": 37,
    "start_time": "2024-06-04T23:18:14.197Z"
   },
   {
    "duration": 1165,
    "start_time": "2024-06-04T23:19:49.845Z"
   },
   {
    "duration": 51,
    "start_time": "2024-06-04T23:20:04.161Z"
   },
   {
    "duration": 53,
    "start_time": "2024-06-04T23:20:07.795Z"
   },
   {
    "duration": 56,
    "start_time": "2024-06-04T23:20:27.925Z"
   },
   {
    "duration": 38,
    "start_time": "2024-06-04T23:20:46.075Z"
   },
   {
    "duration": 8,
    "start_time": "2024-06-04T23:25:45.113Z"
   },
   {
    "duration": 96,
    "start_time": "2024-06-04T23:26:06.372Z"
   },
   {
    "duration": 81,
    "start_time": "2024-06-04T23:27:06.858Z"
   },
   {
    "duration": 80,
    "start_time": "2024-06-04T23:27:35.225Z"
   },
   {
    "duration": 42,
    "start_time": "2024-06-04T23:27:52.139Z"
   },
   {
    "duration": 58,
    "start_time": "2024-06-04T23:29:44.047Z"
   },
   {
    "duration": 32,
    "start_time": "2024-06-04T23:30:48.350Z"
   },
   {
    "duration": 33,
    "start_time": "2024-06-04T23:31:36.445Z"
   },
   {
    "duration": 34,
    "start_time": "2024-06-04T23:46:36.412Z"
   },
   {
    "duration": 7,
    "start_time": "2024-06-04T23:46:41.292Z"
   },
   {
    "duration": 5,
    "start_time": "2024-06-04T23:46:42.355Z"
   },
   {
    "duration": 7,
    "start_time": "2024-06-04T23:46:44.723Z"
   },
   {
    "duration": 11,
    "start_time": "2024-06-04T23:46:48.202Z"
   },
   {
    "duration": 2669,
    "start_time": "2024-06-04T23:47:06.911Z"
   },
   {
    "duration": 441,
    "start_time": "2024-06-04T23:47:22.765Z"
   },
   {
    "duration": 15,
    "start_time": "2024-06-04T23:49:00.189Z"
   },
   {
    "duration": 39,
    "start_time": "2024-06-04T23:52:00.340Z"
   },
   {
    "duration": 11,
    "start_time": "2024-06-05T00:19:39.810Z"
   },
   {
    "duration": 12,
    "start_time": "2024-06-05T00:25:22.815Z"
   },
   {
    "duration": 12,
    "start_time": "2024-06-05T00:26:01.266Z"
   },
   {
    "duration": 16,
    "start_time": "2024-06-05T00:26:23.913Z"
   },
   {
    "duration": 324,
    "start_time": "2024-06-05T12:56:50.647Z"
   },
   {
    "duration": 31,
    "start_time": "2024-06-05T13:11:57.269Z"
   },
   {
    "duration": 524,
    "start_time": "2024-06-05T13:12:15.082Z"
   },
   {
    "duration": 1938,
    "start_time": "2024-06-05T13:12:15.610Z"
   },
   {
    "duration": 151,
    "start_time": "2024-06-05T13:12:17.551Z"
   },
   {
    "duration": 78,
    "start_time": "2024-06-05T13:12:17.707Z"
   },
   {
    "duration": 819,
    "start_time": "2024-06-05T13:12:17.787Z"
   },
   {
    "duration": 23,
    "start_time": "2024-06-05T13:12:18.609Z"
   },
   {
    "duration": 22,
    "start_time": "2024-06-05T13:12:18.635Z"
   },
   {
    "duration": 349,
    "start_time": "2024-06-05T13:12:19.644Z"
   },
   {
    "duration": 25,
    "start_time": "2024-06-05T13:12:20.918Z"
   },
   {
    "duration": 196,
    "start_time": "2024-06-05T13:13:25.042Z"
   },
   {
    "duration": 357,
    "start_time": "2024-06-05T13:13:26.387Z"
   },
   {
    "duration": 83,
    "start_time": "2024-06-05T13:13:27.539Z"
   },
   {
    "duration": 39,
    "start_time": "2024-06-05T13:13:30.081Z"
   },
   {
    "duration": 7,
    "start_time": "2024-06-05T13:13:30.731Z"
   },
   {
    "duration": 64,
    "start_time": "2024-06-05T13:13:31.507Z"
   },
   {
    "duration": 40,
    "start_time": "2024-06-05T13:13:33.027Z"
   },
   {
    "duration": 67,
    "start_time": "2024-06-05T13:15:04.763Z"
   },
   {
    "duration": 344,
    "start_time": "2024-06-05T13:24:33.250Z"
   },
   {
    "duration": 434,
    "start_time": "2024-06-05T13:25:39.730Z"
   },
   {
    "duration": 1543,
    "start_time": "2024-06-05T13:25:40.167Z"
   },
   {
    "duration": 144,
    "start_time": "2024-06-05T13:25:41.713Z"
   },
   {
    "duration": 83,
    "start_time": "2024-06-05T13:25:41.861Z"
   },
   {
    "duration": 789,
    "start_time": "2024-06-05T13:25:41.947Z"
   },
   {
    "duration": 22,
    "start_time": "2024-06-05T13:25:42.739Z"
   },
   {
    "duration": 47,
    "start_time": "2024-06-05T13:25:42.764Z"
   },
   {
    "duration": 332,
    "start_time": "2024-06-05T13:25:42.816Z"
   },
   {
    "duration": 21,
    "start_time": "2024-06-05T13:25:44.062Z"
   },
   {
    "duration": 186,
    "start_time": "2024-06-05T13:25:44.504Z"
   },
   {
    "duration": 312,
    "start_time": "2024-06-05T13:25:45.414Z"
   },
   {
    "duration": 78,
    "start_time": "2024-06-05T13:25:46.335Z"
   },
   {
    "duration": 31,
    "start_time": "2024-06-05T13:25:48.583Z"
   },
   {
    "duration": 6,
    "start_time": "2024-06-05T13:25:49.311Z"
   },
   {
    "duration": 56,
    "start_time": "2024-06-05T13:25:50.278Z"
   },
   {
    "duration": 41,
    "start_time": "2024-06-05T13:25:52.751Z"
   },
   {
    "duration": 35,
    "start_time": "2024-06-05T13:26:19.359Z"
   },
   {
    "duration": 37,
    "start_time": "2024-06-05T13:26:42.947Z"
   },
   {
    "duration": 46,
    "start_time": "2024-06-05T13:29:12.752Z"
   },
   {
    "duration": 40,
    "start_time": "2024-06-05T13:30:10.543Z"
   },
   {
    "duration": 41,
    "start_time": "2024-06-05T13:30:19.905Z"
   },
   {
    "duration": 43,
    "start_time": "2024-06-05T13:33:50.258Z"
   },
   {
    "duration": 34,
    "start_time": "2024-06-05T13:51:02.984Z"
   },
   {
    "duration": 39,
    "start_time": "2024-06-05T13:51:51.118Z"
   },
   {
    "duration": 169,
    "start_time": "2024-06-05T13:52:19.770Z"
   },
   {
    "duration": 50,
    "start_time": "2024-06-05T13:52:29.805Z"
   },
   {
    "duration": 62,
    "start_time": "2024-06-05T13:52:43.761Z"
   },
   {
    "duration": 256,
    "start_time": "2024-06-05T13:53:01.729Z"
   },
   {
    "duration": 67,
    "start_time": "2024-06-05T13:53:10.121Z"
   },
   {
    "duration": 83,
    "start_time": "2024-06-05T14:13:31.665Z"
   },
   {
    "duration": 74,
    "start_time": "2024-06-05T14:14:36.792Z"
   },
   {
    "duration": 25,
    "start_time": "2024-06-05T14:16:25.515Z"
   },
   {
    "duration": 69,
    "start_time": "2024-06-05T14:16:33.758Z"
   },
   {
    "duration": 491,
    "start_time": "2024-06-05T15:20:51.661Z"
   },
   {
    "duration": 1800,
    "start_time": "2024-06-05T15:20:57.127Z"
   },
   {
    "duration": 150,
    "start_time": "2024-06-05T15:20:58.933Z"
   },
   {
    "duration": 74,
    "start_time": "2024-06-05T15:21:00.180Z"
   },
   {
    "duration": 808,
    "start_time": "2024-06-05T15:21:01.028Z"
   },
   {
    "duration": 24,
    "start_time": "2024-06-05T15:21:02.197Z"
   },
   {
    "duration": 24,
    "start_time": "2024-06-05T15:21:03.203Z"
   },
   {
    "duration": 374,
    "start_time": "2024-06-05T15:21:08.643Z"
   },
   {
    "duration": 48,
    "start_time": "2024-06-05T15:21:10.826Z"
   },
   {
    "duration": 261,
    "start_time": "2024-06-05T15:21:12.871Z"
   },
   {
    "duration": 443,
    "start_time": "2024-06-05T15:21:14.371Z"
   },
   {
    "duration": 109,
    "start_time": "2024-06-05T15:21:15.934Z"
   },
   {
    "duration": 47,
    "start_time": "2024-06-05T15:21:20.594Z"
   },
   {
    "duration": 6,
    "start_time": "2024-06-05T15:21:21.729Z"
   },
   {
    "duration": 87,
    "start_time": "2024-06-05T15:21:24.852Z"
   },
   {
    "duration": 490,
    "start_time": "2024-06-05T15:21:28.924Z"
   },
   {
    "duration": 56,
    "start_time": "2024-06-05T15:26:23.146Z"
   },
   {
    "duration": 42,
    "start_time": "2024-06-05T15:26:34.428Z"
   },
   {
    "duration": 47,
    "start_time": "2024-06-05T15:27:54.685Z"
   },
   {
    "duration": 48,
    "start_time": "2024-06-05T15:28:02.356Z"
   },
   {
    "duration": 54,
    "start_time": "2024-06-05T15:31:14.149Z"
   },
   {
    "duration": 48,
    "start_time": "2024-06-05T15:31:33.616Z"
   },
   {
    "duration": 53,
    "start_time": "2024-06-05T15:33:35.032Z"
   },
   {
    "duration": 45,
    "start_time": "2024-06-05T15:35:00.013Z"
   },
   {
    "duration": 40,
    "start_time": "2024-06-05T15:36:06.352Z"
   },
   {
    "duration": 52,
    "start_time": "2024-06-05T15:36:46.700Z"
   },
   {
    "duration": 54,
    "start_time": "2024-06-05T15:36:58.969Z"
   },
   {
    "duration": 42,
    "start_time": "2024-06-05T15:37:24.051Z"
   },
   {
    "duration": 46,
    "start_time": "2024-06-05T15:37:59.345Z"
   },
   {
    "duration": 525,
    "start_time": "2024-06-05T15:38:20.935Z"
   },
   {
    "duration": 57,
    "start_time": "2024-06-05T15:38:44.178Z"
   },
   {
    "duration": 47,
    "start_time": "2024-06-05T15:41:12.082Z"
   },
   {
    "duration": 36,
    "start_time": "2024-06-05T15:41:47.765Z"
   },
   {
    "duration": 7,
    "start_time": "2024-06-05T15:48:35.316Z"
   },
   {
    "duration": 7,
    "start_time": "2024-06-05T15:48:36.373Z"
   },
   {
    "duration": 8,
    "start_time": "2024-06-05T15:48:39.917Z"
   },
   {
    "duration": 6,
    "start_time": "2024-06-05T15:48:41.334Z"
   },
   {
    "duration": 2890,
    "start_time": "2024-06-05T15:48:48.135Z"
   },
   {
    "duration": 479,
    "start_time": "2024-06-05T15:48:51.029Z"
   },
   {
    "duration": 450,
    "start_time": "2024-06-05T16:01:12.245Z"
   },
   {
    "duration": 452,
    "start_time": "2024-06-05T16:01:39.926Z"
   },
   {
    "duration": 450,
    "start_time": "2024-06-05T16:06:16.847Z"
   },
   {
    "duration": 471,
    "start_time": "2024-06-05T17:05:45.716Z"
   },
   {
    "duration": 906,
    "start_time": "2024-06-05T17:06:49.945Z"
   },
   {
    "duration": 479,
    "start_time": "2024-06-05T17:10:48.092Z"
   },
   {
    "duration": 462,
    "start_time": "2024-06-05T17:11:12.039Z"
   },
   {
    "duration": 39,
    "start_time": "2024-06-05T17:12:37.156Z"
   },
   {
    "duration": 16,
    "start_time": "2024-06-05T17:12:58.016Z"
   },
   {
    "duration": 15,
    "start_time": "2024-06-05T17:13:09.817Z"
   },
   {
    "duration": 16,
    "start_time": "2024-06-05T17:13:34.033Z"
   },
   {
    "duration": 740,
    "start_time": "2024-06-05T17:38:14.732Z"
   },
   {
    "duration": 359,
    "start_time": "2024-06-05T17:38:46.150Z"
   },
   {
    "duration": 350,
    "start_time": "2024-06-05T17:39:38.651Z"
   },
   {
    "duration": 271,
    "start_time": "2024-06-05T17:40:43.068Z"
   },
   {
    "duration": 10,
    "start_time": "2024-06-05T17:41:21.564Z"
   },
   {
    "duration": 10,
    "start_time": "2024-06-05T17:41:53.691Z"
   },
   {
    "duration": 8,
    "start_time": "2024-06-05T17:58:27.838Z"
   },
   {
    "duration": 5,
    "start_time": "2024-06-05T17:58:36.290Z"
   },
   {
    "duration": 262,
    "start_time": "2024-06-05T17:58:56.692Z"
   },
   {
    "duration": 7,
    "start_time": "2024-06-05T17:59:22.925Z"
   },
   {
    "duration": 112,
    "start_time": "2024-06-05T18:02:31.060Z"
   },
   {
    "duration": 10,
    "start_time": "2024-06-05T18:19:09.618Z"
   },
   {
    "duration": 30,
    "start_time": "2024-06-05T18:19:21.930Z"
   },
   {
    "duration": 25,
    "start_time": "2024-06-05T18:22:40.740Z"
   },
   {
    "duration": 1820,
    "start_time": "2024-06-05T18:25:22.173Z"
   },
   {
    "duration": 280,
    "start_time": "2024-06-05T18:26:43.652Z"
   },
   {
    "duration": 7,
    "start_time": "2024-06-05T18:28:48.061Z"
   },
   {
    "duration": 22,
    "start_time": "2024-06-05T19:02:49.532Z"
   },
   {
    "duration": 10,
    "start_time": "2024-06-05T19:02:55.773Z"
   },
   {
    "duration": 13,
    "start_time": "2024-06-05T19:04:12.647Z"
   },
   {
    "duration": 341,
    "start_time": "2024-06-06T12:35:01.258Z"
   },
   {
    "duration": 461,
    "start_time": "2024-06-06T12:35:23.455Z"
   },
   {
    "duration": 1795,
    "start_time": "2024-06-06T12:35:23.920Z"
   },
   {
    "duration": 151,
    "start_time": "2024-06-06T12:35:25.718Z"
   },
   {
    "duration": 90,
    "start_time": "2024-06-06T12:35:25.874Z"
   },
   {
    "duration": 808,
    "start_time": "2024-06-06T12:35:25.967Z"
   },
   {
    "duration": 35,
    "start_time": "2024-06-06T12:35:26.779Z"
   },
   {
    "duration": 27,
    "start_time": "2024-06-06T12:35:26.817Z"
   },
   {
    "duration": 355,
    "start_time": "2024-06-06T12:35:29.346Z"
   },
   {
    "duration": 27,
    "start_time": "2024-06-06T12:35:31.364Z"
   },
   {
    "duration": 189,
    "start_time": "2024-06-06T12:35:33.323Z"
   },
   {
    "duration": 361,
    "start_time": "2024-06-06T12:35:34.356Z"
   },
   {
    "duration": 83,
    "start_time": "2024-06-06T12:35:35.541Z"
   },
   {
    "duration": 47,
    "start_time": "2024-06-06T12:35:36.764Z"
   },
   {
    "duration": 7,
    "start_time": "2024-06-06T12:35:36.960Z"
   },
   {
    "duration": 62,
    "start_time": "2024-06-06T12:35:37.153Z"
   },
   {
    "duration": 47,
    "start_time": "2024-06-06T12:35:41.126Z"
   },
   {
    "duration": 7,
    "start_time": "2024-06-06T12:35:44.548Z"
   },
   {
    "duration": 6,
    "start_time": "2024-06-06T12:35:45.787Z"
   },
   {
    "duration": 7,
    "start_time": "2024-06-06T12:35:48.835Z"
   },
   {
    "duration": 6,
    "start_time": "2024-06-06T12:35:49.699Z"
   },
   {
    "duration": 2905,
    "start_time": "2024-06-06T12:35:52.107Z"
   },
   {
    "duration": 486,
    "start_time": "2024-06-06T12:35:55.017Z"
   },
   {
    "duration": 46,
    "start_time": "2024-06-06T12:36:10.082Z"
   },
   {
    "duration": 19,
    "start_time": "2024-06-06T12:36:16.538Z"
   },
   {
    "duration": 19,
    "start_time": "2024-06-06T12:36:31.954Z"
   },
   {
    "duration": 12,
    "start_time": "2024-06-06T12:36:37.339Z"
   },
   {
    "duration": 32,
    "start_time": "2024-06-06T16:00:32.115Z"
   },
   {
    "duration": 18,
    "start_time": "2024-06-06T16:00:59.682Z"
   },
   {
    "duration": 144,
    "start_time": "2024-06-06T16:01:27.696Z"
   },
   {
    "duration": 107,
    "start_time": "2024-06-06T16:01:38.081Z"
   },
   {
    "duration": 49,
    "start_time": "2024-06-06T16:02:05.483Z"
   },
   {
    "duration": 54,
    "start_time": "2024-06-06T16:02:41.579Z"
   },
   {
    "duration": 47,
    "start_time": "2024-06-06T16:02:53.394Z"
   },
   {
    "duration": 15,
    "start_time": "2024-06-06T16:03:13.634Z"
   },
   {
    "duration": 19,
    "start_time": "2024-06-06T16:04:22.346Z"
   },
   {
    "duration": 23,
    "start_time": "2024-06-06T16:04:52.125Z"
   },
   {
    "duration": 81,
    "start_time": "2024-06-06T16:05:05.958Z"
   },
   {
    "duration": 56,
    "start_time": "2024-06-06T16:23:33.122Z"
   },
   {
    "duration": 38,
    "start_time": "2024-06-06T16:23:41.260Z"
   },
   {
    "duration": 40,
    "start_time": "2024-06-06T16:23:53.689Z"
   },
   {
    "duration": 262,
    "start_time": "2024-06-06T16:24:16.931Z"
   },
   {
    "duration": 51,
    "start_time": "2024-06-06T16:24:26.101Z"
   },
   {
    "duration": 20,
    "start_time": "2024-06-06T16:24:43.372Z"
   },
   {
    "duration": 11,
    "start_time": "2024-06-06T16:24:51.739Z"
   },
   {
    "duration": 14,
    "start_time": "2024-06-06T16:25:12.729Z"
   },
   {
    "duration": 23,
    "start_time": "2024-06-06T17:57:42.746Z"
   },
   {
    "duration": 21,
    "start_time": "2024-06-06T18:01:16.094Z"
   },
   {
    "duration": 15,
    "start_time": "2024-06-06T18:01:24.241Z"
   },
   {
    "duration": 14,
    "start_time": "2024-06-06T18:03:43.353Z"
   },
   {
    "duration": 14,
    "start_time": "2024-06-06T18:05:04.230Z"
   },
   {
    "duration": 27,
    "start_time": "2024-06-06T18:11:07.463Z"
   },
   {
    "duration": 75,
    "start_time": "2024-06-06T18:13:52.173Z"
   },
   {
    "duration": 8,
    "start_time": "2024-06-06T18:15:03.204Z"
   },
   {
    "duration": 83,
    "start_time": "2024-06-06T18:15:26.578Z"
   },
   {
    "duration": 117,
    "start_time": "2024-06-06T18:16:05.738Z"
   },
   {
    "duration": 28,
    "start_time": "2024-06-06T18:31:59.020Z"
   },
   {
    "duration": 28,
    "start_time": "2024-06-06T19:44:08.552Z"
   },
   {
    "duration": 40,
    "start_time": "2024-06-06T19:44:44.809Z"
   },
   {
    "duration": 117,
    "start_time": "2024-06-06T19:44:53.418Z"
   },
   {
    "duration": 118,
    "start_time": "2024-06-06T19:45:21.446Z"
   },
   {
    "duration": 94,
    "start_time": "2024-06-06T19:46:13.259Z"
   },
   {
    "duration": 5,
    "start_time": "2024-06-06T19:47:27.327Z"
   },
   {
    "duration": 91,
    "start_time": "2024-06-06T19:47:56.898Z"
   },
   {
    "duration": 141,
    "start_time": "2024-06-06T19:53:07.407Z"
   },
   {
    "duration": 583,
    "start_time": "2024-06-06T19:53:19.035Z"
   },
   {
    "duration": 572,
    "start_time": "2024-06-06T19:53:42.169Z"
   },
   {
    "duration": 483,
    "start_time": "2024-06-06T19:54:18.422Z"
   },
   {
    "duration": 319,
    "start_time": "2024-06-06T19:54:39.104Z"
   },
   {
    "duration": 3,
    "start_time": "2024-06-06T19:54:39.806Z"
   },
   {
    "duration": 415,
    "start_time": "2024-06-06T19:54:45.574Z"
   },
   {
    "duration": 1526,
    "start_time": "2024-06-06T19:54:45.993Z"
   },
   {
    "duration": 147,
    "start_time": "2024-06-06T19:54:47.522Z"
   },
   {
    "duration": 84,
    "start_time": "2024-06-06T19:54:47.674Z"
   },
   {
    "duration": 771,
    "start_time": "2024-06-06T19:54:47.761Z"
   },
   {
    "duration": 22,
    "start_time": "2024-06-06T19:54:48.535Z"
   },
   {
    "duration": 22,
    "start_time": "2024-06-06T19:54:48.560Z"
   },
   {
    "duration": 354,
    "start_time": "2024-06-06T19:54:48.585Z"
   },
   {
    "duration": 22,
    "start_time": "2024-06-06T19:54:48.943Z"
   },
   {
    "duration": 174,
    "start_time": "2024-06-06T19:54:50.313Z"
   },
   {
    "duration": 336,
    "start_time": "2024-06-06T19:54:50.490Z"
   },
   {
    "duration": 101,
    "start_time": "2024-06-06T19:54:50.830Z"
   },
   {
    "duration": 44,
    "start_time": "2024-06-06T19:54:52.988Z"
   },
   {
    "duration": 7,
    "start_time": "2024-06-06T19:54:53.170Z"
   },
   {
    "duration": 58,
    "start_time": "2024-06-06T19:54:54.573Z"
   },
   {
    "duration": 39,
    "start_time": "2024-06-06T19:54:54.770Z"
   },
   {
    "duration": 6,
    "start_time": "2024-06-06T19:54:55.643Z"
   },
   {
    "duration": 5,
    "start_time": "2024-06-06T19:54:55.654Z"
   },
   {
    "duration": 7,
    "start_time": "2024-06-06T19:55:02.429Z"
   },
   {
    "duration": 7,
    "start_time": "2024-06-06T19:55:03.643Z"
   },
   {
    "duration": 2654,
    "start_time": "2024-06-06T19:55:04.342Z"
   },
   {
    "duration": 464,
    "start_time": "2024-06-06T19:55:07.000Z"
   },
   {
    "duration": 52,
    "start_time": "2024-06-06T19:55:07.468Z"
   },
   {
    "duration": 17,
    "start_time": "2024-06-06T19:55:19.739Z"
   },
   {
    "duration": 17,
    "start_time": "2024-06-06T19:55:24.647Z"
   },
   {
    "duration": 11,
    "start_time": "2024-06-06T19:55:30.413Z"
   },
   {
    "duration": 21,
    "start_time": "2024-06-06T19:55:35.493Z"
   },
   {
    "duration": 92,
    "start_time": "2024-06-06T19:55:49.124Z"
   },
   {
    "duration": 5,
    "start_time": "2024-06-06T19:56:28.042Z"
   },
   {
    "duration": 6,
    "start_time": "2024-06-06T19:56:51.373Z"
   },
   {
    "duration": 5,
    "start_time": "2024-06-06T19:56:58.256Z"
   },
   {
    "duration": 93,
    "start_time": "2024-06-06T19:57:04.486Z"
   },
   {
    "duration": 112,
    "start_time": "2024-06-06T19:58:40.597Z"
   },
   {
    "duration": 25,
    "start_time": "2024-06-06T20:01:15.373Z"
   },
   {
    "duration": 322,
    "start_time": "2024-06-07T17:26:24.930Z"
   },
   {
    "duration": 22,
    "start_time": "2024-06-07T17:26:25.620Z"
   },
   {
    "duration": 443,
    "start_time": "2024-06-07T17:26:31.680Z"
   },
   {
    "duration": 1759,
    "start_time": "2024-06-07T17:26:32.240Z"
   },
   {
    "duration": 151,
    "start_time": "2024-06-07T17:26:34.004Z"
   },
   {
    "duration": 86,
    "start_time": "2024-06-07T17:26:34.158Z"
   },
   {
    "duration": 788,
    "start_time": "2024-06-07T17:26:34.250Z"
   },
   {
    "duration": 24,
    "start_time": "2024-06-07T17:26:35.041Z"
   },
   {
    "duration": 55,
    "start_time": "2024-06-07T17:26:35.069Z"
   },
   {
    "duration": 408,
    "start_time": "2024-06-07T17:26:35.900Z"
   },
   {
    "duration": 32,
    "start_time": "2024-06-07T17:26:36.313Z"
   },
   {
    "duration": 239,
    "start_time": "2024-06-07T17:26:38.527Z"
   },
   {
    "duration": 430,
    "start_time": "2024-06-07T17:26:38.771Z"
   },
   {
    "duration": 99,
    "start_time": "2024-06-07T17:26:39.206Z"
   },
   {
    "duration": 59,
    "start_time": "2024-06-07T17:26:39.615Z"
   },
   {
    "duration": 18,
    "start_time": "2024-06-07T17:26:39.713Z"
   },
   {
    "duration": 76,
    "start_time": "2024-06-07T17:26:40.512Z"
   },
   {
    "duration": 64,
    "start_time": "2024-06-07T17:26:40.593Z"
   },
   {
    "duration": 7,
    "start_time": "2024-06-07T17:26:41.316Z"
   },
   {
    "duration": 7,
    "start_time": "2024-06-07T17:26:41.792Z"
   },
   {
    "duration": 8,
    "start_time": "2024-06-07T17:26:42.662Z"
   },
   {
    "duration": 6,
    "start_time": "2024-06-07T17:26:43.307Z"
   },
   {
    "duration": 2985,
    "start_time": "2024-06-07T17:26:44.666Z"
   },
   {
    "duration": 480,
    "start_time": "2024-06-07T17:26:47.654Z"
   },
   {
    "duration": 47,
    "start_time": "2024-06-07T17:26:55.673Z"
   },
   {
    "duration": 18,
    "start_time": "2024-06-07T17:27:02.617Z"
   },
   {
    "duration": 17,
    "start_time": "2024-06-07T17:27:14.799Z"
   },
   {
    "duration": 12,
    "start_time": "2024-06-07T17:27:56.032Z"
   },
   {
    "duration": 20,
    "start_time": "2024-06-07T17:28:17.583Z"
   },
   {
    "duration": 130,
    "start_time": "2024-06-07T17:28:24.418Z"
   },
   {
    "duration": 10,
    "start_time": "2024-06-07T17:30:02.283Z"
   },
   {
    "duration": 25,
    "start_time": "2024-06-07T18:44:19.290Z"
   },
   {
    "duration": 16,
    "start_time": "2024-06-07T18:44:53.139Z"
   },
   {
    "duration": 10,
    "start_time": "2024-06-07T18:45:18.209Z"
   },
   {
    "duration": 54,
    "start_time": "2024-06-07T18:45:39.003Z"
   },
   {
    "duration": 11,
    "start_time": "2024-06-07T18:46:31.037Z"
   },
   {
    "duration": 12,
    "start_time": "2024-06-07T18:46:38.023Z"
   },
   {
    "duration": 13,
    "start_time": "2024-06-07T18:46:47.885Z"
   },
   {
    "duration": 15,
    "start_time": "2024-06-07T18:50:53.116Z"
   },
   {
    "duration": 9,
    "start_time": "2024-06-07T18:52:20.501Z"
   },
   {
    "duration": 14,
    "start_time": "2024-06-07T18:53:03.026Z"
   },
   {
    "duration": 12,
    "start_time": "2024-06-07T18:53:46.631Z"
   },
   {
    "duration": 11,
    "start_time": "2024-06-07T18:54:21.586Z"
   },
   {
    "duration": 9,
    "start_time": "2024-06-07T18:54:33.394Z"
   },
   {
    "duration": 11,
    "start_time": "2024-06-07T18:55:04.684Z"
   },
   {
    "duration": 10,
    "start_time": "2024-06-07T18:55:10.592Z"
   },
   {
    "duration": 10,
    "start_time": "2024-06-07T18:55:40.504Z"
   },
   {
    "duration": 20,
    "start_time": "2024-06-07T18:58:27.208Z"
   },
   {
    "duration": 8,
    "start_time": "2024-06-07T19:00:02.133Z"
   },
   {
    "duration": 28,
    "start_time": "2024-06-07T19:00:50.176Z"
   },
   {
    "duration": 35,
    "start_time": "2024-06-07T19:02:33.312Z"
   },
   {
    "duration": 27,
    "start_time": "2024-06-07T19:02:52.204Z"
   },
   {
    "duration": 327,
    "start_time": "2024-06-07T19:04:43.760Z"
   },
   {
    "duration": 476,
    "start_time": "2024-06-07T19:04:51.494Z"
   },
   {
    "duration": 1847,
    "start_time": "2024-06-07T19:04:51.975Z"
   },
   {
    "duration": 172,
    "start_time": "2024-06-07T19:04:53.826Z"
   },
   {
    "duration": 102,
    "start_time": "2024-06-07T19:04:54.004Z"
   },
   {
    "duration": 896,
    "start_time": "2024-06-07T19:04:54.127Z"
   },
   {
    "duration": 31,
    "start_time": "2024-06-07T19:04:55.026Z"
   },
   {
    "duration": 61,
    "start_time": "2024-06-07T19:04:55.062Z"
   },
   {
    "duration": 448,
    "start_time": "2024-06-07T19:04:55.129Z"
   },
   {
    "duration": 46,
    "start_time": "2024-06-07T19:04:55.582Z"
   },
   {
    "duration": 265,
    "start_time": "2024-06-07T19:04:55.635Z"
   },
   {
    "duration": 429,
    "start_time": "2024-06-07T19:04:55.904Z"
   },
   {
    "duration": 98,
    "start_time": "2024-06-07T19:04:56.340Z"
   },
   {
    "duration": 46,
    "start_time": "2024-06-07T19:04:56.442Z"
   },
   {
    "duration": 8,
    "start_time": "2024-06-07T19:04:57.173Z"
   },
   {
    "duration": 75,
    "start_time": "2024-06-07T19:04:57.407Z"
   },
   {
    "duration": 50,
    "start_time": "2024-06-07T19:04:57.642Z"
   },
   {
    "duration": 9,
    "start_time": "2024-06-07T19:04:58.961Z"
   },
   {
    "duration": 6,
    "start_time": "2024-06-07T19:04:59.174Z"
   },
   {
    "duration": 12,
    "start_time": "2024-06-07T19:05:00.720Z"
   },
   {
    "duration": 7,
    "start_time": "2024-06-07T19:05:00.921Z"
   },
   {
    "duration": 2990,
    "start_time": "2024-06-07T19:05:02.087Z"
   },
   {
    "duration": 519,
    "start_time": "2024-06-07T19:05:05.081Z"
   },
   {
    "duration": 62,
    "start_time": "2024-06-07T19:05:05.603Z"
   },
   {
    "duration": 20,
    "start_time": "2024-06-07T19:05:05.671Z"
   },
   {
    "duration": 19,
    "start_time": "2024-06-07T19:05:16.833Z"
   },
   {
    "duration": 14,
    "start_time": "2024-06-07T19:05:19.904Z"
   },
   {
    "duration": 25,
    "start_time": "2024-06-07T19:05:26.563Z"
   },
   {
    "duration": 46,
    "start_time": "2024-06-07T19:06:34.751Z"
   },
   {
    "duration": 27,
    "start_time": "2024-06-07T19:08:39.239Z"
   },
   {
    "duration": 633,
    "start_time": "2024-06-07T19:09:53.440Z"
   },
   {
    "duration": 648,
    "start_time": "2024-06-07T19:10:27.015Z"
   },
   {
    "duration": 650,
    "start_time": "2024-06-07T19:10:32.021Z"
   },
   {
    "duration": 25,
    "start_time": "2024-06-07T19:11:00.298Z"
   },
   {
    "duration": 35,
    "start_time": "2024-06-07T19:11:09.314Z"
   },
   {
    "duration": 6,
    "start_time": "2024-06-07T19:16:19.925Z"
   },
   {
    "duration": 122,
    "start_time": "2024-06-07T19:16:28.362Z"
   },
   {
    "duration": 119,
    "start_time": "2024-06-07T19:18:10.699Z"
   },
   {
    "duration": 113,
    "start_time": "2024-06-07T19:18:20.599Z"
   },
   {
    "duration": 345,
    "start_time": "2024-06-07T19:19:28.282Z"
   },
   {
    "duration": 148,
    "start_time": "2024-06-07T19:20:09.681Z"
   },
   {
    "duration": 33,
    "start_time": "2024-06-07T19:20:31.181Z"
   },
   {
    "duration": 37,
    "start_time": "2024-06-07T19:20:37.744Z"
   },
   {
    "duration": 343,
    "start_time": "2024-06-07T19:20:48.220Z"
   },
   {
    "duration": 25,
    "start_time": "2024-06-07T19:31:32.611Z"
   },
   {
    "duration": 35,
    "start_time": "2024-06-07T19:32:03.504Z"
   },
   {
    "duration": 12,
    "start_time": "2024-06-07T19:32:27.276Z"
   },
   {
    "duration": 17,
    "start_time": "2024-06-07T19:47:02.996Z"
   },
   {
    "duration": 19,
    "start_time": "2024-06-07T19:49:16.781Z"
   },
   {
    "duration": 64,
    "start_time": "2024-06-07T19:51:14.075Z"
   },
   {
    "duration": 27,
    "start_time": "2024-06-07T19:51:49.884Z"
   },
   {
    "duration": 13,
    "start_time": "2024-06-07T19:52:13.331Z"
   },
   {
    "duration": 11,
    "start_time": "2024-06-07T19:53:27.120Z"
   },
   {
    "duration": 5,
    "start_time": "2024-06-07T19:55:39.599Z"
   },
   {
    "duration": 15,
    "start_time": "2024-06-07T19:56:03.927Z"
   },
   {
    "duration": 6,
    "start_time": "2024-06-07T19:56:32.993Z"
   },
   {
    "duration": 14,
    "start_time": "2024-06-07T19:58:37.609Z"
   },
   {
    "duration": 457,
    "start_time": "2024-06-08T02:03:13.694Z"
   },
   {
    "duration": 1692,
    "start_time": "2024-06-08T02:03:14.157Z"
   },
   {
    "duration": 144,
    "start_time": "2024-06-08T02:03:15.852Z"
   },
   {
    "duration": 83,
    "start_time": "2024-06-08T02:03:16.000Z"
   },
   {
    "duration": 761,
    "start_time": "2024-06-08T02:03:16.087Z"
   },
   {
    "duration": 21,
    "start_time": "2024-06-08T02:03:16.851Z"
   },
   {
    "duration": 22,
    "start_time": "2024-06-08T02:03:16.875Z"
   },
   {
    "duration": 301,
    "start_time": "2024-06-08T02:03:18.870Z"
   },
   {
    "duration": 19,
    "start_time": "2024-06-08T02:03:19.838Z"
   },
   {
    "duration": 168,
    "start_time": "2024-06-08T02:03:20.457Z"
   },
   {
    "duration": 307,
    "start_time": "2024-06-08T02:03:20.694Z"
   },
   {
    "duration": 87,
    "start_time": "2024-06-08T02:03:21.005Z"
   },
   {
    "duration": 32,
    "start_time": "2024-06-08T02:03:21.665Z"
   },
   {
    "duration": 5,
    "start_time": "2024-06-08T02:03:21.881Z"
   },
   {
    "duration": 57,
    "start_time": "2024-06-08T02:03:22.304Z"
   },
   {
    "duration": 50,
    "start_time": "2024-06-08T02:03:22.527Z"
   },
   {
    "duration": 7,
    "start_time": "2024-06-08T02:03:23.211Z"
   },
   {
    "duration": 6,
    "start_time": "2024-06-08T02:03:23.419Z"
   },
   {
    "duration": 7,
    "start_time": "2024-06-08T02:03:24.479Z"
   },
   {
    "duration": 6,
    "start_time": "2024-06-08T02:03:24.702Z"
   },
   {
    "duration": 2606,
    "start_time": "2024-06-08T02:03:25.462Z"
   },
   {
    "duration": 462,
    "start_time": "2024-06-08T02:03:28.073Z"
   },
   {
    "duration": 1480,
    "start_time": "2024-06-08T02:08:56.187Z"
   },
   {
    "duration": 136,
    "start_time": "2024-06-08T02:08:57.671Z"
   },
   {
    "duration": 61,
    "start_time": "2024-06-08T02:08:57.955Z"
   },
   {
    "duration": 754,
    "start_time": "2024-06-08T02:08:58.974Z"
   },
   {
    "duration": 24,
    "start_time": "2024-06-08T02:08:59.731Z"
   },
   {
    "duration": 21,
    "start_time": "2024-06-08T02:09:00.885Z"
   },
   {
    "duration": 332,
    "start_time": "2024-06-08T02:09:08.727Z"
   },
   {
    "duration": 20,
    "start_time": "2024-06-08T02:09:09.900Z"
   },
   {
    "duration": 162,
    "start_time": "2024-06-08T02:09:11.214Z"
   },
   {
    "duration": 294,
    "start_time": "2024-06-08T02:09:11.778Z"
   },
   {
    "duration": 69,
    "start_time": "2024-06-08T02:09:13.017Z"
   },
   {
    "duration": 32,
    "start_time": "2024-06-08T02:09:14.883Z"
   },
   {
    "duration": 8,
    "start_time": "2024-06-08T02:09:15.539Z"
   },
   {
    "duration": 63,
    "start_time": "2024-06-08T02:12:25.797Z"
   },
   {
    "duration": 44,
    "start_time": "2024-06-08T02:12:26.463Z"
   },
   {
    "duration": 6,
    "start_time": "2024-06-08T02:12:28.569Z"
   },
   {
    "duration": 6,
    "start_time": "2024-06-08T02:12:29.075Z"
   },
   {
    "duration": 7,
    "start_time": "2024-06-08T02:12:30.921Z"
   },
   {
    "duration": 6,
    "start_time": "2024-06-08T02:12:31.501Z"
   },
   {
    "duration": 2528,
    "start_time": "2024-06-08T02:12:33.810Z"
   },
   {
    "duration": 467,
    "start_time": "2024-06-08T02:16:40.275Z"
   },
   {
    "duration": 40,
    "start_time": "2024-06-08T02:16:43.590Z"
   },
   {
    "duration": 15,
    "start_time": "2024-06-08T02:16:50.220Z"
   },
   {
    "duration": 15,
    "start_time": "2024-06-08T02:16:58.760Z"
   },
   {
    "duration": 10,
    "start_time": "2024-06-08T02:17:13.902Z"
   },
   {
    "duration": 20,
    "start_time": "2024-06-08T02:17:39.492Z"
   },
   {
    "duration": 10,
    "start_time": "2024-06-08T02:17:47.601Z"
   },
   {
    "duration": 26,
    "start_time": "2024-06-08T02:18:03.481Z"
   },
   {
    "duration": 114,
    "start_time": "2024-06-08T02:18:08.973Z"
   },
   {
    "duration": 287,
    "start_time": "2024-06-08T02:18:56.900Z"
   },
   {
    "duration": 12,
    "start_time": "2024-06-08T02:21:46.133Z"
   },
   {
    "duration": 16,
    "start_time": "2024-06-08T02:21:56.128Z"
   },
   {
    "duration": 14,
    "start_time": "2024-06-08T02:23:39.654Z"
   },
   {
    "duration": 14,
    "start_time": "2024-06-08T02:24:23.443Z"
   },
   {
    "duration": 16,
    "start_time": "2024-06-08T02:29:03.562Z"
   },
   {
    "duration": 16,
    "start_time": "2024-06-08T02:29:25.431Z"
   },
   {
    "duration": 18,
    "start_time": "2024-06-08T02:31:42.035Z"
   },
   {
    "duration": 17,
    "start_time": "2024-06-08T02:32:22.117Z"
   },
   {
    "duration": 16,
    "start_time": "2024-06-08T02:33:36.594Z"
   },
   {
    "duration": 17,
    "start_time": "2024-06-08T02:34:41.155Z"
   },
   {
    "duration": 15,
    "start_time": "2024-06-08T02:35:03.550Z"
   },
   {
    "duration": 7,
    "start_time": "2024-06-08T02:41:14.537Z"
   },
   {
    "duration": 7,
    "start_time": "2024-06-08T02:44:53.326Z"
   },
   {
    "duration": 5,
    "start_time": "2024-06-08T02:53:24.878Z"
   },
   {
    "duration": 5,
    "start_time": "2024-06-08T02:57:55.369Z"
   },
   {
    "duration": 8,
    "start_time": "2024-06-08T03:03:50.689Z"
   },
   {
    "duration": 7,
    "start_time": "2024-06-08T03:04:04.617Z"
   },
   {
    "duration": 7,
    "start_time": "2024-06-08T03:06:44.058Z"
   },
   {
    "duration": 6,
    "start_time": "2024-06-08T03:07:01.446Z"
   },
   {
    "duration": 332,
    "start_time": "2024-06-08T03:08:36.340Z"
   },
   {
    "duration": 6,
    "start_time": "2024-06-08T03:09:03.515Z"
   },
   {
    "duration": 7,
    "start_time": "2024-06-08T03:09:31.942Z"
   },
   {
    "duration": 4,
    "start_time": "2024-06-08T03:09:37.696Z"
   },
   {
    "duration": 6,
    "start_time": "2024-06-08T03:11:12.941Z"
   },
   {
    "duration": 25,
    "start_time": "2024-06-08T03:13:39.657Z"
   },
   {
    "duration": 6,
    "start_time": "2024-06-08T03:14:36.470Z"
   },
   {
    "duration": 9,
    "start_time": "2024-06-08T03:16:13.490Z"
   },
   {
    "duration": 13,
    "start_time": "2024-06-08T03:16:28.019Z"
   },
   {
    "duration": 14,
    "start_time": "2024-06-08T03:17:58.249Z"
   },
   {
    "duration": 14,
    "start_time": "2024-06-08T03:18:12.284Z"
   },
   {
    "duration": 17,
    "start_time": "2024-06-08T03:18:55.590Z"
   },
   {
    "duration": 326,
    "start_time": "2024-06-08T12:41:45.674Z"
   },
   {
    "duration": 477,
    "start_time": "2024-06-08T12:42:04.347Z"
   },
   {
    "duration": 1749,
    "start_time": "2024-06-08T12:42:04.872Z"
   },
   {
    "duration": 156,
    "start_time": "2024-06-08T12:42:06.625Z"
   },
   {
    "duration": 101,
    "start_time": "2024-06-08T12:42:06.785Z"
   },
   {
    "duration": 839,
    "start_time": "2024-06-08T12:42:06.890Z"
   },
   {
    "duration": 26,
    "start_time": "2024-06-08T12:42:07.732Z"
   },
   {
    "duration": 60,
    "start_time": "2024-06-08T12:42:07.762Z"
   },
   {
    "duration": 412,
    "start_time": "2024-06-08T12:42:08.096Z"
   },
   {
    "duration": 33,
    "start_time": "2024-06-08T12:42:08.511Z"
   },
   {
    "duration": 249,
    "start_time": "2024-06-08T12:42:09.041Z"
   },
   {
    "duration": 433,
    "start_time": "2024-06-08T12:42:09.294Z"
   },
   {
    "duration": 117,
    "start_time": "2024-06-08T12:42:09.731Z"
   },
   {
    "duration": 54,
    "start_time": "2024-06-08T12:42:10.181Z"
   },
   {
    "duration": 8,
    "start_time": "2024-06-08T12:42:10.370Z"
   },
   {
    "duration": 74,
    "start_time": "2024-06-08T12:42:10.610Z"
   },
   {
    "duration": 52,
    "start_time": "2024-06-08T12:42:10.812Z"
   },
   {
    "duration": 8,
    "start_time": "2024-06-08T12:42:11.388Z"
   },
   {
    "duration": 6,
    "start_time": "2024-06-08T12:42:11.620Z"
   },
   {
    "duration": 8,
    "start_time": "2024-06-08T12:42:12.654Z"
   },
   {
    "duration": 5,
    "start_time": "2024-06-08T12:42:12.871Z"
   },
   {
    "duration": 2796,
    "start_time": "2024-06-08T12:42:14.096Z"
   },
   {
    "duration": 478,
    "start_time": "2024-06-08T12:42:16.895Z"
   },
   {
    "duration": 41,
    "start_time": "2024-06-08T12:42:19.188Z"
   },
   {
    "duration": 17,
    "start_time": "2024-06-08T12:42:19.598Z"
   },
   {
    "duration": 20,
    "start_time": "2024-06-08T12:42:20.018Z"
   },
   {
    "duration": 15,
    "start_time": "2024-06-08T12:42:21.232Z"
   },
   {
    "duration": 19,
    "start_time": "2024-06-08T12:42:21.692Z"
   },
   {
    "duration": 12,
    "start_time": "2024-06-08T12:42:22.954Z"
   },
   {
    "duration": 29,
    "start_time": "2024-06-08T12:42:23.810Z"
   },
   {
    "duration": 126,
    "start_time": "2024-06-08T12:42:25.614Z"
   },
   {
    "duration": 317,
    "start_time": "2024-06-08T12:42:26.433Z"
   },
   {
    "duration": 18,
    "start_time": "2024-06-08T12:42:27.571Z"
   },
   {
    "duration": 376,
    "start_time": "2024-06-08T12:42:28.421Z"
   },
   {
    "duration": 4,
    "start_time": "2024-06-08T12:42:29.477Z"
   },
   {
    "duration": 17,
    "start_time": "2024-06-08T12:42:48.327Z"
   },
   {
    "duration": 16,
    "start_time": "2024-06-08T12:43:08.408Z"
   },
   {
    "duration": 16,
    "start_time": "2024-06-08T12:44:24.489Z"
   },
   {
    "duration": 13,
    "start_time": "2024-06-08T12:44:37.127Z"
   },
   {
    "duration": 15,
    "start_time": "2024-06-08T12:44:54.065Z"
   },
   {
    "duration": 14,
    "start_time": "2024-06-08T12:45:02.163Z"
   },
   {
    "duration": 33,
    "start_time": "2024-06-08T12:51:07.589Z"
   },
   {
    "duration": 92,
    "start_time": "2024-06-08T12:51:43.885Z"
   },
   {
    "duration": 677,
    "start_time": "2024-06-08T12:52:04.913Z"
   },
   {
    "duration": 16,
    "start_time": "2024-06-08T12:52:30.614Z"
   },
   {
    "duration": 15,
    "start_time": "2024-06-08T12:53:14.848Z"
   },
   {
    "duration": 19,
    "start_time": "2024-06-08T12:53:24.870Z"
   },
   {
    "duration": 9,
    "start_time": "2024-06-08T13:02:27.365Z"
   },
   {
    "duration": 8,
    "start_time": "2024-06-08T13:02:36.316Z"
   },
   {
    "duration": 15,
    "start_time": "2024-06-08T13:02:48.657Z"
   },
   {
    "duration": 33,
    "start_time": "2024-06-08T13:03:38.942Z"
   },
   {
    "duration": 29,
    "start_time": "2024-06-08T13:03:48.631Z"
   },
   {
    "duration": 480,
    "start_time": "2024-06-08T13:04:10.246Z"
   },
   {
    "duration": 15,
    "start_time": "2024-06-08T13:04:10.735Z"
   },
   {
    "duration": 346,
    "start_time": "2024-06-08T13:04:11.285Z"
   },
   {
    "duration": 1559,
    "start_time": "2024-06-08T13:04:32.942Z"
   },
   {
    "duration": 145,
    "start_time": "2024-06-08T13:04:37.185Z"
   },
   {
    "duration": 87,
    "start_time": "2024-06-08T13:04:39.509Z"
   },
   {
    "duration": 777,
    "start_time": "2024-06-08T13:04:42.809Z"
   },
   {
    "duration": 40,
    "start_time": "2024-06-08T13:04:43.590Z"
   },
   {
    "duration": 24,
    "start_time": "2024-06-08T13:04:43.633Z"
   },
   {
    "duration": 367,
    "start_time": "2024-06-08T13:04:46.063Z"
   },
   {
    "duration": 20,
    "start_time": "2024-06-08T13:04:49.364Z"
   },
   {
    "duration": 200,
    "start_time": "2024-06-08T13:04:50.623Z"
   },
   {
    "duration": 317,
    "start_time": "2024-06-08T13:04:51.226Z"
   },
   {
    "duration": 86,
    "start_time": "2024-06-08T13:04:51.724Z"
   },
   {
    "duration": 33,
    "start_time": "2024-06-08T13:04:52.391Z"
   },
   {
    "duration": 6,
    "start_time": "2024-06-08T13:04:52.602Z"
   },
   {
    "duration": 67,
    "start_time": "2024-06-08T13:04:52.799Z"
   },
   {
    "duration": 43,
    "start_time": "2024-06-08T13:04:53.560Z"
   },
   {
    "duration": 6,
    "start_time": "2024-06-08T13:04:54.202Z"
   },
   {
    "duration": 6,
    "start_time": "2024-06-08T13:04:54.412Z"
   },
   {
    "duration": 8,
    "start_time": "2024-06-08T13:04:55.322Z"
   },
   {
    "duration": 6,
    "start_time": "2024-06-08T13:04:55.794Z"
   },
   {
    "duration": 2805,
    "start_time": "2024-06-08T13:04:56.475Z"
   },
   {
    "duration": 552,
    "start_time": "2024-06-08T13:04:59.283Z"
   },
   {
    "duration": 50,
    "start_time": "2024-06-08T13:04:59.839Z"
   },
   {
    "duration": 45,
    "start_time": "2024-06-08T13:04:59.894Z"
   },
   {
    "duration": 17,
    "start_time": "2024-06-08T13:05:00.097Z"
   },
   {
    "duration": 12,
    "start_time": "2024-06-08T13:05:00.930Z"
   },
   {
    "duration": 20,
    "start_time": "2024-06-08T13:05:01.425Z"
   },
   {
    "duration": 11,
    "start_time": "2024-06-08T13:05:02.276Z"
   },
   {
    "duration": 26,
    "start_time": "2024-06-08T13:05:02.691Z"
   },
   {
    "duration": 120,
    "start_time": "2024-06-08T13:05:03.637Z"
   },
   {
    "duration": 306,
    "start_time": "2024-06-08T13:05:03.869Z"
   },
   {
    "duration": 16,
    "start_time": "2024-06-08T13:05:05.177Z"
   },
   {
    "duration": 14,
    "start_time": "2024-06-08T13:05:05.625Z"
   },
   {
    "duration": 864,
    "start_time": "2024-06-08T13:05:06.568Z"
   },
   {
    "duration": 31,
    "start_time": "2024-06-08T13:05:25.024Z"
   },
   {
    "duration": 112,
    "start_time": "2024-06-08T13:06:16.596Z"
   },
   {
    "duration": 96,
    "start_time": "2024-06-08T13:08:17.855Z"
   },
   {
    "duration": 33,
    "start_time": "2024-06-08T13:09:57.772Z"
   },
   {
    "duration": 39,
    "start_time": "2024-06-08T13:10:25.466Z"
   },
   {
    "duration": 18,
    "start_time": "2024-06-08T13:19:30.323Z"
   },
   {
    "duration": 21,
    "start_time": "2024-06-08T13:20:02.540Z"
   },
   {
    "duration": 21,
    "start_time": "2024-06-08T13:25:35.100Z"
   },
   {
    "duration": 337,
    "start_time": "2024-06-08T13:25:52.741Z"
   },
   {
    "duration": 414,
    "start_time": "2024-06-08T13:26:07.490Z"
   },
   {
    "duration": 1628,
    "start_time": "2024-06-08T13:26:08.054Z"
   },
   {
    "duration": 161,
    "start_time": "2024-06-08T13:26:09.686Z"
   },
   {
    "duration": 103,
    "start_time": "2024-06-08T13:26:09.851Z"
   },
   {
    "duration": 784,
    "start_time": "2024-06-08T13:26:10.366Z"
   },
   {
    "duration": 24,
    "start_time": "2024-06-08T13:26:11.402Z"
   },
   {
    "duration": 22,
    "start_time": "2024-06-08T13:26:11.904Z"
   },
   {
    "duration": 352,
    "start_time": "2024-06-08T13:26:15.112Z"
   },
   {
    "duration": 21,
    "start_time": "2024-06-08T13:26:16.749Z"
   },
   {
    "duration": 213,
    "start_time": "2024-06-08T13:26:17.960Z"
   },
   {
    "duration": 370,
    "start_time": "2024-06-08T13:26:18.681Z"
   },
   {
    "duration": 83,
    "start_time": "2024-06-08T13:26:19.386Z"
   },
   {
    "duration": 35,
    "start_time": "2024-06-08T13:26:21.871Z"
   },
   {
    "duration": 7,
    "start_time": "2024-06-08T13:26:22.832Z"
   },
   {
    "duration": 64,
    "start_time": "2024-06-08T13:26:23.695Z"
   },
   {
    "duration": 48,
    "start_time": "2024-06-08T13:26:24.445Z"
   },
   {
    "duration": 7,
    "start_time": "2024-06-08T13:26:26.733Z"
   },
   {
    "duration": 6,
    "start_time": "2024-06-08T13:26:27.388Z"
   },
   {
    "duration": 9,
    "start_time": "2024-06-08T13:26:29.143Z"
   },
   {
    "duration": 6,
    "start_time": "2024-06-08T13:26:36.740Z"
   },
   {
    "duration": 3132,
    "start_time": "2024-06-08T13:26:38.518Z"
   },
   {
    "duration": 492,
    "start_time": "2024-06-08T13:26:41.654Z"
   },
   {
    "duration": 45,
    "start_time": "2024-06-08T13:26:45.699Z"
   },
   {
    "duration": 18,
    "start_time": "2024-06-08T13:26:49.739Z"
   },
   {
    "duration": 17,
    "start_time": "2024-06-08T13:26:51.399Z"
   },
   {
    "duration": 11,
    "start_time": "2024-06-08T13:26:56.956Z"
   },
   {
    "duration": 23,
    "start_time": "2024-06-08T13:26:58.158Z"
   },
   {
    "duration": 9,
    "start_time": "2024-06-08T13:27:22.551Z"
   },
   {
    "duration": 27,
    "start_time": "2024-06-08T13:27:26.748Z"
   },
   {
    "duration": 114,
    "start_time": "2024-06-08T13:27:44.691Z"
   },
   {
    "duration": 287,
    "start_time": "2024-06-08T13:27:48.875Z"
   },
   {
    "duration": 16,
    "start_time": "2024-06-08T13:27:57.526Z"
   },
   {
    "duration": 13,
    "start_time": "2024-06-08T13:28:04.940Z"
   },
   {
    "duration": 18,
    "start_time": "2024-06-08T13:28:08.023Z"
   },
   {
    "duration": 17,
    "start_time": "2024-06-08T13:32:19.154Z"
   },
   {
    "duration": 20,
    "start_time": "2024-06-08T13:33:39.546Z"
   },
   {
    "duration": 51,
    "start_time": "2024-06-08T13:33:48.829Z"
   },
   {
    "duration": 507,
    "start_time": "2024-06-08T13:37:01.016Z"
   },
   {
    "duration": 1540,
    "start_time": "2024-06-08T13:37:01.919Z"
   },
   {
    "duration": 165,
    "start_time": "2024-06-08T13:37:03.462Z"
   },
   {
    "duration": 75,
    "start_time": "2024-06-08T13:37:04.669Z"
   },
   {
    "duration": 818,
    "start_time": "2024-06-08T13:37:05.652Z"
   },
   {
    "duration": 27,
    "start_time": "2024-06-08T13:37:06.664Z"
   },
   {
    "duration": 24,
    "start_time": "2024-06-08T13:37:07.562Z"
   },
   {
    "duration": 345,
    "start_time": "2024-06-08T13:37:15.102Z"
   },
   {
    "duration": 22,
    "start_time": "2024-06-08T13:37:21.040Z"
   },
   {
    "duration": 176,
    "start_time": "2024-06-08T13:37:26.846Z"
   },
   {
    "duration": 414,
    "start_time": "2024-06-08T13:37:28.526Z"
   },
   {
    "duration": 88,
    "start_time": "2024-06-08T13:37:29.752Z"
   },
   {
    "duration": 34,
    "start_time": "2024-06-08T13:37:32.907Z"
   },
   {
    "duration": 10,
    "start_time": "2024-06-08T13:37:33.835Z"
   },
   {
    "duration": 56,
    "start_time": "2024-06-08T13:37:34.752Z"
   },
   {
    "duration": 37,
    "start_time": "2024-06-08T13:37:35.838Z"
   },
   {
    "duration": 6,
    "start_time": "2024-06-08T13:37:38.349Z"
   },
   {
    "duration": 6,
    "start_time": "2024-06-08T13:37:39.108Z"
   },
   {
    "duration": 7,
    "start_time": "2024-06-08T13:37:41.322Z"
   },
   {
    "duration": 6,
    "start_time": "2024-06-08T13:37:42.243Z"
   },
   {
    "duration": 2840,
    "start_time": "2024-06-08T13:37:44.432Z"
   },
   {
    "duration": 505,
    "start_time": "2024-06-08T13:37:47.276Z"
   },
   {
    "duration": 50,
    "start_time": "2024-06-08T13:37:48.638Z"
   },
   {
    "duration": 22,
    "start_time": "2024-06-08T13:37:50.525Z"
   },
   {
    "duration": 17,
    "start_time": "2024-06-08T13:37:52.609Z"
   },
   {
    "duration": 12,
    "start_time": "2024-06-08T13:37:54.332Z"
   },
   {
    "duration": 20,
    "start_time": "2024-06-08T13:37:56.256Z"
   },
   {
    "duration": 10,
    "start_time": "2024-06-08T13:37:58.797Z"
   },
   {
    "duration": 29,
    "start_time": "2024-06-08T13:37:59.585Z"
   },
   {
    "duration": 116,
    "start_time": "2024-06-08T13:38:01.638Z"
   },
   {
    "duration": 284,
    "start_time": "2024-06-08T13:38:02.421Z"
   },
   {
    "duration": 17,
    "start_time": "2024-06-08T13:38:04.519Z"
   },
   {
    "duration": 17,
    "start_time": "2024-06-08T13:38:12.595Z"
   },
   {
    "duration": 53,
    "start_time": "2024-06-08T13:38:14.634Z"
   },
   {
    "duration": 36,
    "start_time": "2024-06-08T13:40:24.962Z"
   },
   {
    "duration": 68,
    "start_time": "2024-06-08T13:40:30.684Z"
   },
   {
    "duration": 8,
    "start_time": "2024-06-08T13:44:08.922Z"
   },
   {
    "duration": 69,
    "start_time": "2024-06-08T13:44:14.690Z"
   },
   {
    "duration": 92,
    "start_time": "2024-06-08T13:45:21.967Z"
   },
   {
    "duration": 73,
    "start_time": "2024-06-08T13:46:48.002Z"
   },
   {
    "duration": 77,
    "start_time": "2024-06-08T13:48:00.116Z"
   },
   {
    "duration": 10,
    "start_time": "2024-06-08T13:48:09.273Z"
   },
   {
    "duration": 71,
    "start_time": "2024-06-08T13:48:22.655Z"
   },
   {
    "duration": 73,
    "start_time": "2024-06-08T13:48:40.863Z"
   },
   {
    "duration": 22,
    "start_time": "2024-06-08T13:55:35.629Z"
   },
   {
    "duration": 345,
    "start_time": "2024-06-08T13:57:27.719Z"
   },
   {
    "duration": 26,
    "start_time": "2024-06-08T13:58:30.569Z"
   },
   {
    "duration": 32,
    "start_time": "2024-06-08T13:58:50.522Z"
   },
   {
    "duration": 56,
    "start_time": "2024-06-08T14:01:29.660Z"
   },
   {
    "duration": 18,
    "start_time": "2024-06-08T14:03:15.773Z"
   },
   {
    "duration": 16,
    "start_time": "2024-06-08T14:03:41.882Z"
   },
   {
    "duration": 13,
    "start_time": "2024-06-08T14:23:01.825Z"
   },
   {
    "duration": 15,
    "start_time": "2024-06-08T14:23:20.327Z"
   },
   {
    "duration": 14,
    "start_time": "2024-06-08T14:24:20.952Z"
   },
   {
    "duration": 26,
    "start_time": "2024-06-08T14:24:31.708Z"
   },
   {
    "duration": 17,
    "start_time": "2024-06-08T14:25:56.948Z"
   },
   {
    "duration": 13,
    "start_time": "2024-06-08T14:28:05.017Z"
   },
   {
    "duration": 4357,
    "start_time": "2024-06-08T14:29:28.557Z"
   },
   {
    "duration": 1514,
    "start_time": "2024-06-08T14:29:32.917Z"
   },
   {
    "duration": 149,
    "start_time": "2024-06-08T14:29:34.434Z"
   },
   {
    "duration": 75,
    "start_time": "2024-06-08T14:29:34.588Z"
   },
   {
    "duration": 795,
    "start_time": "2024-06-08T14:29:34.666Z"
   },
   {
    "duration": 23,
    "start_time": "2024-06-08T14:29:35.464Z"
   },
   {
    "duration": 45,
    "start_time": "2024-06-08T14:29:35.491Z"
   },
   {
    "duration": 322,
    "start_time": "2024-06-08T14:29:35.539Z"
   },
   {
    "duration": 22,
    "start_time": "2024-06-08T14:29:35.866Z"
   },
   {
    "duration": 193,
    "start_time": "2024-06-08T14:29:35.891Z"
   },
   {
    "duration": 294,
    "start_time": "2024-06-08T14:29:36.088Z"
   },
   {
    "duration": 83,
    "start_time": "2024-06-08T14:29:36.384Z"
   },
   {
    "duration": 33,
    "start_time": "2024-06-08T14:29:36.472Z"
   },
   {
    "duration": 8,
    "start_time": "2024-06-08T14:29:36.523Z"
   },
   {
    "duration": 63,
    "start_time": "2024-06-08T14:29:36.663Z"
   },
   {
    "duration": 44,
    "start_time": "2024-06-08T14:29:36.853Z"
   },
   {
    "duration": 7,
    "start_time": "2024-06-08T14:29:37.709Z"
   },
   {
    "duration": 6,
    "start_time": "2024-06-08T14:29:37.910Z"
   },
   {
    "duration": 6,
    "start_time": "2024-06-08T14:29:39.176Z"
   },
   {
    "duration": 6,
    "start_time": "2024-06-08T14:29:39.377Z"
   },
   {
    "duration": 2592,
    "start_time": "2024-06-08T14:29:40.331Z"
   },
   {
    "duration": 516,
    "start_time": "2024-06-08T14:29:42.927Z"
   },
   {
    "duration": 48,
    "start_time": "2024-06-08T14:29:43.446Z"
   },
   {
    "duration": 40,
    "start_time": "2024-06-08T14:29:43.498Z"
   },
   {
    "duration": 16,
    "start_time": "2024-06-08T14:29:43.541Z"
   },
   {
    "duration": 12,
    "start_time": "2024-06-08T14:29:43.560Z"
   },
   {
    "duration": 22,
    "start_time": "2024-06-08T14:29:44.405Z"
   },
   {
    "duration": 9,
    "start_time": "2024-06-08T14:29:46.009Z"
   },
   {
    "duration": 27,
    "start_time": "2024-06-08T14:29:46.235Z"
   },
   {
    "duration": 111,
    "start_time": "2024-06-08T14:29:47.578Z"
   },
   {
    "duration": 281,
    "start_time": "2024-06-08T14:29:48.615Z"
   },
   {
    "duration": 20,
    "start_time": "2024-06-08T14:29:50.129Z"
   },
   {
    "duration": 20,
    "start_time": "2024-06-08T14:29:50.913Z"
   },
   {
    "duration": 100,
    "start_time": "2024-06-08T14:29:55.004Z"
   },
   {
    "duration": 54,
    "start_time": "2024-06-08T14:30:03.110Z"
   },
   {
    "duration": 19,
    "start_time": "2024-06-08T14:30:12.414Z"
   },
   {
    "duration": 14,
    "start_time": "2024-06-08T14:30:17.212Z"
   },
   {
    "duration": 320,
    "start_time": "2024-06-08T14:45:54.185Z"
   },
   {
    "duration": 248,
    "start_time": "2024-06-08T14:46:22.224Z"
   },
   {
    "duration": 349,
    "start_time": "2024-06-08T14:46:50.987Z"
   },
   {
    "duration": 333,
    "start_time": "2024-06-08T14:49:34.278Z"
   },
   {
    "duration": 391,
    "start_time": "2024-06-08T14:50:21.996Z"
   },
   {
    "duration": 356,
    "start_time": "2024-06-08T14:54:25.952Z"
   },
   {
    "duration": 381,
    "start_time": "2024-06-08T14:56:35.815Z"
   },
   {
    "duration": 351,
    "start_time": "2024-06-08T15:04:54.037Z"
   },
   {
    "duration": 427,
    "start_time": "2024-06-08T15:05:38.762Z"
   },
   {
    "duration": 220,
    "start_time": "2024-06-08T15:07:04.554Z"
   },
   {
    "duration": 237,
    "start_time": "2024-06-08T15:08:02.701Z"
   },
   {
    "duration": 17,
    "start_time": "2024-06-08T15:19:24.220Z"
   },
   {
    "duration": 17,
    "start_time": "2024-06-08T15:20:08.191Z"
   },
   {
    "duration": 15,
    "start_time": "2024-06-08T15:20:23.512Z"
   },
   {
    "duration": 22,
    "start_time": "2024-06-08T15:22:25.969Z"
   },
   {
    "duration": 12,
    "start_time": "2024-06-08T15:23:06.700Z"
   },
   {
    "duration": 11,
    "start_time": "2024-06-08T15:27:39.060Z"
   },
   {
    "duration": 96,
    "start_time": "2024-06-08T15:27:48.331Z"
   },
   {
    "duration": 81,
    "start_time": "2024-06-08T15:28:05.357Z"
   },
   {
    "duration": 283,
    "start_time": "2024-06-08T15:29:03.689Z"
   },
   {
    "duration": 18,
    "start_time": "2024-06-08T15:30:11.115Z"
   },
   {
    "duration": 68,
    "start_time": "2024-06-08T15:30:23.654Z"
   },
   {
    "duration": 203,
    "start_time": "2024-06-08T15:30:46.536Z"
   },
   {
    "duration": 244,
    "start_time": "2024-06-08T15:31:14.895Z"
   },
   {
    "duration": 254,
    "start_time": "2024-06-08T15:32:04.101Z"
   },
   {
    "duration": 279,
    "start_time": "2024-06-08T15:33:34.496Z"
   },
   {
    "duration": 309,
    "start_time": "2024-06-08T15:34:11.482Z"
   },
   {
    "duration": 286,
    "start_time": "2024-06-08T15:34:38.426Z"
   },
   {
    "duration": 272,
    "start_time": "2024-06-08T15:34:48.151Z"
   },
   {
    "duration": 249,
    "start_time": "2024-06-08T15:35:31.694Z"
   },
   {
    "duration": 235,
    "start_time": "2024-06-08T15:35:41.252Z"
   },
   {
    "duration": 19,
    "start_time": "2024-06-08T15:38:17.352Z"
   },
   {
    "duration": 16,
    "start_time": "2024-06-08T15:44:12.009Z"
   },
   {
    "duration": 202,
    "start_time": "2024-06-08T15:46:43.765Z"
   },
   {
    "duration": 29,
    "start_time": "2024-06-08T15:47:28.025Z"
   },
   {
    "duration": 6,
    "start_time": "2024-06-08T15:50:54.023Z"
   },
   {
    "duration": 394,
    "start_time": "2024-06-08T15:51:00.385Z"
   },
   {
    "duration": 420,
    "start_time": "2024-06-08T15:51:47.356Z"
   },
   {
    "duration": 543,
    "start_time": "2024-06-08T16:01:27.421Z"
   },
   {
    "duration": 419,
    "start_time": "2024-06-08T16:02:00.630Z"
   },
   {
    "duration": 426,
    "start_time": "2024-06-08T16:05:53.529Z"
   },
   {
    "duration": 400,
    "start_time": "2024-06-08T16:06:30.812Z"
   },
   {
    "duration": 399,
    "start_time": "2024-06-08T16:10:55.132Z"
   },
   {
    "duration": 20,
    "start_time": "2024-06-08T16:14:03.861Z"
   },
   {
    "duration": 22,
    "start_time": "2024-06-08T16:16:59.355Z"
   },
   {
    "duration": 15,
    "start_time": "2024-06-08T16:19:36.222Z"
   },
   {
    "duration": 10,
    "start_time": "2024-06-08T16:19:47.110Z"
   },
   {
    "duration": 20,
    "start_time": "2024-06-08T16:20:39.562Z"
   },
   {
    "duration": 7,
    "start_time": "2024-06-08T16:23:17.674Z"
   },
   {
    "duration": 20,
    "start_time": "2024-06-08T16:23:24.957Z"
   },
   {
    "duration": 12,
    "start_time": "2024-06-08T16:23:51.831Z"
   },
   {
    "duration": 322,
    "start_time": "2024-06-08T16:25:52.028Z"
   },
   {
    "duration": 334,
    "start_time": "2024-06-08T16:29:35.292Z"
   },
   {
    "duration": 422,
    "start_time": "2024-06-08T16:30:32.907Z"
   },
   {
    "duration": 14,
    "start_time": "2024-06-08T17:13:21.660Z"
   },
   {
    "duration": 218,
    "start_time": "2024-06-08T17:13:54.586Z"
   },
   {
    "duration": 31,
    "start_time": "2024-06-08T17:14:58.924Z"
   },
   {
    "duration": 15,
    "start_time": "2024-06-08T17:15:29.248Z"
   },
   {
    "duration": 10,
    "start_time": "2024-06-08T17:15:36.395Z"
   },
   {
    "duration": 10,
    "start_time": "2024-06-08T17:15:56.106Z"
   },
   {
    "duration": 735,
    "start_time": "2024-06-08T17:16:28.720Z"
   },
   {
    "duration": 1630,
    "start_time": "2024-06-08T17:16:29.460Z"
   },
   {
    "duration": 155,
    "start_time": "2024-06-08T17:16:31.093Z"
   },
   {
    "duration": 84,
    "start_time": "2024-06-08T17:16:31.252Z"
   },
   {
    "duration": 826,
    "start_time": "2024-06-08T17:16:31.339Z"
   },
   {
    "duration": 22,
    "start_time": "2024-06-08T17:16:32.168Z"
   },
   {
    "duration": 45,
    "start_time": "2024-06-08T17:16:32.193Z"
   },
   {
    "duration": 335,
    "start_time": "2024-06-08T17:16:32.241Z"
   },
   {
    "duration": 21,
    "start_time": "2024-06-08T17:16:32.582Z"
   },
   {
    "duration": 218,
    "start_time": "2024-06-08T17:16:32.605Z"
   },
   {
    "duration": 341,
    "start_time": "2024-06-08T17:16:32.825Z"
   },
   {
    "duration": 92,
    "start_time": "2024-06-08T17:16:33.169Z"
   },
   {
    "duration": 36,
    "start_time": "2024-06-08T17:16:33.265Z"
   },
   {
    "duration": 22,
    "start_time": "2024-06-08T17:16:33.304Z"
   },
   {
    "duration": 64,
    "start_time": "2024-06-08T17:16:33.329Z"
   },
   {
    "duration": 39,
    "start_time": "2024-06-08T17:16:33.422Z"
   },
   {
    "duration": 7,
    "start_time": "2024-06-08T17:16:34.006Z"
   },
   {
    "duration": 6,
    "start_time": "2024-06-08T17:16:34.206Z"
   },
   {
    "duration": 9,
    "start_time": "2024-06-08T17:16:34.816Z"
   },
   {
    "duration": 6,
    "start_time": "2024-06-08T17:16:35.012Z"
   },
   {
    "duration": 2922,
    "start_time": "2024-06-08T17:16:35.593Z"
   },
   {
    "duration": 524,
    "start_time": "2024-06-08T17:16:38.522Z"
   },
   {
    "duration": 79,
    "start_time": "2024-06-08T17:16:39.051Z"
   },
   {
    "duration": 18,
    "start_time": "2024-06-08T17:16:39.135Z"
   },
   {
    "duration": 19,
    "start_time": "2024-06-08T17:16:39.156Z"
   },
   {
    "duration": 51,
    "start_time": "2024-06-08T17:16:39.178Z"
   },
   {
    "duration": 25,
    "start_time": "2024-06-08T17:16:39.232Z"
   },
   {
    "duration": 12,
    "start_time": "2024-06-08T17:16:39.260Z"
   },
   {
    "duration": 32,
    "start_time": "2024-06-08T17:16:39.735Z"
   },
   {
    "duration": 124,
    "start_time": "2024-06-08T17:16:40.352Z"
   },
   {
    "duration": 322,
    "start_time": "2024-06-08T17:16:40.536Z"
   },
   {
    "duration": 16,
    "start_time": "2024-06-08T17:16:41.156Z"
   },
   {
    "duration": 13,
    "start_time": "2024-06-08T17:16:41.406Z"
   },
   {
    "duration": 96,
    "start_time": "2024-06-08T17:16:42.457Z"
   },
   {
    "duration": 53,
    "start_time": "2024-06-08T17:16:44.760Z"
   },
   {
    "duration": 381,
    "start_time": "2024-06-08T17:16:47.554Z"
   },
   {
    "duration": 261,
    "start_time": "2024-06-08T17:16:56.550Z"
   },
   {
    "duration": 407,
    "start_time": "2024-06-08T17:17:01.846Z"
   },
   {
    "duration": 10,
    "start_time": "2024-06-08T17:17:07.136Z"
   },
   {
    "duration": 11,
    "start_time": "2024-06-08T17:17:19.750Z"
   },
   {
    "duration": 15,
    "start_time": "2024-06-08T17:17:32.693Z"
   },
   {
    "duration": 18,
    "start_time": "2024-06-08T17:17:42.069Z"
   },
   {
    "duration": 10,
    "start_time": "2024-06-08T17:18:00.830Z"
   },
   {
    "duration": 22,
    "start_time": "2024-06-08T17:18:11.492Z"
   },
   {
    "duration": 17,
    "start_time": "2024-06-08T17:18:51.771Z"
   },
   {
    "duration": 21,
    "start_time": "2024-06-08T17:21:09.722Z"
   },
   {
    "duration": 15,
    "start_time": "2024-06-08T17:21:17.741Z"
   },
   {
    "duration": 8,
    "start_time": "2024-06-08T17:21:20.859Z"
   },
   {
    "duration": 385,
    "start_time": "2024-06-08T17:22:28.010Z"
   },
   {
    "duration": 223,
    "start_time": "2024-06-08T17:22:35.909Z"
   },
   {
    "duration": 223,
    "start_time": "2024-06-08T17:24:15.243Z"
   },
   {
    "duration": 289,
    "start_time": "2024-06-08T17:24:41.245Z"
   },
   {
    "duration": 37,
    "start_time": "2024-06-08T17:24:59.657Z"
   },
   {
    "duration": 9,
    "start_time": "2024-06-08T17:50:40.108Z"
   },
   {
    "duration": 22,
    "start_time": "2024-06-08T17:50:47.849Z"
   },
   {
    "duration": 13,
    "start_time": "2024-06-08T17:54:14.695Z"
   },
   {
    "duration": 17,
    "start_time": "2024-06-08T17:54:37.621Z"
   },
   {
    "duration": 17,
    "start_time": "2024-06-08T17:54:56.602Z"
   },
   {
    "duration": 20,
    "start_time": "2024-06-08T17:55:44.062Z"
   },
   {
    "duration": 13,
    "start_time": "2024-06-08T17:56:10.952Z"
   },
   {
    "duration": 11,
    "start_time": "2024-06-08T18:03:36.165Z"
   },
   {
    "duration": 234,
    "start_time": "2024-06-08T18:18:16.544Z"
   },
   {
    "duration": 41,
    "start_time": "2024-06-08T18:18:43.469Z"
   },
   {
    "duration": 212,
    "start_time": "2024-06-08T18:18:51.075Z"
   },
   {
    "duration": 18,
    "start_time": "2024-06-08T18:19:46.051Z"
   },
   {
    "duration": 14,
    "start_time": "2024-06-08T18:23:26.032Z"
   },
   {
    "duration": 23,
    "start_time": "2024-06-08T18:23:41.794Z"
   },
   {
    "duration": 35,
    "start_time": "2024-06-08T18:30:09.476Z"
   },
   {
    "duration": 202,
    "start_time": "2024-06-08T18:30:38.336Z"
   },
   {
    "duration": 215,
    "start_time": "2024-06-08T18:31:36.217Z"
   },
   {
    "duration": 42,
    "start_time": "2024-06-08T18:31:46.037Z"
   },
   {
    "duration": 46,
    "start_time": "2024-06-08T18:32:26.501Z"
   },
   {
    "duration": 23,
    "start_time": "2024-06-08T18:32:41.800Z"
   },
   {
    "duration": 4623,
    "start_time": "2024-06-08T18:36:01.521Z"
   },
   {
    "duration": 24,
    "start_time": "2024-06-08T18:37:00.991Z"
   },
   {
    "duration": 9,
    "start_time": "2024-06-08T18:40:13.360Z"
   },
   {
    "duration": 19,
    "start_time": "2024-06-08T18:40:17.624Z"
   },
   {
    "duration": 29,
    "start_time": "2024-06-08T18:41:51.196Z"
   },
   {
    "duration": 45,
    "start_time": "2024-06-08T18:42:01.596Z"
   },
   {
    "duration": 71,
    "start_time": "2024-06-08T18:42:19.698Z"
   },
   {
    "duration": 41,
    "start_time": "2024-06-08T18:42:51.419Z"
   },
   {
    "duration": 253,
    "start_time": "2024-06-08T18:43:28.865Z"
   },
   {
    "duration": 21,
    "start_time": "2024-06-08T18:44:05.185Z"
   },
   {
    "duration": 4451,
    "start_time": "2024-06-08T18:45:13.411Z"
   },
   {
    "duration": 8,
    "start_time": "2024-06-08T18:45:56.221Z"
   },
   {
    "duration": 266,
    "start_time": "2024-06-08T18:46:08.787Z"
   },
   {
    "duration": 23,
    "start_time": "2024-06-08T18:46:55.844Z"
   },
   {
    "duration": 210,
    "start_time": "2024-06-08T18:49:48.172Z"
   },
   {
    "duration": 229,
    "start_time": "2024-06-08T18:50:17.734Z"
   },
   {
    "duration": 6,
    "start_time": "2024-06-08T18:51:06.019Z"
   },
   {
    "duration": 274,
    "start_time": "2024-06-08T18:51:15.808Z"
   },
   {
    "duration": 28,
    "start_time": "2024-06-08T18:51:40.114Z"
   },
   {
    "duration": 199,
    "start_time": "2024-06-08T18:54:47.845Z"
   },
   {
    "duration": 347,
    "start_time": "2024-06-08T18:55:32.462Z"
   },
   {
    "duration": 541,
    "start_time": "2024-06-08T18:57:26.516Z"
   },
   {
    "duration": 324,
    "start_time": "2024-06-08T18:59:06.856Z"
   },
   {
    "duration": 337,
    "start_time": "2024-06-08T18:59:56.825Z"
   },
   {
    "duration": 171,
    "start_time": "2024-06-08T19:01:15.211Z"
   },
   {
    "duration": 693,
    "start_time": "2024-06-08T19:03:47.096Z"
   },
   {
    "duration": 675,
    "start_time": "2024-06-08T19:05:02.710Z"
   },
   {
    "duration": 677,
    "start_time": "2024-06-08T19:05:33.275Z"
   },
   {
    "duration": 707,
    "start_time": "2024-06-08T19:05:52.591Z"
   },
   {
    "duration": 640,
    "start_time": "2024-06-08T19:09:28.532Z"
   },
   {
    "duration": 861,
    "start_time": "2024-06-08T19:10:09.839Z"
   },
   {
    "duration": 6,
    "start_time": "2024-06-08T19:10:54.260Z"
   },
   {
    "duration": 546,
    "start_time": "2024-06-08T19:11:55.003Z"
   },
   {
    "duration": 571,
    "start_time": "2024-06-08T19:12:11.763Z"
   },
   {
    "duration": 753,
    "start_time": "2024-06-08T19:12:28.703Z"
   },
   {
    "duration": 508,
    "start_time": "2024-06-08T19:13:14.571Z"
   },
   {
    "duration": 367,
    "start_time": "2024-06-08T19:13:32.938Z"
   },
   {
    "duration": 384,
    "start_time": "2024-06-08T19:13:50.547Z"
   },
   {
    "duration": 370,
    "start_time": "2024-06-08T19:14:24.678Z"
   },
   {
    "duration": 436,
    "start_time": "2024-06-08T19:16:16.949Z"
   },
   {
    "duration": 294,
    "start_time": "2024-06-08T19:16:31.046Z"
   },
   {
    "duration": 401,
    "start_time": "2024-06-08T19:16:37.183Z"
   },
   {
    "duration": 267,
    "start_time": "2024-06-08T19:17:07.317Z"
   },
   {
    "duration": 268,
    "start_time": "2024-06-08T20:39:15.755Z"
   },
   {
    "duration": 513,
    "start_time": "2024-06-08T20:39:45.776Z"
   },
   {
    "duration": 366,
    "start_time": "2024-06-08T20:42:07.678Z"
   },
   {
    "duration": 7,
    "start_time": "2024-06-08T20:42:24.561Z"
   },
   {
    "duration": 423,
    "start_time": "2024-06-08T20:42:33.636Z"
   },
   {
    "duration": 357,
    "start_time": "2024-06-08T20:42:53.585Z"
   },
   {
    "duration": 18,
    "start_time": "2024-06-08T20:46:42.803Z"
   },
   {
    "duration": 360,
    "start_time": "2024-06-08T20:47:10.065Z"
   },
   {
    "duration": 226,
    "start_time": "2024-06-08T20:47:19.003Z"
   },
   {
    "duration": 363,
    "start_time": "2024-06-08T20:47:22.180Z"
   },
   {
    "duration": 282,
    "start_time": "2024-06-08T20:47:33.572Z"
   },
   {
    "duration": 315,
    "start_time": "2024-06-08T20:47:40.356Z"
   },
   {
    "duration": 35,
    "start_time": "2024-06-08T20:54:38.075Z"
   },
   {
    "duration": 65,
    "start_time": "2024-06-08T20:56:03.782Z"
   },
   {
    "duration": 115,
    "start_time": "2024-06-08T20:56:11.122Z"
   },
   {
    "duration": 759,
    "start_time": "2024-06-08T20:58:53.164Z"
   },
   {
    "duration": 1765,
    "start_time": "2024-06-08T20:58:53.928Z"
   },
   {
    "duration": 153,
    "start_time": "2024-06-08T20:58:55.697Z"
   },
   {
    "duration": 85,
    "start_time": "2024-06-08T20:58:55.855Z"
   },
   {
    "duration": 806,
    "start_time": "2024-06-08T20:58:55.942Z"
   },
   {
    "duration": 25,
    "start_time": "2024-06-08T20:58:56.751Z"
   },
   {
    "duration": 47,
    "start_time": "2024-06-08T20:58:56.779Z"
   },
   {
    "duration": 379,
    "start_time": "2024-06-08T20:58:56.830Z"
   },
   {
    "duration": 32,
    "start_time": "2024-06-08T20:58:57.214Z"
   },
   {
    "duration": 233,
    "start_time": "2024-06-08T20:58:57.251Z"
   },
   {
    "duration": 351,
    "start_time": "2024-06-08T20:58:57.487Z"
   },
   {
    "duration": 95,
    "start_time": "2024-06-08T20:58:57.841Z"
   },
   {
    "duration": 46,
    "start_time": "2024-06-08T20:58:57.940Z"
   },
   {
    "duration": 7,
    "start_time": "2024-06-08T20:58:57.990Z"
   },
   {
    "duration": 63,
    "start_time": "2024-06-08T20:58:58.024Z"
   },
   {
    "duration": 66,
    "start_time": "2024-06-08T20:58:58.090Z"
   },
   {
    "duration": 6,
    "start_time": "2024-06-08T20:58:58.513Z"
   },
   {
    "duration": 6,
    "start_time": "2024-06-08T20:58:58.729Z"
   },
   {
    "duration": 8,
    "start_time": "2024-06-08T20:58:59.483Z"
   },
   {
    "duration": 13,
    "start_time": "2024-06-08T20:58:59.676Z"
   },
   {
    "duration": 2999,
    "start_time": "2024-06-08T20:59:00.282Z"
   },
   {
    "duration": 503,
    "start_time": "2024-06-08T20:59:03.285Z"
   },
   {
    "duration": 62,
    "start_time": "2024-06-08T20:59:03.792Z"
   },
   {
    "duration": 19,
    "start_time": "2024-06-08T20:59:03.859Z"
   },
   {
    "duration": 49,
    "start_time": "2024-06-08T20:59:03.881Z"
   },
   {
    "duration": 12,
    "start_time": "2024-06-08T20:59:03.933Z"
   },
   {
    "duration": 20,
    "start_time": "2024-06-08T20:59:03.950Z"
   },
   {
    "duration": 12,
    "start_time": "2024-06-08T20:59:04.683Z"
   },
   {
    "duration": 27,
    "start_time": "2024-06-08T20:59:04.962Z"
   },
   {
    "duration": 115,
    "start_time": "2024-06-08T20:59:06.028Z"
   },
   {
    "duration": 289,
    "start_time": "2024-06-08T20:59:06.271Z"
   },
   {
    "duration": 15,
    "start_time": "2024-06-08T20:59:06.653Z"
   },
   {
    "duration": 14,
    "start_time": "2024-06-08T20:59:06.863Z"
   },
   {
    "duration": 98,
    "start_time": "2024-06-08T20:59:07.310Z"
   },
   {
    "duration": 51,
    "start_time": "2024-06-08T20:59:10.112Z"
   },
   {
    "duration": 359,
    "start_time": "2024-06-08T20:59:12.509Z"
   },
   {
    "duration": 235,
    "start_time": "2024-06-08T20:59:20.720Z"
   },
   {
    "duration": 388,
    "start_time": "2024-06-08T20:59:23.669Z"
   },
   {
    "duration": 268,
    "start_time": "2024-06-08T20:59:28.314Z"
   },
   {
    "duration": 272,
    "start_time": "2024-06-08T20:59:29.338Z"
   },
   {
    "duration": 396,
    "start_time": "2024-06-08T20:59:29.873Z"
   },
   {
    "duration": 114,
    "start_time": "2024-06-08T20:59:40.580Z"
   },
   {
    "duration": 695,
    "start_time": "2024-06-08T21:03:01.195Z"
   },
   {
    "duration": 1647,
    "start_time": "2024-06-08T21:03:02.521Z"
   },
   {
    "duration": 157,
    "start_time": "2024-06-08T21:03:04.171Z"
   },
   {
    "duration": 76,
    "start_time": "2024-06-08T21:03:05.339Z"
   },
   {
    "duration": 803,
    "start_time": "2024-06-08T21:03:08.787Z"
   },
   {
    "duration": 25,
    "start_time": "2024-06-08T21:03:09.997Z"
   },
   {
    "duration": 23,
    "start_time": "2024-06-08T21:03:11.353Z"
   },
   {
    "duration": 344,
    "start_time": "2024-06-08T21:03:36.569Z"
   },
   {
    "duration": 24,
    "start_time": "2024-06-08T21:03:42.442Z"
   },
   {
    "duration": 186,
    "start_time": "2024-06-08T21:03:44.260Z"
   },
   {
    "duration": 330,
    "start_time": "2024-06-08T21:03:46.129Z"
   },
   {
    "duration": 89,
    "start_time": "2024-06-08T21:03:47.170Z"
   },
   {
    "duration": 34,
    "start_time": "2024-06-08T21:03:51.901Z"
   },
   {
    "duration": 7,
    "start_time": "2024-06-08T21:03:54.266Z"
   },
   {
    "duration": 61,
    "start_time": "2024-06-08T21:03:55.598Z"
   },
   {
    "duration": 41,
    "start_time": "2024-06-08T21:03:56.710Z"
   },
   {
    "duration": 6,
    "start_time": "2024-06-08T21:04:00.606Z"
   },
   {
    "duration": 6,
    "start_time": "2024-06-08T21:04:01.549Z"
   },
   {
    "duration": 8,
    "start_time": "2024-06-08T21:04:04.524Z"
   },
   {
    "duration": 6,
    "start_time": "2024-06-08T21:04:05.470Z"
   },
   {
    "duration": 2762,
    "start_time": "2024-06-08T21:04:10.967Z"
   },
   {
    "duration": 490,
    "start_time": "2024-06-08T21:04:13.733Z"
   },
   {
    "duration": 46,
    "start_time": "2024-06-08T21:04:16.873Z"
   },
   {
    "duration": 16,
    "start_time": "2024-06-08T21:04:18.751Z"
   },
   {
    "duration": 17,
    "start_time": "2024-06-08T21:04:20.430Z"
   },
   {
    "duration": 14,
    "start_time": "2024-06-08T21:04:21.999Z"
   },
   {
    "duration": 22,
    "start_time": "2024-06-08T21:04:23.467Z"
   },
   {
    "duration": 10,
    "start_time": "2024-06-08T21:04:25.479Z"
   },
   {
    "duration": 29,
    "start_time": "2024-06-08T21:04:26.376Z"
   },
   {
    "duration": 111,
    "start_time": "2024-06-08T21:04:28.689Z"
   },
   {
    "duration": 320,
    "start_time": "2024-06-08T21:04:29.575Z"
   },
   {
    "duration": 15,
    "start_time": "2024-06-08T21:04:38.704Z"
   },
   {
    "duration": 13,
    "start_time": "2024-06-08T21:04:47.008Z"
   },
   {
    "duration": 92,
    "start_time": "2024-06-08T21:04:51.044Z"
   },
   {
    "duration": 51,
    "start_time": "2024-06-08T21:05:09.222Z"
   },
   {
    "duration": 376,
    "start_time": "2024-06-08T21:05:12.568Z"
   },
   {
    "duration": 235,
    "start_time": "2024-06-08T21:05:21.028Z"
   },
   {
    "duration": 401,
    "start_time": "2024-06-08T21:05:30.585Z"
   },
   {
    "duration": 287,
    "start_time": "2024-06-08T21:05:36.747Z"
   },
   {
    "duration": 262,
    "start_time": "2024-06-08T21:05:40.310Z"
   },
   {
    "duration": 363,
    "start_time": "2024-06-08T21:05:48.012Z"
   },
   {
    "duration": 30,
    "start_time": "2024-06-08T21:07:09.571Z"
   },
   {
    "duration": 136,
    "start_time": "2024-06-08T21:07:22.968Z"
   },
   {
    "duration": 116,
    "start_time": "2024-06-08T21:07:52.625Z"
   },
   {
    "duration": 111,
    "start_time": "2024-06-08T21:08:01.051Z"
   },
   {
    "duration": 677,
    "start_time": "2024-06-08T21:10:22.468Z"
   },
   {
    "duration": 1776,
    "start_time": "2024-06-08T21:10:23.148Z"
   },
   {
    "duration": 152,
    "start_time": "2024-06-08T21:10:24.927Z"
   },
   {
    "duration": 88,
    "start_time": "2024-06-08T21:10:25.083Z"
   },
   {
    "duration": 801,
    "start_time": "2024-06-08T21:10:25.175Z"
   },
   {
    "duration": 24,
    "start_time": "2024-06-08T21:10:25.979Z"
   },
   {
    "duration": 23,
    "start_time": "2024-06-08T21:10:26.022Z"
   },
   {
    "duration": 340,
    "start_time": "2024-06-08T21:10:26.048Z"
   },
   {
    "duration": 30,
    "start_time": "2024-06-08T21:10:26.393Z"
   },
   {
    "duration": 205,
    "start_time": "2024-06-08T21:10:26.427Z"
   },
   {
    "duration": 347,
    "start_time": "2024-06-08T21:10:26.635Z"
   },
   {
    "duration": 88,
    "start_time": "2024-06-08T21:10:26.985Z"
   },
   {
    "duration": 47,
    "start_time": "2024-06-08T21:10:27.076Z"
   },
   {
    "duration": 7,
    "start_time": "2024-06-08T21:10:27.128Z"
   },
   {
    "duration": 94,
    "start_time": "2024-06-08T21:10:27.138Z"
   },
   {
    "duration": 42,
    "start_time": "2024-06-08T21:10:29.293Z"
   },
   {
    "duration": 7,
    "start_time": "2024-06-08T21:10:30.170Z"
   },
   {
    "duration": 8,
    "start_time": "2024-06-08T21:10:32.069Z"
   },
   {
    "duration": 7,
    "start_time": "2024-06-08T21:10:32.686Z"
   },
   {
    "duration": 6,
    "start_time": "2024-06-08T21:10:32.881Z"
   },
   {
    "duration": 2866,
    "start_time": "2024-06-08T21:10:33.463Z"
   },
   {
    "duration": 492,
    "start_time": "2024-06-08T21:10:36.333Z"
   },
   {
    "duration": 45,
    "start_time": "2024-06-08T21:10:36.828Z"
   },
   {
    "duration": 709,
    "start_time": "2024-06-08T21:10:45.654Z"
   },
   {
    "duration": 1716,
    "start_time": "2024-06-08T21:10:46.367Z"
   },
   {
    "duration": 163,
    "start_time": "2024-06-08T21:10:48.087Z"
   },
   {
    "duration": 99,
    "start_time": "2024-06-08T21:10:48.256Z"
   },
   {
    "duration": 817,
    "start_time": "2024-06-08T21:10:48.358Z"
   },
   {
    "duration": 22,
    "start_time": "2024-06-08T21:10:49.178Z"
   },
   {
    "duration": 23,
    "start_time": "2024-06-08T21:10:49.223Z"
   },
   {
    "duration": 774,
    "start_time": "2024-06-09T00:26:39.676Z"
   },
   {
    "duration": 1761,
    "start_time": "2024-06-09T00:26:40.455Z"
   },
   {
    "duration": 183,
    "start_time": "2024-06-09T00:26:42.220Z"
   },
   {
    "duration": 87,
    "start_time": "2024-06-09T00:26:42.408Z"
   },
   {
    "duration": 849,
    "start_time": "2024-06-09T00:26:42.499Z"
   },
   {
    "duration": 26,
    "start_time": "2024-06-09T00:26:43.352Z"
   },
   {
    "duration": 53,
    "start_time": "2024-06-09T00:26:43.382Z"
   },
   {
    "duration": 421,
    "start_time": "2024-06-09T00:26:43.439Z"
   },
   {
    "duration": 23,
    "start_time": "2024-06-09T00:26:43.864Z"
   },
   {
    "duration": 271,
    "start_time": "2024-06-09T00:26:43.890Z"
   },
   {
    "duration": 518,
    "start_time": "2024-06-09T00:26:44.165Z"
   },
   {
    "duration": 109,
    "start_time": "2024-06-09T00:26:44.687Z"
   },
   {
    "duration": 63,
    "start_time": "2024-06-09T00:26:44.801Z"
   },
   {
    "duration": 8,
    "start_time": "2024-06-09T00:26:44.868Z"
   },
   {
    "duration": 105,
    "start_time": "2024-06-09T00:26:44.881Z"
   },
   {
    "duration": 76,
    "start_time": "2024-06-09T00:26:44.994Z"
   },
   {
    "duration": 7,
    "start_time": "2024-06-09T00:26:45.523Z"
   },
   {
    "duration": 5,
    "start_time": "2024-06-09T00:26:45.756Z"
   },
   {
    "duration": 11,
    "start_time": "2024-06-09T00:26:46.437Z"
   },
   {
    "duration": 8,
    "start_time": "2024-06-09T00:26:46.672Z"
   },
   {
    "duration": 3087,
    "start_time": "2024-06-09T00:26:47.361Z"
   },
   {
    "duration": 514,
    "start_time": "2024-06-09T00:26:50.452Z"
   },
   {
    "duration": 61,
    "start_time": "2024-06-09T00:26:50.969Z"
   },
   {
    "duration": 18,
    "start_time": "2024-06-09T00:26:51.035Z"
   },
   {
    "duration": 21,
    "start_time": "2024-06-09T00:26:51.058Z"
   },
   {
    "duration": 61,
    "start_time": "2024-06-09T00:26:51.082Z"
   },
   {
    "duration": 29,
    "start_time": "2024-06-09T00:26:51.147Z"
   },
   {
    "duration": 11,
    "start_time": "2024-06-09T00:26:51.367Z"
   },
   {
    "duration": 37,
    "start_time": "2024-06-09T00:26:51.860Z"
   },
   {
    "duration": 115,
    "start_time": "2024-06-09T00:26:52.601Z"
   },
   {
    "duration": 303,
    "start_time": "2024-06-09T00:26:52.832Z"
   },
   {
    "duration": 17,
    "start_time": "2024-06-09T00:26:53.302Z"
   },
   {
    "duration": 15,
    "start_time": "2024-06-09T00:26:54.020Z"
   },
   {
    "duration": 129,
    "start_time": "2024-06-09T00:26:55.494Z"
   },
   {
    "duration": 29,
    "start_time": "2024-06-09T00:27:47.497Z"
   },
   {
    "duration": 35,
    "start_time": "2024-06-09T00:27:56.371Z"
   },
   {
    "duration": 59,
    "start_time": "2024-06-09T00:28:24.233Z"
   },
   {
    "duration": 543,
    "start_time": "2024-06-09T00:28:26.585Z"
   },
   {
    "duration": 271,
    "start_time": "2024-06-09T00:28:40.751Z"
   },
   {
    "duration": 430,
    "start_time": "2024-06-09T00:28:44.772Z"
   },
   {
    "duration": 278,
    "start_time": "2024-06-09T00:31:03.368Z"
   },
   {
    "duration": 284,
    "start_time": "2024-06-09T00:31:04.674Z"
   },
   {
    "duration": 390,
    "start_time": "2024-06-09T00:31:05.245Z"
   },
   {
    "duration": 9645,
    "start_time": "2024-06-09T00:31:08.715Z"
   },
   {
    "duration": 120,
    "start_time": "2024-06-09T00:31:38.960Z"
   },
   {
    "duration": 19,
    "start_time": "2024-06-09T00:31:51.257Z"
   },
   {
    "duration": 41,
    "start_time": "2024-06-09T00:34:36.870Z"
   },
   {
    "duration": 36,
    "start_time": "2024-06-09T00:34:50.772Z"
   },
   {
    "duration": 37,
    "start_time": "2024-06-09T00:35:11.899Z"
   },
   {
    "duration": 27,
    "start_time": "2024-06-09T00:36:57.284Z"
   },
   {
    "duration": 20,
    "start_time": "2024-06-09T00:41:57.826Z"
   },
   {
    "duration": 42,
    "start_time": "2024-06-09T00:43:46.095Z"
   },
   {
    "duration": 53,
    "start_time": "2024-06-09T00:46:23.329Z"
   },
   {
    "duration": 276,
    "start_time": "2024-06-09T00:46:40.039Z"
   },
   {
    "duration": 1114,
    "start_time": "2024-06-09T00:47:37.243Z"
   },
   {
    "duration": 89,
    "start_time": "2024-06-09T00:50:13.774Z"
   },
   {
    "duration": 298,
    "start_time": "2024-06-09T00:53:42.105Z"
   },
   {
    "duration": 30,
    "start_time": "2024-06-09T00:54:28.256Z"
   },
   {
    "duration": 68,
    "start_time": "2024-06-09T00:54:35.456Z"
   },
   {
    "duration": 86,
    "start_time": "2024-06-09T00:55:53.001Z"
   },
   {
    "duration": 72,
    "start_time": "2024-06-09T00:57:25.700Z"
   },
   {
    "duration": 87,
    "start_time": "2024-06-09T00:57:45.095Z"
   },
   {
    "duration": 98,
    "start_time": "2024-06-09T00:58:09.996Z"
   },
   {
    "duration": 79,
    "start_time": "2024-06-09T00:59:12.445Z"
   },
   {
    "duration": 6,
    "start_time": "2024-06-09T00:59:37.619Z"
   },
   {
    "duration": 70,
    "start_time": "2024-06-09T00:59:43.975Z"
   },
   {
    "duration": 96,
    "start_time": "2024-06-09T01:00:05.426Z"
   },
   {
    "duration": 76,
    "start_time": "2024-06-09T01:00:42.274Z"
   },
   {
    "duration": 72,
    "start_time": "2024-06-09T01:01:03.251Z"
   },
   {
    "duration": 280,
    "start_time": "2024-06-09T01:02:38.225Z"
   },
   {
    "duration": 273,
    "start_time": "2024-06-09T01:05:06.000Z"
   },
   {
    "duration": 123,
    "start_time": "2024-06-09T01:05:24.804Z"
   },
   {
    "duration": 73,
    "start_time": "2024-06-09T01:05:54.407Z"
   },
   {
    "duration": 66,
    "start_time": "2024-06-09T01:06:22.176Z"
   },
   {
    "duration": 152,
    "start_time": "2024-06-09T01:08:26.249Z"
   },
   {
    "duration": 22,
    "start_time": "2024-06-09T01:08:39.185Z"
   },
   {
    "duration": 494,
    "start_time": "2024-06-09T01:08:47.914Z"
   },
   {
    "duration": 222,
    "start_time": "2024-06-09T01:09:56.366Z"
   },
   {
    "duration": 232,
    "start_time": "2024-06-09T01:10:11.067Z"
   },
   {
    "duration": 0,
    "start_time": "2024-06-09T01:12:36.889Z"
   },
   {
    "duration": 736,
    "start_time": "2024-06-09T01:13:08.195Z"
   },
   {
    "duration": 1757,
    "start_time": "2024-06-09T01:13:08.935Z"
   },
   {
    "duration": 160,
    "start_time": "2024-06-09T01:13:10.696Z"
   },
   {
    "duration": 100,
    "start_time": "2024-06-09T01:13:10.861Z"
   },
   {
    "duration": 877,
    "start_time": "2024-06-09T01:13:10.965Z"
   },
   {
    "duration": 29,
    "start_time": "2024-06-09T01:13:11.846Z"
   },
   {
    "duration": 53,
    "start_time": "2024-06-09T01:13:11.878Z"
   },
   {
    "duration": 408,
    "start_time": "2024-06-09T01:13:11.935Z"
   },
   {
    "duration": 22,
    "start_time": "2024-06-09T01:13:12.350Z"
   },
   {
    "duration": 262,
    "start_time": "2024-06-09T01:13:12.375Z"
   },
   {
    "duration": 414,
    "start_time": "2024-06-09T01:13:12.642Z"
   },
   {
    "duration": 104,
    "start_time": "2024-06-09T01:13:13.060Z"
   },
   {
    "duration": 53,
    "start_time": "2024-06-09T01:13:13.170Z"
   },
   {
    "duration": 7,
    "start_time": "2024-06-09T01:13:13.227Z"
   },
   {
    "duration": 96,
    "start_time": "2024-06-09T01:13:13.241Z"
   },
   {
    "duration": 48,
    "start_time": "2024-06-09T01:13:13.429Z"
   },
   {
    "duration": 12,
    "start_time": "2024-06-09T01:13:15.239Z"
   },
   {
    "duration": 9,
    "start_time": "2024-06-09T01:13:16.305Z"
   },
   {
    "duration": 9,
    "start_time": "2024-06-09T01:13:18.170Z"
   },
   {
    "duration": 5,
    "start_time": "2024-06-09T01:13:19.080Z"
   },
   {
    "duration": 2918,
    "start_time": "2024-06-09T01:13:20.559Z"
   },
   {
    "duration": 497,
    "start_time": "2024-06-09T01:13:24.298Z"
   },
   {
    "duration": 44,
    "start_time": "2024-06-09T01:13:26.721Z"
   },
   {
    "duration": 17,
    "start_time": "2024-06-09T01:13:27.133Z"
   },
   {
    "duration": 17,
    "start_time": "2024-06-09T01:13:27.540Z"
   },
   {
    "duration": 12,
    "start_time": "2024-06-09T01:13:27.932Z"
   },
   {
    "duration": 22,
    "start_time": "2024-06-09T01:13:28.332Z"
   },
   {
    "duration": 10,
    "start_time": "2024-06-09T01:13:30.841Z"
   },
   {
    "duration": 27,
    "start_time": "2024-06-09T01:13:31.570Z"
   },
   {
    "duration": 126,
    "start_time": "2024-06-09T01:13:32.755Z"
   },
   {
    "duration": 423,
    "start_time": "2024-06-09T01:13:33.351Z"
   },
   {
    "duration": 28,
    "start_time": "2024-06-09T01:13:33.875Z"
   },
   {
    "duration": 16,
    "start_time": "2024-06-09T01:13:34.104Z"
   },
   {
    "duration": 106,
    "start_time": "2024-06-09T01:13:34.744Z"
   },
   {
    "duration": 54,
    "start_time": "2024-06-09T01:13:37.908Z"
   },
   {
    "duration": 418,
    "start_time": "2024-06-09T01:13:40.707Z"
   },
   {
    "duration": 259,
    "start_time": "2024-06-09T01:13:48.372Z"
   },
   {
    "duration": 420,
    "start_time": "2024-06-09T01:13:52.741Z"
   },
   {
    "duration": 311,
    "start_time": "2024-06-09T01:13:55.462Z"
   },
   {
    "duration": 295,
    "start_time": "2024-06-09T01:14:05.887Z"
   },
   {
    "duration": 421,
    "start_time": "2024-06-09T01:14:08.620Z"
   },
   {
    "duration": 7,
    "start_time": "2024-06-09T01:14:53.372Z"
   },
   {
    "duration": 7,
    "start_time": "2024-06-09T01:14:58.732Z"
   },
   {
    "duration": 6,
    "start_time": "2024-06-09T01:15:22.575Z"
   },
   {
    "duration": 8,
    "start_time": "2024-06-09T01:16:04.802Z"
   },
   {
    "duration": 231,
    "start_time": "2024-06-09T01:24:03.232Z"
   },
   {
    "duration": 72,
    "start_time": "2024-06-09T01:24:33.879Z"
   },
   {
    "duration": 64,
    "start_time": "2024-06-09T01:24:55.217Z"
   },
   {
    "duration": 66,
    "start_time": "2024-06-09T01:24:59.935Z"
   },
   {
    "duration": 76,
    "start_time": "2024-06-09T01:25:14.862Z"
   },
   {
    "duration": 67,
    "start_time": "2024-06-09T01:25:48.879Z"
   },
   {
    "duration": 69,
    "start_time": "2024-06-09T01:26:02.345Z"
   },
   {
    "duration": 67,
    "start_time": "2024-06-09T01:26:22.397Z"
   },
   {
    "duration": 67,
    "start_time": "2024-06-09T01:26:40.582Z"
   },
   {
    "duration": 63,
    "start_time": "2024-06-09T01:31:22.597Z"
   },
   {
    "duration": 565,
    "start_time": "2024-06-09T01:33:26.309Z"
   },
   {
    "duration": 68,
    "start_time": "2024-06-09T01:34:51.671Z"
   },
   {
    "duration": 288,
    "start_time": "2024-06-09T01:35:43.347Z"
   },
   {
    "duration": 97,
    "start_time": "2024-06-09T01:38:47.765Z"
   },
   {
    "duration": 109,
    "start_time": "2024-06-09T01:39:02.080Z"
   },
   {
    "duration": 339,
    "start_time": "2024-06-09T01:39:13.403Z"
   },
   {
    "duration": 72,
    "start_time": "2024-06-09T01:39:36.567Z"
   },
   {
    "duration": 72,
    "start_time": "2024-06-09T01:40:12.356Z"
   },
   {
    "duration": 81,
    "start_time": "2024-06-09T01:40:32.228Z"
   },
   {
    "duration": 91,
    "start_time": "2024-06-09T01:40:53.844Z"
   },
   {
    "duration": 80,
    "start_time": "2024-06-09T01:41:06.932Z"
   },
   {
    "duration": 82,
    "start_time": "2024-06-09T01:42:38.462Z"
   },
   {
    "duration": 438,
    "start_time": "2024-06-09T01:42:55.730Z"
   },
   {
    "duration": 11,
    "start_time": "2024-06-09T01:43:35.880Z"
   },
   {
    "duration": 7,
    "start_time": "2024-06-09T01:43:41.540Z"
   },
   {
    "duration": 7,
    "start_time": "2024-06-09T01:43:50.068Z"
   },
   {
    "duration": 8,
    "start_time": "2024-06-09T01:45:17.203Z"
   },
   {
    "duration": 72,
    "start_time": "2024-06-09T01:45:26.662Z"
   },
   {
    "duration": 393,
    "start_time": "2024-06-09T01:45:48.334Z"
   },
   {
    "duration": 68,
    "start_time": "2024-06-09T03:55:32.989Z"
   },
   {
    "duration": 311,
    "start_time": "2024-06-09T03:56:13.930Z"
   },
   {
    "duration": 1498,
    "start_time": "2024-06-09T03:57:22.910Z"
   },
   {
    "duration": 349,
    "start_time": "2024-06-09T03:57:35.887Z"
   },
   {
    "duration": 346,
    "start_time": "2024-06-09T03:59:27.105Z"
   },
   {
    "duration": 336,
    "start_time": "2024-06-09T03:59:39.171Z"
   },
   {
    "duration": 4336,
    "start_time": "2024-06-09T12:35:34.010Z"
   },
   {
    "duration": 1667,
    "start_time": "2024-06-09T12:35:38.350Z"
   },
   {
    "duration": 140,
    "start_time": "2024-06-09T12:35:40.020Z"
   },
   {
    "duration": 75,
    "start_time": "2024-06-09T12:35:40.165Z"
   },
   {
    "duration": 770,
    "start_time": "2024-06-09T12:35:40.243Z"
   },
   {
    "duration": 31,
    "start_time": "2024-06-09T12:35:41.016Z"
   },
   {
    "duration": 22,
    "start_time": "2024-06-09T12:35:41.053Z"
   },
   {
    "duration": 349,
    "start_time": "2024-06-09T12:35:41.078Z"
   },
   {
    "duration": 26,
    "start_time": "2024-06-09T12:35:41.434Z"
   },
   {
    "duration": 209,
    "start_time": "2024-06-09T12:35:41.466Z"
   },
   {
    "duration": 317,
    "start_time": "2024-06-09T12:35:41.678Z"
   },
   {
    "duration": 93,
    "start_time": "2024-06-09T12:35:41.997Z"
   },
   {
    "duration": 41,
    "start_time": "2024-06-09T12:35:42.093Z"
   },
   {
    "duration": 9,
    "start_time": "2024-06-09T12:35:42.137Z"
   },
   {
    "duration": 52,
    "start_time": "2024-06-09T12:35:42.149Z"
   },
   {
    "duration": 65,
    "start_time": "2024-06-09T12:35:42.204Z"
   },
   {
    "duration": 6,
    "start_time": "2024-06-09T12:35:42.272Z"
   },
   {
    "duration": 5,
    "start_time": "2024-06-09T12:35:42.282Z"
   },
   {
    "duration": 43,
    "start_time": "2024-06-09T12:35:42.290Z"
   },
   {
    "duration": 8,
    "start_time": "2024-06-09T12:35:42.339Z"
   },
   {
    "duration": 2691,
    "start_time": "2024-06-09T12:35:42.350Z"
   },
   {
    "duration": 457,
    "start_time": "2024-06-09T12:35:45.045Z"
   },
   {
    "duration": 52,
    "start_time": "2024-06-09T12:35:45.505Z"
   },
   {
    "duration": 18,
    "start_time": "2024-06-09T12:35:45.560Z"
   },
   {
    "duration": 16,
    "start_time": "2024-06-09T12:35:45.581Z"
   },
   {
    "duration": 11,
    "start_time": "2024-06-09T12:35:45.635Z"
   },
   {
    "duration": 19,
    "start_time": "2024-06-09T12:35:45.649Z"
   },
   {
    "duration": 10,
    "start_time": "2024-06-09T12:35:45.672Z"
   },
   {
    "duration": 69,
    "start_time": "2024-06-09T12:35:45.686Z"
   },
   {
    "duration": 110,
    "start_time": "2024-06-09T12:35:46.330Z"
   },
   {
    "duration": 277,
    "start_time": "2024-06-09T12:35:46.538Z"
   },
   {
    "duration": 14,
    "start_time": "2024-06-09T12:35:49.637Z"
   },
   {
    "duration": 16,
    "start_time": "2024-06-09T12:35:50.292Z"
   },
   {
    "duration": 94,
    "start_time": "2024-06-09T12:35:52.087Z"
   },
   {
    "duration": 39,
    "start_time": "2024-06-09T12:40:49.550Z"
   },
   {
    "duration": 415,
    "start_time": "2024-06-09T12:42:18.115Z"
   },
   {
    "duration": 30,
    "start_time": "2024-06-09T12:42:26.231Z"
   },
   {
    "duration": 43,
    "start_time": "2024-06-09T12:42:46.139Z"
   },
   {
    "duration": 45,
    "start_time": "2024-06-09T12:44:14.631Z"
   },
   {
    "duration": 33,
    "start_time": "2024-06-09T12:46:56.787Z"
   },
   {
    "duration": 41,
    "start_time": "2024-06-09T12:47:03.870Z"
   },
   {
    "duration": 40,
    "start_time": "2024-06-09T12:47:16.037Z"
   },
   {
    "duration": 53,
    "start_time": "2024-06-09T12:47:49.346Z"
   },
   {
    "duration": 55,
    "start_time": "2024-06-09T12:52:25.802Z"
   },
   {
    "duration": 52,
    "start_time": "2024-06-09T12:53:01.973Z"
   },
   {
    "duration": 822,
    "start_time": "2024-06-09T12:53:45.495Z"
   },
   {
    "duration": 46,
    "start_time": "2024-06-09T12:54:01.697Z"
   },
   {
    "duration": 48,
    "start_time": "2024-06-09T12:54:14.834Z"
   },
   {
    "duration": 49,
    "start_time": "2024-06-09T12:54:27.911Z"
   },
   {
    "duration": 40,
    "start_time": "2024-06-09T12:55:38.901Z"
   },
   {
    "duration": 53,
    "start_time": "2024-06-09T12:55:56.324Z"
   },
   {
    "duration": 125,
    "start_time": "2024-06-09T12:56:16.535Z"
   },
   {
    "duration": 165,
    "start_time": "2024-06-09T12:56:17.448Z"
   },
   {
    "duration": 10,
    "start_time": "2024-06-09T12:56:36.124Z"
   },
   {
    "duration": 14,
    "start_time": "2024-06-09T12:56:39.995Z"
   },
   {
    "duration": 75,
    "start_time": "2024-06-09T12:56:42.640Z"
   },
   {
    "duration": 57,
    "start_time": "2024-06-09T12:56:53.223Z"
   },
   {
    "duration": 382,
    "start_time": "2024-06-09T12:56:57.040Z"
   },
   {
    "duration": 243,
    "start_time": "2024-06-09T12:57:00.450Z"
   },
   {
    "duration": 429,
    "start_time": "2024-06-09T12:57:03.495Z"
   },
   {
    "duration": 258,
    "start_time": "2024-06-09T12:57:06.295Z"
   },
   {
    "duration": 269,
    "start_time": "2024-06-09T12:57:07.285Z"
   },
   {
    "duration": 409,
    "start_time": "2024-06-09T12:57:07.913Z"
   },
   {
    "duration": 428,
    "start_time": "2024-06-09T12:57:23.169Z"
   },
   {
    "duration": 583,
    "start_time": "2024-06-09T12:57:29.802Z"
   },
   {
    "duration": 336,
    "start_time": "2024-06-09T12:57:39.415Z"
   },
   {
    "duration": 13,
    "start_time": "2024-06-09T13:28:40.105Z"
   },
   {
    "duration": 177,
    "start_time": "2024-06-09T13:29:46.438Z"
   },
   {
    "duration": 211,
    "start_time": "2024-06-09T13:30:01.517Z"
   },
   {
    "duration": 139,
    "start_time": "2024-06-09T13:30:59.623Z"
   },
   {
    "duration": 133,
    "start_time": "2024-06-09T13:32:21.961Z"
   },
   {
    "duration": 132,
    "start_time": "2024-06-09T13:32:38.457Z"
   },
   {
    "duration": 154,
    "start_time": "2024-06-09T13:32:53.288Z"
   },
   {
    "duration": 837,
    "start_time": "2024-06-09T13:33:21.276Z"
   },
   {
    "duration": 135,
    "start_time": "2024-06-09T13:33:31.802Z"
   },
   {
    "duration": 12,
    "start_time": "2024-06-09T13:35:00.983Z"
   },
   {
    "duration": 133,
    "start_time": "2024-06-09T13:35:13.814Z"
   },
   {
    "duration": 197,
    "start_time": "2024-06-09T13:36:19.388Z"
   },
   {
    "duration": 197,
    "start_time": "2024-06-09T13:37:01.878Z"
   },
   {
    "duration": 187,
    "start_time": "2024-06-09T13:37:26.109Z"
   },
   {
    "duration": 202,
    "start_time": "2024-06-09T13:37:36.023Z"
   },
   {
    "duration": 23,
    "start_time": "2024-06-09T13:40:04.355Z"
   },
   {
    "duration": 21,
    "start_time": "2024-06-09T13:40:18.919Z"
   },
   {
    "duration": 23,
    "start_time": "2024-06-09T13:42:35.548Z"
   },
   {
    "duration": 195,
    "start_time": "2024-06-09T13:43:08.140Z"
   },
   {
    "duration": 186,
    "start_time": "2024-06-09T13:43:47.237Z"
   },
   {
    "duration": 195,
    "start_time": "2024-06-09T13:43:51.258Z"
   },
   {
    "duration": 201,
    "start_time": "2024-06-09T13:43:57.306Z"
   },
   {
    "duration": 205,
    "start_time": "2024-06-09T13:48:44.606Z"
   },
   {
    "duration": 8,
    "start_time": "2024-06-09T13:49:26.793Z"
   },
   {
    "duration": 27,
    "start_time": "2024-06-09T13:49:36.330Z"
   },
   {
    "duration": 204,
    "start_time": "2024-06-09T13:59:46.879Z"
   },
   {
    "duration": 201,
    "start_time": "2024-06-09T14:01:14.500Z"
   },
   {
    "duration": 193,
    "start_time": "2024-06-09T14:01:25.051Z"
   },
   {
    "duration": 205,
    "start_time": "2024-06-09T14:01:34.150Z"
   },
   {
    "duration": 659,
    "start_time": "2024-06-09T14:02:15.575Z"
   },
   {
    "duration": 216,
    "start_time": "2024-06-09T14:02:24.977Z"
   },
   {
    "duration": 222,
    "start_time": "2024-06-09T14:03:38.827Z"
   },
   {
    "duration": 213,
    "start_time": "2024-06-09T14:04:39.067Z"
   },
   {
    "duration": 198,
    "start_time": "2024-06-09T14:10:02.247Z"
   },
   {
    "duration": 225,
    "start_time": "2024-06-09T14:10:39.417Z"
   },
   {
    "duration": 209,
    "start_time": "2024-06-09T14:16:33.990Z"
   },
   {
    "duration": 192,
    "start_time": "2024-06-09T14:16:56.075Z"
   },
   {
    "duration": 209,
    "start_time": "2024-06-09T14:23:25.970Z"
   },
   {
    "duration": 683,
    "start_time": "2024-06-09T14:25:37.071Z"
   },
   {
    "duration": 1748,
    "start_time": "2024-06-09T14:25:37.757Z"
   },
   {
    "duration": 135,
    "start_time": "2024-06-09T14:25:39.507Z"
   },
   {
    "duration": 62,
    "start_time": "2024-06-09T14:25:39.646Z"
   },
   {
    "duration": 787,
    "start_time": "2024-06-09T14:25:39.711Z"
   },
   {
    "duration": 22,
    "start_time": "2024-06-09T14:25:40.500Z"
   },
   {
    "duration": 23,
    "start_time": "2024-06-09T14:25:40.534Z"
   },
   {
    "duration": 351,
    "start_time": "2024-06-09T14:25:40.560Z"
   },
   {
    "duration": 31,
    "start_time": "2024-06-09T14:25:40.914Z"
   },
   {
    "duration": 197,
    "start_time": "2024-06-09T14:25:40.950Z"
   },
   {
    "duration": 353,
    "start_time": "2024-06-09T14:25:41.151Z"
   },
   {
    "duration": 91,
    "start_time": "2024-06-09T14:25:41.508Z"
   },
   {
    "duration": 48,
    "start_time": "2024-06-09T14:25:41.602Z"
   },
   {
    "duration": 6,
    "start_time": "2024-06-09T14:25:41.654Z"
   },
   {
    "duration": 83,
    "start_time": "2024-06-09T14:25:41.663Z"
   },
   {
    "duration": 36,
    "start_time": "2024-06-09T14:25:41.749Z"
   },
   {
    "duration": 6,
    "start_time": "2024-06-09T14:25:42.052Z"
   },
   {
    "duration": 7,
    "start_time": "2024-06-09T14:25:42.231Z"
   },
   {
    "duration": 7,
    "start_time": "2024-06-09T14:25:42.809Z"
   },
   {
    "duration": 7,
    "start_time": "2024-06-09T14:25:43.006Z"
   },
   {
    "duration": 2670,
    "start_time": "2024-06-09T14:25:43.576Z"
   },
   {
    "duration": 456,
    "start_time": "2024-06-09T14:25:46.251Z"
   },
   {
    "duration": 45,
    "start_time": "2024-06-09T14:25:46.710Z"
   },
   {
    "duration": 16,
    "start_time": "2024-06-09T14:25:46.759Z"
   },
   {
    "duration": 16,
    "start_time": "2024-06-09T14:25:46.778Z"
   },
   {
    "duration": 43,
    "start_time": "2024-06-09T14:25:46.798Z"
   },
   {
    "duration": 19,
    "start_time": "2024-06-09T14:25:46.844Z"
   },
   {
    "duration": 9,
    "start_time": "2024-06-09T14:25:47.853Z"
   },
   {
    "duration": 51,
    "start_time": "2024-06-09T14:25:48.058Z"
   },
   {
    "duration": 108,
    "start_time": "2024-06-09T14:25:48.630Z"
   },
   {
    "duration": 277,
    "start_time": "2024-06-09T14:25:48.850Z"
   },
   {
    "duration": 15,
    "start_time": "2024-06-09T14:25:49.232Z"
   },
   {
    "duration": 12,
    "start_time": "2024-06-09T14:25:49.424Z"
   },
   {
    "duration": 87,
    "start_time": "2024-06-09T14:25:49.816Z"
   },
   {
    "duration": 50,
    "start_time": "2024-06-09T14:25:51.023Z"
   },
   {
    "duration": 366,
    "start_time": "2024-06-09T14:25:53.110Z"
   },
   {
    "duration": 222,
    "start_time": "2024-06-09T14:25:54.760Z"
   },
   {
    "duration": 379,
    "start_time": "2024-06-09T14:25:55.639Z"
   },
   {
    "duration": 256,
    "start_time": "2024-06-09T14:25:58.081Z"
   },
   {
    "duration": 253,
    "start_time": "2024-06-09T14:25:58.703Z"
   },
   {
    "duration": 365,
    "start_time": "2024-06-09T14:25:59.535Z"
   },
   {
    "duration": 339,
    "start_time": "2024-06-09T14:26:02.596Z"
   },
   {
    "duration": 6057,
    "start_time": "2024-06-09T14:29:05.558Z"
   },
   {
    "duration": 223,
    "start_time": "2024-06-09T14:29:14.973Z"
   },
   {
    "duration": 6094,
    "start_time": "2024-06-09T14:30:09.589Z"
   },
   {
    "duration": 229,
    "start_time": "2024-06-09T14:31:45.370Z"
   },
   {
    "duration": 221,
    "start_time": "2024-06-09T14:32:43.645Z"
   },
   {
    "duration": 285,
    "start_time": "2024-06-09T14:33:07.796Z"
   },
   {
    "duration": 245,
    "start_time": "2024-06-09T14:33:53.486Z"
   },
   {
    "duration": 265,
    "start_time": "2024-06-09T14:37:22.303Z"
   },
   {
    "duration": 240,
    "start_time": "2024-06-09T14:38:28.829Z"
   },
   {
    "duration": 227,
    "start_time": "2024-06-09T14:39:12.830Z"
   },
   {
    "duration": 9,
    "start_time": "2024-06-09T14:53:58.176Z"
   },
   {
    "duration": 226,
    "start_time": "2024-06-09T14:54:05.601Z"
   },
   {
    "duration": 230,
    "start_time": "2024-06-09T14:57:43.176Z"
   },
   {
    "duration": 233,
    "start_time": "2024-06-09T14:58:07.694Z"
   },
   {
    "duration": 249,
    "start_time": "2024-06-09T15:09:54.487Z"
   },
   {
    "duration": 3,
    "start_time": "2024-06-09T15:10:19.291Z"
   },
   {
    "duration": 784,
    "start_time": "2024-06-09T15:10:31.750Z"
   },
   {
    "duration": 290,
    "start_time": "2024-06-09T15:10:56.267Z"
   },
   {
    "duration": 278,
    "start_time": "2024-06-09T15:12:03.037Z"
   },
   {
    "duration": 285,
    "start_time": "2024-06-09T15:12:39.423Z"
   },
   {
    "duration": 426,
    "start_time": "2024-06-09T15:13:54.800Z"
   },
   {
    "duration": 336,
    "start_time": "2024-06-09T15:14:59.996Z"
   },
   {
    "duration": 236,
    "start_time": "2024-06-09T15:42:39.424Z"
   },
   {
    "duration": 270,
    "start_time": "2024-06-09T15:42:57.186Z"
   },
   {
    "duration": 215,
    "start_time": "2024-06-09T15:55:26.521Z"
   },
   {
    "duration": 250,
    "start_time": "2024-06-09T15:55:31.562Z"
   },
   {
    "duration": 229,
    "start_time": "2024-06-09T15:55:50.276Z"
   },
   {
    "duration": 285,
    "start_time": "2024-06-09T15:57:36.258Z"
   },
   {
    "duration": 294,
    "start_time": "2024-06-09T15:58:43.941Z"
   },
   {
    "duration": 293,
    "start_time": "2024-06-09T15:58:50.932Z"
   },
   {
    "duration": 319,
    "start_time": "2024-06-09T16:01:21.390Z"
   },
   {
    "duration": 650,
    "start_time": "2024-06-09T16:01:53.225Z"
   },
   {
    "duration": 250,
    "start_time": "2024-06-09T16:47:18.684Z"
   },
   {
    "duration": 276,
    "start_time": "2024-06-09T16:47:35.624Z"
   },
   {
    "duration": 236,
    "start_time": "2024-06-09T17:21:38.388Z"
   },
   {
    "duration": 518,
    "start_time": "2024-06-09T17:22:03.315Z"
   },
   {
    "duration": 247,
    "start_time": "2024-06-09T17:22:43.127Z"
   },
   {
    "duration": 441,
    "start_time": "2024-06-09T17:22:58.664Z"
   },
   {
    "duration": 318,
    "start_time": "2024-06-09T17:23:22.651Z"
   },
   {
    "duration": 249,
    "start_time": "2024-06-09T17:23:55.992Z"
   },
   {
    "duration": 294,
    "start_time": "2024-06-09T17:24:00.985Z"
   },
   {
    "duration": 447,
    "start_time": "2024-06-09T17:24:33.806Z"
   },
   {
    "duration": 260,
    "start_time": "2024-06-09T17:25:30.986Z"
   },
   {
    "duration": 374,
    "start_time": "2024-06-09T17:26:02.990Z"
   },
   {
    "duration": 334,
    "start_time": "2024-06-09T17:26:45.162Z"
   },
   {
    "duration": 167,
    "start_time": "2024-06-09T17:26:53.922Z"
   },
   {
    "duration": 151,
    "start_time": "2024-06-09T17:26:59.262Z"
   },
   {
    "duration": 195,
    "start_time": "2024-06-09T17:27:09.327Z"
   },
   {
    "duration": 152,
    "start_time": "2024-06-09T17:28:06.562Z"
   },
   {
    "duration": 369,
    "start_time": "2024-06-09T17:28:23.245Z"
   },
   {
    "duration": 164,
    "start_time": "2024-06-09T17:28:36.669Z"
   },
   {
    "duration": 195,
    "start_time": "2024-06-09T17:29:14.864Z"
   },
   {
    "duration": 425,
    "start_time": "2024-06-09T17:30:11.461Z"
   },
   {
    "duration": 162,
    "start_time": "2024-06-09T17:30:35.045Z"
   },
   {
    "duration": 148,
    "start_time": "2024-06-09T17:32:03.918Z"
   },
   {
    "duration": 194,
    "start_time": "2024-06-09T17:32:56.980Z"
   },
   {
    "duration": 656,
    "start_time": "2024-06-09T17:34:27.145Z"
   },
   {
    "duration": 219,
    "start_time": "2024-06-09T17:37:01.239Z"
   },
   {
    "duration": 245,
    "start_time": "2024-06-09T17:37:44.038Z"
   },
   {
    "duration": 7,
    "start_time": "2024-06-09T17:48:21.617Z"
   },
   {
    "duration": 1353,
    "start_time": "2024-06-09T17:48:28.699Z"
   },
   {
    "duration": 220,
    "start_time": "2024-06-09T17:48:47.953Z"
   },
   {
    "duration": 206,
    "start_time": "2024-06-09T17:48:54.519Z"
   },
   {
    "duration": 517,
    "start_time": "2024-06-09T17:51:16.437Z"
   },
   {
    "duration": 203,
    "start_time": "2024-06-09T17:52:02.859Z"
   },
   {
    "duration": 208,
    "start_time": "2024-06-09T17:52:18.516Z"
   },
   {
    "duration": 198,
    "start_time": "2024-06-09T17:52:59.559Z"
   },
   {
    "duration": 371,
    "start_time": "2024-06-09T17:54:02.964Z"
   },
   {
    "duration": 210,
    "start_time": "2024-06-09T17:54:41.614Z"
   },
   {
    "duration": 623,
    "start_time": "2024-06-09T17:55:24.241Z"
   },
   {
    "duration": 226,
    "start_time": "2024-06-09T17:55:50.123Z"
   },
   {
    "duration": 473,
    "start_time": "2024-06-09T17:55:59.019Z"
   },
   {
    "duration": 317,
    "start_time": "2024-06-09T17:57:40.697Z"
   },
   {
    "duration": 475,
    "start_time": "2024-06-09T17:57:46.585Z"
   },
   {
    "duration": 518,
    "start_time": "2024-06-09T18:10:50.940Z"
   },
   {
    "duration": 477,
    "start_time": "2024-06-09T18:27:05.457Z"
   },
   {
    "duration": 483,
    "start_time": "2024-06-09T18:29:52.699Z"
   },
   {
    "duration": 494,
    "start_time": "2024-06-09T18:30:27.949Z"
   },
   {
    "duration": 607,
    "start_time": "2024-06-09T18:31:24.186Z"
   },
   {
    "duration": 482,
    "start_time": "2024-06-09T18:31:33.237Z"
   },
   {
    "duration": 540,
    "start_time": "2024-06-09T18:35:21.022Z"
   },
   {
    "duration": 8,
    "start_time": "2024-06-09T18:36:09.464Z"
   },
   {
    "duration": 508,
    "start_time": "2024-06-09T18:36:15.201Z"
   },
   {
    "duration": 472,
    "start_time": "2024-06-09T18:36:47.430Z"
   },
   {
    "duration": 10,
    "start_time": "2024-06-09T18:37:02.776Z"
   },
   {
    "duration": 473,
    "start_time": "2024-06-09T18:37:26.499Z"
   },
   {
    "duration": 38,
    "start_time": "2024-06-09T18:40:06.684Z"
   },
   {
    "duration": 37,
    "start_time": "2024-06-09T18:40:33.086Z"
   },
   {
    "duration": 12,
    "start_time": "2024-06-09T18:40:56.935Z"
   },
   {
    "duration": 22,
    "start_time": "2024-06-09T18:45:54.259Z"
   },
   {
    "duration": 38,
    "start_time": "2024-06-09T18:46:08.626Z"
   },
   {
    "duration": 10,
    "start_time": "2024-06-09T18:47:10.420Z"
   },
   {
    "duration": 480,
    "start_time": "2024-06-09T18:48:49.637Z"
   },
   {
    "duration": 474,
    "start_time": "2024-06-09T18:49:02.731Z"
   },
   {
    "duration": 491,
    "start_time": "2024-06-09T18:49:45.789Z"
   },
   {
    "duration": 600,
    "start_time": "2024-06-09T18:55:20.452Z"
   },
   {
    "duration": 477,
    "start_time": "2024-06-09T18:55:53.274Z"
   },
   {
    "duration": 482,
    "start_time": "2024-06-09T18:56:23.542Z"
   },
   {
    "duration": 522,
    "start_time": "2024-06-09T18:56:52.917Z"
   },
   {
    "duration": 481,
    "start_time": "2024-06-09T18:57:52.453Z"
   },
   {
    "duration": 16,
    "start_time": "2024-06-09T18:58:19.076Z"
   },
   {
    "duration": 509,
    "start_time": "2024-06-09T19:04:13.911Z"
   },
   {
    "duration": 14,
    "start_time": "2024-06-09T19:05:58.459Z"
   },
   {
    "duration": 489,
    "start_time": "2024-06-09T19:07:24.247Z"
   },
   {
    "duration": 21,
    "start_time": "2024-06-09T19:07:31.959Z"
   },
   {
    "duration": 259,
    "start_time": "2024-06-09T19:07:50.356Z"
   },
   {
    "duration": 503,
    "start_time": "2024-06-09T19:08:06.669Z"
   },
   {
    "duration": 800,
    "start_time": "2024-06-09T19:09:41.894Z"
   },
   {
    "duration": 563,
    "start_time": "2024-06-09T19:10:00.038Z"
   },
   {
    "duration": 8,
    "start_time": "2024-06-09T19:17:46.711Z"
   },
   {
    "duration": 7,
    "start_time": "2024-06-09T19:17:58.354Z"
   },
   {
    "duration": 645,
    "start_time": "2024-06-09T19:18:32.459Z"
   },
   {
    "duration": 7,
    "start_time": "2024-06-09T19:18:45.612Z"
   },
   {
    "duration": 14,
    "start_time": "2024-06-09T19:19:10.088Z"
   },
   {
    "duration": 23,
    "start_time": "2024-06-09T19:19:55.224Z"
   },
   {
    "duration": 7,
    "start_time": "2024-06-09T19:20:01.818Z"
   },
   {
    "duration": 6,
    "start_time": "2024-06-09T19:23:08.972Z"
   },
   {
    "duration": 79,
    "start_time": "2024-06-09T19:33:44.502Z"
   },
   {
    "duration": 23,
    "start_time": "2024-06-09T19:35:30.125Z"
   },
   {
    "duration": 17,
    "start_time": "2024-06-09T19:35:41.556Z"
   },
   {
    "duration": 15,
    "start_time": "2024-06-09T19:36:26.662Z"
   },
   {
    "duration": 6,
    "start_time": "2024-06-09T19:37:48.817Z"
   },
   {
    "duration": 18,
    "start_time": "2024-06-09T19:37:56.488Z"
   },
   {
    "duration": 15,
    "start_time": "2024-06-09T19:38:06.248Z"
   },
   {
    "duration": 8,
    "start_time": "2024-06-09T19:38:20.045Z"
   },
   {
    "duration": 16,
    "start_time": "2024-06-09T19:38:25.136Z"
   },
   {
    "duration": 8,
    "start_time": "2024-06-09T19:38:50.518Z"
   },
   {
    "duration": 8,
    "start_time": "2024-06-09T19:40:12.764Z"
   },
   {
    "duration": 8,
    "start_time": "2024-06-09T19:40:18.655Z"
   },
   {
    "duration": 16,
    "start_time": "2024-06-09T19:40:20.433Z"
   },
   {
    "duration": 8,
    "start_time": "2024-06-09T19:40:37.682Z"
   },
   {
    "duration": 18,
    "start_time": "2024-06-09T19:40:39.595Z"
   },
   {
    "duration": 7,
    "start_time": "2024-06-09T19:41:28.187Z"
   },
   {
    "duration": 15,
    "start_time": "2024-06-09T19:41:32.418Z"
   },
   {
    "duration": 9,
    "start_time": "2024-06-09T19:44:53.516Z"
   },
   {
    "duration": 17,
    "start_time": "2024-06-09T19:44:58.076Z"
   },
   {
    "duration": 28,
    "start_time": "2024-06-09T19:48:25.328Z"
   },
   {
    "duration": 233,
    "start_time": "2024-06-09T19:49:08.270Z"
   },
   {
    "duration": 687,
    "start_time": "2024-06-09T19:49:35.251Z"
   },
   {
    "duration": 467,
    "start_time": "2024-06-09T19:49:44.307Z"
   },
   {
    "duration": 28,
    "start_time": "2024-06-09T19:50:16.608Z"
   },
   {
    "duration": 326,
    "start_time": "2024-06-09T19:51:31.360Z"
   },
   {
    "duration": 276,
    "start_time": "2024-06-09T19:52:37.520Z"
   },
   {
    "duration": 282,
    "start_time": "2024-06-09T19:52:43.163Z"
   },
   {
    "duration": 187,
    "start_time": "2024-06-09T19:52:57.867Z"
   },
   {
    "duration": 281,
    "start_time": "2024-06-09T19:53:01.956Z"
   },
   {
    "duration": 16,
    "start_time": "2024-06-09T19:53:06.375Z"
   },
   {
    "duration": 358,
    "start_time": "2024-06-09T19:55:43.117Z"
   },
   {
    "duration": 294,
    "start_time": "2024-06-09T19:55:55.809Z"
   },
   {
    "duration": 35,
    "start_time": "2024-06-09T19:58:43.271Z"
   },
   {
    "duration": 34,
    "start_time": "2024-06-09T19:59:12.353Z"
   },
   {
    "duration": 60,
    "start_time": "2024-06-09T20:00:11.181Z"
   },
   {
    "duration": 68,
    "start_time": "2024-06-09T20:05:47.204Z"
   },
   {
    "duration": 28,
    "start_time": "2024-06-09T20:07:51.552Z"
   },
   {
    "duration": 28,
    "start_time": "2024-06-09T20:07:57.318Z"
   },
   {
    "duration": 22,
    "start_time": "2024-06-09T20:08:02.655Z"
   },
   {
    "duration": 34,
    "start_time": "2024-06-09T20:08:21.622Z"
   },
   {
    "duration": 262,
    "start_time": "2024-06-09T20:08:35.555Z"
   },
   {
    "duration": 33,
    "start_time": "2024-06-09T20:08:36.645Z"
   },
   {
    "duration": 22,
    "start_time": "2024-06-09T20:08:39.360Z"
   },
   {
    "duration": 19,
    "start_time": "2024-06-09T20:09:24.534Z"
   },
   {
    "duration": 16,
    "start_time": "2024-06-09T20:10:07.417Z"
   },
   {
    "duration": 17,
    "start_time": "2024-06-09T20:11:01.978Z"
   },
   {
    "duration": 12,
    "start_time": "2024-06-09T20:11:32.428Z"
   },
   {
    "duration": 20,
    "start_time": "2024-06-09T20:11:37.851Z"
   },
   {
    "duration": 347,
    "start_time": "2024-06-09T20:12:09.563Z"
   },
   {
    "duration": 352,
    "start_time": "2024-06-09T20:16:13.797Z"
   },
   {
    "duration": 15,
    "start_time": "2024-06-09T20:17:54.694Z"
   },
   {
    "duration": 127,
    "start_time": "2024-06-09T20:18:59.572Z"
   },
   {
    "duration": 346,
    "start_time": "2024-06-09T20:19:55.772Z"
   },
   {
    "duration": 354,
    "start_time": "2024-06-09T20:20:38.111Z"
   },
   {
    "duration": 256,
    "start_time": "2024-06-09T20:38:21.545Z"
   },
   {
    "duration": 595,
    "start_time": "2024-06-09T20:38:58.087Z"
   },
   {
    "duration": 37,
    "start_time": "2024-06-09T20:41:14.341Z"
   },
   {
    "duration": 246,
    "start_time": "2024-06-09T20:42:13.578Z"
   },
   {
    "duration": 681,
    "start_time": "2024-06-09T20:43:22.864Z"
   },
   {
    "duration": 314,
    "start_time": "2024-06-09T20:43:43.605Z"
   },
   {
    "duration": 377,
    "start_time": "2024-06-09T20:47:49.392Z"
   },
   {
    "duration": 614,
    "start_time": "2024-06-09T20:48:41.135Z"
   },
   {
    "duration": 332,
    "start_time": "2024-06-09T20:48:59.526Z"
   },
   {
    "duration": 318,
    "start_time": "2024-06-09T20:49:56.122Z"
   },
   {
    "duration": 334,
    "start_time": "2024-06-09T20:51:01.434Z"
   },
   {
    "duration": 342,
    "start_time": "2024-06-09T20:52:00.081Z"
   },
   {
    "duration": 354,
    "start_time": "2024-06-09T20:52:08.145Z"
   },
   {
    "duration": 275,
    "start_time": "2024-06-09T20:53:46.846Z"
   },
   {
    "duration": 353,
    "start_time": "2024-06-09T20:54:10.324Z"
   },
   {
    "duration": 300,
    "start_time": "2024-06-09T20:55:55.792Z"
   },
   {
    "duration": 12,
    "start_time": "2024-06-09T21:03:44.062Z"
   },
   {
    "duration": 48,
    "start_time": "2024-06-09T21:05:05.504Z"
   },
   {
    "duration": 52,
    "start_time": "2024-06-09T21:05:44.980Z"
   },
   {
    "duration": 615,
    "start_time": "2024-06-09T21:06:06.726Z"
   },
   {
    "duration": 273,
    "start_time": "2024-06-09T21:06:13.255Z"
   },
   {
    "duration": 397,
    "start_time": "2024-06-09T21:06:13.872Z"
   },
   {
    "duration": 19,
    "start_time": "2024-06-09T21:06:14.981Z"
   },
   {
    "duration": 129,
    "start_time": "2024-06-09T21:31:02.260Z"
   },
   {
    "duration": 75,
    "start_time": "2024-06-09T21:31:08.997Z"
   },
   {
    "duration": 19,
    "start_time": "2024-06-09T21:31:58.041Z"
   },
   {
    "duration": 68,
    "start_time": "2024-06-09T21:32:54.334Z"
   },
   {
    "duration": 50,
    "start_time": "2024-06-09T21:33:48.129Z"
   },
   {
    "duration": 61,
    "start_time": "2024-06-09T21:33:57.321Z"
   },
   {
    "duration": 5,
    "start_time": "2024-06-09T21:35:02.359Z"
   },
   {
    "duration": 13,
    "start_time": "2024-06-09T21:35:10.099Z"
   },
   {
    "duration": 21,
    "start_time": "2024-06-09T21:38:34.626Z"
   },
   {
    "duration": 23,
    "start_time": "2024-06-09T21:38:44.983Z"
   },
   {
    "duration": 25,
    "start_time": "2024-06-09T21:38:56.064Z"
   },
   {
    "duration": 26,
    "start_time": "2024-06-09T21:41:55.791Z"
   },
   {
    "duration": 26,
    "start_time": "2024-06-09T21:42:06.210Z"
   },
   {
    "duration": 39,
    "start_time": "2024-06-09T21:42:21.490Z"
   },
   {
    "duration": 23,
    "start_time": "2024-06-09T21:45:05.235Z"
   },
   {
    "duration": 243,
    "start_time": "2024-06-09T21:46:24.516Z"
   },
   {
    "duration": 11,
    "start_time": "2024-06-09T21:53:44.733Z"
   },
   {
    "duration": 230,
    "start_time": "2024-06-09T21:54:40.217Z"
   },
   {
    "duration": 231,
    "start_time": "2024-06-09T21:56:24.083Z"
   },
   {
    "duration": 410,
    "start_time": "2024-06-09T21:57:18.999Z"
   },
   {
    "duration": 504,
    "start_time": "2024-06-09T21:57:36.278Z"
   },
   {
    "duration": 18,
    "start_time": "2024-06-09T21:58:44.203Z"
   },
   {
    "duration": 20,
    "start_time": "2024-06-09T21:59:58.726Z"
   },
   {
    "duration": 600,
    "start_time": "2024-06-09T22:00:13.606Z"
   },
   {
    "duration": 231,
    "start_time": "2024-06-09T22:00:21.180Z"
   },
   {
    "duration": 100,
    "start_time": "2024-06-09T22:00:26.057Z"
   },
   {
    "duration": 13,
    "start_time": "2024-06-09T22:00:30.597Z"
   },
   {
    "duration": 251,
    "start_time": "2024-06-09T22:04:02.392Z"
   },
   {
    "duration": 89,
    "start_time": "2024-06-09T22:06:41.417Z"
   },
   {
    "duration": 22,
    "start_time": "2024-06-09T22:07:00.287Z"
   },
   {
    "duration": 23,
    "start_time": "2024-06-09T22:08:50.121Z"
   },
   {
    "duration": 90,
    "start_time": "2024-06-09T22:09:06.545Z"
   },
   {
    "duration": 57,
    "start_time": "2024-06-09T22:09:24.098Z"
   },
   {
    "duration": 132,
    "start_time": "2024-06-09T22:11:16.354Z"
   },
   {
    "duration": 125,
    "start_time": "2024-06-09T22:12:00.914Z"
   },
   {
    "duration": 128,
    "start_time": "2024-06-09T22:12:21.143Z"
   },
   {
    "duration": 93,
    "start_time": "2024-06-09T22:16:33.248Z"
   },
   {
    "duration": 264,
    "start_time": "2024-06-09T22:17:26.480Z"
   },
   {
    "duration": 79,
    "start_time": "2024-06-09T22:18:55.685Z"
   },
   {
    "duration": 64,
    "start_time": "2024-06-09T22:19:26.434Z"
   },
   {
    "duration": 6,
    "start_time": "2024-06-09T22:20:07.260Z"
   },
   {
    "duration": 191,
    "start_time": "2024-06-09T22:20:14.084Z"
   },
   {
    "duration": 1810,
    "start_time": "2024-06-09T22:27:24.755Z"
   },
   {
    "duration": 1626,
    "start_time": "2024-06-09T22:27:46.901Z"
   },
   {
    "duration": 484,
    "start_time": "2024-06-09T22:28:03.929Z"
   },
   {
    "duration": 1763,
    "start_time": "2024-06-09T22:28:12.155Z"
   },
   {
    "duration": 1774,
    "start_time": "2024-06-09T22:29:04.036Z"
   },
   {
    "duration": 1745,
    "start_time": "2024-06-09T22:29:15.062Z"
   },
   {
    "duration": 1995,
    "start_time": "2024-06-09T22:56:43.758Z"
   },
   {
    "duration": 2017,
    "start_time": "2024-06-09T22:58:14.175Z"
   },
   {
    "duration": 2272,
    "start_time": "2024-06-09T22:58:36.146Z"
   },
   {
    "duration": 3028,
    "start_time": "2024-06-09T22:59:00.794Z"
   },
   {
    "duration": 2423,
    "start_time": "2024-06-09T22:59:23.787Z"
   },
   {
    "duration": 1985,
    "start_time": "2024-06-09T22:59:53.092Z"
   },
   {
    "duration": 1852,
    "start_time": "2024-06-09T23:02:09.919Z"
   },
   {
    "duration": 6,
    "start_time": "2024-06-09T23:02:27.310Z"
   },
   {
    "duration": 6,
    "start_time": "2024-06-09T23:02:30.930Z"
   },
   {
    "duration": 2027,
    "start_time": "2024-06-09T23:02:39.276Z"
   },
   {
    "duration": 1786,
    "start_time": "2024-06-09T23:02:51.414Z"
   },
   {
    "duration": 1845,
    "start_time": "2024-06-09T23:03:08.665Z"
   },
   {
    "duration": 1799,
    "start_time": "2024-06-09T23:03:22.692Z"
   },
   {
    "duration": 1904,
    "start_time": "2024-06-09T23:03:38.202Z"
   },
   {
    "duration": 1835,
    "start_time": "2024-06-09T23:03:52.272Z"
   },
   {
    "duration": 1849,
    "start_time": "2024-06-09T23:04:17.862Z"
   },
   {
    "duration": 1809,
    "start_time": "2024-06-09T23:04:28.355Z"
   },
   {
    "duration": 1887,
    "start_time": "2024-06-09T23:08:16.808Z"
   },
   {
    "duration": 2015,
    "start_time": "2024-06-09T23:08:31.487Z"
   },
   {
    "duration": 1739,
    "start_time": "2024-06-09T23:08:47.134Z"
   },
   {
    "duration": 1944,
    "start_time": "2024-06-09T23:09:35.169Z"
   },
   {
    "duration": 1841,
    "start_time": "2024-06-09T23:11:41.482Z"
   },
   {
    "duration": 1849,
    "start_time": "2024-06-09T23:12:18.700Z"
   },
   {
    "duration": 698,
    "start_time": "2024-06-09T23:16:54.965Z"
   },
   {
    "duration": 1684,
    "start_time": "2024-06-09T23:16:55.667Z"
   },
   {
    "duration": 154,
    "start_time": "2024-06-09T23:16:57.354Z"
   },
   {
    "duration": 75,
    "start_time": "2024-06-09T23:16:57.513Z"
   },
   {
    "duration": 780,
    "start_time": "2024-06-09T23:16:57.592Z"
   },
   {
    "duration": 21,
    "start_time": "2024-06-09T23:16:58.375Z"
   },
   {
    "duration": 44,
    "start_time": "2024-06-09T23:16:58.399Z"
   },
   {
    "duration": 342,
    "start_time": "2024-06-09T23:16:58.449Z"
   },
   {
    "duration": 21,
    "start_time": "2024-06-09T23:16:58.793Z"
   },
   {
    "duration": 178,
    "start_time": "2024-06-09T23:16:58.833Z"
   },
   {
    "duration": 312,
    "start_time": "2024-06-09T23:16:59.014Z"
   },
   {
    "duration": 77,
    "start_time": "2024-06-09T23:16:59.333Z"
   },
   {
    "duration": 31,
    "start_time": "2024-06-09T23:16:59.442Z"
   },
   {
    "duration": 9,
    "start_time": "2024-06-09T23:16:59.649Z"
   },
   {
    "duration": 76,
    "start_time": "2024-06-09T23:16:59.861Z"
   },
   {
    "duration": 46,
    "start_time": "2024-06-09T23:17:00.068Z"
   },
   {
    "duration": 6,
    "start_time": "2024-06-09T23:17:00.704Z"
   },
   {
    "duration": 5,
    "start_time": "2024-06-09T23:17:00.918Z"
   },
   {
    "duration": 8,
    "start_time": "2024-06-09T23:17:01.825Z"
   },
   {
    "duration": 10,
    "start_time": "2024-06-09T23:17:02.033Z"
   },
   {
    "duration": 2657,
    "start_time": "2024-06-09T23:17:02.664Z"
   },
   {
    "duration": 455,
    "start_time": "2024-06-09T23:17:05.325Z"
   },
   {
    "duration": 51,
    "start_time": "2024-06-09T23:17:05.783Z"
   },
   {
    "duration": 16,
    "start_time": "2024-06-09T23:17:05.839Z"
   },
   {
    "duration": 17,
    "start_time": "2024-06-09T23:17:05.859Z"
   },
   {
    "duration": 11,
    "start_time": "2024-06-09T23:17:05.879Z"
   },
   {
    "duration": 56,
    "start_time": "2024-06-09T23:17:05.893Z"
   },
   {
    "duration": 10,
    "start_time": "2024-06-09T23:17:06.301Z"
   },
   {
    "duration": 51,
    "start_time": "2024-06-09T23:17:06.497Z"
   },
   {
    "duration": 112,
    "start_time": "2024-06-09T23:17:08.586Z"
   },
   {
    "duration": 276,
    "start_time": "2024-06-09T23:17:08.776Z"
   },
   {
    "duration": 15,
    "start_time": "2024-06-09T23:17:09.220Z"
   },
   {
    "duration": 14,
    "start_time": "2024-06-09T23:17:09.417Z"
   },
   {
    "duration": 88,
    "start_time": "2024-06-09T23:17:09.852Z"
   },
   {
    "duration": 56,
    "start_time": "2024-06-09T23:17:11.350Z"
   },
   {
    "duration": 357,
    "start_time": "2024-06-09T23:17:12.263Z"
   },
   {
    "duration": 216,
    "start_time": "2024-06-09T23:17:12.951Z"
   },
   {
    "duration": 394,
    "start_time": "2024-06-09T23:17:15.792Z"
   },
   {
    "duration": 251,
    "start_time": "2024-06-09T23:17:17.492Z"
   },
   {
    "duration": 259,
    "start_time": "2024-06-09T23:17:17.910Z"
   },
   {
    "duration": 355,
    "start_time": "2024-06-09T23:17:18.517Z"
   },
   {
    "duration": 323,
    "start_time": "2024-06-09T23:17:21.020Z"
   },
   {
    "duration": 309,
    "start_time": "2024-06-09T23:17:24.489Z"
   },
   {
    "duration": 366,
    "start_time": "2024-06-09T23:17:27.019Z"
   },
   {
    "duration": 15,
    "start_time": "2024-06-09T23:17:28.889Z"
   },
   {
    "duration": 575,
    "start_time": "2024-06-09T23:17:37.912Z"
   },
   {
    "duration": 238,
    "start_time": "2024-06-09T23:17:39.276Z"
   },
   {
    "duration": 106,
    "start_time": "2024-06-09T23:17:39.969Z"
   },
   {
    "duration": 12,
    "start_time": "2024-06-09T23:17:41.210Z"
   },
   {
    "duration": 145,
    "start_time": "2024-06-09T23:17:42.169Z"
   },
   {
    "duration": 1896,
    "start_time": "2024-06-09T23:17:43.492Z"
   },
   {
    "duration": 20,
    "start_time": "2024-06-09T23:23:14.108Z"
   },
   {
    "duration": 13,
    "start_time": "2024-06-09T23:49:59.959Z"
   },
   {
    "duration": 17,
    "start_time": "2024-06-09T23:51:22.717Z"
   },
   {
    "duration": 45,
    "start_time": "2024-06-09T23:54:52.831Z"
   },
   {
    "duration": 65,
    "start_time": "2024-06-09T23:58:55.230Z"
   },
   {
    "duration": 90,
    "start_time": "2024-06-10T00:06:08.621Z"
   },
   {
    "duration": 91,
    "start_time": "2024-06-10T00:06:34.405Z"
   },
   {
    "duration": 88,
    "start_time": "2024-06-10T00:07:23.688Z"
   },
   {
    "duration": 95,
    "start_time": "2024-06-10T00:07:43.493Z"
   },
   {
    "duration": 93,
    "start_time": "2024-06-10T00:08:03.494Z"
   },
   {
    "duration": 90,
    "start_time": "2024-06-10T00:08:45.882Z"
   },
   {
    "duration": 73,
    "start_time": "2024-06-10T00:08:58.262Z"
   },
   {
    "duration": 72,
    "start_time": "2024-06-10T00:10:07.342Z"
   },
   {
    "duration": 72,
    "start_time": "2024-06-10T00:10:27.602Z"
   },
   {
    "duration": 80,
    "start_time": "2024-06-10T00:12:03.452Z"
   },
   {
    "duration": 226,
    "start_time": "2024-06-10T00:13:13.614Z"
   },
   {
    "duration": 68,
    "start_time": "2024-06-10T00:14:48.446Z"
   },
   {
    "duration": 68,
    "start_time": "2024-06-10T00:15:30.099Z"
   },
   {
    "duration": 227,
    "start_time": "2024-06-10T00:15:57.913Z"
   },
   {
    "duration": 344,
    "start_time": "2024-06-10T00:16:01.374Z"
   },
   {
    "duration": 15,
    "start_time": "2024-06-10T00:16:08.065Z"
   },
   {
    "duration": 650,
    "start_time": "2024-06-10T00:16:49.169Z"
   },
   {
    "duration": 1581,
    "start_time": "2024-06-10T00:16:49.822Z"
   },
   {
    "duration": 152,
    "start_time": "2024-06-10T00:16:51.406Z"
   },
   {
    "duration": 80,
    "start_time": "2024-06-10T00:16:51.563Z"
   },
   {
    "duration": 795,
    "start_time": "2024-06-10T00:16:51.649Z"
   },
   {
    "duration": 21,
    "start_time": "2024-06-10T00:16:52.447Z"
   },
   {
    "duration": 22,
    "start_time": "2024-06-10T00:16:52.471Z"
   },
   {
    "duration": 345,
    "start_time": "2024-06-10T00:16:52.496Z"
   },
   {
    "duration": 20,
    "start_time": "2024-06-10T00:16:52.845Z"
   },
   {
    "duration": 193,
    "start_time": "2024-06-10T00:16:52.868Z"
   },
   {
    "duration": 347,
    "start_time": "2024-06-10T00:16:53.064Z"
   },
   {
    "duration": 88,
    "start_time": "2024-06-10T00:16:53.415Z"
   },
   {
    "duration": 34,
    "start_time": "2024-06-10T00:16:54.399Z"
   },
   {
    "duration": 6,
    "start_time": "2024-06-10T00:16:54.577Z"
   },
   {
    "duration": 56,
    "start_time": "2024-06-10T00:16:54.768Z"
   },
   {
    "duration": 40,
    "start_time": "2024-06-10T00:16:54.974Z"
   },
   {
    "duration": 7,
    "start_time": "2024-06-10T00:16:55.581Z"
   },
   {
    "duration": 7,
    "start_time": "2024-06-10T00:16:55.774Z"
   },
   {
    "duration": 6,
    "start_time": "2024-06-10T00:16:56.345Z"
   },
   {
    "duration": 6,
    "start_time": "2024-06-10T00:16:56.549Z"
   },
   {
    "duration": 2651,
    "start_time": "2024-06-10T00:16:57.149Z"
   },
   {
    "duration": 473,
    "start_time": "2024-06-10T00:16:59.804Z"
   },
   {
    "duration": 53,
    "start_time": "2024-06-10T00:17:00.281Z"
   },
   {
    "duration": 16,
    "start_time": "2024-06-10T00:17:00.338Z"
   },
   {
    "duration": 15,
    "start_time": "2024-06-10T00:17:00.357Z"
   },
   {
    "duration": 11,
    "start_time": "2024-06-10T00:17:00.375Z"
   },
   {
    "duration": 55,
    "start_time": "2024-06-10T00:17:00.389Z"
   },
   {
    "duration": 9,
    "start_time": "2024-06-10T00:17:00.448Z"
   },
   {
    "duration": 50,
    "start_time": "2024-06-10T00:17:00.834Z"
   },
   {
    "duration": 122,
    "start_time": "2024-06-10T00:17:01.233Z"
   },
   {
    "duration": 280,
    "start_time": "2024-06-10T00:17:01.454Z"
   },
   {
    "duration": 15,
    "start_time": "2024-06-10T00:17:01.868Z"
   },
   {
    "duration": 14,
    "start_time": "2024-06-10T00:17:02.079Z"
   },
   {
    "duration": 87,
    "start_time": "2024-06-10T00:17:02.525Z"
   },
   {
    "duration": 51,
    "start_time": "2024-06-10T00:17:05.540Z"
   },
   {
    "duration": 353,
    "start_time": "2024-06-10T00:17:06.668Z"
   },
   {
    "duration": 218,
    "start_time": "2024-06-10T00:17:07.687Z"
   },
   {
    "duration": 377,
    "start_time": "2024-06-10T00:17:08.590Z"
   },
   {
    "duration": 254,
    "start_time": "2024-06-10T00:17:09.247Z"
   },
   {
    "duration": 275,
    "start_time": "2024-06-10T00:17:09.504Z"
   },
   {
    "duration": 371,
    "start_time": "2024-06-10T00:17:09.783Z"
   },
   {
    "duration": 329,
    "start_time": "2024-06-10T00:17:11.058Z"
   },
   {
    "duration": 298,
    "start_time": "2024-06-10T00:17:20.389Z"
   },
   {
    "duration": 386,
    "start_time": "2024-06-10T00:17:21.087Z"
   },
   {
    "duration": 27,
    "start_time": "2024-06-10T00:17:24.418Z"
   },
   {
    "duration": 620,
    "start_time": "2024-06-10T00:17:30.911Z"
   },
   {
    "duration": 262,
    "start_time": "2024-06-10T00:17:32.323Z"
   },
   {
    "duration": 2870,
    "start_time": "2024-06-10T00:19:02.550Z"
   },
   {
    "duration": 75,
    "start_time": "2024-06-10T00:19:37.381Z"
   },
   {
    "duration": 72,
    "start_time": "2024-06-10T00:20:41.888Z"
   },
   {
    "duration": 71,
    "start_time": "2024-06-10T00:21:50.388Z"
   },
   {
    "duration": 68,
    "start_time": "2024-06-10T00:22:16.024Z"
   },
   {
    "duration": 685,
    "start_time": "2024-06-10T00:23:27.696Z"
   },
   {
    "duration": 78,
    "start_time": "2024-06-10T00:23:44.116Z"
   },
   {
    "duration": 63,
    "start_time": "2024-06-10T00:23:57.693Z"
   },
   {
    "duration": 70,
    "start_time": "2024-06-10T00:24:08.671Z"
   },
   {
    "duration": 68,
    "start_time": "2024-06-10T00:24:19.081Z"
   },
   {
    "duration": 62,
    "start_time": "2024-06-10T00:25:03.501Z"
   },
   {
    "duration": 64,
    "start_time": "2024-06-10T00:25:18.113Z"
   },
   {
    "duration": 131,
    "start_time": "2024-06-10T00:25:25.592Z"
   },
   {
    "duration": 6,
    "start_time": "2024-06-10T00:25:36.458Z"
   },
   {
    "duration": 7,
    "start_time": "2024-06-10T00:25:47.876Z"
   },
   {
    "duration": 130,
    "start_time": "2024-06-10T00:25:54.378Z"
   },
   {
    "duration": 135,
    "start_time": "2024-06-10T00:26:04.436Z"
   },
   {
    "duration": 65,
    "start_time": "2024-06-10T00:26:18.865Z"
   },
   {
    "duration": 215,
    "start_time": "2024-06-10T00:27:03.563Z"
   },
   {
    "duration": 208,
    "start_time": "2024-06-10T00:27:33.848Z"
   },
   {
    "duration": 418,
    "start_time": "2024-06-10T00:27:36.744Z"
   },
   {
    "duration": 2911,
    "start_time": "2024-06-10T00:27:41.868Z"
   },
   {
    "duration": 63,
    "start_time": "2024-06-10T00:27:53.158Z"
   },
   {
    "duration": 667,
    "start_time": "2024-06-10T00:28:35.592Z"
   },
   {
    "duration": 1293,
    "start_time": "2024-06-10T00:28:44.633Z"
   },
   {
    "duration": 65,
    "start_time": "2024-06-10T00:29:04.639Z"
   },
   {
    "duration": 69,
    "start_time": "2024-06-10T00:30:13.379Z"
   },
   {
    "duration": 69,
    "start_time": "2024-06-10T00:30:33.300Z"
   },
   {
    "duration": 71,
    "start_time": "2024-06-10T00:30:41.901Z"
   },
   {
    "duration": 76,
    "start_time": "2024-06-10T00:31:32.797Z"
   },
   {
    "duration": 237,
    "start_time": "2024-06-10T00:32:11.185Z"
   },
   {
    "duration": 0,
    "start_time": "2024-06-10T00:32:51.854Z"
   },
   {
    "duration": 242,
    "start_time": "2024-06-10T00:32:58.422Z"
   },
   {
    "duration": 354,
    "start_time": "2024-06-10T00:33:01.041Z"
   },
   {
    "duration": 74,
    "start_time": "2024-06-10T00:34:42.423Z"
   },
   {
    "duration": 65,
    "start_time": "2024-06-10T00:35:27.457Z"
   },
   {
    "duration": 70,
    "start_time": "2024-06-10T00:35:36.545Z"
   },
   {
    "duration": 74,
    "start_time": "2024-06-10T00:35:53.054Z"
   },
   {
    "duration": 63,
    "start_time": "2024-06-10T00:36:36.010Z"
   },
   {
    "duration": 195,
    "start_time": "2024-06-10T00:37:02.064Z"
   },
   {
    "duration": 258,
    "start_time": "2024-06-10T00:37:05.960Z"
   },
   {
    "duration": 339,
    "start_time": "2024-06-10T00:37:06.606Z"
   },
   {
    "duration": 72,
    "start_time": "2024-06-10T00:37:36.777Z"
   },
   {
    "duration": 69,
    "start_time": "2024-06-10T00:38:37.921Z"
   },
   {
    "duration": 63,
    "start_time": "2024-06-10T00:43:03.230Z"
   },
   {
    "duration": 71,
    "start_time": "2024-06-10T00:43:12.517Z"
   },
   {
    "duration": 70,
    "start_time": "2024-06-10T00:44:03.989Z"
   },
   {
    "duration": 74,
    "start_time": "2024-06-10T00:44:44.500Z"
   },
   {
    "duration": 75,
    "start_time": "2024-06-10T00:45:07.039Z"
   },
   {
    "duration": 68,
    "start_time": "2024-06-10T00:53:30.307Z"
   },
   {
    "duration": 74,
    "start_time": "2024-06-10T00:54:25.388Z"
   },
   {
    "duration": 74,
    "start_time": "2024-06-10T00:56:47.895Z"
   },
   {
    "duration": 72,
    "start_time": "2024-06-10T00:57:02.415Z"
   },
   {
    "duration": 70,
    "start_time": "2024-06-10T00:57:20.047Z"
   },
   {
    "duration": 88,
    "start_time": "2024-06-10T00:58:17.151Z"
   },
   {
    "duration": 83,
    "start_time": "2024-06-10T00:59:49.639Z"
   },
   {
    "duration": 79,
    "start_time": "2024-06-10T01:00:02.558Z"
   },
   {
    "duration": 94,
    "start_time": "2024-06-10T01:00:14.062Z"
   },
   {
    "duration": 74,
    "start_time": "2024-06-10T01:04:18.894Z"
   },
   {
    "duration": 83,
    "start_time": "2024-06-10T01:04:26.456Z"
   },
   {
    "duration": 86,
    "start_time": "2024-06-10T01:07:18.336Z"
   },
   {
    "duration": 108,
    "start_time": "2024-06-10T01:08:23.320Z"
   },
   {
    "duration": 352,
    "start_time": "2024-06-10T01:09:10.853Z"
   },
   {
    "duration": 451,
    "start_time": "2024-06-10T01:09:26.642Z"
   },
   {
    "duration": 439,
    "start_time": "2024-06-10T01:09:57.267Z"
   },
   {
    "duration": 370,
    "start_time": "2024-06-10T01:12:49.735Z"
   },
   {
    "duration": 431,
    "start_time": "2024-06-10T01:15:38.455Z"
   },
   {
    "duration": 466,
    "start_time": "2024-06-10T01:16:21.550Z"
   },
   {
    "duration": 435,
    "start_time": "2024-06-10T01:17:54.584Z"
   },
   {
    "duration": 347,
    "start_time": "2024-06-10T01:18:50.402Z"
   },
   {
    "duration": 454,
    "start_time": "2024-06-10T01:19:33.265Z"
   },
   {
    "duration": 246,
    "start_time": "2024-06-10T01:20:01.990Z"
   },
   {
    "duration": 352,
    "start_time": "2024-06-10T01:20:02.564Z"
   },
   {
    "duration": 673,
    "start_time": "2024-06-10T01:20:24.741Z"
   },
   {
    "duration": 1574,
    "start_time": "2024-06-10T01:20:25.417Z"
   },
   {
    "duration": 147,
    "start_time": "2024-06-10T01:20:26.993Z"
   },
   {
    "duration": 89,
    "start_time": "2024-06-10T01:20:27.145Z"
   },
   {
    "duration": 775,
    "start_time": "2024-06-10T01:20:27.237Z"
   },
   {
    "duration": 30,
    "start_time": "2024-06-10T01:20:28.015Z"
   },
   {
    "duration": 21,
    "start_time": "2024-06-10T01:20:28.048Z"
   },
   {
    "duration": 314,
    "start_time": "2024-06-10T01:20:28.476Z"
   },
   {
    "duration": 19,
    "start_time": "2024-06-10T01:20:29.849Z"
   },
   {
    "duration": 184,
    "start_time": "2024-06-10T01:20:30.291Z"
   },
   {
    "duration": 319,
    "start_time": "2024-06-10T01:20:30.479Z"
   },
   {
    "duration": 87,
    "start_time": "2024-06-10T01:20:30.802Z"
   },
   {
    "duration": 31,
    "start_time": "2024-06-10T01:20:31.264Z"
   },
   {
    "duration": 6,
    "start_time": "2024-06-10T01:20:31.488Z"
   },
   {
    "duration": 53,
    "start_time": "2024-06-10T01:20:31.675Z"
   },
   {
    "duration": 35,
    "start_time": "2024-06-10T01:20:31.869Z"
   },
   {
    "duration": 7,
    "start_time": "2024-06-10T01:20:32.487Z"
   },
   {
    "duration": 5,
    "start_time": "2024-06-10T01:20:32.688Z"
   },
   {
    "duration": 7,
    "start_time": "2024-06-10T01:20:34.741Z"
   },
   {
    "duration": 5,
    "start_time": "2024-06-10T01:20:35.011Z"
   },
   {
    "duration": 2648,
    "start_time": "2024-06-10T01:20:35.678Z"
   },
   {
    "duration": 457,
    "start_time": "2024-06-10T01:20:38.332Z"
   },
   {
    "duration": 56,
    "start_time": "2024-06-10T01:20:38.792Z"
   },
   {
    "duration": 16,
    "start_time": "2024-06-10T01:20:38.852Z"
   },
   {
    "duration": 16,
    "start_time": "2024-06-10T01:20:39.959Z"
   },
   {
    "duration": 11,
    "start_time": "2024-06-10T01:20:40.633Z"
   },
   {
    "duration": 19,
    "start_time": "2024-06-10T01:20:41.089Z"
   },
   {
    "duration": 12,
    "start_time": "2024-06-10T01:20:41.818Z"
   },
   {
    "duration": 57,
    "start_time": "2024-06-10T01:20:42.005Z"
   },
   {
    "duration": 112,
    "start_time": "2024-06-10T01:20:42.672Z"
   },
   {
    "duration": 279,
    "start_time": "2024-06-10T01:20:42.906Z"
   },
   {
    "duration": 15,
    "start_time": "2024-06-10T01:20:44.325Z"
   },
   {
    "duration": 15,
    "start_time": "2024-06-10T01:20:44.605Z"
   },
   {
    "duration": 87,
    "start_time": "2024-06-10T01:20:45.044Z"
   },
   {
    "duration": 51,
    "start_time": "2024-06-10T01:20:49.438Z"
   },
   {
    "duration": 367,
    "start_time": "2024-06-10T01:20:51.629Z"
   },
   {
    "duration": 214,
    "start_time": "2024-06-10T01:20:58.859Z"
   },
   {
    "duration": 389,
    "start_time": "2024-06-10T01:21:01.002Z"
   },
   {
    "duration": 254,
    "start_time": "2024-06-10T01:21:08.825Z"
   },
   {
    "duration": 258,
    "start_time": "2024-06-10T01:21:09.457Z"
   },
   {
    "duration": 368,
    "start_time": "2024-06-10T01:21:12.171Z"
   },
   {
    "duration": 383,
    "start_time": "2024-06-10T01:21:19.219Z"
   },
   {
    "duration": 293,
    "start_time": "2024-06-10T01:22:11.531Z"
   },
   {
    "duration": 380,
    "start_time": "2024-06-10T01:22:12.429Z"
   },
   {
    "duration": 15,
    "start_time": "2024-06-10T01:22:13.555Z"
   },
   {
    "duration": 2879,
    "start_time": "2024-06-10T01:22:34.672Z"
   },
   {
    "duration": 417,
    "start_time": "2024-06-10T01:22:51.986Z"
   },
   {
    "duration": 4407,
    "start_time": "2024-06-10T11:58:44.477Z"
   },
   {
    "duration": 1708,
    "start_time": "2024-06-10T11:58:48.888Z"
   },
   {
    "duration": 140,
    "start_time": "2024-06-10T11:58:50.599Z"
   },
   {
    "duration": 3,
    "start_time": "2024-06-10T14:21:29.553Z"
   },
   {
    "duration": 1901,
    "start_time": "2024-06-10T14:21:41.538Z"
   },
   {
    "duration": 1497,
    "start_time": "2024-06-10T14:22:06.013Z"
   },
   {
    "duration": 1510,
    "start_time": "2024-06-10T14:25:15.389Z"
   },
   {
    "duration": 142,
    "start_time": "2024-06-10T14:25:17.584Z"
   },
   {
    "duration": 98,
    "start_time": "2024-06-10T14:25:18.346Z"
   },
   {
    "duration": 796,
    "start_time": "2024-06-10T14:25:19.093Z"
   },
   {
    "duration": 32,
    "start_time": "2024-06-10T14:25:20.300Z"
   },
   {
    "duration": 22,
    "start_time": "2024-06-10T14:25:21.196Z"
   },
   {
    "duration": 276,
    "start_time": "2024-06-10T14:25:29.159Z"
   },
   {
    "duration": 53,
    "start_time": "2024-06-10T14:25:37.258Z"
   },
   {
    "duration": 187,
    "start_time": "2024-06-10T14:25:44.404Z"
   },
   {
    "duration": 359,
    "start_time": "2024-06-10T14:25:52.869Z"
   },
   {
    "duration": 71,
    "start_time": "2024-06-10T14:25:55.291Z"
   },
   {
    "duration": 44,
    "start_time": "2024-06-10T14:27:15.055Z"
   },
   {
    "duration": 12,
    "start_time": "2024-06-10T14:27:16.019Z"
   },
   {
    "duration": 1600,
    "start_time": "2024-06-10T18:34:44.689Z"
   },
   {
    "duration": 163,
    "start_time": "2024-06-10T18:34:46.292Z"
   },
   {
    "duration": 105,
    "start_time": "2024-06-10T18:34:46.979Z"
   },
   {
    "duration": 863,
    "start_time": "2024-06-10T18:34:47.983Z"
   },
   {
    "duration": 27,
    "start_time": "2024-06-10T18:34:49.386Z"
   },
   {
    "duration": 31,
    "start_time": "2024-06-10T18:34:50.606Z"
   },
   {
    "duration": 391,
    "start_time": "2024-06-10T18:34:57.526Z"
   },
   {
    "duration": 30,
    "start_time": "2024-06-10T18:36:20.719Z"
   },
   {
    "duration": 254,
    "start_time": "2024-06-10T18:36:23.136Z"
   },
   {
    "duration": 428,
    "start_time": "2024-06-10T18:36:24.786Z"
   },
   {
    "duration": 83,
    "start_time": "2024-06-10T18:36:25.972Z"
   },
   {
    "duration": 47,
    "start_time": "2024-06-10T18:36:47.360Z"
   },
   {
    "duration": 7,
    "start_time": "2024-06-10T18:36:48.503Z"
   },
   {
    "duration": 64,
    "start_time": "2024-06-10T18:36:49.571Z"
   },
   {
    "duration": 55,
    "start_time": "2024-06-10T18:36:54.662Z"
   },
   {
    "duration": 40,
    "start_time": "2024-06-10T18:41:55.665Z"
   },
   {
    "duration": 7,
    "start_time": "2024-06-10T19:17:48.448Z"
   },
   {
    "duration": 6,
    "start_time": "2024-06-10T19:17:49.606Z"
   },
   {
    "duration": 8,
    "start_time": "2024-06-10T19:26:36.467Z"
   },
   {
    "duration": 6,
    "start_time": "2024-06-10T19:26:37.987Z"
   },
   {
    "duration": 3000,
    "start_time": "2024-06-10T19:28:37.326Z"
   },
   {
    "duration": 552,
    "start_time": "2024-06-10T19:28:42.411Z"
   },
   {
    "duration": 588,
    "start_time": "2024-06-10T19:57:20.605Z"
   },
   {
    "duration": 552,
    "start_time": "2024-06-10T19:57:50.842Z"
   },
   {
    "duration": 514,
    "start_time": "2024-06-10T19:58:25.969Z"
   },
   {
    "duration": 527,
    "start_time": "2024-06-10T19:58:45.121Z"
   },
   {
    "duration": 43,
    "start_time": "2024-06-10T20:08:33.957Z"
   },
   {
    "duration": 19,
    "start_time": "2024-06-10T20:27:18.684Z"
   },
   {
    "duration": 16,
    "start_time": "2024-06-10T20:29:56.218Z"
   },
   {
    "duration": 13,
    "start_time": "2024-06-10T20:30:29.504Z"
   },
   {
    "duration": 333,
    "start_time": "2024-06-11T00:40:00.622Z"
   },
   {
    "duration": 4281,
    "start_time": "2024-06-11T00:41:58.960Z"
   },
   {
    "duration": 1729,
    "start_time": "2024-06-11T00:42:03.244Z"
   },
   {
    "duration": 144,
    "start_time": "2024-06-11T00:42:04.975Z"
   },
   {
    "duration": 70,
    "start_time": "2024-06-11T00:42:05.124Z"
   },
   {
    "duration": 814,
    "start_time": "2024-06-11T00:42:05.196Z"
   },
   {
    "duration": 38,
    "start_time": "2024-06-11T00:42:06.014Z"
   },
   {
    "duration": 28,
    "start_time": "2024-06-11T00:42:06.055Z"
   },
   {
    "duration": 326,
    "start_time": "2024-06-11T00:42:17.135Z"
   },
   {
    "duration": 22,
    "start_time": "2024-06-11T00:42:19.424Z"
   },
   {
    "duration": 169,
    "start_time": "2024-06-11T00:42:35.534Z"
   },
   {
    "duration": 311,
    "start_time": "2024-06-11T00:42:54.578Z"
   },
   {
    "duration": 75,
    "start_time": "2024-06-11T00:42:59.759Z"
   },
   {
    "duration": 31,
    "start_time": "2024-06-11T00:43:11.106Z"
   },
   {
    "duration": 7,
    "start_time": "2024-06-11T00:43:41.776Z"
   },
   {
    "duration": 66,
    "start_time": "2024-06-11T00:43:42.866Z"
   },
   {
    "duration": 37,
    "start_time": "2024-06-11T00:43:44.113Z"
   },
   {
    "duration": 7,
    "start_time": "2024-06-11T00:43:48.070Z"
   },
   {
    "duration": 5,
    "start_time": "2024-06-11T00:43:48.909Z"
   },
   {
    "duration": 8,
    "start_time": "2024-06-11T00:43:51.020Z"
   },
   {
    "duration": 6,
    "start_time": "2024-06-11T00:43:51.490Z"
   },
   {
    "duration": 2636,
    "start_time": "2024-06-11T00:43:53.006Z"
   },
   {
    "duration": 483,
    "start_time": "2024-06-11T00:43:55.645Z"
   },
   {
    "duration": 44,
    "start_time": "2024-06-11T00:44:00.600Z"
   },
   {
    "duration": 18,
    "start_time": "2024-06-11T00:44:24.471Z"
   },
   {
    "duration": 18,
    "start_time": "2024-06-11T00:45:07.819Z"
   },
   {
    "duration": 14,
    "start_time": "2024-06-11T00:45:20.650Z"
   },
   {
    "duration": 19,
    "start_time": "2024-06-11T00:45:53.422Z"
   },
   {
    "duration": 26,
    "start_time": "2024-06-11T00:47:31.020Z"
   },
   {
    "duration": 10,
    "start_time": "2024-06-11T00:52:32.389Z"
   },
   {
    "duration": 49,
    "start_time": "2024-06-11T00:52:42.774Z"
   },
   {
    "duration": 43,
    "start_time": "2024-06-11T01:01:50.654Z"
   },
   {
    "duration": 40,
    "start_time": "2024-06-11T01:02:01.575Z"
   },
   {
    "duration": 11,
    "start_time": "2024-06-11T01:02:12.620Z"
   },
   {
    "duration": 42,
    "start_time": "2024-06-11T01:02:13.594Z"
   },
   {
    "duration": 52,
    "start_time": "2024-06-11T01:02:27.008Z"
   },
   {
    "duration": 822,
    "start_time": "2024-06-11T01:04:25.291Z"
   },
   {
    "duration": 2054,
    "start_time": "2024-06-11T01:04:26.117Z"
   },
   {
    "duration": 190,
    "start_time": "2024-06-11T01:04:28.174Z"
   },
   {
    "duration": 107,
    "start_time": "2024-06-11T01:04:28.370Z"
   },
   {
    "duration": 861,
    "start_time": "2024-06-11T01:04:28.482Z"
   },
   {
    "duration": 26,
    "start_time": "2024-06-11T01:04:29.347Z"
   },
   {
    "duration": 25,
    "start_time": "2024-06-11T01:04:29.376Z"
   },
   {
    "duration": 424,
    "start_time": "2024-06-11T01:04:29.436Z"
   },
   {
    "duration": 23,
    "start_time": "2024-06-11T01:04:29.871Z"
   },
   {
    "duration": 232,
    "start_time": "2024-06-11T01:04:29.898Z"
   },
   {
    "duration": 402,
    "start_time": "2024-06-11T01:04:30.139Z"
   },
   {
    "duration": 95,
    "start_time": "2024-06-11T01:04:30.547Z"
   },
   {
    "duration": 35,
    "start_time": "2024-06-11T01:04:33.247Z"
   },
   {
    "duration": 11,
    "start_time": "2024-06-11T01:04:34.126Z"
   },
   {
    "duration": 91,
    "start_time": "2024-06-11T01:04:34.444Z"
   },
   {
    "duration": 54,
    "start_time": "2024-06-11T01:04:34.661Z"
   },
   {
    "duration": 21,
    "start_time": "2024-06-11T01:04:36.510Z"
   },
   {
    "duration": 10,
    "start_time": "2024-06-11T01:04:37.275Z"
   },
   {
    "duration": 14,
    "start_time": "2024-06-11T01:04:38.836Z"
   },
   {
    "duration": 7,
    "start_time": "2024-06-11T01:04:39.542Z"
   },
   {
    "duration": 2797,
    "start_time": "2024-06-11T01:04:41.578Z"
   },
   {
    "duration": 467,
    "start_time": "2024-06-11T01:04:44.379Z"
   },
   {
    "duration": 40,
    "start_time": "2024-06-11T01:04:44.966Z"
   },
   {
    "duration": 17,
    "start_time": "2024-06-11T01:04:46.583Z"
   },
   {
    "duration": 51,
    "start_time": "2024-06-11T01:05:10.166Z"
   },
   {
    "duration": 47,
    "start_time": "2024-06-11T01:05:29.396Z"
   },
   {
    "duration": 55,
    "start_time": "2024-06-11T01:05:45.291Z"
   },
   {
    "duration": 51,
    "start_time": "2024-06-11T01:06:23.922Z"
   },
   {
    "duration": 46,
    "start_time": "2024-06-11T01:06:39.053Z"
   },
   {
    "duration": 18,
    "start_time": "2024-06-11T01:06:51.770Z"
   },
   {
    "duration": 16,
    "start_time": "2024-06-11T01:06:53.526Z"
   },
   {
    "duration": 12,
    "start_time": "2024-06-11T01:06:58.110Z"
   },
   {
    "duration": 19,
    "start_time": "2024-06-11T01:07:00.342Z"
   },
   {
    "duration": 19,
    "start_time": "2024-06-11T01:08:42.495Z"
   },
   {
    "duration": 10,
    "start_time": "2024-06-11T01:10:39.948Z"
   },
   {
    "duration": 63,
    "start_time": "2024-06-11T01:10:45.918Z"
   },
   {
    "duration": 46,
    "start_time": "2024-06-11T01:11:23.485Z"
   },
   {
    "duration": 49,
    "start_time": "2024-06-11T01:11:52.155Z"
   },
   {
    "duration": 791,
    "start_time": "2024-06-11T01:12:31.341Z"
   },
   {
    "duration": 2150,
    "start_time": "2024-06-11T01:12:32.144Z"
   },
   {
    "duration": 165,
    "start_time": "2024-06-11T01:12:34.297Z"
   },
   {
    "duration": 98,
    "start_time": "2024-06-11T01:12:34.472Z"
   },
   {
    "duration": 931,
    "start_time": "2024-06-11T01:12:34.572Z"
   },
   {
    "duration": 28,
    "start_time": "2024-06-11T01:12:35.506Z"
   },
   {
    "duration": 34,
    "start_time": "2024-06-11T01:12:35.537Z"
   },
   {
    "duration": 419,
    "start_time": "2024-06-11T01:12:35.574Z"
   },
   {
    "duration": 27,
    "start_time": "2024-06-11T01:12:35.997Z"
   },
   {
    "duration": 233,
    "start_time": "2024-06-11T01:12:36.031Z"
   },
   {
    "duration": 397,
    "start_time": "2024-06-11T01:12:36.268Z"
   },
   {
    "duration": 96,
    "start_time": "2024-06-11T01:12:36.674Z"
   },
   {
    "duration": 49,
    "start_time": "2024-06-11T01:12:36.774Z"
   },
   {
    "duration": 16,
    "start_time": "2024-06-11T01:12:37.090Z"
   },
   {
    "duration": 85,
    "start_time": "2024-06-11T01:12:37.564Z"
   },
   {
    "duration": 56,
    "start_time": "2024-06-11T01:12:37.888Z"
   },
   {
    "duration": 10,
    "start_time": "2024-06-11T01:12:39.627Z"
   },
   {
    "duration": 10,
    "start_time": "2024-06-11T01:12:40.282Z"
   },
   {
    "duration": 25,
    "start_time": "2024-06-11T01:12:42.483Z"
   },
   {
    "duration": 6,
    "start_time": "2024-06-11T01:12:43.400Z"
   },
   {
    "duration": 3116,
    "start_time": "2024-06-11T01:12:45.739Z"
   },
   {
    "duration": 498,
    "start_time": "2024-06-11T01:12:48.859Z"
   },
   {
    "duration": 51,
    "start_time": "2024-06-11T01:12:49.361Z"
   },
   {
    "duration": 20,
    "start_time": "2024-06-11T01:12:51.332Z"
   },
   {
    "duration": 29,
    "start_time": "2024-06-11T01:12:57.155Z"
   },
   {
    "duration": 13,
    "start_time": "2024-06-11T01:12:58.469Z"
   },
   {
    "duration": 19,
    "start_time": "2024-06-11T01:13:01.927Z"
   },
   {
    "duration": 15,
    "start_time": "2024-06-11T01:13:07.240Z"
   },
   {
    "duration": 51,
    "start_time": "2024-06-11T01:13:10.027Z"
   },
   {
    "duration": 47,
    "start_time": "2024-06-11T01:22:25.499Z"
   },
   {
    "duration": 642,
    "start_time": "2024-06-11T01:23:18.779Z"
   },
   {
    "duration": 1881,
    "start_time": "2024-06-11T01:23:19.426Z"
   },
   {
    "duration": 144,
    "start_time": "2024-06-11T01:23:21.309Z"
   },
   {
    "duration": 79,
    "start_time": "2024-06-11T01:23:21.458Z"
   },
   {
    "duration": 837,
    "start_time": "2024-06-11T01:23:21.540Z"
   },
   {
    "duration": 25,
    "start_time": "2024-06-11T01:23:22.381Z"
   },
   {
    "duration": 41,
    "start_time": "2024-06-11T01:23:22.412Z"
   },
   {
    "duration": 320,
    "start_time": "2024-06-11T01:23:22.456Z"
   },
   {
    "duration": 20,
    "start_time": "2024-06-11T01:23:22.779Z"
   },
   {
    "duration": 192,
    "start_time": "2024-06-11T01:23:22.805Z"
   },
   {
    "duration": 342,
    "start_time": "2024-06-11T01:23:23.000Z"
   },
   {
    "duration": 104,
    "start_time": "2024-06-11T01:23:23.345Z"
   },
   {
    "duration": 47,
    "start_time": "2024-06-11T01:23:23.453Z"
   },
   {
    "duration": 7,
    "start_time": "2024-06-11T01:23:24.540Z"
   },
   {
    "duration": 55,
    "start_time": "2024-06-11T01:23:24.940Z"
   },
   {
    "duration": 63,
    "start_time": "2024-06-11T01:23:25.862Z"
   },
   {
    "duration": 6,
    "start_time": "2024-06-11T01:23:27.643Z"
   },
   {
    "duration": 6,
    "start_time": "2024-06-11T01:23:28.244Z"
   },
   {
    "duration": 7,
    "start_time": "2024-06-11T01:23:29.782Z"
   },
   {
    "duration": 6,
    "start_time": "2024-06-11T01:23:30.043Z"
   },
   {
    "duration": 2663,
    "start_time": "2024-06-11T01:23:31.797Z"
   },
   {
    "duration": 460,
    "start_time": "2024-06-11T01:23:34.464Z"
   },
   {
    "duration": 41,
    "start_time": "2024-06-11T01:23:34.935Z"
   },
   {
    "duration": 18,
    "start_time": "2024-06-11T01:23:37.276Z"
   },
   {
    "duration": 15,
    "start_time": "2024-06-11T01:23:40.780Z"
   },
   {
    "duration": 12,
    "start_time": "2024-06-11T01:23:42.465Z"
   },
   {
    "duration": 18,
    "start_time": "2024-06-11T01:23:45.227Z"
   },
   {
    "duration": 10,
    "start_time": "2024-06-11T01:23:47.584Z"
   },
   {
    "duration": 59,
    "start_time": "2024-06-11T01:23:49.869Z"
   },
   {
    "duration": 47,
    "start_time": "2024-06-11T01:25:45.394Z"
   },
   {
    "duration": 696,
    "start_time": "2024-06-11T01:29:27.215Z"
   },
   {
    "duration": 1601,
    "start_time": "2024-06-11T01:29:27.917Z"
   },
   {
    "duration": 158,
    "start_time": "2024-06-11T01:29:29.526Z"
   },
   {
    "duration": 96,
    "start_time": "2024-06-11T01:29:29.689Z"
   },
   {
    "duration": 778,
    "start_time": "2024-06-11T01:29:29.789Z"
   },
   {
    "duration": 25,
    "start_time": "2024-06-11T01:29:30.570Z"
   },
   {
    "duration": 44,
    "start_time": "2024-06-11T01:29:30.600Z"
   },
   {
    "duration": 346,
    "start_time": "2024-06-11T01:29:30.647Z"
   },
   {
    "duration": 22,
    "start_time": "2024-06-11T01:29:30.997Z"
   },
   {
    "duration": 194,
    "start_time": "2024-06-11T01:29:31.035Z"
   },
   {
    "duration": 312,
    "start_time": "2024-06-11T01:29:31.234Z"
   },
   {
    "duration": 87,
    "start_time": "2024-06-11T01:29:31.549Z"
   },
   {
    "duration": 32,
    "start_time": "2024-06-11T01:29:31.641Z"
   },
   {
    "duration": 10,
    "start_time": "2024-06-11T01:29:31.676Z"
   },
   {
    "duration": 65,
    "start_time": "2024-06-11T01:29:31.817Z"
   },
   {
    "duration": 40,
    "start_time": "2024-06-11T01:29:32.027Z"
   },
   {
    "duration": 7,
    "start_time": "2024-06-11T01:29:33.116Z"
   },
   {
    "duration": 7,
    "start_time": "2024-06-11T01:29:33.347Z"
   },
   {
    "duration": 7,
    "start_time": "2024-06-11T01:29:33.949Z"
   },
   {
    "duration": 7,
    "start_time": "2024-06-11T01:29:34.169Z"
   },
   {
    "duration": 2702,
    "start_time": "2024-06-11T01:29:34.787Z"
   },
   {
    "duration": 464,
    "start_time": "2024-06-11T01:29:37.493Z"
   },
   {
    "duration": 47,
    "start_time": "2024-06-11T01:29:37.962Z"
   },
   {
    "duration": 30,
    "start_time": "2024-06-11T01:29:38.013Z"
   },
   {
    "duration": 16,
    "start_time": "2024-06-11T01:29:38.046Z"
   },
   {
    "duration": 14,
    "start_time": "2024-06-11T01:29:38.066Z"
   },
   {
    "duration": 58,
    "start_time": "2024-06-11T01:29:38.082Z"
   },
   {
    "duration": 9,
    "start_time": "2024-06-11T01:29:38.371Z"
   },
   {
    "duration": 44,
    "start_time": "2024-06-11T01:29:38.578Z"
   },
   {
    "duration": 109,
    "start_time": "2024-06-11T01:29:39.227Z"
   },
   {
    "duration": 313,
    "start_time": "2024-06-11T01:29:39.484Z"
   },
   {
    "duration": 15,
    "start_time": "2024-06-11T01:29:39.922Z"
   },
   {
    "duration": 14,
    "start_time": "2024-06-11T01:29:40.177Z"
   },
   {
    "duration": 87,
    "start_time": "2024-06-11T01:29:42.937Z"
   },
   {
    "duration": 1269,
    "start_time": "2024-06-11T01:35:13.456Z"
   },
   {
    "duration": 41,
    "start_time": "2024-06-11T01:36:33.701Z"
   },
   {
    "duration": 35,
    "start_time": "2024-06-11T01:37:39.025Z"
   },
   {
    "duration": 701,
    "start_time": "2024-06-11T01:37:51.929Z"
   },
   {
    "duration": 1601,
    "start_time": "2024-06-11T01:37:52.634Z"
   },
   {
    "duration": 143,
    "start_time": "2024-06-11T01:37:54.238Z"
   },
   {
    "duration": 76,
    "start_time": "2024-06-11T01:37:54.384Z"
   },
   {
    "duration": 774,
    "start_time": "2024-06-11T01:37:54.463Z"
   },
   {
    "duration": 21,
    "start_time": "2024-06-11T01:37:55.242Z"
   },
   {
    "duration": 21,
    "start_time": "2024-06-11T01:37:55.266Z"
   },
   {
    "duration": 336,
    "start_time": "2024-06-11T01:37:55.291Z"
   },
   {
    "duration": 20,
    "start_time": "2024-06-11T01:37:55.636Z"
   },
   {
    "duration": 198,
    "start_time": "2024-06-11T01:37:55.659Z"
   },
   {
    "duration": 344,
    "start_time": "2024-06-11T01:37:55.861Z"
   },
   {
    "duration": 99,
    "start_time": "2024-06-11T01:37:56.208Z"
   },
   {
    "duration": 35,
    "start_time": "2024-06-11T01:37:56.311Z"
   },
   {
    "duration": 6,
    "start_time": "2024-06-11T01:37:56.408Z"
   },
   {
    "duration": 55,
    "start_time": "2024-06-11T01:37:56.608Z"
   },
   {
    "duration": 39,
    "start_time": "2024-06-11T01:37:56.837Z"
   },
   {
    "duration": 6,
    "start_time": "2024-06-11T01:37:57.460Z"
   },
   {
    "duration": 5,
    "start_time": "2024-06-11T01:37:57.649Z"
   },
   {
    "duration": 7,
    "start_time": "2024-06-11T01:37:58.265Z"
   },
   {
    "duration": 5,
    "start_time": "2024-06-11T01:37:58.491Z"
   },
   {
    "duration": 2685,
    "start_time": "2024-06-11T01:37:59.141Z"
   },
   {
    "duration": 443,
    "start_time": "2024-06-11T01:38:01.835Z"
   },
   {
    "duration": 63,
    "start_time": "2024-06-11T01:38:02.281Z"
   },
   {
    "duration": 16,
    "start_time": "2024-06-11T01:38:02.347Z"
   },
   {
    "duration": 16,
    "start_time": "2024-06-11T01:38:02.366Z"
   },
   {
    "duration": 13,
    "start_time": "2024-06-11T01:38:02.631Z"
   },
   {
    "duration": 19,
    "start_time": "2024-06-11T01:38:04.172Z"
   },
   {
    "duration": 10,
    "start_time": "2024-06-11T01:38:06.148Z"
   },
   {
    "duration": 45,
    "start_time": "2024-06-11T01:38:06.888Z"
   },
   {
    "duration": 122,
    "start_time": "2024-06-11T01:47:24.750Z"
   },
   {
    "duration": 276,
    "start_time": "2024-06-11T01:47:25.418Z"
   },
   {
    "duration": 106,
    "start_time": "2024-06-11T01:53:42.910Z"
   },
   {
    "duration": 106,
    "start_time": "2024-06-11T01:55:03.506Z"
   },
   {
    "duration": 117,
    "start_time": "2024-06-11T01:56:56.605Z"
   },
   {
    "duration": 456,
    "start_time": "2024-06-11T01:57:57.933Z"
   },
   {
    "duration": 126,
    "start_time": "2024-06-11T01:58:05.701Z"
   },
   {
    "duration": 107,
    "start_time": "2024-06-11T01:58:13.681Z"
   },
   {
    "duration": 109,
    "start_time": "2024-06-11T01:58:21.347Z"
   },
   {
    "duration": 16,
    "start_time": "2024-06-11T02:00:40.557Z"
   },
   {
    "duration": 15,
    "start_time": "2024-06-11T02:03:50.878Z"
   },
   {
    "duration": 13,
    "start_time": "2024-06-11T02:07:34.163Z"
   },
   {
    "duration": 13,
    "start_time": "2024-06-11T02:08:36.863Z"
   },
   {
    "duration": 29,
    "start_time": "2024-06-11T02:14:10.455Z"
   },
   {
    "duration": 87,
    "start_time": "2024-06-11T02:19:51.405Z"
   },
   {
    "duration": 53,
    "start_time": "2024-06-11T02:25:00.200Z"
   },
   {
    "duration": 357,
    "start_time": "2024-06-11T02:25:02.252Z"
   },
   {
    "duration": 333,
    "start_time": "2024-06-11T02:25:31.644Z"
   },
   {
    "duration": 215,
    "start_time": "2024-06-11T02:30:07.396Z"
   },
   {
    "duration": 219,
    "start_time": "2024-06-11T02:30:41.217Z"
   },
   {
    "duration": 1375,
    "start_time": "2024-06-11T02:31:16.633Z"
   },
   {
    "duration": 216,
    "start_time": "2024-06-11T02:33:14.522Z"
   },
   {
    "duration": 394,
    "start_time": "2024-06-11T02:37:50.341Z"
   },
   {
    "duration": 377,
    "start_time": "2024-06-11T02:39:11.438Z"
   },
   {
    "duration": 396,
    "start_time": "2024-06-11T02:42:05.805Z"
   },
   {
    "duration": 495,
    "start_time": "2024-06-11T02:47:34.520Z"
   },
   {
    "duration": 339,
    "start_time": "2024-06-11T02:47:36.945Z"
   },
   {
    "duration": 431,
    "start_time": "2024-06-11T02:47:40.919Z"
   },
   {
    "duration": 479,
    "start_time": "2024-06-11T02:48:02.774Z"
   },
   {
    "duration": 891,
    "start_time": "2024-06-11T02:48:41.778Z"
   },
   {
    "duration": 0,
    "start_time": "2024-06-11T02:49:49.341Z"
   },
   {
    "duration": 336,
    "start_time": "2024-06-11T02:49:59.208Z"
   },
   {
    "duration": 4402,
    "start_time": "2024-06-11T15:42:50.831Z"
   },
   {
    "duration": 1889,
    "start_time": "2024-06-11T15:42:55.238Z"
   },
   {
    "duration": 172,
    "start_time": "2024-06-11T15:42:57.130Z"
   },
   {
    "duration": 66,
    "start_time": "2024-06-11T15:42:57.307Z"
   },
   {
    "duration": 812,
    "start_time": "2024-06-11T15:42:57.377Z"
   },
   {
    "duration": 33,
    "start_time": "2024-06-11T15:42:58.197Z"
   },
   {
    "duration": 31,
    "start_time": "2024-06-11T15:42:58.233Z"
   },
   {
    "duration": 347,
    "start_time": "2024-06-11T15:42:58.267Z"
   },
   {
    "duration": 21,
    "start_time": "2024-06-11T15:42:59.728Z"
   },
   {
    "duration": 175,
    "start_time": "2024-06-11T15:43:01.047Z"
   },
   {
    "duration": 309,
    "start_time": "2024-06-11T15:43:01.885Z"
   },
   {
    "duration": 87,
    "start_time": "2024-06-11T15:43:02.658Z"
   },
   {
    "duration": 38,
    "start_time": "2024-06-11T15:43:04.909Z"
   },
   {
    "duration": 6,
    "start_time": "2024-06-11T15:43:09.452Z"
   },
   {
    "duration": 56,
    "start_time": "2024-06-11T15:43:11.023Z"
   },
   {
    "duration": 38,
    "start_time": "2024-06-11T15:43:14.591Z"
   },
   {
    "duration": 8,
    "start_time": "2024-06-11T15:43:28.482Z"
   },
   {
    "duration": 11,
    "start_time": "2024-06-11T15:43:29.361Z"
   },
   {
    "duration": 7,
    "start_time": "2024-06-11T15:43:32.204Z"
   },
   {
    "duration": 6,
    "start_time": "2024-06-11T15:43:33.109Z"
   },
   {
    "duration": 2750,
    "start_time": "2024-06-11T15:43:36.180Z"
   },
   {
    "duration": 443,
    "start_time": "2024-06-11T15:43:40.224Z"
   },
   {
    "duration": 50,
    "start_time": "2024-06-11T15:43:44.563Z"
   },
   {
    "duration": 17,
    "start_time": "2024-06-11T15:43:48.548Z"
   },
   {
    "duration": 15,
    "start_time": "2024-06-11T15:43:51.261Z"
   },
   {
    "duration": 13,
    "start_time": "2024-06-11T15:43:53.013Z"
   },
   {
    "duration": 26,
    "start_time": "2024-06-11T15:43:54.452Z"
   },
   {
    "duration": 11,
    "start_time": "2024-06-11T15:43:56.674Z"
   },
   {
    "duration": 43,
    "start_time": "2024-06-11T15:43:57.448Z"
   },
   {
    "duration": 111,
    "start_time": "2024-06-11T15:43:59.453Z"
   },
   {
    "duration": 279,
    "start_time": "2024-06-11T15:44:01.983Z"
   },
   {
    "duration": 16,
    "start_time": "2024-06-11T15:44:05.606Z"
   },
   {
    "duration": 38,
    "start_time": "2024-06-11T15:44:09.371Z"
   },
   {
    "duration": 89,
    "start_time": "2024-06-11T15:44:18.553Z"
   },
   {
    "duration": 27,
    "start_time": "2024-06-11T15:45:22.308Z"
   },
   {
    "duration": 47,
    "start_time": "2024-06-11T15:45:28.220Z"
   },
   {
    "duration": 652,
    "start_time": "2024-06-11T15:46:03.170Z"
   },
   {
    "duration": 1620,
    "start_time": "2024-06-11T15:46:03.826Z"
   },
   {
    "duration": 140,
    "start_time": "2024-06-11T15:46:05.450Z"
   },
   {
    "duration": 75,
    "start_time": "2024-06-11T15:46:05.594Z"
   },
   {
    "duration": 827,
    "start_time": "2024-06-11T15:46:05.673Z"
   },
   {
    "duration": 28,
    "start_time": "2024-06-11T15:46:06.503Z"
   },
   {
    "duration": 26,
    "start_time": "2024-06-11T15:46:06.534Z"
   },
   {
    "duration": 347,
    "start_time": "2024-06-11T15:46:08.328Z"
   },
   {
    "duration": 23,
    "start_time": "2024-06-11T15:46:10.122Z"
   },
   {
    "duration": 186,
    "start_time": "2024-06-11T15:46:11.291Z"
   },
   {
    "duration": 317,
    "start_time": "2024-06-11T15:46:12.279Z"
   },
   {
    "duration": 76,
    "start_time": "2024-06-11T15:46:13.592Z"
   },
   {
    "duration": 47,
    "start_time": "2024-06-11T15:46:16.283Z"
   },
   {
    "duration": 6,
    "start_time": "2024-06-11T15:46:17.230Z"
   },
   {
    "duration": 59,
    "start_time": "2024-06-11T15:46:18.500Z"
   },
   {
    "duration": 43,
    "start_time": "2024-06-11T15:46:19.590Z"
   },
   {
    "duration": 8,
    "start_time": "2024-06-11T15:46:23.510Z"
   },
   {
    "duration": 6,
    "start_time": "2024-06-11T15:46:24.500Z"
   },
   {
    "duration": 11,
    "start_time": "2024-06-11T15:46:28.547Z"
   },
   {
    "duration": 8,
    "start_time": "2024-06-11T15:46:29.697Z"
   },
   {
    "duration": 2726,
    "start_time": "2024-06-11T15:46:33.148Z"
   },
   {
    "duration": 502,
    "start_time": "2024-06-11T15:46:35.877Z"
   },
   {
    "duration": 55,
    "start_time": "2024-06-11T15:48:32.189Z"
   },
   {
    "duration": 16,
    "start_time": "2024-06-11T15:48:35.187Z"
   },
   {
    "duration": 15,
    "start_time": "2024-06-11T15:48:37.379Z"
   },
   {
    "duration": 11,
    "start_time": "2024-06-11T15:48:39.202Z"
   },
   {
    "duration": 21,
    "start_time": "2024-06-11T15:48:41.464Z"
   },
   {
    "duration": 11,
    "start_time": "2024-06-11T15:48:44.855Z"
   },
   {
    "duration": 48,
    "start_time": "2024-06-11T15:48:47.561Z"
   },
   {
    "duration": 13,
    "start_time": "2024-06-11T15:49:44.503Z"
   },
   {
    "duration": 8,
    "start_time": "2024-06-11T15:49:50.840Z"
   },
   {
    "duration": 8,
    "start_time": "2024-06-11T15:50:11.201Z"
   },
   {
    "duration": 23,
    "start_time": "2024-06-11T15:50:17.541Z"
   },
   {
    "duration": 693,
    "start_time": "2024-06-11T15:50:34.329Z"
   },
   {
    "duration": 1707,
    "start_time": "2024-06-11T15:50:35.026Z"
   },
   {
    "duration": 161,
    "start_time": "2024-06-11T15:50:36.737Z"
   },
   {
    "duration": 76,
    "start_time": "2024-06-11T15:50:36.903Z"
   },
   {
    "duration": 853,
    "start_time": "2024-06-11T15:50:36.982Z"
   },
   {
    "duration": 28,
    "start_time": "2024-06-11T15:50:37.839Z"
   },
   {
    "duration": 42,
    "start_time": "2024-06-11T15:50:37.871Z"
   },
   {
    "duration": 338,
    "start_time": "2024-06-11T15:50:39.270Z"
   },
   {
    "duration": 28,
    "start_time": "2024-06-11T15:50:40.634Z"
   },
   {
    "duration": 178,
    "start_time": "2024-06-11T15:50:42.072Z"
   },
   {
    "duration": 341,
    "start_time": "2024-06-11T15:50:42.693Z"
   },
   {
    "duration": 81,
    "start_time": "2024-06-11T15:50:43.422Z"
   },
   {
    "duration": 41,
    "start_time": "2024-06-11T15:50:44.700Z"
   },
   {
    "duration": 7,
    "start_time": "2024-06-11T15:50:44.955Z"
   },
   {
    "duration": 55,
    "start_time": "2024-06-11T15:50:45.503Z"
   },
   {
    "duration": 50,
    "start_time": "2024-06-11T15:50:45.903Z"
   },
   {
    "duration": 6,
    "start_time": "2024-06-11T15:50:49.115Z"
   },
   {
    "duration": 6,
    "start_time": "2024-06-11T15:50:49.725Z"
   },
   {
    "duration": 8,
    "start_time": "2024-06-11T15:50:51.604Z"
   },
   {
    "duration": 5,
    "start_time": "2024-06-11T15:50:51.832Z"
   },
   {
    "duration": 2787,
    "start_time": "2024-06-11T15:50:54.456Z"
   },
   {
    "duration": 463,
    "start_time": "2024-06-11T15:51:08.006Z"
   },
   {
    "duration": 55,
    "start_time": "2024-06-11T15:51:12.232Z"
   },
   {
    "duration": 18,
    "start_time": "2024-06-11T15:51:14.250Z"
   },
   {
    "duration": 17,
    "start_time": "2024-06-11T15:51:16.197Z"
   },
   {
    "duration": 11,
    "start_time": "2024-06-11T15:51:18.086Z"
   },
   {
    "duration": 20,
    "start_time": "2024-06-11T15:51:19.795Z"
   },
   {
    "duration": 10,
    "start_time": "2024-06-11T15:51:23.291Z"
   },
   {
    "duration": 28,
    "start_time": "2024-06-11T15:51:25.176Z"
   },
   {
    "duration": 108,
    "start_time": "2024-06-11T15:52:34.994Z"
   },
   {
    "duration": 291,
    "start_time": "2024-06-11T15:52:35.996Z"
   },
   {
    "duration": 16,
    "start_time": "2024-06-11T15:52:38.900Z"
   },
   {
    "duration": 31,
    "start_time": "2024-06-11T15:52:40.212Z"
   },
   {
    "duration": 89,
    "start_time": "2024-06-11T15:52:52.695Z"
   },
   {
    "duration": 58,
    "start_time": "2024-06-11T15:53:15.717Z"
   },
   {
    "duration": 396,
    "start_time": "2024-06-11T15:53:23.519Z"
   },
   {
    "duration": 291,
    "start_time": "2024-06-11T15:53:31.896Z"
   },
   {
    "duration": 419,
    "start_time": "2024-06-11T16:05:00.439Z"
   },
   {
    "duration": 438,
    "start_time": "2024-06-11T16:11:01.364Z"
   },
   {
    "duration": 488,
    "start_time": "2024-06-11T16:11:53.479Z"
   },
   {
    "duration": 434,
    "start_time": "2024-06-11T16:12:11.267Z"
   },
   {
    "duration": 465,
    "start_time": "2024-06-11T16:12:35.508Z"
   },
   {
    "duration": 374,
    "start_time": "2024-06-11T16:13:34.856Z"
   },
   {
    "duration": 379,
    "start_time": "2024-06-11T16:19:36.829Z"
   },
   {
    "duration": 259,
    "start_time": "2024-06-11T16:19:44.043Z"
   },
   {
    "duration": 293,
    "start_time": "2024-06-11T16:19:45.842Z"
   },
   {
    "duration": 363,
    "start_time": "2024-06-11T16:19:47.434Z"
   },
   {
    "duration": 7,
    "start_time": "2024-06-11T16:23:44.828Z"
   },
   {
    "duration": 6,
    "start_time": "2024-06-11T16:24:05.400Z"
   },
   {
    "duration": 336,
    "start_time": "2024-06-11T16:24:15.914Z"
   },
   {
    "duration": 366,
    "start_time": "2024-06-11T16:24:35.818Z"
   },
   {
    "duration": 392,
    "start_time": "2024-06-11T16:25:33.111Z"
   },
   {
    "duration": 233,
    "start_time": "2024-06-11T16:27:04.844Z"
   },
   {
    "duration": 241,
    "start_time": "2024-06-11T16:27:14.187Z"
   },
   {
    "duration": 265,
    "start_time": "2024-06-11T16:27:20.956Z"
   },
   {
    "duration": 301,
    "start_time": "2024-06-11T16:27:28.242Z"
   },
   {
    "duration": 278,
    "start_time": "2024-06-11T17:09:31.898Z"
   },
   {
    "duration": 7,
    "start_time": "2024-06-11T17:18:39.020Z"
   },
   {
    "duration": 376,
    "start_time": "2024-06-11T17:18:52.871Z"
   },
   {
    "duration": 7,
    "start_time": "2024-06-11T17:19:02.066Z"
   },
   {
    "duration": 6,
    "start_time": "2024-06-11T17:19:16.678Z"
   },
   {
    "duration": 1629,
    "start_time": "2024-06-11T17:19:51.211Z"
   },
   {
    "duration": 391,
    "start_time": "2024-06-11T17:20:14.718Z"
   },
   {
    "duration": 291,
    "start_time": "2024-06-11T17:25:30.171Z"
   },
   {
    "duration": 313,
    "start_time": "2024-06-11T17:47:58.488Z"
   },
   {
    "duration": 323,
    "start_time": "2024-06-11T17:48:45.802Z"
   },
   {
    "duration": 296,
    "start_time": "2024-06-11T17:49:48.675Z"
   },
   {
    "duration": 293,
    "start_time": "2024-06-11T17:51:04.439Z"
   },
   {
    "duration": 300,
    "start_time": "2024-06-11T17:52:16.355Z"
   },
   {
    "duration": 446,
    "start_time": "2024-06-11T18:38:27.131Z"
   },
   {
    "duration": 455,
    "start_time": "2024-06-11T18:45:10.217Z"
   },
   {
    "duration": 308,
    "start_time": "2024-06-11T18:45:37.903Z"
   },
   {
    "duration": 314,
    "start_time": "2024-06-11T18:45:44.749Z"
   },
   {
    "duration": 322,
    "start_time": "2024-06-11T18:56:31.149Z"
   },
   {
    "duration": 387,
    "start_time": "2024-06-11T19:41:24.145Z"
   },
   {
    "duration": 346,
    "start_time": "2024-06-11T19:59:18.871Z"
   },
   {
    "duration": 371,
    "start_time": "2024-06-11T19:59:31.693Z"
   },
   {
    "duration": 444,
    "start_time": "2024-06-11T20:01:17.235Z"
   },
   {
    "duration": 307,
    "start_time": "2024-06-11T20:01:47.692Z"
   },
   {
    "duration": 421,
    "start_time": "2024-06-11T20:02:22.822Z"
   },
   {
    "duration": 351,
    "start_time": "2024-06-11T20:15:16.783Z"
   },
   {
    "duration": 307,
    "start_time": "2024-06-11T20:15:30.711Z"
   },
   {
    "duration": 478,
    "start_time": "2024-06-11T20:15:33.012Z"
   },
   {
    "duration": 15,
    "start_time": "2024-06-11T20:15:37.757Z"
   },
   {
    "duration": 31,
    "start_time": "2024-06-11T20:23:35.816Z"
   },
   {
    "duration": 363,
    "start_time": "2024-06-11T20:24:32.243Z"
   },
   {
    "duration": 358,
    "start_time": "2024-06-11T20:24:52.213Z"
   },
   {
    "duration": 337,
    "start_time": "2024-06-11T20:25:12.912Z"
   },
   {
    "duration": 2904,
    "start_time": "2024-06-11T20:25:25.376Z"
   },
   {
    "duration": 424,
    "start_time": "2024-06-11T20:27:19.981Z"
   },
   {
    "duration": 390,
    "start_time": "2024-06-11T20:27:34.862Z"
   },
   {
    "duration": 394,
    "start_time": "2024-06-11T20:29:20.725Z"
   },
   {
    "duration": 407,
    "start_time": "2024-06-11T20:29:29.467Z"
   },
   {
    "duration": 484,
    "start_time": "2024-06-11T20:29:40.836Z"
   },
   {
    "duration": 441,
    "start_time": "2024-06-11T20:30:15.740Z"
   },
   {
    "duration": 4383,
    "start_time": "2024-06-11T23:14:09.332Z"
   },
   {
    "duration": 1698,
    "start_time": "2024-06-11T23:14:13.719Z"
   },
   {
    "duration": 144,
    "start_time": "2024-06-11T23:14:15.421Z"
   },
   {
    "duration": 81,
    "start_time": "2024-06-11T23:14:15.569Z"
   },
   {
    "duration": 758,
    "start_time": "2024-06-11T23:14:15.653Z"
   },
   {
    "duration": 29,
    "start_time": "2024-06-11T23:14:16.414Z"
   },
   {
    "duration": 23,
    "start_time": "2024-06-11T23:14:16.447Z"
   },
   {
    "duration": 4,
    "start_time": "2024-06-11T23:15:29.006Z"
   },
   {
    "duration": 1514,
    "start_time": "2024-06-11T23:15:29.805Z"
   },
   {
    "duration": 146,
    "start_time": "2024-06-11T23:15:31.323Z"
   },
   {
    "duration": 64,
    "start_time": "2024-06-11T23:15:31.693Z"
   },
   {
    "duration": 753,
    "start_time": "2024-06-11T23:15:32.770Z"
   },
   {
    "duration": 21,
    "start_time": "2024-06-11T23:15:33.550Z"
   },
   {
    "duration": 20,
    "start_time": "2024-06-11T23:15:34.642Z"
   },
   {
    "duration": 298,
    "start_time": "2024-06-11T23:16:09.576Z"
   },
   {
    "duration": 20,
    "start_time": "2024-06-11T23:16:11.099Z"
   },
   {
    "duration": 196,
    "start_time": "2024-06-11T23:16:11.832Z"
   },
   {
    "duration": 310,
    "start_time": "2024-06-11T23:16:12.054Z"
   },
   {
    "duration": 100,
    "start_time": "2024-06-11T23:16:12.368Z"
   },
   {
    "duration": 32,
    "start_time": "2024-06-11T23:16:12.812Z"
   },
   {
    "duration": 6,
    "start_time": "2024-06-11T23:16:13.022Z"
   },
   {
    "duration": 54,
    "start_time": "2024-06-11T23:16:13.248Z"
   },
   {
    "duration": 41,
    "start_time": "2024-06-11T23:16:13.437Z"
   },
   {
    "duration": 6,
    "start_time": "2024-06-11T23:16:14.063Z"
   },
   {
    "duration": 5,
    "start_time": "2024-06-11T23:16:14.306Z"
   },
   {
    "duration": 6,
    "start_time": "2024-06-11T23:16:14.976Z"
   },
   {
    "duration": 6,
    "start_time": "2024-06-11T23:16:15.224Z"
   },
   {
    "duration": 2566,
    "start_time": "2024-06-11T23:16:15.932Z"
   },
   {
    "duration": 481,
    "start_time": "2024-06-11T23:16:18.502Z"
   },
   {
    "duration": 73,
    "start_time": "2024-06-11T23:16:18.986Z"
   },
   {
    "duration": 19,
    "start_time": "2024-06-11T23:16:19.064Z"
   },
   {
    "duration": 16,
    "start_time": "2024-06-11T23:16:19.199Z"
   },
   {
    "duration": 10,
    "start_time": "2024-06-11T23:16:20.583Z"
   },
   {
    "duration": 22,
    "start_time": "2024-06-11T23:16:22.020Z"
   },
   {
    "duration": 9,
    "start_time": "2024-06-11T23:16:23.752Z"
   },
   {
    "duration": 26,
    "start_time": "2024-06-11T23:16:24.447Z"
   },
   {
    "duration": 107,
    "start_time": "2024-06-11T23:16:35.982Z"
   },
   {
    "duration": 283,
    "start_time": "2024-06-11T23:16:37.006Z"
   },
   {
    "duration": 15,
    "start_time": "2024-06-11T23:16:38.671Z"
   },
   {
    "duration": 30,
    "start_time": "2024-06-11T23:16:49.093Z"
   },
   {
    "duration": 84,
    "start_time": "2024-06-11T23:16:50.502Z"
   },
   {
    "duration": 52,
    "start_time": "2024-06-11T23:16:55.291Z"
   },
   {
    "duration": 350,
    "start_time": "2024-06-11T23:17:37.792Z"
   },
   {
    "duration": 270,
    "start_time": "2024-06-11T23:18:02.788Z"
   },
   {
    "duration": 371,
    "start_time": "2024-06-11T23:18:09.938Z"
   },
   {
    "duration": 292,
    "start_time": "2024-06-11T23:18:21.669Z"
   },
   {
    "duration": 281,
    "start_time": "2024-06-11T23:18:24.622Z"
   },
   {
    "duration": 372,
    "start_time": "2024-06-11T23:18:31.809Z"
   },
   {
    "duration": 3,
    "start_time": "2024-06-11T23:18:33.543Z"
   },
   {
    "duration": 360,
    "start_time": "2024-06-11T23:18:51.428Z"
   },
   {
    "duration": 376,
    "start_time": "2024-06-11T23:21:12.586Z"
   },
   {
    "duration": 456,
    "start_time": "2024-06-11T23:51:27.824Z"
   },
   {
    "duration": 473,
    "start_time": "2024-06-11T23:53:41.713Z"
   },
   {
    "duration": 475,
    "start_time": "2024-06-11T23:54:31.303Z"
   },
   {
    "duration": 280,
    "start_time": "2024-06-11T23:56:42.541Z"
   },
   {
    "duration": 379,
    "start_time": "2024-06-11T23:56:43.846Z"
   },
   {
    "duration": 15,
    "start_time": "2024-06-12T00:00:06.742Z"
   },
   {
    "duration": 2764,
    "start_time": "2024-06-12T00:39:58.623Z"
   },
   {
    "duration": 2858,
    "start_time": "2024-06-12T00:43:51.677Z"
   },
   {
    "duration": 2795,
    "start_time": "2024-06-12T00:44:30.243Z"
   },
   {
    "duration": 11,
    "start_time": "2024-06-12T01:00:20.533Z"
   },
   {
    "duration": 2795,
    "start_time": "2024-06-12T01:00:25.059Z"
   },
   {
    "duration": 2786,
    "start_time": "2024-06-12T01:02:29.412Z"
   },
   {
    "duration": 2896,
    "start_time": "2024-06-12T01:04:06.628Z"
   },
   {
    "duration": 2940,
    "start_time": "2024-06-12T01:04:30.531Z"
   },
   {
    "duration": 3222,
    "start_time": "2024-06-12T01:10:42.445Z"
   },
   {
    "duration": 3042,
    "start_time": "2024-06-12T01:11:25.428Z"
   },
   {
    "duration": 2876,
    "start_time": "2024-06-12T01:24:48.727Z"
   },
   {
    "duration": 423,
    "start_time": "2024-06-12T01:25:02.459Z"
   },
   {
    "duration": 438,
    "start_time": "2024-06-12T01:30:07.172Z"
   },
   {
    "duration": 51,
    "start_time": "2024-06-12T02:00:11.876Z"
   },
   {
    "duration": 329,
    "start_time": "2024-06-12T02:00:12.685Z"
   },
   {
    "duration": 220,
    "start_time": "2024-06-12T02:00:13.277Z"
   },
   {
    "duration": 515,
    "start_time": "2024-06-12T02:00:25.244Z"
   },
   {
    "duration": 310,
    "start_time": "2024-06-12T02:00:26.528Z"
   },
   {
    "duration": 284,
    "start_time": "2024-06-12T02:00:26.842Z"
   },
   {
    "duration": 595,
    "start_time": "2024-06-12T02:00:27.129Z"
   },
   {
    "duration": 350,
    "start_time": "2024-06-12T02:00:28.349Z"
   },
   {
    "duration": 197,
    "start_time": "2024-06-12T02:00:30.129Z"
   },
   {
    "duration": 340,
    "start_time": "2024-06-12T02:00:30.496Z"
   },
   {
    "duration": 15,
    "start_time": "2024-06-12T02:00:30.839Z"
   },
   {
    "duration": 2987,
    "start_time": "2024-06-12T02:00:31.763Z"
   },
   {
    "duration": 443,
    "start_time": "2024-06-12T02:00:36.676Z"
   },
   {
    "duration": 4643,
    "start_time": "2024-06-12T07:37:38.016Z"
   },
   {
    "duration": 1733,
    "start_time": "2024-06-12T07:37:42.662Z"
   },
   {
    "duration": 153,
    "start_time": "2024-06-12T07:37:44.400Z"
   },
   {
    "duration": 85,
    "start_time": "2024-06-12T07:37:44.557Z"
   },
   {
    "duration": 818,
    "start_time": "2024-06-12T07:37:44.645Z"
   },
   {
    "duration": 28,
    "start_time": "2024-06-12T07:37:45.467Z"
   },
   {
    "duration": 49,
    "start_time": "2024-06-12T07:37:45.498Z"
   },
   {
    "duration": 356,
    "start_time": "2024-06-12T07:37:45.552Z"
   },
   {
    "duration": 30,
    "start_time": "2024-06-12T07:37:45.911Z"
   },
   {
    "duration": 213,
    "start_time": "2024-06-12T07:37:45.946Z"
   },
   {
    "duration": 346,
    "start_time": "2024-06-12T07:37:46.163Z"
   },
   {
    "duration": 84,
    "start_time": "2024-06-12T07:37:46.512Z"
   },
   {
    "duration": 46,
    "start_time": "2024-06-12T07:37:47.064Z"
   },
   {
    "duration": 7,
    "start_time": "2024-06-12T07:37:47.297Z"
   },
   {
    "duration": 71,
    "start_time": "2024-06-12T07:37:47.517Z"
   },
   {
    "duration": 57,
    "start_time": "2024-06-12T07:37:47.754Z"
   },
   {
    "duration": 7,
    "start_time": "2024-06-12T07:37:48.422Z"
   },
   {
    "duration": 7,
    "start_time": "2024-06-12T07:37:48.672Z"
   },
   {
    "duration": 8,
    "start_time": "2024-06-12T07:37:49.313Z"
   },
   {
    "duration": 7,
    "start_time": "2024-06-12T07:37:49.548Z"
   },
   {
    "duration": 2961,
    "start_time": "2024-06-12T07:37:50.210Z"
   },
   {
    "duration": 495,
    "start_time": "2024-06-12T07:37:53.175Z"
   },
   {
    "duration": 73,
    "start_time": "2024-06-12T07:37:53.673Z"
   },
   {
    "duration": 17,
    "start_time": "2024-06-12T07:37:53.751Z"
   },
   {
    "duration": 21,
    "start_time": "2024-06-12T07:37:53.771Z"
   },
   {
    "duration": 13,
    "start_time": "2024-06-12T07:37:54.889Z"
   },
   {
    "duration": 20,
    "start_time": "2024-06-12T07:37:56.163Z"
   },
   {
    "duration": 10,
    "start_time": "2024-06-12T07:37:58.214Z"
   },
   {
    "duration": 33,
    "start_time": "2024-06-12T07:38:00.266Z"
   },
   {
    "duration": 128,
    "start_time": "2024-06-12T07:38:04.597Z"
   },
   {
    "duration": 305,
    "start_time": "2024-06-12T07:38:04.819Z"
   },
   {
    "duration": 17,
    "start_time": "2024-06-12T07:38:05.391Z"
   },
   {
    "duration": 31,
    "start_time": "2024-06-12T07:38:05.557Z"
   },
   {
    "duration": 94,
    "start_time": "2024-06-12T07:38:07.390Z"
   },
   {
    "duration": 4,
    "start_time": "2024-06-12T07:48:34.968Z"
   },
   {
    "duration": 1502,
    "start_time": "2024-06-12T07:48:35.179Z"
   },
   {
    "duration": 142,
    "start_time": "2024-06-12T07:48:36.684Z"
   },
   {
    "duration": 62,
    "start_time": "2024-06-12T07:48:36.831Z"
   },
   {
    "duration": 788,
    "start_time": "2024-06-12T07:48:36.897Z"
   },
   {
    "duration": 38,
    "start_time": "2024-06-12T07:48:37.689Z"
   },
   {
    "duration": 23,
    "start_time": "2024-06-12T07:48:37.730Z"
   },
   {
    "duration": 323,
    "start_time": "2024-06-12T08:28:47.901Z"
   },
   {
    "duration": 754,
    "start_time": "2024-06-12T08:29:05.801Z"
   },
   {
    "duration": 1561,
    "start_time": "2024-06-12T08:29:06.558Z"
   },
   {
    "duration": 146,
    "start_time": "2024-06-12T08:29:08.122Z"
   },
   {
    "duration": 81,
    "start_time": "2024-06-12T08:29:08.272Z"
   },
   {
    "duration": 799,
    "start_time": "2024-06-12T08:29:08.356Z"
   },
   {
    "duration": 29,
    "start_time": "2024-06-12T08:29:09.161Z"
   },
   {
    "duration": 44,
    "start_time": "2024-06-12T08:29:09.194Z"
   },
   {
    "duration": 369,
    "start_time": "2024-06-12T08:29:11.952Z"
   },
   {
    "duration": 21,
    "start_time": "2024-06-12T08:29:15.127Z"
   },
   {
    "duration": 207,
    "start_time": "2024-06-12T08:29:17.251Z"
   },
   {
    "duration": 312,
    "start_time": "2024-06-12T08:29:18.483Z"
   },
   {
    "duration": 96,
    "start_time": "2024-06-12T08:29:19.327Z"
   },
   {
    "duration": 35,
    "start_time": "2024-06-12T08:29:21.810Z"
   },
   {
    "duration": 5,
    "start_time": "2024-06-12T08:29:22.587Z"
   },
   {
    "duration": 67,
    "start_time": "2024-06-12T08:29:23.453Z"
   },
   {
    "duration": 57,
    "start_time": "2024-06-12T08:29:26.286Z"
   },
   {
    "duration": 7,
    "start_time": "2024-06-12T08:29:37.580Z"
   },
   {
    "duration": 5,
    "start_time": "2024-06-12T08:29:38.563Z"
   },
   {
    "duration": 8,
    "start_time": "2024-06-12T08:29:47.048Z"
   },
   {
    "duration": 6,
    "start_time": "2024-06-12T08:29:47.522Z"
   },
   {
    "duration": 3007,
    "start_time": "2024-06-12T08:29:49.520Z"
   },
   {
    "duration": 509,
    "start_time": "2024-06-12T08:29:52.530Z"
   },
   {
    "duration": 72,
    "start_time": "2024-06-12T08:30:14.445Z"
   },
   {
    "duration": 17,
    "start_time": "2024-06-12T08:30:56.737Z"
   },
   {
    "duration": 15,
    "start_time": "2024-06-12T08:31:34.246Z"
   },
   {
    "duration": 16,
    "start_time": "2024-06-12T08:32:09.985Z"
   },
   {
    "duration": 23,
    "start_time": "2024-06-12T08:32:51.102Z"
   },
   {
    "duration": 26,
    "start_time": "2024-06-12T08:33:03.087Z"
   },
   {
    "duration": 13,
    "start_time": "2024-06-12T08:33:09.960Z"
   },
   {
    "duration": 37,
    "start_time": "2024-06-12T08:33:12.117Z"
   },
   {
    "duration": 37,
    "start_time": "2024-06-12T08:36:40.967Z"
   },
   {
    "duration": 26,
    "start_time": "2024-06-12T08:38:04.010Z"
   },
   {
    "duration": 124,
    "start_time": "2024-06-12T08:38:09.173Z"
   },
   {
    "duration": 337,
    "start_time": "2024-06-12T08:38:15.175Z"
   },
   {
    "duration": 29,
    "start_time": "2024-06-12T08:39:33.819Z"
   },
   {
    "duration": 77,
    "start_time": "2024-06-12T08:40:33.320Z"
   },
   {
    "duration": 32,
    "start_time": "2024-06-12T08:41:02.727Z"
   },
   {
    "duration": 28,
    "start_time": "2024-06-12T08:41:24.198Z"
   },
   {
    "duration": 43,
    "start_time": "2024-06-12T08:42:24.306Z"
   },
   {
    "duration": 35,
    "start_time": "2024-06-12T08:43:36.957Z"
   },
   {
    "duration": 108,
    "start_time": "2024-06-12T08:44:40.772Z"
   },
   {
    "duration": 86,
    "start_time": "2024-06-12T08:45:04.869Z"
   },
   {
    "duration": 102,
    "start_time": "2024-06-12T08:46:00.032Z"
   },
   {
    "duration": 78,
    "start_time": "2024-06-12T08:46:21.570Z"
   },
   {
    "duration": 64,
    "start_time": "2024-06-12T08:46:56.327Z"
   },
   {
    "duration": 607,
    "start_time": "2024-06-12T08:47:27.519Z"
   },
   {
    "duration": 244,
    "start_time": "2024-06-12T08:47:41.187Z"
   },
   {
    "duration": 408,
    "start_time": "2024-06-12T08:47:54.575Z"
   },
   {
    "duration": 305,
    "start_time": "2024-06-12T08:48:16.175Z"
   },
   {
    "duration": 332,
    "start_time": "2024-06-12T08:48:17.135Z"
   },
   {
    "duration": 795,
    "start_time": "2024-06-12T08:48:24.134Z"
   },
   {
    "duration": 376,
    "start_time": "2024-06-12T08:49:16.770Z"
   },
   {
    "duration": 326,
    "start_time": "2024-06-12T08:51:22.999Z"
   },
   {
    "duration": 259,
    "start_time": "2024-06-12T08:52:07.664Z"
   },
   {
    "duration": 447,
    "start_time": "2024-06-12T08:52:15.357Z"
   },
   {
    "duration": 284,
    "start_time": "2024-06-12T08:53:00.565Z"
   },
   {
    "duration": 271,
    "start_time": "2024-06-12T08:53:45.813Z"
   },
   {
    "duration": 281,
    "start_time": "2024-06-12T08:54:07.992Z"
   },
   {
    "duration": 430,
    "start_time": "2024-06-12T08:54:08.763Z"
   },
   {
    "duration": 27,
    "start_time": "2024-06-12T08:54:10.621Z"
   },
   {
    "duration": 355,
    "start_time": "2024-06-12T08:55:58.620Z"
   },
   {
    "duration": 16,
    "start_time": "2024-06-12T08:55:59.556Z"
   },
   {
    "duration": 3234,
    "start_time": "2024-06-12T08:56:08.444Z"
   },
   {
    "duration": 3825,
    "start_time": "2024-06-12T08:58:24.581Z"
   },
   {
    "duration": 3119,
    "start_time": "2024-06-12T08:59:25.276Z"
   },
   {
    "duration": 3133,
    "start_time": "2024-06-12T09:01:52.763Z"
   },
   {
    "duration": 5585,
    "start_time": "2024-06-12T14:59:37.402Z"
   },
   {
    "duration": 1964,
    "start_time": "2024-06-12T14:59:42.993Z"
   },
   {
    "duration": 169,
    "start_time": "2024-06-12T14:59:44.963Z"
   },
   {
    "duration": 135,
    "start_time": "2024-06-12T14:59:45.138Z"
   },
   {
    "duration": 960,
    "start_time": "2024-06-12T14:59:45.277Z"
   },
   {
    "duration": 33,
    "start_time": "2024-06-12T14:59:46.242Z"
   },
   {
    "duration": 69,
    "start_time": "2024-06-12T14:59:46.281Z"
   },
   {
    "duration": 528,
    "start_time": "2024-06-12T14:59:46.355Z"
   },
   {
    "duration": 39,
    "start_time": "2024-06-12T14:59:46.888Z"
   },
   {
    "duration": 320,
    "start_time": "2024-06-12T14:59:46.940Z"
   },
   {
    "duration": 407,
    "start_time": "2024-06-12T14:59:47.263Z"
   },
   {
    "duration": 108,
    "start_time": "2024-06-12T14:59:47.673Z"
   },
   {
    "duration": 51,
    "start_time": "2024-06-12T14:59:47.787Z"
   },
   {
    "duration": 7,
    "start_time": "2024-06-12T14:59:47.842Z"
   },
   {
    "duration": 104,
    "start_time": "2024-06-12T14:59:47.852Z"
   },
   {
    "duration": 71,
    "start_time": "2024-06-12T14:59:47.960Z"
   },
   {
    "duration": 9,
    "start_time": "2024-06-12T14:59:48.036Z"
   },
   {
    "duration": 11,
    "start_time": "2024-06-12T14:59:48.050Z"
   },
   {
    "duration": 9,
    "start_time": "2024-06-12T14:59:48.065Z"
   },
   {
    "duration": 7,
    "start_time": "2024-06-12T14:59:48.127Z"
   },
   {
    "duration": 3629,
    "start_time": "2024-06-12T14:59:48.138Z"
   },
   {
    "duration": 610,
    "start_time": "2024-06-12T14:59:51.771Z"
   },
   {
    "duration": 97,
    "start_time": "2024-06-12T14:59:52.384Z"
   },
   {
    "duration": 45,
    "start_time": "2024-06-12T14:59:52.485Z"
   },
   {
    "duration": 21,
    "start_time": "2024-06-12T14:59:52.534Z"
   },
   {
    "duration": 14,
    "start_time": "2024-06-12T14:59:52.559Z"
   },
   {
    "duration": 65,
    "start_time": "2024-06-12T14:59:52.577Z"
   },
   {
    "duration": 12,
    "start_time": "2024-06-12T14:59:52.653Z"
   },
   {
    "duration": 63,
    "start_time": "2024-06-12T14:59:52.668Z"
   },
   {
    "duration": 166,
    "start_time": "2024-06-12T14:59:52.735Z"
   },
   {
    "duration": 356,
    "start_time": "2024-06-12T14:59:52.907Z"
   },
   {
    "duration": 21,
    "start_time": "2024-06-12T14:59:53.272Z"
   },
   {
    "duration": 57,
    "start_time": "2024-06-12T14:59:53.297Z"
   },
   {
    "duration": 128,
    "start_time": "2024-06-12T14:59:53.358Z"
   },
   {
    "duration": 79,
    "start_time": "2024-06-12T14:59:53.491Z"
   },
   {
    "duration": 535,
    "start_time": "2024-06-12T14:59:53.574Z"
   },
   {
    "duration": 251,
    "start_time": "2024-06-12T14:59:54.122Z"
   },
   {
    "duration": 404,
    "start_time": "2024-06-12T14:59:54.376Z"
   },
   {
    "duration": 312,
    "start_time": "2024-06-12T14:59:54.784Z"
   },
   {
    "duration": 327,
    "start_time": "2024-06-12T14:59:55.099Z"
   },
   {
    "duration": 497,
    "start_time": "2024-06-12T14:59:55.429Z"
   },
   {
    "duration": 380,
    "start_time": "2024-06-12T14:59:55.929Z"
   },
   {
    "duration": 340,
    "start_time": "2024-06-12T14:59:56.313Z"
   },
   {
    "duration": 391,
    "start_time": "2024-06-12T14:59:56.656Z"
   },
   {
    "duration": 17,
    "start_time": "2024-06-12T14:59:57.050Z"
   },
   {
    "duration": 1807,
    "start_time": "2024-06-12T14:59:57.071Z"
   },
   {
    "duration": 0,
    "start_time": "2024-06-12T14:59:58.881Z"
   },
   {
    "duration": 455,
    "start_time": "2024-06-12T15:00:17.613Z"
   }
  ],
  "colab": {
   "provenance": []
  },
  "kernelspec": {
   "display_name": "Python 3 (ipykernel)",
   "language": "python",
   "name": "python3"
  },
  "language_info": {
   "codemirror_mode": {
    "name": "ipython",
    "version": 3
   },
   "file_extension": ".py",
   "mimetype": "text/x-python",
   "name": "python",
   "nbconvert_exporter": "python",
   "pygments_lexer": "ipython3",
   "version": "3.9.19"
  },
  "toc": {
   "base_numbering": 1,
   "nav_menu": {},
   "number_sections": true,
   "sideBar": true,
   "skip_h1_title": true,
   "title_cell": "Table of Contents",
   "title_sidebar": "Contents",
   "toc_cell": false,
   "toc_position": {},
   "toc_section_display": true,
   "toc_window_display": false
  },
  "vscode": {
   "interpreter": {
    "hash": "01a7be9ec63e704a62cefc5fe7a4756944464ee731be31632bdf42a4cb4688cf"
   }
  }
 },
 "nbformat": 4,
 "nbformat_minor": 5
}
