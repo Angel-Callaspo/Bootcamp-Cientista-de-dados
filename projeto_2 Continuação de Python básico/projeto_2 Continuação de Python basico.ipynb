{
 "cells": [
  {
   "cell_type": "markdown",
   "metadata": {},
   "source": [
    "\n",
    "\n",
    "Olá estudante!\n",
    "\n",
    "Me chamo Rafael Meirelles e irei revisar o seu projeto hoje e em eventuais futuras submissões até que ele cumpra todos os requisitos para o aceite.\n",
    "Conte comigo nessa jornada e não se preocupe se precisar ajustar alguns detalhes, é parte do processo e fundamental para que você exercite os conceitos que vem aprendendo e assim melhore a qualidade dos seus códigos e análises.\n",
    "\n",
    "**Peço que mantenha e não altereos comentários que eu fizer por aqui para que possamos nos localizar posteriormente, ok?**\n",
    "\n",
    "Mais uma coisa, vamos utilizar um código de cores para você entender os meus feedbacks no seu notebook. Funciona assim:\n",
    "\n",
    "\n",
    "<div class=\"alert alert-danger\">\n",
    "<strong>Vermelho</strong>\n",
    "\n",
    "Erro que precisa ser consertado, caso contrário, seu projeto não pode ser aceito\n",
    "\n",
    "</div>\n",
    "\n",
    "<div class=\"alert alert-warning\">\n",
    "<strong>Amarelo</strong>\n",
    "\n",
    "Alerta de um erro não crítco, mas que pode ser corrigido para melhoria geral no seu código/análise\n",
    "\n",
    "</div>\n",
    "\n",
    "<div class=\"alert alert-success\">\n",
    "<strong>Verde</strong>\n",
    "\n",
    "Elogios\n",
    "</div>\n",
    "\n",
    "<div class=\"alert alert-info\">\n",
    "<strong>Comentário do estudante</strong>\n",
    "\n",
    "Use uma caixa azul como essa para eventuais comentários que você gostaria de fazer para mim.\n",
    "</div>\n",
    "\n"
   ]
  },
  {
   "cell_type": "code",
   "execution_count": null,
   "metadata": {},
   "outputs": [],
   "source": []
  },
  {
   "cell_type": "code",
   "execution_count": null,
   "metadata": {},
   "outputs": [],
   "source": []
  },
  {
   "cell_type": "markdown",
   "metadata": {},
   "source": [
    "\n",
    "<div class=\"alert alert-danger\">\n",
    "<strong>Comentário do revisor v1</strong>\n",
    "\n",
    "Estamos no caminho certo com essa versão, mas retocar os pontos indicados abaixo nos fará chegar em um resultado ainda mais incrível.\n",
    "    \n",
    "Conte comigo para ajudá-lo (a) em qualquer questão que possa vir a ter! Lembre-se de usar as caixas azuis para se comunicar comigo.\n",
    "    \n",
    "Até breve.\n",
    "</div>\n"
   ]
  },
  {
   "cell_type": "markdown",
   "metadata": {},
   "source": [
    "<div class=\"alert alert-success\">\n",
    "<strong>Comentário do revisor v2</strong>\n",
    "\n",
    "Trabalho muito sólido com o projeto! Gostei muito.\n",
    "    \n",
    "    \n",
    "Parabéns pela aprovação e até breve!\n",
    "</div>\n",
    "\n"
   ]
  },
  {
   "cell_type": "markdown",
   "metadata": {
    "id": "E0vqbgi9ay0H"
   },
   "source": [
    "# Se liga na música"
   ]
  },
  {
   "cell_type": "markdown",
   "metadata": {
    "id": "fhq_eyov_Zcs"
   },
   "source": [
    "# Conteúdo <a id='back'></a>\n",
    "\n",
    "* [Introdução](#intro)\n",
    "* [Etapa 1. Visão geral dos dados](#data_review)\n",
    "    * [Conclusões](#data_review_conclusions)\n",
    "* [Etapa 2. Pré-processamento de dados](#data_preprocessing)\n",
    "    * [2.1 Estilo do cabeçalho](#header_style)\n",
    "    * [2.2 Valores ausentes](#missing_values)\n",
    "    * [2.3 Duplicados](#duplicates)\n",
    "    * [2.4 Conclusões](#data_preprocessing_conclusions)\n",
    "* [Etapa 3. Teste da hipótese](#hypothesis)\n",
    "    * [3.1 Hipótese 1: atividade dos usuários nas duas cidades](#activity)\n",
    "* [Conclusões](#end)"
   ]
  },
  {
   "cell_type": "markdown",
   "metadata": {
    "id": "VUC88oWjTJw2"
   },
   "source": [
    "## Introdução <a id='intro'></a>\n",
    "O trabalho de um analista é analisar dados para obter percepções valiosas dos dados e tomar decisões fundamentadas neles. Esse processo consiste em várias etapas, como visão geral dos dados, pré-processamento dos dados e testes de hipóteses.\n",
    "\n",
    "Sempre que fazemos uma pesquisa, precisamos formular uma hipótese que depois poderemos testar. Às vezes nós aceitamos essas hipóteses; outras vezes, nós as rejeitamos. Para fazer as escolhas certas, um negócio deve ser capaz de entender se está fazendo as suposições certas ou não.\n",
    "\n",
    "Neste projeto, você vai comparar as preferências musicais dos habitantes de Springfild e Shelbyville. Você vai estudar os dados de um serviço de streaming de música online para testar a hipótese apresentada abaixo e comparar o comportamento dos usuários dessas duas cidades.\n",
    "\n",
    "### Objetivo:\n",
    "Teste a hipótese:\n",
    "1. A atividade dos usuários é diferente dependendo do dia da semana e da cidade.\n",
    "\n",
    "\n",
    "### Etapas\n",
    "Os dados sobre o comportamento do usuário são armazenados no arquivo `/datasets/music_project_en.csv`. Não há informações sobre a qualidade dos dados, então será necessário examiná-los antes de testar a hipótese.\n",
    "\n",
    "Primeiro, você avaliará a qualidade dos dados e verá se seus problemas são significativos. Depois, durante o pré-processamento dos dados, você tentará tratar dos problemas mais críticos.\n",
    "\n",
    "O seu projeto consistirá em três etapas:\n",
    " 1. Visão geral dos dados\n",
    " 2. Pré-processamento de dados\n",
    " 3. Teste da hipótese\n",
    "\n",
    "\n",
    "\n",
    "\n",
    "\n",
    "\n"
   ]
  },
  {
   "cell_type": "markdown",
   "metadata": {
    "id": "hDt6pg-Rw-1U"
   },
   "source": [
    "[Voltar ao Índice](#back)"
   ]
  },
  {
   "cell_type": "markdown",
   "metadata": {
    "id": "Ml1hmfXC_Zcs"
   },
   "source": [
    "## Etapa 1. Visão geral dos dados <a id='data_review'></a>\n",
    "\n",
    "Abra os dados e examine-os."
   ]
  },
  {
   "cell_type": "markdown",
   "metadata": {
    "id": "57eAOGIz_Zcs"
   },
   "source": [
    "Você precisará da `pandas`, então, importe-a."
   ]
  },
  {
   "cell_type": "code",
   "execution_count": 1,
   "metadata": {
    "id": "AXN7PHPN_Zcs"
   },
   "outputs": [],
   "source": [
    "# importando pandas\n",
    "import pandas as pd # importamos a biblioteca pandas para poder utilizar Classe DataFrame"
   ]
  },
  {
   "cell_type": "markdown",
   "metadata": {
    "id": "SG23P8tt_Zcs"
   },
   "source": [
    "Leia o arquivo `music_project_en.csv` da pasta `/datasets/` e salve-o na variável `df`:"
   ]
  },
  {
   "cell_type": "code",
   "execution_count": 2,
   "metadata": {
    "id": "fFVu7vqh_Zct"
   },
   "outputs": [],
   "source": [
    "# lendo o arquivo e armazenando em df\n",
    "df = pd.read_csv(\"/datasets/music_project_en.csv\")"
   ]
  },
  {
   "cell_type": "markdown",
   "metadata": {
    "id": "rDoOMd3uTqnZ"
   },
   "source": [
    "Imprima as primeiras 10 linhas da tabela:"
   ]
  },
  {
   "cell_type": "code",
   "execution_count": 3,
   "metadata": {
    "id": "oWTVX3gW_Zct"
   },
   "outputs": [
    {
     "name": "stdout",
     "output_type": "stream",
     "text": [
      "     userID                        Track            artist   genre  \\\n",
      "0  FFB692EC            Kamigata To Boots  The Mass Missile    rock   \n",
      "1  55204538  Delayed Because of Accident  Andreas Rönnberg    rock   \n",
      "2    20EC38            Funiculì funiculà       Mario Lanza     pop   \n",
      "3  A3DD03C9        Dragons in the Sunset        Fire + Ice    folk   \n",
      "4  E2DC1FAE                  Soul People        Space Echo   dance   \n",
      "5  842029A1                       Chains          Obladaet  rusrap   \n",
      "6  4CB90AA5                         True      Roman Messer   dance   \n",
      "7  F03E1C1F             Feeling This Way   Polina Griffith   dance   \n",
      "8  8FA1D3BE                     L’estate       Julia Dalia  ruspop   \n",
      "9  E772D5C0                    Pessimist               NaN   dance   \n",
      "\n",
      "        City        time        Day  \n",
      "0  Shelbyville  20:28:33  Wednesday  \n",
      "1  Springfield  14:07:09     Friday  \n",
      "2  Shelbyville  20:58:07  Wednesday  \n",
      "3  Shelbyville  08:37:09     Monday  \n",
      "4  Springfield  08:34:34     Monday  \n",
      "5  Shelbyville  13:09:41     Friday  \n",
      "6  Springfield  13:00:07  Wednesday  \n",
      "7  Springfield  20:47:49  Wednesday  \n",
      "8  Springfield  09:17:40     Friday  \n",
      "9  Shelbyville  21:20:49  Wednesday  \n"
     ]
    }
   ],
   "source": [
    "# obtenha as 10 primeiras 10 linhas da tabela df\n",
    "print(df.head(10))"
   ]
  },
  {
   "cell_type": "markdown",
   "metadata": {
    "id": "EO73Kwic_Zct"
   },
   "source": [
    "Obtenha informações gerais sobre a tabela usando um comando. Você conhece o método para exibir informações gerais que precisamos obter."
   ]
  },
  {
   "cell_type": "code",
   "execution_count": 4,
   "metadata": {
    "id": "DSf2kIb-_Zct"
   },
   "outputs": [
    {
     "name": "stdout",
     "output_type": "stream",
     "text": [
      "<class 'pandas.core.frame.DataFrame'>\n",
      "RangeIndex: 65079 entries, 0 to 65078\n",
      "Data columns (total 7 columns):\n",
      " #   Column    Non-Null Count  Dtype \n",
      "---  ------    --------------  ----- \n",
      " 0     userID  65079 non-null  object\n",
      " 1   Track     63736 non-null  object\n",
      " 2   artist    57512 non-null  object\n",
      " 3   genre     63881 non-null  object\n",
      " 4     City    65079 non-null  object\n",
      " 5   time      65079 non-null  object\n",
      " 6   Day       65079 non-null  object\n",
      "dtypes: object(7)\n",
      "memory usage: 3.5+ MB\n"
     ]
    }
   ],
   "source": [
    "# obtendo informações gerais sobre os nossos dados\n",
    "df.info()"
   ]
  },
  {
   "cell_type": "markdown",
   "metadata": {
    "id": "TaQ2Iwbr_Zct"
   },
   "source": [
    "Aqui estão as nossas observações sobre a tabela. Ela contém sete colunas. Elas armazenam o mesmo tipo de dado: `object`.\n",
    "\n",
    "De acordo com a documentação:\n",
    "- `' userID'` — identificação do usuário\n",
    "- `'Track'` — título da música\n",
    "- `'artist'` — nome do artista\n",
    "- `'genre'` — gênero da música\n",
    "- `'City'` — cidade do usuário\n",
    "- `'time'` — o tempo exato que a música foi reproduzida\n",
    "- `'Day'` — dia da semana\n",
    "\n",
    "Podemos ver três problemas de estilo nos cabeçalhos da tabela:\n",
    "1. Alguns cabeçalhos são escritos em letras maiúsculas, outros estão em minúsculas.\n",
    "2. Alguns cabeçalhos contêm espaços.\n",
    "3. Algumas colunas possuem valores ausentes em seu conteúdo.\n",
    "\n",
    "\n"
   ]
  },
  {
   "cell_type": "markdown",
   "metadata": {
    "id": "MCB6-dXG_Zct"
   },
   "source": [
    "### Escreva suas observações. Aqui estão algumas perguntas que podem ajudar: <a id='data_review_conclusions'></a>\n",
    "\n",
    "`1.   Que tipo de dados temos nas linhas? E como podemos entender as colunas?`\n",
    "Os tipos de dados que temos em todas as colunas são Object = String, Como já sabemos os parâmetros de um DataFrame são duas listas:\n",
    "1)\tcorrespondem aos próprios dados e são listas aninhadas que são identificadas na tabela pelos seus índices, principalmente podemos definir que essas linhas contêm os dados expressos em informações organizadas para uma atividade (ouvir uma música) especifica neste caso cada usuário ou o mesmo usuário em momentos diferentes, é dizer, uma única entidade.\n",
    "\n",
    "2)\tO segundo parâmetro é outra lista que define os nomes das colunas e estabelece a estrutura para definir os atributos de cada um dos dados (entidades) embora no nosso caso sejam todos Objetc, para cada usuário são formatados como registros representados e armazenados em nossa tabela são iguais, têm peculiaridades muito precisas: por exemplo ao mesmo tempo vários usuários podem estar ouvindo a mesma música, do mesmo artista, do mesmo gênero, esta análise se aplica a todas as colunas, com base nisso analise uma restrição que devemos saber se o serviço de streaming que estamos analisando permite que o mesmo usuário reproduza música com sua conta ao mesmo tempo em dispositivos diferentes e ouvir diferentes artista e musicas:\n",
    "\n",
    "caso sim: não teríamos certeza se as preferências refletidas não representam o usuário diretamente, mas sim um conjunto de usuários que usam essa conta.\n",
    "\n",
    "Caso não: podemos determinar que, como o usuário só pode usar sua conta em um único dispositivo, é mais seguro que as informações reflitam com precisão as preferências do usuário.\n",
    " \n",
    "\n",
    "`2.   Esses dados são suficientes para responder à nossa hipótese ou precisamos de mais dados?`\n",
    "\n",
    "Embora para hipóteses estatísticas mais elaboradas faltassem parâmetros como níveis de significância alfa, erro amostral e outros parâmetros estatísticos amostrais e populacionais, para inferir sobre o comportamento dos dados deveríamos definir o tipo de distribuição probabilística de nossos dados, por exemplo, em nosso caso posso estimar que os dados são úteis e o mínimo para responder ao nosso projeto\n",
    "\n",
    "`3.   Você notou algum problema nos dados, como valores ausentes, duplicados ou tipos de dados errados`\n",
    "\n",
    "Observando atentamente as informações apresentadas em nossa tabela de dados, podemos ver refletidos em três colunas ('track', 'artist' e 'genre') que temos valores ausentes que são dados importantes, porque são os principais argumentos para saber as preferências dos usuários, embora no nosso caso por estarmos analisando a atividade de cada usuário, esta ausência não é muito representativa para concluir se o usuário teve atividade ou não, mas temos uma coluna que agrupa como característica das variáveis: 'track' e 'artist' que poderia ser o gênero 'genre' e ser associado como elemento comum às preferências de cada cidade.\n",
    "\n",
    "Uma coluna muito particular é a 'hora' porque reflete a hora do dia em que a música foi tocada. O fato de ser um tipo de dados Object não faz diferença para nossa hipótese em relação à atividade do usuário, mas precisamos de informações em relação à. quantidade de tempo tocando a música, faltaria pelo menos outra coluna que representa o tempo em que o usuário parou de ouvir a música e realizar as conversões e cálculos associados para obter a quantidade de tempo"
   ]
  },
  {
   "cell_type": "markdown",
   "metadata": {
    "id": "3eL__vcwViOi"
   },
   "source": [
    "[Voltar ao Índice](#back)"
   ]
  },
  {
   "cell_type": "markdown",
   "metadata": {},
   "source": [
    "<div class=\"alert alert-success\">\n",
    "<strong>Comentário do revisor v1</strong>\n",
    "\n",
    "Bom trabalho com a introdução\n",
    "</div>"
   ]
  },
  {
   "cell_type": "markdown",
   "metadata": {
    "id": "SjYF6Ub9_Zct"
   },
   "source": [
    "## Etapa 2. Pré-processamento de dados <a id='data_preprocessing'></a>\n",
    "\n",
    "O objetivo aqui é preparar os dados para a análise.\n",
    "O primeiro passo é resolver todos os problemas com o cabeçalho. E então podemos passar para os valores ausentes e duplicados. Vamos começar.\n",
    "\n",
    "Corrija a formatação nos cabeçalhos da tabela.\n"
   ]
  },
  {
   "cell_type": "markdown",
   "metadata": {
    "id": "dIaKXr29_Zct"
   },
   "source": [
    "### Estilo do cabeçalho <a id='header_style'></a>\n",
    "Imprima os cabeçalhos da tabela (os nomes das colunas):"
   ]
  },
  {
   "cell_type": "code",
   "execution_count": 5,
   "metadata": {
    "id": "oKOTdF_Q_Zct"
   },
   "outputs": [
    {
     "name": "stdout",
     "output_type": "stream",
     "text": [
      "Index(['  userID', 'Track', 'artist', 'genre', '  City  ', 'time', 'Day'], dtype='object')\n"
     ]
    }
   ],
   "source": [
    "print(df.columns) # imprima os nomes das colunas"
   ]
  },
  {
   "cell_type": "markdown",
   "metadata": {
    "id": "zj5534cv_Zct"
   },
   "source": [
    "Mude os cabeçalhos da tabela conforme as boas práticas de estilo:\n",
    "* Todos os caracteres precisam estar com letras minúsculas\n",
    "* Exclua espaços\n",
    "* Se o nome tiver várias palavras, use snake_case"
   ]
  },
  {
   "cell_type": "markdown",
   "metadata": {
    "id": "Xu0zkfe5zNJe"
   },
   "source": [
    "Anteriormente, você aprendeu sobre uma maneira automatizada de renomear colunas. Vamos usá-la agora. Use o ciclo for para percorrer os nomes das colunas e transformar todos os caracteres em letras minúsculas. Após fazer isso, imprima os cabeçalhos da tabela novamente:"
   ]
  },
  {
   "cell_type": "code",
   "execution_count": 6,
   "metadata": {
    "id": "6I_RwwMhzM4e"
   },
   "outputs": [
    {
     "name": "stdout",
     "output_type": "stream",
     "text": [
      "Index(['  userid', 'track', 'artist', 'genre', '  city  ', 'time', 'day'], dtype='object')\n"
     ]
    }
   ],
   "source": [
    "coluna_minuscula = []                        # Criamos uma lista vazia como auxiliar para armazenar as colunas do nosso DataFreme\n",
    "for nome_antigo in  df.columns:              # Criamos um ciclo 'for' para percorrer a lista onde nossas colunas atuais estão armazenadas (df.columns) e iterar uma por uma, passando pela variável auxiliar (nome_antigo)\n",
    "    nome_minuscula = nome_antigo.lower()     # Aplicamos o método lower() para converter a string de cada um para minúsculas\n",
    "    coluna_minuscula.append(nome_minuscula)  # Durante cada iteração aplicamos o método append() para cada posição na lista e adicionamos os nomes modificados, se aplicável.\n",
    "df.columns = coluna_minuscula                # Atribuímos a lista resultante das iterações da 'coluna minúscula' às colunas DataFrame\n",
    "print(df.columns)                            # Imprimimos a lista da colunas do DataFrame atualizada"
   ]
  },
  {
   "cell_type": "markdown",
   "metadata": {
    "id": "pweIRxjSzPYW"
   },
   "source": [
    "Agora, usando a mesma abordagem, exclua os espaços no início e no final de cada nome de coluna e imprima os nomes das colunas novamente:"
   ]
  },
  {
   "cell_type": "code",
   "execution_count": 7,
   "metadata": {
    "id": "vVQXbFyJzSYl"
   },
   "outputs": [
    {
     "name": "stdout",
     "output_type": "stream",
     "text": [
      "Index(['userid', 'track', 'artist', 'genre', 'city', 'time', 'day'], dtype='object')\n"
     ]
    }
   ],
   "source": [
    "coluna_sem_espaco = []                         # Criamos uma lista vazia como auxiliar para armazenar as colunas do nosso DataFreme\n",
    "for nome_antigo in  df.columns:                # Criamos um ciclo 'for' para percorrer a lista onde nossas colunas atuais estão armazenadas (df.columns) e iterar uma por uma, passando pela variável auxiliar (nome_antigo)\n",
    "    nome_sem_espaço = nome_antigo.strip()      # Aplicamos o método strip() para que subtrai os espaços no início e no final da string\n",
    "    coluna_sem_espaco.append(nome_sem_espaço)  # Durante cada iteração aplicamos o método append() para cada posição na lista e adicionamos os nomes modificados, se aplicável.\n",
    "df.columns = coluna_sem_espaco                 # Atribuímos a lista resultante das iterações da 'coluna_sem_espaco' às colunas DataFrame\n",
    "print(df.columns)                              # Imprimimos a lista da colunas do DataFrame atualizada"
   ]
  },
  {
   "cell_type": "markdown",
   "metadata": {
    "id": "yCb8MW1JzURd"
   },
   "source": [
    "Precisamos aplicar a regra de sublinhado no lugar de espaço à coluna `userid`. Deveria ser `user_id`. Renomeie essa coluna e imprima os nomes de todas as colunas quando terminar."
   ]
  },
  {
   "cell_type": "code",
   "execution_count": 8,
   "metadata": {
    "id": "ISlFqs5y_Zct"
   },
   "outputs": [
    {
     "name": "stdout",
     "output_type": "stream",
     "text": [
      "Index(['user_id', 'track', 'artist', 'genre', 'city', 'time', 'day'], dtype='object')\n"
     ]
    }
   ],
   "source": [
    "df = df.rename(columns={'userid': 'user_id'})  # Atribuímos um dicionário e alteramos o nome solicitado pelo parâmetro coluna da função rename() aplicada ao DataFrame, e atualizamos atribuindo o resultado à variável df\n",
    "print(df.columns)                              # Imprimimos a lista da colunas do DataFrame atualizada"
   ]
  },
  {
   "cell_type": "markdown",
   "metadata": {
    "id": "1dqbh00J_Zct"
   },
   "source": [
    "Verifique o resultado. Imprima os cabeçalhos novamente:"
   ]
  },
  {
   "cell_type": "code",
   "execution_count": 9,
   "metadata": {
    "id": "d4NOAmTW_Zct"
   },
   "outputs": [
    {
     "name": "stdout",
     "output_type": "stream",
     "text": [
      "Index(['user_id', 'track', 'artist', 'genre', 'city', 'time', 'day'], dtype='object')\n"
     ]
    }
   ],
   "source": [
    "print(df.columns)                              # Imprimimos a lista da colunas do DataFrame atualizada"
   ]
  },
  {
   "cell_type": "markdown",
   "metadata": {
    "id": "xYJk6ksJVpOl"
   },
   "source": [
    "[Voltar ao Índice](#back)"
   ]
  },
  {
   "cell_type": "markdown",
   "metadata": {},
   "source": [
    "<div class=\"alert alert-success\">\n",
    "<strong>Comentário do revisor v1</strong>\n",
    "\n",
    "Tudo certo com o nome das colunas!\n",
    "</div>"
   ]
  },
  {
   "cell_type": "markdown",
   "metadata": {
    "id": "5ISfbcfY_Zct"
   },
   "source": [
    "### Valores Ausentes <a id='missing_values'></a>\n",
    " Primeiro, encontre a quantidade de valores ausentes na tabela. Você precisa usar dois métodos em sequência para obter o número de valores ausentes."
   ]
  },
  {
   "cell_type": "code",
   "execution_count": 10,
   "metadata": {
    "id": "RskX29qr_Zct"
   },
   "outputs": [
    {
     "name": "stdout",
     "output_type": "stream",
     "text": [
      "user_id       0\n",
      "track      1343\n",
      "artist     7567\n",
      "genre      1198\n",
      "city          0\n",
      "time          0\n",
      "day           0\n",
      "dtype: int64\n"
     ]
    }
   ],
   "source": [
    "print(df.isna().sum())  # calculando o número de valores ausentes aplicando os métodos isna() e sum() "
   ]
  },
  {
   "cell_type": "markdown",
   "metadata": {
    "id": "qubhgnlO_Zct"
   },
   "source": [
    "Nem todos os valores ausentes afetam a pesquisa. Por exemplo, os valores ausentes em `track` e `artist` não são críticos. Você pode simplesmente substituí-los por valores padrão, como a string `'unknown'`.\n",
    "\n",
    "Mas valores ausentes em `'genre'` podem afetar a comparação de preferências musicais de Springfield e Shelbyville. Na vida real, seria útil descobrir as razões pelas quais os dados estão ausentes e tentar corrigi-los. Mas nós não temos essa possibilidade neste projeto. Então, você terá que:\n",
    "* Preencha esses valores ausentes com um valor padrão\n",
    "* Avalie em que medida os valores ausentes podem afetar sua análise"
   ]
  },
  {
   "cell_type": "markdown",
   "metadata": {
    "id": "fSv2laPA_Zct"
   },
   "source": [
    "Substitua os valores ausentes nas colunas `'track'`, `'artist'` e `'genre'` pela string `'unknown'`. Como mostramos nas lições anteriores, a melhor maneira de fazer isso é criar uma lista para armazenar os nomes das colunas nas quais precisamos fazer a substituição. Em seguida, use essa lista e percorra as colunas nas quais a substituição seja necessária e faça a substituição."
   ]
  },
  {
   "cell_type": "code",
   "execution_count": 11,
   "metadata": {
    "id": "KplB5qWs_Zct"
   },
   "outputs": [],
   "source": [
    "colunas_substituir = ['track', 'artist', 'genre']  # Criamos uma lista com os nomes das colunas onde temos valores ausentes para serem repetidos nos ciclos de iteração\n",
    "for coluna in colunas_substituir:                  # Criamos um ciclo 'for' para percorrer a tabelas nas colunas especificadas\n",
    "    df[coluna].fillna('unknown', inplace=True)     # Percorremos o DataFrame pelos índices especificados de cada coluna e aplicamos o método fillna() para substituir os valores ausentes\n"
   ]
  },
  {
   "cell_type": "markdown",
   "metadata": {
    "id": "Ilsm-MZo_Zct"
   },
   "source": [
    "Agora verifique o resultado para ter certeza de que o conjunto de dados não contenha valores ausentes após a substituição. Para fazer isso, conte os valores ausentes novamente."
   ]
  },
  {
   "cell_type": "code",
   "execution_count": 12,
   "metadata": {
    "id": "Tq4nYRX4_Zct"
   },
   "outputs": [
    {
     "name": "stdout",
     "output_type": "stream",
     "text": [
      "user_id    0\n",
      "track      0\n",
      "artist     0\n",
      "genre      0\n",
      "city       0\n",
      "time       0\n",
      "day        0\n",
      "dtype: int64\n"
     ]
    }
   ],
   "source": [
    "print(df.isna().sum())  # Aplicamos os métodos isna() junto com o metodo sum() para contar os valores ausentes"
   ]
  },
  {
   "cell_type": "markdown",
   "metadata": {
    "id": "74ZIBmq9VrsK"
   },
   "source": [
    "[Voltar ao Índice](#back)"
   ]
  },
  {
   "cell_type": "markdown",
   "metadata": {},
   "source": [
    "<div class=\"alert alert-success\">\n",
    "<strong>Comentário do revisor v1</strong>\n",
    "\n",
    "Valores ausentes tratados com sucesso.\n",
    "</div>"
   ]
  },
  {
   "cell_type": "markdown",
   "metadata": {
    "id": "BWKRtBJ3_Zct"
   },
   "source": [
    "### Duplicados <a id='duplicates'></a>\n",
    "Encontre o número de duplicados explícitos na tabela. Lembre-se de que você precisa aplicar dois métodos em sequência para obter o número de duplicados explícitos."
   ]
  },
  {
   "cell_type": "code",
   "execution_count": 13,
   "metadata": {
    "id": "36eES_S0_Zct"
   },
   "outputs": [
    {
     "name": "stdout",
     "output_type": "stream",
     "text": [
      "3826\n"
     ]
    }
   ],
   "source": [
    "print(df.duplicated().sum())    # contando duplicados explícitos"
   ]
  },
  {
   "cell_type": "markdown",
   "metadata": {
    "id": "Ot25h6XR_Zct"
   },
   "source": [
    "Agora descarte todos os duplicados. Para fazer isso, chame o método que faz exatamente isso."
   ]
  },
  {
   "cell_type": "code",
   "execution_count": 14,
   "metadata": {
    "id": "exFHq6tt_Zct"
   },
   "outputs": [],
   "source": [
    "df = df.drop_duplicates().reset_index(drop=True)       # removendo duplicados explícitos"
   ]
  },
  {
   "cell_type": "markdown",
   "metadata": {
    "id": "Im2YwBEG_Zct"
   },
   "source": [
    "Agora vamos verificar se descartamos todos os duplicados. Conte duplicados explícitos mais uma vez para ter certeza de que você removeu todos eles:"
   ]
  },
  {
   "cell_type": "markdown",
   "metadata": {},
   "source": [
    "\n",
    "<div class=\"alert alert-danger\">\n",
    "<strong>Comentário do revisor v1</strong>\n",
    "\n",
    "Aqui vale a pena utilizar o .reset_index(drop=True) para garantir que não teremos problemas com a ordem das observações após removermos os duplicados:\n",
    "    \n",
    "Ao remover duplicatas, o índice do DataFrame pode ficar desorganizado. Isso significa que você pode acabar com lacunas no índice ou com índices que não estão mais em ordem sequencial. O método reset_index() redefine o índice do DataFrame, garantindo que ele esteja organizado novamente em uma sequência numérica contínua.\n",
    "</div>\n",
    "\n"
   ]
  },
  {
   "cell_type": "markdown",
   "metadata": {},
   "source": [
    "<div class=\"alert alert-info\">\n",
    "<strong>Comentário do estudante:</strong>\n",
    "\n",
    "Absolutamente certo: esqueci que os índices originais permanecem na mesma posição e tive que atualizar os índices e eliminar a coluna com índices antigos. Aplicamos os métodos correspondentes e bem indicados para cumprir esta boa prática."
   ]
  },
  {
   "cell_type": "markdown",
   "metadata": {},
   "source": [
    "<div class=\"alert alert-success\">\n",
    "<strong>Comentário do revisor v2</strong>\n",
    "\n",
    "Maravilha!\n",
    "</div>\n",
    "\n"
   ]
  },
  {
   "cell_type": "code",
   "execution_count": 15,
   "metadata": {
    "id": "-8PuNWQ0_Zct"
   },
   "outputs": [
    {
     "name": "stdout",
     "output_type": "stream",
     "text": [
      "0\n"
     ]
    }
   ],
   "source": [
    "print(df.duplicated().sum())    # verificando duplicados novamente"
   ]
  },
  {
   "cell_type": "markdown",
   "metadata": {
    "id": "QlFBsxAr_Zct"
   },
   "source": [
    "Agora queremos nos livrar dos duplicados implícitos na coluna `genre`. Por exemplo, o nome de um gênero pode ser escrito de maneiras diferentes. Alguns erros afetarão também o resultado."
   ]
  },
  {
   "cell_type": "markdown",
   "metadata": {
    "id": "eSjWwsOh_Zct"
   },
   "source": [
    "Para fazer isso, vamos começar imprimindo uma lista de nomes de gênero unívocos, ordenados em ordem alfabética: Para fazer isso:\n",
    "* Extraia a coluna `genre` do DataFrame\n",
    "* Chame o método que retornará todos os valores unívocos na coluna extraída\n"
   ]
  },
  {
   "cell_type": "code",
   "execution_count": 16,
   "metadata": {
    "id": "JIUcqzZN_Zct"
   },
   "outputs": [
    {
     "name": "stdout",
     "output_type": "stream",
     "text": [
      "['acid' 'acoustic' 'action' 'adult' 'africa' 'afrikaans' 'alternative'\n",
      " 'ambient' 'americana' 'animated' 'anime' 'arabesk' 'arabic' 'arena'\n",
      " 'argentinetango' 'art' 'audiobook' 'avantgarde' 'axé' 'baile' 'balkan'\n",
      " 'beats' 'bigroom' 'black' 'bluegrass' 'blues' 'bollywood' 'bossa'\n",
      " 'brazilian' 'breakbeat' 'breaks' 'broadway' 'cantautori' 'cantopop'\n",
      " 'canzone' 'caribbean' 'caucasian' 'celtic' 'chamber' 'children' 'chill'\n",
      " 'chinese' 'choral' 'christian' 'christmas' 'classical' 'classicmetal'\n",
      " 'club' 'colombian' 'comedy' 'conjazz' 'contemporary' 'country' 'cuban'\n",
      " 'dance' 'dancehall' 'dancepop' 'dark' 'death' 'deep' 'deutschrock'\n",
      " 'deutschspr' 'dirty' 'disco' 'dnb' 'documentary' 'downbeat' 'downtempo'\n",
      " 'drum' 'dub' 'dubstep' 'eastern' 'easy' 'electronic' 'electropop' 'emo'\n",
      " 'entehno' 'epicmetal' 'estrada' 'ethnic' 'eurofolk' 'european'\n",
      " 'experimental' 'extrememetal' 'fado' 'film' 'fitness' 'flamenco' 'folk'\n",
      " 'folklore' 'folkmetal' 'folkrock' 'folktronica' 'forró' 'frankreich'\n",
      " 'französisch' 'french' 'funk' 'future' 'gangsta' 'garage' 'german'\n",
      " 'ghazal' 'gitarre' 'glitch' 'gospel' 'gothic' 'grime' 'grunge' 'gypsy'\n",
      " 'handsup' \"hard'n'heavy\" 'hardcore' 'hardstyle' 'hardtechno' 'hip'\n",
      " 'hip-hop' 'hiphop' 'historisch' 'holiday' 'hop' 'horror' 'house' 'idm'\n",
      " 'independent' 'indian' 'indie' 'indipop' 'industrial' 'inspirational'\n",
      " 'instrumental' 'international' 'irish' 'jam' 'japanese' 'jazz' 'jewish'\n",
      " 'jpop' 'jungle' 'k-pop' 'karadeniz' 'karaoke' 'kayokyoku' 'korean'\n",
      " 'laiko' 'latin' 'latino' 'leftfield' 'local' 'lounge' 'loungeelectronic'\n",
      " 'lovers' 'malaysian' 'mandopop' 'marschmusik' 'meditative'\n",
      " 'mediterranean' 'melodic' 'metal' 'metalcore' 'mexican' 'middle'\n",
      " 'minimal' 'miscellaneous' 'modern' 'mood' 'mpb' 'muslim' 'native'\n",
      " 'neoklassik' 'neue' 'new' 'newage' 'newwave' 'nu' 'nujazz' 'numetal'\n",
      " 'oceania' 'old' 'opera' 'orchestral' 'other' 'piano' 'pop'\n",
      " 'popelectronic' 'popeurodance' 'post' 'posthardcore' 'postrock' 'power'\n",
      " 'progmetal' 'progressive' 'psychedelic' 'punjabi' 'punk' 'quebecois'\n",
      " 'ragga' 'ram' 'rancheras' 'rap' 'rave' 'reggae' 'reggaeton' 'regional'\n",
      " 'relax' 'religious' 'retro' 'rhythm' 'rnb' 'rnr' 'rock' 'rockabilly'\n",
      " 'romance' 'roots' 'ruspop' 'rusrap' 'rusrock' 'salsa' 'samba' 'schlager'\n",
      " 'self' 'sertanejo' 'shoegazing' 'showtunes' 'singer' 'ska' 'slow'\n",
      " 'smooth' 'soul' 'soulful' 'sound' 'soundtrack' 'southern' 'specialty'\n",
      " 'speech' 'spiritual' 'sport' 'stonerrock' 'surf' 'swing' 'synthpop'\n",
      " 'sängerportrait' 'tango' 'tanzorchester' 'taraftar' 'tech' 'techno'\n",
      " 'thrash' 'top' 'traditional' 'tradjazz' 'trance' 'tribal' 'trip'\n",
      " 'triphop' 'tropical' 'türk' 'türkçe' 'unknown' 'urban' 'uzbek' 'variété'\n",
      " 'vi' 'videogame' 'vocal' 'western' 'world' 'worldbeat' 'ïîï']\n"
     ]
    }
   ],
   "source": [
    "print(df['genre'].sort_values().unique()) # Usamos a indexação para extrair apenas os valores da coluna ‘gênero’, para essa coluna do DataFrame ‘df’, aplicamos o método sort_values() para ordenar a coluna e depois aplicamos o método unique() para gerar o que é requerido:uma lista de nomes de gênero unívocos, ordenados em ordem alfabética "
   ]
  },
  {
   "cell_type": "markdown",
   "metadata": {
    "id": "qej-Qmuo_Zct"
   },
   "source": [
    "Olhe a lista e encontre duplicados implícitos do gênero `hiphop`. Esses podem ser nomes escritos incorretamente, ou nomes alternativos para o mesmo gênero.\n",
    "\n",
    "Você verá os seguintes duplicados implícitos:\n",
    "* `hip`\n",
    "* `hop`\n",
    "* `hip-hop`\n",
    "\n",
    "Para se livrar deles, crie uma função `replace_wrong_genres()` com dois parâmetros:\n",
    "* `wrong_genres=` — essa é uma lista que contém todos os valores que você precisa substituir\n",
    "* `correct_genre=` — essa é uma string que você vai usar para a substituição\n",
    "\n",
    "Como resultado, a função deve corrigir os nomes na coluna `'genre'` da tabela `df`, isto é, substituindo cada valor da lista `wrong_genres` por valores de `correct_genre`.\n",
    "\n",
    "Dentro do corpo da função, use um ciclo `'for'` para percorrer a lista de gêneros errados, extrair a coluna `'genre'` e aplicar o método `replace` para fazer as correções."
   ]
  },
  {
   "cell_type": "code",
   "execution_count": 17,
   "metadata": {
    "id": "ErNDkmns_Zct"
   },
   "outputs": [],
   "source": [
    "def replace_wrong_genres(wrong_genres, correct_genre):                  # Definimos a função conforme solicitado: crie uma função replace_wrong_genres() com dois parâmetros\n",
    "    for valor_errado in wrong_genres:                                   # Criamos um ciclo 'for' para que o parâmetro 'wrong_genres' (lista de valores errados) que irá receber a função percorrida em cada iteração do ciclo através da variável auxiliar de cada iteração 'valor_errado' que armazena cada valor de cada uma das posições da lista 'wrong_genres'\n",
    "        df['genre'] = df['genre'].replace(valor_errado, correct_genre)  # Aplicamos a função replace() para a coluna 'genre' da DateFrame df, passamo pela função replace() os argumentos valor_errado (valor obtido da lista de valores errados de cada iteração e procurado na coluna 'genre' da DataFrame) correct_genre (valor parametro recebido dos argumentos da função quando é chamada, este é o valor pelo qual o valor errado será substituido) a aplicaçao da função replace() vai substituir valor correto pelo errado na posição onde seja localizado dentro da DataFrame          \n",
    "    return df                                                           # Retorna o resultado da função que neste caso seria, devido ao DataFrame e coluna 'gênero' atualizados com valores duplicados implícitos para o gênero hiphop\n",
    "\n",
    "duplicado_impli = ['hip', 'hip-hop', 'hop']                             # Criamos uma lista com os valores com duplicatas que pudemos observar após a classificação e posterior subtração dos valores univocos da coluna\n",
    "nome_correto = 'hiphop'                                                 # Criamos uma string com o nome correcto para substituir os valores duplicados para o gênero hiphop\n",
    "df = replace_wrong_genres(duplicado_impli, nome_correto)                # Chamamos a função replace_wrong_genres passando 2 argumentos que posteriormente serão usados como parâmetros da função, esses argumentos são: 'duplicate_impli' (lista de valores errados) e 'nome_correto' (nome correto para substituir na tabela) os resultados do função será atribuída ao DataFrame df"
   ]
  },
  {
   "cell_type": "markdown",
   "metadata": {
    "id": "aDoBJxbA_Zct"
   },
   "source": [
    "Agora, chame a função `replace_wrong_genres()` e passe argumentos apropriados para que ela limpe duplicados implícitos (`hip`, `hop` e `hip-hop`) substituindo-os por `hiphop`:"
   ]
  },
  {
   "cell_type": "code",
   "execution_count": 18,
   "metadata": {
    "id": "YN5i2hpmSo09"
   },
   "outputs": [
    {
     "name": "stdout",
     "output_type": "stream",
     "text": [
      "['acid' 'acoustic' 'action' 'adult' 'africa' 'afrikaans' 'alternative'\n",
      " 'ambient' 'americana' 'animated' 'anime' 'arabesk' 'arabic' 'arena'\n",
      " 'argentinetango' 'art' 'audiobook' 'avantgarde' 'axé' 'baile' 'balkan'\n",
      " 'beats' 'bigroom' 'black' 'bluegrass' 'blues' 'bollywood' 'bossa'\n",
      " 'brazilian' 'breakbeat' 'breaks' 'broadway' 'cantautori' 'cantopop'\n",
      " 'canzone' 'caribbean' 'caucasian' 'celtic' 'chamber' 'children' 'chill'\n",
      " 'chinese' 'choral' 'christian' 'christmas' 'classical' 'classicmetal'\n",
      " 'club' 'colombian' 'comedy' 'conjazz' 'contemporary' 'country' 'cuban'\n",
      " 'dance' 'dancehall' 'dancepop' 'dark' 'death' 'deep' 'deutschrock'\n",
      " 'deutschspr' 'dirty' 'disco' 'dnb' 'documentary' 'downbeat' 'downtempo'\n",
      " 'drum' 'dub' 'dubstep' 'eastern' 'easy' 'electronic' 'electropop' 'emo'\n",
      " 'entehno' 'epicmetal' 'estrada' 'ethnic' 'eurofolk' 'european'\n",
      " 'experimental' 'extrememetal' 'fado' 'film' 'fitness' 'flamenco' 'folk'\n",
      " 'folklore' 'folkmetal' 'folkrock' 'folktronica' 'forró' 'frankreich'\n",
      " 'französisch' 'french' 'funk' 'future' 'gangsta' 'garage' 'german'\n",
      " 'ghazal' 'gitarre' 'glitch' 'gospel' 'gothic' 'grime' 'grunge' 'gypsy'\n",
      " 'handsup' \"hard'n'heavy\" 'hardcore' 'hardstyle' 'hardtechno' 'hiphop'\n",
      " 'historisch' 'holiday' 'horror' 'house' 'idm' 'independent' 'indian'\n",
      " 'indie' 'indipop' 'industrial' 'inspirational' 'instrumental'\n",
      " 'international' 'irish' 'jam' 'japanese' 'jazz' 'jewish' 'jpop' 'jungle'\n",
      " 'k-pop' 'karadeniz' 'karaoke' 'kayokyoku' 'korean' 'laiko' 'latin'\n",
      " 'latino' 'leftfield' 'local' 'lounge' 'loungeelectronic' 'lovers'\n",
      " 'malaysian' 'mandopop' 'marschmusik' 'meditative' 'mediterranean'\n",
      " 'melodic' 'metal' 'metalcore' 'mexican' 'middle' 'minimal'\n",
      " 'miscellaneous' 'modern' 'mood' 'mpb' 'muslim' 'native' 'neoklassik'\n",
      " 'neue' 'new' 'newage' 'newwave' 'nu' 'nujazz' 'numetal' 'oceania' 'old'\n",
      " 'opera' 'orchestral' 'other' 'piano' 'pop' 'popelectronic' 'popeurodance'\n",
      " 'post' 'posthardcore' 'postrock' 'power' 'progmetal' 'progressive'\n",
      " 'psychedelic' 'punjabi' 'punk' 'quebecois' 'ragga' 'ram' 'rancheras'\n",
      " 'rap' 'rave' 'reggae' 'reggaeton' 'regional' 'relax' 'religious' 'retro'\n",
      " 'rhythm' 'rnb' 'rnr' 'rock' 'rockabilly' 'romance' 'roots' 'ruspop'\n",
      " 'rusrap' 'rusrock' 'salsa' 'samba' 'schlager' 'self' 'sertanejo'\n",
      " 'shoegazing' 'showtunes' 'singer' 'ska' 'slow' 'smooth' 'soul' 'soulful'\n",
      " 'sound' 'soundtrack' 'southern' 'specialty' 'speech' 'spiritual' 'sport'\n",
      " 'stonerrock' 'surf' 'swing' 'synthpop' 'sängerportrait' 'tango'\n",
      " 'tanzorchester' 'taraftar' 'tech' 'techno' 'thrash' 'top' 'traditional'\n",
      " 'tradjazz' 'trance' 'tribal' 'trip' 'triphop' 'tropical' 'türk' 'türkçe'\n",
      " 'unknown' 'urban' 'uzbek' 'variété' 'vi' 'videogame' 'vocal' 'western'\n",
      " 'world' 'worldbeat' 'ïîï']\n"
     ]
    }
   ],
   "source": [
    "print(df['genre'].sort_values().unique()) # removendo duplicados implícitos, verificando se foram removidos"
   ]
  },
  {
   "cell_type": "markdown",
   "metadata": {
    "id": "zQKF16_RG15m"
   },
   "source": [
    "Certifique-se que os nomes duplicados foram removidos. Imprima a lista de valores unívocos da coluna `'genre'` mais uma vez:"
   ]
  },
  {
   "cell_type": "code",
   "execution_count": 19,
   "metadata": {
    "id": "wvixALnFG15m"
   },
   "outputs": [
    {
     "name": "stdout",
     "output_type": "stream",
     "text": [
      "0\n"
     ]
    }
   ],
   "source": [
    "print(df.duplicated().sum())  # verificando valores duplicados"
   ]
  },
  {
   "cell_type": "markdown",
   "metadata": {
    "id": "ALgNbvF3VtPA"
   },
   "source": [
    "[Voltar ao Índice](#back)"
   ]
  },
  {
   "cell_type": "markdown",
   "metadata": {
    "id": "jz6a9-7HQUDd"
   },
   "source": [
    "### Suas observações <a id='data_preprocessing_conclusions'></a>\n",
    "\n",
    "` Descreva brevemente o que você reparou ao analisar duplicados, bem como a abordagem que usou para eliminá-los e os resultados que alcançou.`\n",
    "\n",
    "Em primeiro lugar, uma prática interessante é obter os valores unívocos já ordenados porque nos permite identificar mais rapidamente os valores duplicados implícitos, ajudaria a classificá-los pela primeira letra e poder observar os valores de cada string com maior precisão, ajudaria a reduzir os grupos, por exemplo, seguindo esta logica poderíamos observar todos os gêneros agrupados cuja letra inicial é 'h', então teríamos: 'handsup' \"hard'n'heavy\" 'hardcore' 'hardstyle' 'hardtechno' 'hip'  'hip-hop' 'hiphop' 'historisch' 'holiday' 'hop' 'horror' 'house'  e em cada grupo detectar valores atípico como por exemplo: 'xhiphop' que estaria no grupo de valores que começam com x\n",
    "\n",
    "Como o projeto indica abordar apenas o gênero ‘hiphop’, não podemos ter certeza se outros gêneros também possuem duplicados implícitas que poderiam distorcer as conclusões emitidas a partir das análises das informações registradas.\n",
    "\n",
    "Outro ponto importante é que dependendo da informação que estamos analisando, sem dúvida é importante ter conhecimento a respeito dos dados que estamos recebendo, é preciso ter a clareza de saber o que vamos procurar e o que queremos como resultado, por exemplo neste caso, se quisermos saber se os géneros da nossa tabela estão corretos, deveríamos ter pelo menos uma fonte oficial para podermos comparar a nossa tabela com uma informação padrão (por exemplo: lista de todos os géneros registados a nível mundial atualmente) e não ter erros de interpretação, isso evitaria cometer por desconhecimento o seguinte erro:\n",
    "    \n",
    " - Em nossa lista temos 2 gêneros que são: ‘pop’ ou ‘k-pop’ Por não termos uma fonte oficial ou uma lista confiável para comparar os diferentes tipos de gêneros registrados até o momento, podemos cometer o erro de substituir 'pop' em vez de 'k-pop' ação que nos levaria a cometer um erro na interpretação da informação.\n"
   ]
  },
  {
   "cell_type": "markdown",
   "metadata": {},
   "source": [
    "<div class=\"alert alert-success\">\n",
    "<strong>Comentário do revisor v1</strong>\n",
    "\n",
    "Bom trabalho com os duplicados implícitos e explícitos.\n",
    "</div>\n"
   ]
  },
  {
   "cell_type": "markdown",
   "metadata": {
    "id": "eK1es74rVujj"
   },
   "source": [
    "[Voltar ao Índice](#back)"
   ]
  },
  {
   "cell_type": "markdown",
   "metadata": {
    "id": "WttZHXH0SqKk"
   },
   "source": [
    "## Etapa 3. Teste da hipótese <a id='hypothesis'></a>"
   ]
  },
  {
   "cell_type": "markdown",
   "metadata": {
    "id": "Im936VVi_Zcu"
   },
   "source": [
    "### Hipótese: comparação do comportamento dos usuários nas duas cidades <a id='activity'></a>"
   ]
  },
  {
   "cell_type": "markdown",
   "metadata": {
    "id": "nwt_MuaL_Zcu"
   },
   "source": [
    "A hipótese afirma que existem diferenças no consumo de música pelos usuários em Springfield e em Shelbyville. Para testar a hipótese, use os dados dos três dias da semana: segunda-feira (Monday), quarta-feira (Wednesday) e sexta-feira (Friday).\n",
    "\n",
    "* Agrupe os usuários por cidade.\n",
    "* Compare o número de músicas tocadas por cada grupo na segunda, quarta e sexta.\n"
   ]
  },
  {
   "cell_type": "markdown",
   "metadata": {
    "id": "8Dw_YMmT_Zcu"
   },
   "source": [
    "Execute cada cálculo separadamente.\n",
    "\n",
    "O primeiro passo é avaliar a atividade dos usuários em cada cidade. Não se esqueça das etapas \"divisão-aplicação-combinação\" sobre as quais falamos anteriormente na lição. Agora seu objetivo é agrupar os dados por cidade, aplicar o método de contagem apropriado durante a etapa de aplicação e então encontrar o número de músicas tocadas por cada grupo, especificando a coluna para a qual você quer obter a contagem.\n",
    "\n",
    "Veja um exemplo de como o resultado final deve ser:\n",
    "`df.groupby(by='....')['column'].method()` Execute cada cálculo separadamente.\n",
    "\n",
    "Para avaliar a atividade dos usuários em cada cidade, agrupe os dados por cidade e encontre o número de músicas reproduzidas em cada grupo.\n",
    "\n"
   ]
  },
  {
   "cell_type": "code",
   "execution_count": 20,
   "metadata": {
    "id": "0_Qs96oh_Zcu"
   },
   "outputs": [
    {
     "name": "stdout",
     "output_type": "stream",
     "text": [
      "Dados agrupados por músicas reproduzidas em cada cidade:\n",
      "\n",
      "city\n",
      "Shelbyville    18512\n",
      "Springfield    42741\n",
      "Name: track, dtype: int64\n"
     ]
    }
   ],
   "source": [
    "print('Dados agrupados por músicas reproduzidas em cada cidade:')\n",
    "musica_cidade = df.groupby(by = 'city')['track'].count()            # Agrupamos a coluna 'city' e contamos os numeros de 'track' reproduzido por cada cidade\n",
    "print()\n",
    "print(musica_cidade)                  "
   ]
  },
  {
   "cell_type": "markdown",
   "metadata": {
    "id": "t_Qx-3NewAnK"
   },
   "source": [
    "`observações:`\n",
    "\n",
    "Agrupando os dados pelos valores das colunas podemos perceber que o número acumulado de músicas tocadas não é igual ao registro total que temos em nossa tabela (65079) e os resultados que obtivemos foram \n",
    "- Shelbyville 18512\n",
    "- Springfield 42741\n",
    "- total=61253 \n",
    "\n",
    "temos 3826 valores que não estão sendo representados seria 5,88%, A partir dos resultados podemos definir que a cidade de Shelbyville teve aproximadamente 30% da atividade total registrada em nossa tabela e\n",
    "Springfield 70%\n"
   ]
  },
  {
   "cell_type": "markdown",
   "metadata": {
    "id": "dzli3w8o_Zcu"
   },
   "source": [
    "Agora vamos agrupar os dados por dia da semana e encontrar a quantidade de músicas tocadas na segunda, quarta e sexta-feira. Use a mesma abordagem que antes, mas agora precisamos agrupar os dados de uma forma diferente.\n"
   ]
  },
  {
   "cell_type": "code",
   "execution_count": 21,
   "metadata": {
    "id": "uZMKjiJz_Zcu"
   },
   "outputs": [
    {
     "name": "stdout",
     "output_type": "stream",
     "text": [
      "Dados agrupados por músicas reproduzidas em cada dia registrado:\n",
      "\n",
      "day\n",
      "Friday       21840\n",
      "Monday       21354\n",
      "Wednesday    18059\n",
      "Name: track, dtype: int64\n"
     ]
    }
   ],
   "source": [
    "print('Dados agrupados por músicas reproduzidas em cada dia registrado:')\n",
    "musica_dia = df.groupby(by = 'day')['track'].count()                       # Agrupamos a coluna 'day' e contamos os numeros de 'track' reproduzido por cada dia\n",
    "print()\n",
    "print(musica_dia)"
   ]
  },
  {
   "cell_type": "markdown",
   "metadata": {
    "id": "cC2tNrlL_Zcu"
   },
   "source": [
    "`observações:`\n",
    "\n",
    "Podemos observar pelos resultados que a reprodução de música durante a semana (segunda, quarta, sexta) apresenta uma tendência uniforme com proporção aproximada de:\n",
    "\n",
    "- Segunda: 21840  ---> 36%\n",
    "- Quarta:   21354  ---> 35%\n",
    "- Sexta:  18059  ---> 29%\n",
    "\n",
    "Através dos resultados podemos constatar que a reprodução por dia tem uma variação baixa em termos da quantidade de música tocada nesses dias da semana de acordo com os dados registrados.\n"
   ]
  },
  {
   "cell_type": "markdown",
   "metadata": {
    "id": "POzs8bGa_Zcu"
   },
   "source": [
    "Você acabou de aprender como contar entradas agrupando-as por cidade ou por dia. E agora você precisa escrever uma função que possa contar entradas simultaneamente com base em ambos os critérios.\n",
    "\n",
    "Crie a função `number_tracks()` para calcular o número de músicas tocadas em um determinado dia **e** em uma determinada cidade. A função deve aceitar dois parâmetros:\n",
    "\n",
    "- `day`: um dia da semana pelo qual precisamos filtrar os dados. Por exemplo, `'Monday'`.\n",
    "- `city`: uma cidade pela qual precisamos filtrar os dados. Por exemplo, `'Springfield'`.\n",
    "\n",
    "Dentro da função, você vai aplicar uma filtragem consecutiva com indexação lógica.\n",
    "\n",
    "Primeiro, filtre os dados por dia e então filtre a tabela resultante por cidade.\n",
    "\n",
    "Depois de filtrar os dados usando os dois critérios, conte o número de valores na coluna 'user_id' da tabela resultante. O resultado da contagem representará o número de entradas que você quer encontrar. Armazene o resultado em uma nova variável e imprima-o."
   ]
  },
  {
   "cell_type": "code",
   "execution_count": 22,
   "metadata": {
    "id": "Nz3GdQB1_Zcu"
   },
   "outputs": [],
   "source": [
    "def number_tracks(day, city):                                # Declare a função number_tracks() com dois parâmetros: day= e city=.\n",
    "    dia = day                                                \n",
    "    cidade = city \n",
    "    df_day_city = df[df['day']==dia]                         # Armazene as linhas do DataFrame em que o valor na coluna 'day' é igual ao parâmetro day=\n",
    "    df_day_city = df_day_city[df_day_city['city']==cidade]   # Filtre as linhas em que o valor na coluna 'city' é igual ao parâmetro city=\n",
    "    aux = df_day_city['user_id'].count()                     # Extraia a coluna 'user_id' da tabela filtrada e aplique o método count()\n",
    "    return print(aux)                                        # Retorne o número dos valores da coluna 'user_id'"
   ]
  },
  {
   "cell_type": "markdown",
   "metadata": {
    "id": "ytf7xFrFJQ2r"
   },
   "source": [
    "Chame a função `number_tracks()` seis vezes, mudando os valores dos parâmetros, para que você possa recuperar os dados de ambas as cidades para cada um dos três dias."
   ]
  },
  {
   "cell_type": "code",
   "execution_count": 23,
   "metadata": {
    "id": "rJcRATNQ_Zcu"
   },
   "outputs": [
    {
     "name": "stdout",
     "output_type": "stream",
     "text": [
      "15740\n"
     ]
    }
   ],
   "source": [
    "# a quantidade de músicas tocadas em Springfield na segunda-feira\n",
    "number_tracks('Monday', 'Springfield')"
   ]
  },
  {
   "cell_type": "code",
   "execution_count": 24,
   "metadata": {
    "id": "hq_ncZ5T_Zcu"
   },
   "outputs": [
    {
     "name": "stdout",
     "output_type": "stream",
     "text": [
      "5614\n"
     ]
    }
   ],
   "source": [
    "# a quantidade de músicas tocadas em Shelbyville na segunda-feira\n",
    "number_tracks('Monday', 'Shelbyville')"
   ]
  },
  {
   "cell_type": "code",
   "execution_count": 25,
   "metadata": {
    "id": "_NTy2VPU_Zcu"
   },
   "outputs": [
    {
     "name": "stdout",
     "output_type": "stream",
     "text": [
      "11056\n"
     ]
    }
   ],
   "source": [
    "# a quantidade de músicas tocadas em Springfield na quarta-feira\n",
    "number_tracks('Wednesday', 'Springfield')"
   ]
  },
  {
   "cell_type": "code",
   "execution_count": 26,
   "metadata": {
    "id": "j2y3TAwo_Zcu"
   },
   "outputs": [
    {
     "name": "stdout",
     "output_type": "stream",
     "text": [
      "7003\n"
     ]
    }
   ],
   "source": [
    "# a quantidade de músicas tocadas em Shelbyville na quarta-feira\n",
    "number_tracks('Wednesday', 'Shelbyville')"
   ]
  },
  {
   "cell_type": "code",
   "execution_count": 27,
   "metadata": {
    "id": "vYDw5u_K_Zcu"
   },
   "outputs": [
    {
     "name": "stdout",
     "output_type": "stream",
     "text": [
      "15945\n"
     ]
    }
   ],
   "source": [
    "# a quantidade de músicas tocadas em Springfield na sexta-feira\n",
    "number_tracks('Friday', 'Springfield')"
   ]
  },
  {
   "cell_type": "code",
   "execution_count": 28,
   "metadata": {
    "id": "8_yzFtW3_Zcu"
   },
   "outputs": [
    {
     "name": "stdout",
     "output_type": "stream",
     "text": [
      "5895\n"
     ]
    }
   ],
   "source": [
    "# a quantidade de músicas tocadas em Shelbyville na sexta-feira\n",
    "number_tracks('Friday', 'Shelbyville')"
   ]
  },
  {
   "cell_type": "markdown",
   "metadata": {},
   "source": [
    "<div class=\"alert alert-success\">\n",
    "<strong>Comentário do revisor v1</strong>\n",
    "\n",
    "Cálculo das reproduções foi realizado com sucesso a partir da função desenvolvida.\n",
    "</div>\n"
   ]
  },
  {
   "cell_type": "markdown",
   "metadata": {
    "id": "-EgPIHYu_Zcu"
   },
   "source": [
    "**Conclusões**\n",
    "\n",
    "`Comente sobre se a terceira hipótese está correta ou deve ser rejeitada. Explique seu raciocínio.`\n",
    "\n",
    "Hipótese: comparação do comportamento dos usuários nas duas cidades = A hipótese afirma que existem diferenças no consumo de música pelos usuários em Springfield e em Shelbyville\n",
    "\n",
    "Para emitir conclusões sobre a hipótese proposta, consolidaremos as informações resultantes na apresentação a seguir.\n",
    "\n",
    "                  Segunda-   Quarta-   Sexta-\n",
    "    cidade        feira      feira     feira   Media   Desv_Pad\n",
    "    \n",
    "    Springfield   15740      11056     15945   14247   2765\n",
    "    Shelbyville    5614       7003      5895    6171    734\n",
    "\n",
    "Podemos ACEITAR a hipótese\n",
    "\n",
    "- Primeiramente vamos descrever os resultados, é importante ler atentamente o enunciado da hipótese; Não estabelece diretamente uma comparação entre o consumo dos usuários de uma cidade e outra, pelo contrário, anuncia: se existe diferença no consumo dos usuários em cada uma de suas cidades e como podemos ver, os usuários mantêm um consumo padrão com valores mais ou menos próximos aos valores médios com desvios padrão elevados.\n",
    "\n",
    "\n",
    "- A decisão de aceitar que há diferença no consumo de música pelos usuários em cada uma das cidades dependerá dos limites aceitos e impostos pela empresa. Por exemplo, se estabelecermos como diferença aceitável que o desvio do consumo seja inferior a 10% do valor médio. e qualquer comportamento superior a essa quantidade de consumo do usuário será considerado diferença de consumo, ou seja, afirmar que há diferença ou não dependerá de condições estabelecidas pela empresa com base em suas necessidades como organização.\n",
    "\n",
    "\n",
    "- No nosso caso, se compararmos os valores de cada uma das cidades, podemos afirmar o seguinte com os resultados obtidos com o consumo dos usuários de cada cidade:\n",
    "\n",
    "   *Para Springfield: podemos dizer que o consumo médio é 14247, o que representa uma diferença de 29% em relação ao valor     \n",
    "    mínimo (11056) e em relação ao valor mais elevado (15945) uma diferença de 10%, o que se reflecte num desvio padrão elevado \n",
    "    de 2765, que quando comparado com o valor médio expressa uma proporção de aproximadamente 20%, são valores que expressam \n",
    "    uma flutuação elevada.\n",
    "    \n",
    "    *Para Shelbyville: podemos dizer que o consumo médio é 6171, o que representa uma diferença de 10% em relação ao valor  \n",
    "    mínimo (5614) e uma diferença de 12% em relação ao valor mais alto (7003), o que se reflecte num desvio padrão de \n",
    "    734 que quando comparado com o valor médio expressa uma proporção de aproximadamente 12% são valores que expressam uma \n",
    "    pequena oscilação.\n",
    "    \n",
    "   *Embora os valores de Shelbyville apresentem um consumo mais uniforme com oscilações no consumo dos usuários em torno de 10%, para a cidade de Springfield as oscilações são maiores e indicam que há diferenças de consumo entre seus usuários em dias diferentes, Revendo o enunciado da hipótese, afirma que se houver diferença de consumo entre os usuários de Springfield e Shelbyville, já sabemos que a condicional 'e' é inclusiva, portanto as 2 cidades devem ter diferenças de consumo entre seus usuários para aceite a hipótese.\n",
    "   \n",
    "\n",
    "- Finalmente, se definirmos que:\n",
    "Caso as flutuações no consumo dos usuários sejam superiores a 10% nas 2 cidades, a hipótese será aceita. Caso contrário, se as oscilações forem inferiores a 10% nas 2 cidades, considera-se que não há diferença no consumo dos usuários de cada uma das cidades.\n",
    "Partindo desta premissa justificamos a aceitação da hipótese de que: EXISTEM DIFERENÇAS NO CONSUMO DE MÚSICA PELOS USUÁRIOS DE SPRINGFIELD E SHELBYVILLE. porque o percentual de flutuações comparando o desvio padrão em relação à média de consumo em ambos os casos ultrapassa 10%"
   ]
  },
  {
   "cell_type": "markdown",
   "metadata": {},
   "source": [
    "<div class=\"alert alert-success\">\n",
    "<strong>Comentário do revisor v1</strong>\n",
    "\n",
    "Perfeito o trabalho com a avaliação da hipótese proposta.\n",
    "    \n",
    "Gostei muito do nível da discussão e profundidade da análise. Parabéns.\n",
    "</div>\n"
   ]
  },
  {
   "cell_type": "markdown",
   "metadata": {},
   "source": [
    "<div class=\"alert alert-info\">\n",
    "<strong>Comentário do estudante:</strong>\n",
    "\n",
    "Muito obrigado Rafael. Para mim sua consideração é muito importante."
   ]
  },
  {
   "cell_type": "markdown",
   "metadata": {
    "id": "p7nFQajCVw5B"
   },
   "source": [
    "[Voltar ao Índice](#back)"
   ]
  },
  {
   "cell_type": "markdown",
   "metadata": {
    "id": "ykKQ0N65_Zcv"
   },
   "source": [
    "# Conclusões <a id='end'></a>"
   ]
  },
  {
   "cell_type": "markdown",
   "metadata": {
    "id": "tjUwbHb3_Zcv"
   },
   "source": [
    "`Resuma suas conclusões sobre a hipótese aqui`\n",
    "- A boa formulação da hipótese e a correta interpretação são muito importantes na análise dos resultados porque a aceitação ou rejeição de uma hipótese representará a execução de uma decisão baseada na análise dos dados e informações registradas.\n",
    "\n",
    "\n",
    "- O estabelecimento de regras de decisão delimitará as condições de rejeição e aceitação da hipótese e, portanto, as probabilidades de erros na tomada de decisões.\n",
    "\n",
    "\n",
    "- Embora os testes de hipóteses sejam procedimentos de inferência, seus parâmetros são muito importantes, principalmente a qualidade da amostra e os erros amostrais, portanto as informações recebidas devem ser confiáveis ​​e representativas para uma estimativa eficaz."
   ]
  },
  {
   "cell_type": "markdown",
   "metadata": {
    "id": "azLHu64yOIp7"
   },
   "source": [
    "### Importante\n",
    "Em projetos de pesquisas reais, o teste estatístico de hipóteses é mais preciso e quantitativo. Observe também que conclusões sobre uma cidade inteira nem sempre podem ser tiradas a partir de dados de apenas uma fonte.\n",
    "\n",
    "Você aprenderá mais sobre testes de hipóteses no sprint sobre a análise estatística de dados."
   ]
  },
  {
   "cell_type": "markdown",
   "metadata": {
    "id": "Ju4AHDSgV1FE"
   },
   "source": [
    "[Voltar ao Índice](#back)"
   ]
  }
 ],
 "metadata": {
  "ExecuteTimeLog": [
   {
    "duration": 538,
    "start_time": "2024-06-06T16:10:59.546Z"
   },
   {
    "duration": 243,
    "start_time": "2024-06-06T16:11:00.992Z"
   },
   {
    "duration": 12,
    "start_time": "2024-06-06T16:11:02.577Z"
   },
   {
    "duration": 33,
    "start_time": "2024-06-06T16:11:08.354Z"
   },
   {
    "duration": 5,
    "start_time": "2024-06-06T16:11:15.695Z"
   },
   {
    "duration": 7,
    "start_time": "2024-06-06T16:11:18.393Z"
   },
   {
    "duration": 7,
    "start_time": "2024-06-06T16:11:21.588Z"
   },
   {
    "duration": 13,
    "start_time": "2024-06-06T16:11:23.360Z"
   },
   {
    "duration": 5,
    "start_time": "2024-06-06T16:11:25.061Z"
   },
   {
    "duration": 38,
    "start_time": "2024-06-06T16:11:28.205Z"
   },
   {
    "duration": 29,
    "start_time": "2024-06-06T16:11:52.124Z"
   },
   {
    "duration": 16,
    "start_time": "2024-06-06T16:11:55.079Z"
   },
   {
    "duration": 25,
    "start_time": "2024-06-06T16:11:57.550Z"
   },
   {
    "duration": 474,
    "start_time": "2024-07-27T13:02:59.825Z"
   },
   {
    "duration": 189,
    "start_time": "2024-07-27T13:03:01.009Z"
   },
   {
    "duration": 10,
    "start_time": "2024-07-27T13:03:02.504Z"
   },
   {
    "duration": 34,
    "start_time": "2024-07-27T13:03:04.008Z"
   },
   {
    "duration": 5,
    "start_time": "2024-07-27T13:03:07.912Z"
   },
   {
    "duration": 6,
    "start_time": "2024-07-27T13:03:09.608Z"
   },
   {
    "duration": 5,
    "start_time": "2024-07-27T13:03:10.960Z"
   },
   {
    "duration": 14,
    "start_time": "2024-07-27T13:03:12.049Z"
   },
   {
    "duration": 4,
    "start_time": "2024-07-27T13:03:13.672Z"
   },
   {
    "duration": 27,
    "start_time": "2024-07-27T13:03:16.621Z"
   },
   {
    "duration": 17,
    "start_time": "2024-07-27T13:03:18.248Z"
   },
   {
    "duration": 26,
    "start_time": "2024-07-27T13:03:19.804Z"
   },
   {
    "duration": 74,
    "start_time": "2024-07-27T13:03:22.048Z"
   },
   {
    "duration": 91,
    "start_time": "2024-07-27T13:03:23.377Z"
   },
   {
    "duration": 68,
    "start_time": "2024-07-27T13:03:27.440Z"
   },
   {
    "duration": 50,
    "start_time": "2024-07-27T13:03:29.120Z"
   },
   {
    "duration": 14,
    "start_time": "2024-07-27T13:03:30.273Z"
   },
   {
    "duration": 51,
    "start_time": "2024-07-27T13:03:31.659Z"
   },
   {
    "duration": 73,
    "start_time": "2024-07-27T13:03:32.919Z"
   },
   {
    "duration": 15,
    "start_time": "2024-07-27T13:03:37.936Z"
   },
   {
    "duration": 14,
    "start_time": "2024-07-27T13:03:39.605Z"
   },
   {
    "duration": 5,
    "start_time": "2024-07-27T13:03:41.480Z"
   },
   {
    "duration": 21,
    "start_time": "2024-07-27T13:03:42.688Z"
   },
   {
    "duration": 18,
    "start_time": "2024-07-27T13:03:43.264Z"
   },
   {
    "duration": 18,
    "start_time": "2024-07-27T13:03:43.875Z"
   },
   {
    "duration": 18,
    "start_time": "2024-07-27T13:03:50.769Z"
   },
   {
    "duration": 20,
    "start_time": "2024-07-27T13:03:51.275Z"
   },
   {
    "duration": 19,
    "start_time": "2024-07-27T13:03:51.944Z"
   }
  ],
  "colab": {
   "collapsed_sections": [
    "E0vqbgi9ay0H",
    "VUC88oWjTJw2"
   ],
   "provenance": []
  },
  "kernelspec": {
   "display_name": "Python 3 (ipykernel)",
   "language": "python",
   "name": "python3"
  },
  "language_info": {
   "codemirror_mode": {
    "name": "ipython",
    "version": 3
   },
   "file_extension": ".py",
   "mimetype": "text/x-python",
   "name": "python",
   "nbconvert_exporter": "python",
   "pygments_lexer": "ipython3",
   "version": "3.9.19"
  },
  "toc": {
   "base_numbering": 1,
   "nav_menu": {},
   "number_sections": true,
   "sideBar": true,
   "skip_h1_title": true,
   "title_cell": "Table of Contents",
   "title_sidebar": "Contents",
   "toc_cell": false,
   "toc_position": {},
   "toc_section_display": true,
   "toc_window_display": false
  }
 },
 "nbformat": 4,
 "nbformat_minor": 1
}
